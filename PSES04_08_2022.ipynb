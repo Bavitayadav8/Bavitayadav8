{
  "nbformat": 4,
  "nbformat_minor": 0,
  "metadata": {
    "colab": {
      "name": "PSES04-08-2022.ipynb",
      "provenance": [],
      "collapsed_sections": [],
      "include_colab_link": true
    },
    "kernelspec": {
      "name": "python3",
      "display_name": "Python 3"
    },
    "language_info": {
      "name": "python"
    }
  },
  "cells": [
    {
      "cell_type": "markdown",
      "metadata": {
        "id": "view-in-github",
        "colab_type": "text"
      },
      "source": [
        "<a href=\"https://colab.research.google.com/github/Bavitayadav8/Bavitayadav8/blob/main/PSES04_08_2022.ipynb\" target=\"_parent\"><img src=\"https://colab.research.google.com/assets/colab-badge.svg\" alt=\"Open In Colab\"/></a>"
      ]
    },
    {
      "cell_type": "markdown",
      "source": [
        "# This is a Hello World Program"
      ],
      "metadata": {
        "id": "FF2zXcOIY7aR"
      }
    },
    {
      "cell_type": "code",
      "execution_count": null,
      "metadata": {
        "colab": {
          "base_uri": "https://localhost:8080/"
        },
        "id": "tgQA04oDX7CM",
        "outputId": "d327b81e-2c2c-425b-fea2-5f5980f13227"
      },
      "outputs": [
        {
          "output_type": "stream",
          "name": "stdout",
          "text": [
            "Hello World\n"
          ]
        }
      ],
      "source": [
        "print('Hello World') #This is a Hello World Program"
      ]
    },
    {
      "cell_type": "code",
      "source": [
        "print('Welcome to Guvi')"
      ],
      "metadata": {
        "colab": {
          "base_uri": "https://localhost:8080/"
        },
        "id": "xnQOi8vZYrac",
        "outputId": "dc79ae07-2bc5-49bb-df1e-8086567e5939"
      },
      "execution_count": null,
      "outputs": [
        {
          "output_type": "stream",
          "name": "stdout",
          "text": [
            "Welcome to Guvi\n"
          ]
        }
      ]
    },
    {
      "cell_type": "markdown",
      "source": [
        "# New Programs"
      ],
      "metadata": {
        "id": "cDxDmvwfZQJ8"
      }
    },
    {
      "cell_type": "markdown",
      "source": [
        "## Input/Output"
      ],
      "metadata": {
        "id": "95K5phtqZg8g"
      }
    },
    {
      "cell_type": "markdown",
      "source": [
        "Write a code to get the input in the given format and print the output in the given format\n",
        "\n",
        "\n",
        "Input Description:\n",
        "To take an integer value\n",
        "\n",
        "Output Description:\n",
        "Print the integer value\n",
        "\n",
        "Sample Input :\n",
        "2\n",
        "Sample Output :\n",
        "2"
      ],
      "metadata": {
        "id": "96dbgraoZjrt"
      }
    },
    {
      "cell_type": "code",
      "source": [
        "A=int(input())\n",
        "print(A)"
      ],
      "metadata": {
        "colab": {
          "base_uri": "https://localhost:8080/"
        },
        "id": "SFtLmLbLZNYH",
        "outputId": "70dcedc4-873e-4870-be6d-20cb68683357"
      },
      "execution_count": null,
      "outputs": [
        {
          "output_type": "stream",
          "name": "stdout",
          "text": [
            "60\n",
            "60\n"
          ]
        }
      ]
    },
    {
      "cell_type": "code",
      "source": [
        ""
      ],
      "metadata": {
        "id": "u3M1wc6lZuXC"
      },
      "execution_count": null,
      "outputs": []
    },
    {
      "cell_type": "markdown",
      "source": [
        "# Basics of Python"
      ],
      "metadata": {
        "id": "i9QpqwpXaYIr"
      }
    },
    {
      "cell_type": "markdown",
      "source": [
        "Variable"
      ],
      "metadata": {
        "id": "0gzNG2Y0arg5"
      }
    },
    {
      "cell_type": "code",
      "source": [
        "A=50\n",
        "A='Guvi'\n",
        "A=[1,2,3,45]\n",
        "user_input=50\n",
        "user_2=25\n",
        "List=36\n",
        "A=50\n",
        "S1=10\n",
        "S2=15\n",
        "print(S1+S2)"
      ],
      "metadata": {
        "colab": {
          "base_uri": "https://localhost:8080/"
        },
        "id": "GHvMAhc9abRs",
        "outputId": "65271a40-7786-4e51-a78e-374f6db35615"
      },
      "execution_count": null,
      "outputs": [
        {
          "output_type": "stream",
          "name": "stdout",
          "text": [
            "25\n"
          ]
        }
      ]
    },
    {
      "cell_type": "markdown",
      "source": [
        "Data Types"
      ],
      "metadata": {
        "id": "gCM0lYC0cRIw"
      }
    },
    {
      "cell_type": "code",
      "source": [
        "I= 86 #int   # mobile,Adhar\n",
        "I=-86 #int\n",
        "\n",
        "F=3.14 #Float # avg,kg,mts,lt,\n",
        "F=-3.14 #Float\n",
        "\n",
        "S='86'  \n",
        "S=\"86\" #email id, Pan no \n",
        "S='Guvi'\n",
        "S='!@#$%^&*()_DFGHJKL:' #Str\n",
        "true=50\n",
        "\n",
        "B=True #Bool,on,start,pass,open,yes,high\n",
        "B=False #Bool,off,stop,fail,close,no,low\n"
      ],
      "metadata": {
        "id": "FwL5xdAHbtUB"
      },
      "execution_count": null,
      "outputs": []
    },
    {
      "cell_type": "code",
      "source": [
        "10>5"
      ],
      "metadata": {
        "colab": {
          "base_uri": "https://localhost:8080/"
        },
        "id": "sQucseBHf1s2",
        "outputId": "a0d4caf9-6460-43e1-b8d5-9ef0f3c943c3"
      },
      "execution_count": null,
      "outputs": [
        {
          "output_type": "execute_result",
          "data": {
            "text/plain": [
              "True"
            ]
          },
          "metadata": {},
          "execution_count": 2
        }
      ]
    },
    {
      "cell_type": "code",
      "source": [
        "8<6"
      ],
      "metadata": {
        "colab": {
          "base_uri": "https://localhost:8080/"
        },
        "id": "-3P7qr-XASnB",
        "outputId": "a131358d-b4fc-4a11-8f55-b9b2da8c318b"
      },
      "execution_count": null,
      "outputs": [
        {
          "output_type": "execute_result",
          "data": {
            "text/plain": [
              "False"
            ]
          },
          "metadata": {},
          "execution_count": 3
        }
      ]
    },
    {
      "cell_type": "code",
      "source": [
        "5=='5'"
      ],
      "metadata": {
        "colab": {
          "base_uri": "https://localhost:8080/"
        },
        "id": "ixdUSS3af9dn",
        "outputId": "fd43166c-4ead-4bc2-d0cf-c9456260b7f1"
      },
      "execution_count": null,
      "outputs": [
        {
          "output_type": "execute_result",
          "data": {
            "text/plain": [
              "False"
            ]
          },
          "metadata": {},
          "execution_count": 17
        }
      ]
    },
    {
      "cell_type": "markdown",
      "source": [
        "# Data Structure\n",
        "\n",
        "list, tuple, set and dictionary "
      ],
      "metadata": {
        "id": "RNlDB3x9gI91"
      }
    },
    {
      "cell_type": "code",
      "source": [
        "#list\n",
        "\n",
        "L=[50,3.14,'Guvi',True,[10,20,30,40,50,60]]  #list can contain any data types or data structures\n",
        " # 0    1    2      3          4             #index in list we can Add,Remove, Manupulate,(List is mutable)\n",
        "\n",
        "\n",
        "print(L[2])\n",
        "\n",
        "print(L[1])"
      ],
      "metadata": {
        "colab": {
          "base_uri": "https://localhost:8080/"
        },
        "id": "pU4r-f10gA0B",
        "outputId": "ecacc502-c4d8-4f26-9454-c2b50b7e5a22"
      },
      "execution_count": null,
      "outputs": [
        {
          "output_type": "stream",
          "name": "stdout",
          "text": [
            "Guvi\n",
            "3.14\n"
          ]
        }
      ]
    },
    {
      "cell_type": "code",
      "source": [
        "print(L[4][5])"
      ],
      "metadata": {
        "colab": {
          "base_uri": "https://localhost:8080/"
        },
        "id": "cw5HxNrFouQv",
        "outputId": "6cc85712-269d-4c37-9e8d-336087b3fede"
      },
      "execution_count": null,
      "outputs": [
        {
          "output_type": "stream",
          "name": "stdout",
          "text": [
            "60\n"
          ]
        }
      ]
    },
    {
      "cell_type": "code",
      "source": [
        "print(L[4])"
      ],
      "metadata": {
        "colab": {
          "base_uri": "https://localhost:8080/"
        },
        "id": "B-fxmS43kCzz",
        "outputId": "c0efa0f5-aa63-412d-e46b-a8020d2b8859"
      },
      "execution_count": null,
      "outputs": [
        {
          "output_type": "stream",
          "name": "stdout",
          "text": [
            "[10, 20, 30, 40, 50, 60]\n"
          ]
        }
      ]
    },
    {
      "cell_type": "code",
      "source": [
        "print(L[4][1])"
      ],
      "metadata": {
        "colab": {
          "base_uri": "https://localhost:8080/"
        },
        "id": "yRrzzqcdkKvA",
        "outputId": "0309ab23-8082-49aa-887a-dea7c9c11523"
      },
      "execution_count": null,
      "outputs": [
        {
          "output_type": "stream",
          "name": "stdout",
          "text": [
            "20\n"
          ]
        }
      ]
    },
    {
      "cell_type": "code",
      "source": [
        "#Tuple\n",
        "\n",
        "T=(50,3.14,'Guvi',True,[10,20,30,40,50,60])  #Tuple can contain any data types or data structures\n",
        "                                             #Tuple is immutable(We can't modify the tuple)\n",
        "print(T[2])"
      ],
      "metadata": {
        "colab": {
          "base_uri": "https://localhost:8080/"
        },
        "id": "9NWGANEKkjiN",
        "outputId": "e7c94a59-dd01-4152-ada1-caf754642c6f"
      },
      "execution_count": null,
      "outputs": [
        {
          "output_type": "stream",
          "name": "stdout",
          "text": [
            "Guvi\n"
          ]
        }
      ]
    },
    {
      "cell_type": "code",
      "source": [
        "passedout_Student=('Sachin','EEE',2010,'A') \n",
        "\n",
        "Present_Student=['Dhoni','ECE','II-A','B']"
      ],
      "metadata": {
        "id": "R2PuL-2ilacV"
      },
      "execution_count": null,
      "outputs": []
    },
    {
      "cell_type": "code",
      "source": [
        "dir(list)"
      ],
      "metadata": {
        "colab": {
          "base_uri": "https://localhost:8080/"
        },
        "id": "GWgyEyn1mGcV",
        "outputId": "1f2dd203-07bb-4798-9f61-21aa53026d2c"
      },
      "execution_count": null,
      "outputs": [
        {
          "output_type": "execute_result",
          "data": {
            "text/plain": [
              "['__add__',\n",
              " '__class__',\n",
              " '__contains__',\n",
              " '__delattr__',\n",
              " '__delitem__',\n",
              " '__dir__',\n",
              " '__doc__',\n",
              " '__eq__',\n",
              " '__format__',\n",
              " '__ge__',\n",
              " '__getattribute__',\n",
              " '__getitem__',\n",
              " '__gt__',\n",
              " '__hash__',\n",
              " '__iadd__',\n",
              " '__imul__',\n",
              " '__init__',\n",
              " '__init_subclass__',\n",
              " '__iter__',\n",
              " '__le__',\n",
              " '__len__',\n",
              " '__lt__',\n",
              " '__mul__',\n",
              " '__ne__',\n",
              " '__new__',\n",
              " '__reduce__',\n",
              " '__reduce_ex__',\n",
              " '__repr__',\n",
              " '__reversed__',\n",
              " '__rmul__',\n",
              " '__setattr__',\n",
              " '__setitem__',\n",
              " '__sizeof__',\n",
              " '__str__',\n",
              " '__subclasshook__',\n",
              " 'append',\n",
              " 'clear',\n",
              " 'copy',\n",
              " 'count',\n",
              " 'extend',\n",
              " 'index',\n",
              " 'insert',\n",
              " 'pop',\n",
              " 'remove',\n",
              " 'reverse',\n",
              " 'sort']"
            ]
          },
          "metadata": {},
          "execution_count": 23
        }
      ]
    },
    {
      "cell_type": "code",
      "source": [
        "dir(tuple)"
      ],
      "metadata": {
        "colab": {
          "base_uri": "https://localhost:8080/"
        },
        "id": "DIF9g3nZnTOv",
        "outputId": "97667b41-3426-48a9-e015-4fed16e62f38"
      },
      "execution_count": null,
      "outputs": [
        {
          "output_type": "execute_result",
          "data": {
            "text/plain": [
              "['__add__',\n",
              " '__class__',\n",
              " '__contains__',\n",
              " '__delattr__',\n",
              " '__dir__',\n",
              " '__doc__',\n",
              " '__eq__',\n",
              " '__format__',\n",
              " '__ge__',\n",
              " '__getattribute__',\n",
              " '__getitem__',\n",
              " '__getnewargs__',\n",
              " '__gt__',\n",
              " '__hash__',\n",
              " '__init__',\n",
              " '__init_subclass__',\n",
              " '__iter__',\n",
              " '__le__',\n",
              " '__len__',\n",
              " '__lt__',\n",
              " '__mul__',\n",
              " '__ne__',\n",
              " '__new__',\n",
              " '__reduce__',\n",
              " '__reduce_ex__',\n",
              " '__repr__',\n",
              " '__rmul__',\n",
              " '__setattr__',\n",
              " '__sizeof__',\n",
              " '__str__',\n",
              " '__subclasshook__',\n",
              " 'count',\n",
              " 'index']"
            ]
          },
          "metadata": {},
          "execution_count": 24
        }
      ]
    },
    {
      "cell_type": "code",
      "source": [
        "S=(1,2,3,4,1,5,6,3,2,1,8)\n",
        "S.count(1)"
      ],
      "metadata": {
        "colab": {
          "base_uri": "https://localhost:8080/"
        },
        "id": "jtF4PwOIndNN",
        "outputId": "83519f3a-36e9-410f-a708-8ad66a14f05c"
      },
      "execution_count": null,
      "outputs": [
        {
          "output_type": "execute_result",
          "data": {
            "text/plain": [
              "3"
            ]
          },
          "metadata": {},
          "execution_count": 8
        }
      ]
    },
    {
      "cell_type": "code",
      "source": [
        "len(S)"
      ],
      "metadata": {
        "colab": {
          "base_uri": "https://localhost:8080/"
        },
        "id": "MOaD7uJxCAnu",
        "outputId": "9eedcb83-446c-4dc1-df65-7d699b7de22f"
      },
      "execution_count": null,
      "outputs": [
        {
          "output_type": "execute_result",
          "data": {
            "text/plain": [
              "11"
            ]
          },
          "metadata": {},
          "execution_count": 9
        }
      ]
    },
    {
      "cell_type": "code",
      "source": [
        "S.index(3)"
      ],
      "metadata": {
        "colab": {
          "base_uri": "https://localhost:8080/"
        },
        "id": "mdntNuy5ntTT",
        "outputId": "1c5c1521-463b-40e2-ea60-e08a19b21c4e"
      },
      "execution_count": null,
      "outputs": [
        {
          "output_type": "execute_result",
          "data": {
            "text/plain": [
              "2"
            ]
          },
          "metadata": {},
          "execution_count": 40
        }
      ]
    },
    {
      "cell_type": "code",
      "source": [
        "5==int('5')"
      ],
      "metadata": {
        "colab": {
          "base_uri": "https://localhost:8080/"
        },
        "id": "1Up2vH86n2pz",
        "outputId": "5c1dbf10-bf49-43ab-f414-d211e3426b7f"
      },
      "execution_count": null,
      "outputs": [
        {
          "output_type": "execute_result",
          "data": {
            "text/plain": [
              "True"
            ]
          },
          "metadata": {},
          "execution_count": 30
        }
      ]
    },
    {
      "cell_type": "code",
      "source": [
        "#Set\n",
        "\n",
        "S={1,2,4,5,6,33,7,3,88,99,19,29,8,9,1,2,3,7,9} #Set will not allow duplicates,it is an unorder\n",
        "\n",
        "len(S)\n",
        "\n"
      ],
      "metadata": {
        "id": "H-gMksjIoSs9",
        "colab": {
          "base_uri": "https://localhost:8080/"
        },
        "outputId": "fd44f684-944f-4c3d-ecac-3779fd4f17f1"
      },
      "execution_count": null,
      "outputs": [
        {
          "output_type": "execute_result",
          "data": {
            "text/plain": [
              "14"
            ]
          },
          "metadata": {},
          "execution_count": 91
        }
      ]
    },
    {
      "cell_type": "code",
      "source": [
        "S[2]"
      ],
      "metadata": {
        "colab": {
          "base_uri": "https://localhost:8080/",
          "height": 167
        },
        "id": "3DYZdeUNCKM-",
        "outputId": "6ba58d8b-80c4-4519-d8fd-57af773552f7"
      },
      "execution_count": null,
      "outputs": [
        {
          "output_type": "error",
          "ename": "TypeError",
          "evalue": "ignored",
          "traceback": [
            "\u001b[0;31m---------------------------------------------------------------------------\u001b[0m",
            "\u001b[0;31mTypeError\u001b[0m                                 Traceback (most recent call last)",
            "\u001b[0;32m<ipython-input-14-aa0c54f83bdc>\u001b[0m in \u001b[0;36m<module>\u001b[0;34m()\u001b[0m\n\u001b[0;32m----> 1\u001b[0;31m \u001b[0mS\u001b[0m\u001b[0;34m[\u001b[0m\u001b[0;36m2\u001b[0m\u001b[0;34m]\u001b[0m\u001b[0;34m\u001b[0m\u001b[0;34m\u001b[0m\u001b[0m\n\u001b[0m",
            "\u001b[0;31mTypeError\u001b[0m: 'set' object is not subscriptable"
          ]
        }
      ]
    },
    {
      "cell_type": "code",
      "source": [
        "Emp_no=[25,58,96,23,41,25,78,14,63,22,14,78,96] #13 #1000 ,25,78,14,96\n",
        "\n",
        "len(Emp_no)"
      ],
      "metadata": {
        "colab": {
          "base_uri": "https://localhost:8080/"
        },
        "id": "135NSH4TCOK_",
        "outputId": "71231dd2-91c5-4473-c540-80ba47182c8c"
      },
      "execution_count": null,
      "outputs": [
        {
          "output_type": "execute_result",
          "data": {
            "text/plain": [
              "13"
            ]
          },
          "metadata": {},
          "execution_count": 15
        }
      ]
    },
    {
      "cell_type": "code",
      "source": [
        "Remove_Dup=set(Emp_no)\n",
        "len(Remove_Dup)"
      ],
      "metadata": {
        "colab": {
          "base_uri": "https://localhost:8080/"
        },
        "id": "iqrpWqdHDfUp",
        "outputId": "7e03ef61-0ca5-44b1-ab41-2b6ff7faf29b"
      },
      "execution_count": null,
      "outputs": [
        {
          "output_type": "execute_result",
          "data": {
            "text/plain": [
              "9"
            ]
          },
          "metadata": {},
          "execution_count": 16
        }
      ]
    },
    {
      "cell_type": "code",
      "source": [
        "no_of_Dup=len(Emp_no)-len(Remove_Dup)\n",
        "print('No of Duplicates',no_of_Dup)"
      ],
      "metadata": {
        "colab": {
          "base_uri": "https://localhost:8080/"
        },
        "id": "GKeMWC6_DmTg",
        "outputId": "2fde6fda-f433-462e-e7b7-b1ec6be2c707"
      },
      "execution_count": null,
      "outputs": [
        {
          "output_type": "stream",
          "name": "stdout",
          "text": [
            "No of Duplicates 4\n"
          ]
        }
      ]
    },
    {
      "cell_type": "code",
      "source": [
        "#Dictionary \n",
        "\n",
        "D={\"Name\":'Dhoni',\n",
        "   \"Age\":37,\n",
        "   \"Salary\":45000}\n",
        "\n",
        "D['Age']\n"
      ],
      "metadata": {
        "colab": {
          "base_uri": "https://localhost:8080/"
        },
        "id": "q9M41EWKDwxe",
        "outputId": "5cbf4a2d-e5b1-4883-ba6d-c5d161601325"
      },
      "execution_count": null,
      "outputs": [
        {
          "output_type": "execute_result",
          "data": {
            "text/plain": [
              "37"
            ]
          },
          "metadata": {},
          "execution_count": 21
        }
      ]
    },
    {
      "cell_type": "code",
      "source": [
        "Emp_data={'Emp_ID':[45,25,36,7,68],\n",
        "          'Name':['Yuvaraj','Raina','Sachin','Dhoni','koli'],\n",
        "          'Age':[32,34,40,37,36],\n",
        "          'Salary':[37000,32000,45000,40000,39000]}\n",
        "Emp_data         "
      ],
      "metadata": {
        "colab": {
          "base_uri": "https://localhost:8080/"
        },
        "id": "Vmhi9meWFCnP",
        "outputId": "5c907722-f547-466e-f331-94947d1ab54e"
      },
      "execution_count": null,
      "outputs": [
        {
          "output_type": "execute_result",
          "data": {
            "text/plain": [
              "{'Age': [32, 34, 40, 37, 36],\n",
              " 'Emp_ID': [45, 25, 36, 7, 68],\n",
              " 'Name': ['Yuvaraj', 'Raina', 'Sachin', 'Dhoni', 'koli'],\n",
              " 'Salary': [37000, 32000, 45000, 40000, 39000]}"
            ]
          },
          "metadata": {},
          "execution_count": 22
        }
      ]
    },
    {
      "cell_type": "code",
      "source": [
        "Emp_data['Name'][3]"
      ],
      "metadata": {
        "colab": {
          "base_uri": "https://localhost:8080/",
          "height": 35
        },
        "id": "Fw7wq2ubGM0w",
        "outputId": "684229b2-341f-4c2a-e267-d8b8905fb40e"
      },
      "execution_count": null,
      "outputs": [
        {
          "output_type": "execute_result",
          "data": {
            "text/plain": [
              "'Dhoni'"
            ],
            "application/vnd.google.colaboratory.intrinsic+json": {
              "type": "string"
            }
          },
          "metadata": {},
          "execution_count": 27
        }
      ]
    },
    {
      "cell_type": "code",
      "source": [
        "Emp_data['Name'][2]"
      ],
      "metadata": {
        "colab": {
          "base_uri": "https://localhost:8080/",
          "height": 35
        },
        "id": "ydsmykKCGe93",
        "outputId": "5bb8e320-1cb7-46fd-ad09-1bcc10b83c47"
      },
      "execution_count": null,
      "outputs": [
        {
          "output_type": "execute_result",
          "data": {
            "text/plain": [
              "'Sachin'"
            ],
            "application/vnd.google.colaboratory.intrinsic+json": {
              "type": "string"
            }
          },
          "metadata": {},
          "execution_count": 24
        }
      ]
    },
    {
      "cell_type": "code",
      "source": [
        "print('Employees ID : ',Emp_data['Emp_ID'][2])\n",
        "print('Name : ',Emp_data['Name'][2])\n",
        "print('Age : ',Emp_data['Age'][2])\n",
        "print('Salary : ',Emp_data['Salary'][2])"
      ],
      "metadata": {
        "colab": {
          "base_uri": "https://localhost:8080/"
        },
        "id": "jndGnMCSGnng",
        "outputId": "608ee475-32b2-4dc8-8bdf-174b4841f774"
      },
      "execution_count": null,
      "outputs": [
        {
          "output_type": "stream",
          "name": "stdout",
          "text": [
            "Employees ID :  36\n",
            "Name :  Sachin\n",
            "Age :  40\n",
            "Salary :  45000\n"
          ]
        }
      ]
    },
    {
      "cell_type": "code",
      "source": [
        "Emp_data['Name'].index('Sachin')"
      ],
      "metadata": {
        "colab": {
          "base_uri": "https://localhost:8080/"
        },
        "id": "qZ6u58EKHgGJ",
        "outputId": "5546bb2b-c3fc-41e8-d389-f485112162d3"
      },
      "execution_count": null,
      "outputs": [
        {
          "output_type": "execute_result",
          "data": {
            "text/plain": [
              "2"
            ]
          },
          "metadata": {},
          "execution_count": 31
        }
      ]
    },
    {
      "cell_type": "code",
      "source": [
        "Emp_data['Emp_ID'].index(36)"
      ],
      "metadata": {
        "colab": {
          "base_uri": "https://localhost:8080/"
        },
        "id": "HpiNPBAlH-KR",
        "outputId": "c7868807-f002-44d5-f872-9a6c5b47a879"
      },
      "execution_count": null,
      "outputs": [
        {
          "output_type": "execute_result",
          "data": {
            "text/plain": [
              "2"
            ]
          },
          "metadata": {},
          "execution_count": 32
        }
      ]
    },
    {
      "cell_type": "code",
      "source": [
        "id=int(input(\"Enter the Employee ID \"))  #45\n",
        "\n",
        "pos=Emp_data['Emp_ID'].index(id) #0\n",
        "\n",
        "print('Employees ID : ',Emp_data['Emp_ID'][pos]) #45\n",
        "print('Name : ',Emp_data['Name'][pos]) #Yuvaraj\n",
        "print('Age : ',Emp_data['Age'][pos]) #32\n",
        "print('Salary : ',Emp_data['Salary'][pos])#37000"
      ],
      "metadata": {
        "colab": {
          "base_uri": "https://localhost:8080/"
        },
        "id": "c5NfGnmjIPBI",
        "outputId": "867c44df-1853-4ecd-be65-102a1f78b67a"
      },
      "execution_count": null,
      "outputs": [
        {
          "output_type": "stream",
          "name": "stdout",
          "text": [
            "Enter the Employee ID 25\n",
            "Employees ID :  25\n",
            "Name :  Raina\n",
            "Age :  34\n",
            "Salary :  32000\n"
          ]
        }
      ]
    },
    {
      "cell_type": "code",
      "source": [
        "import pandas as pd\n",
        "\n",
        "data=pd.DataFrame(Emp_data)\n",
        "data"
      ],
      "metadata": {
        "colab": {
          "base_uri": "https://localhost:8080/",
          "height": 206
        },
        "id": "eLMCwM2-Ijpm",
        "outputId": "34dc71ad-6f4e-4e4f-8ce4-54e7eca5bc38"
      },
      "execution_count": null,
      "outputs": [
        {
          "output_type": "execute_result",
          "data": {
            "text/plain": [
              "   Emp_ID     Name  Age  Salary\n",
              "0      45  Yuvaraj   32   37000\n",
              "1      25    Raina   34   32000\n",
              "2      36   Sachin   40   45000\n",
              "3       7    Dhoni   37   40000\n",
              "4      68     koli   36   39000"
            ],
            "text/html": [
              "\n",
              "  <div id=\"df-52ac1994-6a3a-40c0-9892-93d26cef7f49\">\n",
              "    <div class=\"colab-df-container\">\n",
              "      <div>\n",
              "<style scoped>\n",
              "    .dataframe tbody tr th:only-of-type {\n",
              "        vertical-align: middle;\n",
              "    }\n",
              "\n",
              "    .dataframe tbody tr th {\n",
              "        vertical-align: top;\n",
              "    }\n",
              "\n",
              "    .dataframe thead th {\n",
              "        text-align: right;\n",
              "    }\n",
              "</style>\n",
              "<table border=\"1\" class=\"dataframe\">\n",
              "  <thead>\n",
              "    <tr style=\"text-align: right;\">\n",
              "      <th></th>\n",
              "      <th>Emp_ID</th>\n",
              "      <th>Name</th>\n",
              "      <th>Age</th>\n",
              "      <th>Salary</th>\n",
              "    </tr>\n",
              "  </thead>\n",
              "  <tbody>\n",
              "    <tr>\n",
              "      <th>0</th>\n",
              "      <td>45</td>\n",
              "      <td>Yuvaraj</td>\n",
              "      <td>32</td>\n",
              "      <td>37000</td>\n",
              "    </tr>\n",
              "    <tr>\n",
              "      <th>1</th>\n",
              "      <td>25</td>\n",
              "      <td>Raina</td>\n",
              "      <td>34</td>\n",
              "      <td>32000</td>\n",
              "    </tr>\n",
              "    <tr>\n",
              "      <th>2</th>\n",
              "      <td>36</td>\n",
              "      <td>Sachin</td>\n",
              "      <td>40</td>\n",
              "      <td>45000</td>\n",
              "    </tr>\n",
              "    <tr>\n",
              "      <th>3</th>\n",
              "      <td>7</td>\n",
              "      <td>Dhoni</td>\n",
              "      <td>37</td>\n",
              "      <td>40000</td>\n",
              "    </tr>\n",
              "    <tr>\n",
              "      <th>4</th>\n",
              "      <td>68</td>\n",
              "      <td>koli</td>\n",
              "      <td>36</td>\n",
              "      <td>39000</td>\n",
              "    </tr>\n",
              "  </tbody>\n",
              "</table>\n",
              "</div>\n",
              "      <button class=\"colab-df-convert\" onclick=\"convertToInteractive('df-52ac1994-6a3a-40c0-9892-93d26cef7f49')\"\n",
              "              title=\"Convert this dataframe to an interactive table.\"\n",
              "              style=\"display:none;\">\n",
              "        \n",
              "  <svg xmlns=\"http://www.w3.org/2000/svg\" height=\"24px\"viewBox=\"0 0 24 24\"\n",
              "       width=\"24px\">\n",
              "    <path d=\"M0 0h24v24H0V0z\" fill=\"none\"/>\n",
              "    <path d=\"M18.56 5.44l.94 2.06.94-2.06 2.06-.94-2.06-.94-.94-2.06-.94 2.06-2.06.94zm-11 1L8.5 8.5l.94-2.06 2.06-.94-2.06-.94L8.5 2.5l-.94 2.06-2.06.94zm10 10l.94 2.06.94-2.06 2.06-.94-2.06-.94-.94-2.06-.94 2.06-2.06.94z\"/><path d=\"M17.41 7.96l-1.37-1.37c-.4-.4-.92-.59-1.43-.59-.52 0-1.04.2-1.43.59L10.3 9.45l-7.72 7.72c-.78.78-.78 2.05 0 2.83L4 21.41c.39.39.9.59 1.41.59.51 0 1.02-.2 1.41-.59l7.78-7.78 2.81-2.81c.8-.78.8-2.07 0-2.86zM5.41 20L4 18.59l7.72-7.72 1.47 1.35L5.41 20z\"/>\n",
              "  </svg>\n",
              "      </button>\n",
              "      \n",
              "  <style>\n",
              "    .colab-df-container {\n",
              "      display:flex;\n",
              "      flex-wrap:wrap;\n",
              "      gap: 12px;\n",
              "    }\n",
              "\n",
              "    .colab-df-convert {\n",
              "      background-color: #E8F0FE;\n",
              "      border: none;\n",
              "      border-radius: 50%;\n",
              "      cursor: pointer;\n",
              "      display: none;\n",
              "      fill: #1967D2;\n",
              "      height: 32px;\n",
              "      padding: 0 0 0 0;\n",
              "      width: 32px;\n",
              "    }\n",
              "\n",
              "    .colab-df-convert:hover {\n",
              "      background-color: #E2EBFA;\n",
              "      box-shadow: 0px 1px 2px rgba(60, 64, 67, 0.3), 0px 1px 3px 1px rgba(60, 64, 67, 0.15);\n",
              "      fill: #174EA6;\n",
              "    }\n",
              "\n",
              "    [theme=dark] .colab-df-convert {\n",
              "      background-color: #3B4455;\n",
              "      fill: #D2E3FC;\n",
              "    }\n",
              "\n",
              "    [theme=dark] .colab-df-convert:hover {\n",
              "      background-color: #434B5C;\n",
              "      box-shadow: 0px 1px 3px 1px rgba(0, 0, 0, 0.15);\n",
              "      filter: drop-shadow(0px 1px 2px rgba(0, 0, 0, 0.3));\n",
              "      fill: #FFFFFF;\n",
              "    }\n",
              "  </style>\n",
              "\n",
              "      <script>\n",
              "        const buttonEl =\n",
              "          document.querySelector('#df-52ac1994-6a3a-40c0-9892-93d26cef7f49 button.colab-df-convert');\n",
              "        buttonEl.style.display =\n",
              "          google.colab.kernel.accessAllowed ? 'block' : 'none';\n",
              "\n",
              "        async function convertToInteractive(key) {\n",
              "          const element = document.querySelector('#df-52ac1994-6a3a-40c0-9892-93d26cef7f49');\n",
              "          const dataTable =\n",
              "            await google.colab.kernel.invokeFunction('convertToInteractive',\n",
              "                                                     [key], {});\n",
              "          if (!dataTable) return;\n",
              "\n",
              "          const docLinkHtml = 'Like what you see? Visit the ' +\n",
              "            '<a target=\"_blank\" href=https://colab.research.google.com/notebooks/data_table.ipynb>data table notebook</a>'\n",
              "            + ' to learn more about interactive tables.';\n",
              "          element.innerHTML = '';\n",
              "          dataTable['output_type'] = 'display_data';\n",
              "          await google.colab.output.renderOutput(dataTable, element);\n",
              "          const docLink = document.createElement('div');\n",
              "          docLink.innerHTML = docLinkHtml;\n",
              "          element.appendChild(docLink);\n",
              "        }\n",
              "      </script>\n",
              "    </div>\n",
              "  </div>\n",
              "  "
            ]
          },
          "metadata": {},
          "execution_count": 39
        }
      ]
    },
    {
      "cell_type": "markdown",
      "source": [
        "#Input & output"
      ],
      "metadata": {
        "id": "tyCqN-ZiLy92"
      }
    },
    {
      "cell_type": "code",
      "source": [
        "# 5 / o/p 5\n",
        "\n",
        "A=int(input())\n",
        "print(A)\n",
        "print(type(A))"
      ],
      "metadata": {
        "colab": {
          "base_uri": "https://localhost:8080/"
        },
        "id": "cn_NzbKgJrDh",
        "outputId": "32a0f0e5-c143-4e8a-da88-cb2f7b42c16e"
      },
      "execution_count": null,
      "outputs": [
        {
          "output_type": "stream",
          "name": "stdout",
          "text": [
            "5\n",
            "5\n",
            "<class 'int'>\n"
          ]
        }
      ]
    },
    {
      "cell_type": "code",
      "source": [
        "A=input()\n",
        "print(A)\n",
        "print(type(A))"
      ],
      "metadata": {
        "colab": {
          "base_uri": "https://localhost:8080/"
        },
        "id": "Lt2xyHdXMQLA",
        "outputId": "8012a57e-fa03-4e71-853f-e32c27702bbe"
      },
      "execution_count": null,
      "outputs": [
        {
          "output_type": "stream",
          "name": "stdout",
          "text": [
            "5\n",
            "5\n",
            "<class 'str'>\n"
          ]
        }
      ]
    },
    {
      "cell_type": "code",
      "source": [
        "A=input()\n",
        "B=input()\n",
        "\n",
        "A+B"
      ],
      "metadata": {
        "colab": {
          "base_uri": "https://localhost:8080/",
          "height": 70
        },
        "id": "c2hjouCBMV2_",
        "outputId": "c96124b7-41b3-46d4-a264-333e5aa530b6"
      },
      "execution_count": null,
      "outputs": [
        {
          "name": "stdout",
          "output_type": "stream",
          "text": [
            "25\n",
            "10\n"
          ]
        },
        {
          "output_type": "execute_result",
          "data": {
            "text/plain": [
              "'2510'"
            ],
            "application/vnd.google.colaboratory.intrinsic+json": {
              "type": "string"
            }
          },
          "metadata": {},
          "execution_count": 43
        }
      ]
    },
    {
      "cell_type": "code",
      "source": [
        "A=int(input())\n",
        "B=int(input())\n",
        "\n",
        "A+B"
      ],
      "metadata": {
        "colab": {
          "base_uri": "https://localhost:8080/"
        },
        "id": "Ua3rBZPKMgxS",
        "outputId": "106492c7-fe91-447b-dcfd-a9311ca6480f"
      },
      "execution_count": null,
      "outputs": [
        {
          "name": "stdout",
          "output_type": "stream",
          "text": [
            "25\n",
            "10\n"
          ]
        },
        {
          "output_type": "execute_result",
          "data": {
            "text/plain": [
              "35"
            ]
          },
          "metadata": {},
          "execution_count": 44
        }
      ]
    },
    {
      "cell_type": "code",
      "source": [
        "A=int(input())\n",
        "B=input()\n",
        "\n",
        "A+B"
      ],
      "metadata": {
        "colab": {
          "base_uri": "https://localhost:8080/",
          "height": 236
        },
        "id": "0yIONM6HMw6H",
        "outputId": "6ce0d8ec-fc2c-4143-91c6-3dc5210271da"
      },
      "execution_count": null,
      "outputs": [
        {
          "name": "stdout",
          "output_type": "stream",
          "text": [
            "25\n",
            "10\n"
          ]
        },
        {
          "output_type": "error",
          "ename": "TypeError",
          "evalue": "ignored",
          "traceback": [
            "\u001b[0;31m---------------------------------------------------------------------------\u001b[0m",
            "\u001b[0;31mTypeError\u001b[0m                                 Traceback (most recent call last)",
            "\u001b[0;32m<ipython-input-45-185ab2fb215c>\u001b[0m in \u001b[0;36m<module>\u001b[0;34m()\u001b[0m\n\u001b[1;32m      2\u001b[0m \u001b[0mB\u001b[0m\u001b[0;34m=\u001b[0m\u001b[0minput\u001b[0m\u001b[0;34m(\u001b[0m\u001b[0;34m)\u001b[0m\u001b[0;34m\u001b[0m\u001b[0;34m\u001b[0m\u001b[0m\n\u001b[1;32m      3\u001b[0m \u001b[0;34m\u001b[0m\u001b[0m\n\u001b[0;32m----> 4\u001b[0;31m \u001b[0mA\u001b[0m\u001b[0;34m+\u001b[0m\u001b[0mB\u001b[0m\u001b[0;34m\u001b[0m\u001b[0;34m\u001b[0m\u001b[0m\n\u001b[0m",
            "\u001b[0;31mTypeError\u001b[0m: unsupported operand type(s) for +: 'int' and 'str'"
          ]
        }
      ]
    },
    {
      "cell_type": "code",
      "source": [
        "A=int(input())\n",
        "B=input()\n",
        "\n",
        "A*B"
      ],
      "metadata": {
        "colab": {
          "base_uri": "https://localhost:8080/",
          "height": 70
        },
        "id": "j8STbxlqM18t",
        "outputId": "b73ce0ad-0a37-4187-c091-d4ef04f53194"
      },
      "execution_count": null,
      "outputs": [
        {
          "name": "stdout",
          "output_type": "stream",
          "text": [
            "5\n",
            "Guvi \n"
          ]
        },
        {
          "output_type": "execute_result",
          "data": {
            "text/plain": [
              "'Guvi Guvi Guvi Guvi Guvi '"
            ],
            "application/vnd.google.colaboratory.intrinsic+json": {
              "type": "string"
            }
          },
          "metadata": {},
          "execution_count": 47
        }
      ]
    },
    {
      "cell_type": "code",
      "source": [
        "# 3.14  / o/p 3.14\n",
        "\n",
        "A=float(input())\n",
        "print(A)\n",
        "print(type(A))"
      ],
      "metadata": {
        "colab": {
          "base_uri": "https://localhost:8080/"
        },
        "id": "UOEsIJtoNCgC",
        "outputId": "81ce3533-a011-4de6-fb73-89fabb102601"
      },
      "execution_count": null,
      "outputs": [
        {
          "output_type": "stream",
          "name": "stdout",
          "text": [
            "3.14\n",
            "3.14\n",
            "<class 'float'>\n"
          ]
        }
      ]
    },
    {
      "cell_type": "code",
      "source": [
        "#1 2 3 4 5 / o/p 1 2 3 4 5\n",
        "\n",
        "A=input()\n",
        "print(A)\n",
        "print(type(A))"
      ],
      "metadata": {
        "colab": {
          "base_uri": "https://localhost:8080/"
        },
        "id": "YpZl6BEpOB9G",
        "outputId": "69be4e8c-b034-4fe4-dbdb-88d4b6c83547"
      },
      "execution_count": null,
      "outputs": [
        {
          "output_type": "stream",
          "name": "stdout",
          "text": [
            "1 2 3 4 5\n",
            "1 2 3 4 5\n",
            "<class 'str'>\n"
          ]
        }
      ]
    },
    {
      "cell_type": "code",
      "source": [
        "A=int(input())\n",
        "print(A)"
      ],
      "metadata": {
        "colab": {
          "base_uri": "https://localhost:8080/",
          "height": 201
        },
        "id": "_NXYzFlVOO3q",
        "outputId": "ab65b6da-988d-4adc-9994-19ba6fa74bdb"
      },
      "execution_count": null,
      "outputs": [
        {
          "name": "stdout",
          "output_type": "stream",
          "text": [
            "1 2 3 4 5\n"
          ]
        },
        {
          "output_type": "error",
          "ename": "ValueError",
          "evalue": "ignored",
          "traceback": [
            "\u001b[0;31m---------------------------------------------------------------------------\u001b[0m",
            "\u001b[0;31mValueError\u001b[0m                                Traceback (most recent call last)",
            "\u001b[0;32m<ipython-input-53-5e34df36b00f>\u001b[0m in \u001b[0;36m<module>\u001b[0;34m()\u001b[0m\n\u001b[0;32m----> 1\u001b[0;31m \u001b[0mA\u001b[0m\u001b[0;34m=\u001b[0m\u001b[0mint\u001b[0m\u001b[0;34m(\u001b[0m\u001b[0minput\u001b[0m\u001b[0;34m(\u001b[0m\u001b[0;34m)\u001b[0m\u001b[0;34m)\u001b[0m\u001b[0;34m\u001b[0m\u001b[0;34m\u001b[0m\u001b[0m\n\u001b[0m\u001b[1;32m      2\u001b[0m \u001b[0mprint\u001b[0m\u001b[0;34m(\u001b[0m\u001b[0mA\u001b[0m\u001b[0;34m)\u001b[0m\u001b[0;34m\u001b[0m\u001b[0;34m\u001b[0m\u001b[0m\n",
            "\u001b[0;31mValueError\u001b[0m: invalid literal for int() with base 10: '1 2 3 4 5'"
          ]
        }
      ]
    },
    {
      "cell_type": "code",
      "source": [
        "A=input().split('-')\n",
        "A"
      ],
      "metadata": {
        "colab": {
          "base_uri": "https://localhost:8080/"
        },
        "id": "OB6CoCj1OkuK",
        "outputId": "6e1765be-bb26-458d-8b7f-95f8fe1ca3a4"
      },
      "execution_count": null,
      "outputs": [
        {
          "name": "stdout",
          "output_type": "stream",
          "text": [
            "1-2-3-4-5\n"
          ]
        },
        {
          "output_type": "execute_result",
          "data": {
            "text/plain": [
              "['1', '2', '3', '4', '5']"
            ]
          },
          "metadata": {},
          "execution_count": 96
        }
      ]
    },
    {
      "cell_type": "code",
      "source": [
        "S='8'\n",
        "int(S)"
      ],
      "metadata": {
        "colab": {
          "base_uri": "https://localhost:8080/"
        },
        "id": "oq_szrVCa4dk",
        "outputId": "e13e0ce1-0526-4915-8989-57539c3bef73"
      },
      "execution_count": null,
      "outputs": [
        {
          "output_type": "execute_result",
          "data": {
            "text/plain": [
              "8"
            ]
          },
          "metadata": {},
          "execution_count": 97
        }
      ]
    },
    {
      "cell_type": "code",
      "source": [
        "B=list(map(int,A))  #1 2 4 1 2 3 4\n",
        "B"
      ],
      "metadata": {
        "colab": {
          "base_uri": "https://localhost:8080/"
        },
        "id": "bO1u2aOvO9uB",
        "outputId": "2642e1db-44c4-4f6b-90bf-017982d76460"
      },
      "execution_count": null,
      "outputs": [
        {
          "output_type": "execute_result",
          "data": {
            "text/plain": [
              "[1, 2, 3, 4, 5]"
            ]
          },
          "metadata": {},
          "execution_count": 65
        }
      ]
    },
    {
      "cell_type": "code",
      "source": [
        "len(B)"
      ],
      "metadata": {
        "colab": {
          "base_uri": "https://localhost:8080/"
        },
        "id": "G6CzsfDzbore",
        "outputId": "cdbf4849-4b7e-412b-f81b-b2b04be84166"
      },
      "execution_count": null,
      "outputs": [
        {
          "output_type": "execute_result",
          "data": {
            "text/plain": [
              "5"
            ]
          },
          "metadata": {},
          "execution_count": 101
        }
      ]
    },
    {
      "cell_type": "code",
      "source": [
        "print(*B)"
      ],
      "metadata": {
        "colab": {
          "base_uri": "https://localhost:8080/"
        },
        "id": "m4-DgcVIPmdB",
        "outputId": "6c697deb-57ac-42f1-f78d-8672c0e9bd3a"
      },
      "execution_count": null,
      "outputs": [
        {
          "output_type": "stream",
          "name": "stdout",
          "text": [
            "1 2 3 4 5\n"
          ]
        }
      ]
    },
    {
      "cell_type": "code",
      "source": [
        "A"
      ],
      "metadata": {
        "colab": {
          "base_uri": "https://localhost:8080/"
        },
        "id": "UYMcTCz4Px0H",
        "outputId": "eb9b7f9f-5357-4ae4-ffe9-ef0f999f3c93"
      },
      "execution_count": null,
      "outputs": [
        {
          "output_type": "execute_result",
          "data": {
            "text/plain": [
              "['1', '2', '3', '4', '5']"
            ]
          },
          "metadata": {},
          "execution_count": 67
        }
      ]
    },
    {
      "cell_type": "code",
      "source": [
        "B"
      ],
      "metadata": {
        "colab": {
          "base_uri": "https://localhost:8080/"
        },
        "id": "NxoHm4WGQ5YJ",
        "outputId": "7e10d135-2848-4ac0-c7ef-48b830bb4f92"
      },
      "execution_count": null,
      "outputs": [
        {
          "output_type": "execute_result",
          "data": {
            "text/plain": [
              "[1, 2, 3, 4, 5]"
            ]
          },
          "metadata": {},
          "execution_count": 68
        }
      ]
    },
    {
      "cell_type": "code",
      "source": [
        "print(*B)"
      ],
      "metadata": {
        "colab": {
          "base_uri": "https://localhost:8080/"
        },
        "id": "F1K79dgrQ6OZ",
        "outputId": "4f74e3fb-1ca0-4cfd-91ec-811191b57a1c"
      },
      "execution_count": null,
      "outputs": [
        {
          "output_type": "stream",
          "name": "stdout",
          "text": [
            "1 2 3 4 5\n"
          ]
        }
      ]
    },
    {
      "cell_type": "code",
      "source": [
        "print(*A)"
      ],
      "metadata": {
        "colab": {
          "base_uri": "https://localhost:8080/"
        },
        "id": "bvNNlCpVQ_x6",
        "outputId": "61e6c121-1fb0-4c76-901f-c5c9d778ed68"
      },
      "execution_count": null,
      "outputs": [
        {
          "output_type": "stream",
          "name": "stdout",
          "text": [
            "1 2 3 4 5\n"
          ]
        }
      ]
    },
    {
      "cell_type": "code",
      "source": [
        "print('*****'.join(A)) #1-2-3-4-5"
      ],
      "metadata": {
        "colab": {
          "base_uri": "https://localhost:8080/"
        },
        "id": "5O9bRO4gRByZ",
        "outputId": "f342bc0e-cbbd-4219-c8f2-10cc50257a47"
      },
      "execution_count": null,
      "outputs": [
        {
          "output_type": "stream",
          "name": "stdout",
          "text": [
            "1*****2*****3*****4*****5\n"
          ]
        }
      ]
    },
    {
      "cell_type": "code",
      "source": [
        "print(' '.join(B))"
      ],
      "metadata": {
        "colab": {
          "base_uri": "https://localhost:8080/",
          "height": 167
        },
        "id": "d4o7SFaqRM0_",
        "outputId": "22a6680a-9932-4a4a-b5ea-7d1c3e391cd4"
      },
      "execution_count": null,
      "outputs": [
        {
          "output_type": "error",
          "ename": "TypeError",
          "evalue": "ignored",
          "traceback": [
            "\u001b[0;31m---------------------------------------------------------------------------\u001b[0m",
            "\u001b[0;31mTypeError\u001b[0m                                 Traceback (most recent call last)",
            "\u001b[0;32m<ipython-input-75-18502ba7a45e>\u001b[0m in \u001b[0;36m<module>\u001b[0;34m()\u001b[0m\n\u001b[0;32m----> 1\u001b[0;31m \u001b[0mprint\u001b[0m\u001b[0;34m(\u001b[0m\u001b[0;34m' '\u001b[0m\u001b[0;34m.\u001b[0m\u001b[0mjoin\u001b[0m\u001b[0;34m(\u001b[0m\u001b[0mB\u001b[0m\u001b[0;34m)\u001b[0m\u001b[0;34m)\u001b[0m\u001b[0;34m\u001b[0m\u001b[0;34m\u001b[0m\u001b[0m\n\u001b[0m",
            "\u001b[0;31mTypeError\u001b[0m: sequence item 0: expected str instance, int found"
          ]
        }
      ]
    },
    {
      "cell_type": "code",
      "source": [
        "print(*A)"
      ],
      "metadata": {
        "colab": {
          "base_uri": "https://localhost:8080/"
        },
        "id": "1LEe6TTlRfG0",
        "outputId": "4b057f7f-a3b6-439d-e94d-479761de9f5e"
      },
      "execution_count": null,
      "outputs": [
        {
          "output_type": "stream",
          "name": "stdout",
          "text": [
            "1 2 3 4 5\n"
          ]
        }
      ]
    },
    {
      "cell_type": "code",
      "source": [
        "#1\n",
        "#2\n",
        "#3\n",
        "\n",
        "#1 2 3\n",
        "\n",
        "A=int(input())\n",
        "B=int(input())\n",
        "C=int(input())\n",
        "\n",
        "print(A,B,C)"
      ],
      "metadata": {
        "colab": {
          "base_uri": "https://localhost:8080/"
        },
        "id": "3YUxYoWsSmrO",
        "outputId": "a641d021-5f8d-49af-e89c-40dd3912e8c3"
      },
      "execution_count": null,
      "outputs": [
        {
          "output_type": "stream",
          "name": "stdout",
          "text": [
            "1\n",
            "2\n",
            "3\n",
            "1 2 3\n"
          ]
        }
      ]
    },
    {
      "cell_type": "code",
      "source": [
        "#guvi / g,u,v,i\n",
        "\n",
        "A=input()\n",
        "print(','.join(A))\n"
      ],
      "metadata": {
        "colab": {
          "base_uri": "https://localhost:8080/"
        },
        "id": "tIKtMi1mTB2a",
        "outputId": "cc886c31-5a89-4614-fe2c-9bec7d1228ab"
      },
      "execution_count": null,
      "outputs": [
        {
          "output_type": "stream",
          "name": "stdout",
          "text": [
            "guvi\n",
            "g,u,v,i\n"
          ]
        }
      ]
    },
    {
      "cell_type": "code",
      "source": [
        "A=list(map(int,input().split(' ')))\n",
        "B=list(map(int,input().split(' ')))\n",
        "\n",
        "print(*A)\n",
        "print(*B)"
      ],
      "metadata": {
        "colab": {
          "base_uri": "https://localhost:8080/"
        },
        "id": "JJ5j23jgTVl6",
        "outputId": "76c1d0d0-8e93-4c56-d6ec-7b5cde8b861d"
      },
      "execution_count": null,
      "outputs": [
        {
          "output_type": "stream",
          "name": "stdout",
          "text": [
            "5 7\n",
            "1 2 3 4 5\n",
            "5 7\n",
            "1 2 3 4 5\n"
          ]
        }
      ]
    },
    {
      "cell_type": "markdown",
      "source": [
        "Conditional statment\n",
        "\n",
        "if, else, and elif"
      ],
      "metadata": {
        "id": "Jor0w4YmUENT"
      }
    },
    {
      "cell_type": "code",
      "source": [
        "# Age>=14 and Weight>=45\n",
        "\n",
        "Name=input('Enter Your Name : ')\n",
        "Age=int(input('Enter Your Age : '))\n",
        "Wt=float(input('Enter Your Weight : '))\n",
        "\n",
        "if Age>=14 and Wt>=45:  \n",
        "  print(Name,'You are Eligible for the Ride')\n",
        "else:\n",
        "  print(Name,'You are Not Eligible for the Ride')"
      ],
      "metadata": {
        "colab": {
          "base_uri": "https://localhost:8080/"
        },
        "id": "6WiRuqRLTtHT",
        "outputId": "45149dff-afef-4402-8fa9-678c4a8b402c"
      },
      "execution_count": null,
      "outputs": [
        {
          "output_type": "stream",
          "name": "stdout",
          "text": [
            "Enter Your Name : Vijay\n",
            "Enter Your Age : 15\n",
            "Enter Your Weight : 44\n",
            "Vijay You are Not Eligible for the Ride\n"
          ]
        }
      ]
    },
    {
      "cell_type": "code",
      "source": [
        "Name=input('Enter Your Name : ')\n",
        "Age=int(input('Enter Your Age : '))\n",
        "\n",
        "if Age>=14:\n",
        "  Wt=float(input('Enter Your Weight : '))\n",
        "  if Wt>=45:\n",
        "    \n",
        "    print(Name,'You are Eligible for the Ride')\n",
        "  else:\n",
        "    print(Name,'You are not Eligible for the Ride because You are under_weight')\n",
        "else:\n",
        "    print(Name,'You are not Eligible for the Ride because You are under_Age')"
      ],
      "metadata": {
        "colab": {
          "base_uri": "https://localhost:8080/"
        },
        "id": "a7IfxEmJVqtB",
        "outputId": "a3530a9b-3249-46c4-b94b-41481f43938c"
      },
      "execution_count": null,
      "outputs": [
        {
          "output_type": "stream",
          "name": "stdout",
          "text": [
            "Enter Your Name : Kumar\n",
            "Enter Your Age : 16\n",
            "Enter Your Weight : 43\n",
            "Kumar You are not Eligible for the Ride because You are under_weight\n"
          ]
        }
      ]
    },
    {
      "cell_type": "code",
      "source": [
        "Student_Name=input('Enter The Student Name : ')\n",
        "percentage_Mark=float(input('Enter the Mark '))\n",
        "\n",
        "#90> A, 80>B,70>C,60>D,50>E , 50< Fail\n",
        "\n",
        "\n",
        "if percentage_Mark>=0 and percentage_Mark<=100:\n",
        "\n",
        "  if percentage_Mark>90:\n",
        "    print(Student_Name,' You are Grade-A')\n",
        "  elif percentage_Mark>80 and percentage_Mark<=90:\n",
        "    print(Student_Name,' You are Grade-B')\n",
        "  elif percentage_Mark>70 and percentage_Mark<=80:\n",
        "    print(Student_Name,' You are Grade-C')\n",
        "  elif percentage_Mark>60 and percentage_Mark<=70:\n",
        "    print(Student_Name,' You are Grade-D')\n",
        "  elif percentage_Mark>50 and percentage_Mark<=60:\n",
        "    print(Student_Name,' You are Grade-E')\n",
        "  else:\n",
        "    print(Student_Name,'You Are Fail')\n",
        "\n",
        "else:\n",
        "  print('Enter Valid Mark')"
      ],
      "metadata": {
        "colab": {
          "base_uri": "https://localhost:8080/"
        },
        "id": "gBneb92pXH2q",
        "outputId": "dfa2f651-7353-465d-d825-cf39ad50b10e"
      },
      "execution_count": null,
      "outputs": [
        {
          "output_type": "stream",
          "name": "stdout",
          "text": [
            "Enter The Student Name : Kamal\n",
            "Enter the Mark 120\n",
            "Enter Valid Mark\n"
          ]
        }
      ]
    },
    {
      "cell_type": "code",
      "source": [
        "Student_Name=input('Enter The Student Name : ')\n",
        "percentage_Mark=float(input('Enter the Mark '))\n",
        "\n",
        "\n",
        "if percentage_Mark>90 and percentage_Mark<=100:\n",
        "    print(Student_Name,' You are Grade-A')\n",
        "elif percentage_Mark>80 and percentage_Mark<=90:\n",
        "  print(Student_Name,' You are Grade-B')\n",
        "elif percentage_Mark>70 and percentage_Mark<=80:\n",
        "  print(Student_Name,' You are Grade-C')\n",
        "elif percentage_Mark>60 and percentage_Mark<=70:\n",
        "  print(Student_Name,' You are Grade-D')\n",
        "elif percentage_Mark>50 and percentage_Mark<=60:\n",
        "  print(Student_Name,' You are Grade-E')\n",
        "elif percentage_Mark>0 and percentage_Mark<=50:\n",
        "  print(Student_Name,'You Are Fail')\n",
        "else:\n",
        "   print('Enter Valid Mark')\n"
      ],
      "metadata": {
        "colab": {
          "base_uri": "https://localhost:8080/"
        },
        "id": "6NMBCpuYdYtE",
        "outputId": "7ccd3c0f-632b-424c-82c2-fa5450e17dfb"
      },
      "execution_count": null,
      "outputs": [
        {
          "output_type": "stream",
          "name": "stdout",
          "text": [
            "Enter The Student Name : Kamal\n",
            "Enter the Mark 120\n",
            "Enter Valid Mark\n"
          ]
        }
      ]
    },
    {
      "cell_type": "markdown",
      "source": [
        "# Loops\n",
        "\n",
        "For loop and While loops"
      ],
      "metadata": {
        "id": "LRdWtey1eru0"
      }
    },
    {
      "cell_type": "code",
      "source": [
        "S=[1,2,3,4,5,6,7,8,9,10]\n",
        "\n",
        "for i in S:\n",
        "  print(i)"
      ],
      "metadata": {
        "colab": {
          "base_uri": "https://localhost:8080/"
        },
        "id": "4J0j7HuBeR-5",
        "outputId": "2cde6ab0-49f2-4f28-c578-d4442892c23d"
      },
      "execution_count": null,
      "outputs": [
        {
          "output_type": "stream",
          "name": "stdout",
          "text": [
            "1\n",
            "2\n",
            "3\n",
            "4\n",
            "5\n",
            "6\n",
            "7\n",
            "8\n",
            "9\n",
            "10\n"
          ]
        }
      ]
    },
    {
      "cell_type": "code",
      "source": [
        "S='Guvi Geek Network'\n",
        "\n",
        "for i in S:\n",
        "  print(i)"
      ],
      "metadata": {
        "colab": {
          "base_uri": "https://localhost:8080/"
        },
        "id": "p2Az-WJrhihW",
        "outputId": "3a160fe5-e679-4256-cf02-e848107cd4c7"
      },
      "execution_count": null,
      "outputs": [
        {
          "output_type": "stream",
          "name": "stdout",
          "text": [
            "G\n",
            "u\n",
            "v\n",
            "i\n",
            " \n",
            "G\n",
            "e\n",
            "e\n",
            "k\n",
            " \n",
            "N\n",
            "e\n",
            "t\n",
            "w\n",
            "o\n",
            "r\n",
            "k\n"
          ]
        }
      ]
    },
    {
      "cell_type": "code",
      "source": [
        "S=7\n",
        "if S%2==0:\n",
        "  print('Even')\n",
        "else:\n",
        "  print('Odd')"
      ],
      "metadata": {
        "colab": {
          "base_uri": "https://localhost:8080/"
        },
        "id": "qA-ljBBFiJ1w",
        "outputId": "cdf075d2-b550-4018-f38c-7200bc95938b"
      },
      "execution_count": null,
      "outputs": [
        {
          "output_type": "stream",
          "name": "stdout",
          "text": [
            "Odd\n"
          ]
        }
      ]
    },
    {
      "cell_type": "code",
      "source": [
        "S=[25,96,56,23,14,78,11,1,2,4,5,7,8,9,6,14,45,15,30,60,80]\n",
        "\n",
        "Even=[]\n",
        "Odd=[]\n",
        "\n",
        "for i in S:\n",
        "  if i%2==0:\n",
        "    Even.append(i)\n",
        "  else:\n",
        "    Odd.append(i)\n",
        "print(Odd)\n",
        "print(Even)\n"
      ],
      "metadata": {
        "colab": {
          "base_uri": "https://localhost:8080/"
        },
        "id": "21pY_BIKhusC",
        "outputId": "82af6cc9-c48d-4b01-857a-1e63654a573d"
      },
      "execution_count": null,
      "outputs": [
        {
          "output_type": "stream",
          "name": "stdout",
          "text": [
            "[25, 23, 11, 1, 5, 7, 9, 45, 15]\n",
            "[96, 56, 14, 78, 2, 4, 8, 6, 14, 30, 60, 80]\n"
          ]
        }
      ]
    },
    {
      "cell_type": "code",
      "source": [
        "L=[1,2,3,4]\n",
        "\n",
        "L.append(1000)\n",
        "L"
      ],
      "metadata": {
        "colab": {
          "base_uri": "https://localhost:8080/"
        },
        "id": "U8JU7i0BivfJ",
        "outputId": "ce6d4ae9-02c8-4fb4-c19f-4857cd9b0abf"
      },
      "execution_count": null,
      "outputs": [
        {
          "output_type": "execute_result",
          "data": {
            "text/plain": [
              "[1, 2, 3, 4, 1000]"
            ]
          },
          "metadata": {},
          "execution_count": 14
        }
      ]
    },
    {
      "cell_type": "code",
      "source": [
        "L.append(70)\n",
        "L"
      ],
      "metadata": {
        "colab": {
          "base_uri": "https://localhost:8080/"
        },
        "id": "Y4K8H1mijVeO",
        "outputId": "b985d7d6-fb57-4b53-d1ad-cbe0573811d3"
      },
      "execution_count": null,
      "outputs": [
        {
          "output_type": "execute_result",
          "data": {
            "text/plain": [
              "[1, 2, 3, 4, 1000, 1000, 70]"
            ]
          },
          "metadata": {},
          "execution_count": 16
        }
      ]
    },
    {
      "cell_type": "code",
      "source": [
        "S=[25,96,56,23,14,78,11,1,2,4,5,7,8,9,6,14,45,15,30,60,80]\n",
        "\n",
        "\n",
        "L_3=[] #%3\n",
        "L_5=[] #%5\n",
        "L_8=[] #%8\n",
        "\n",
        "for i in S:\n",
        "  if i%3==0:\n",
        "    L_3.append(i)\n",
        "  if i%5==0:\n",
        "    L_5.append(i)\n",
        "  if i%8==0:\n",
        "    L_8.append(i)\n",
        "\n",
        "print(L_3)\n",
        "print(L_5)\n",
        "print(L_8)"
      ],
      "metadata": {
        "colab": {
          "base_uri": "https://localhost:8080/"
        },
        "id": "fpNo30w6jZFF",
        "outputId": "2745a9bf-8dc2-4357-8670-3b93a5d35455"
      },
      "execution_count": null,
      "outputs": [
        {
          "output_type": "stream",
          "name": "stdout",
          "text": [
            "[96, 78, 9, 6, 45, 15, 30, 60]\n",
            "[25, 5, 45, 15, 30, 60, 80]\n",
            "[96, 56, 8, 80]\n"
          ]
        }
      ]
    },
    {
      "cell_type": "code",
      "source": [
        "#\"Guvi Geek Network\"/ o/p 'There is a 6 vovels in Guvi Geek Network'\n",
        "word=input('Enter your Word : ')\n",
        "\n",
        "V_count=0\n",
        "\n",
        "for i in word:\n",
        "  if i in 'aeiouAEIOU':\n",
        "    V_count=V_count+1\n",
        "\n",
        "print(f'There is a {V_count} vovels in {word}')"
      ],
      "metadata": {
        "colab": {
          "base_uri": "https://localhost:8080/"
        },
        "id": "928dhpVjogfZ",
        "outputId": "3dfe8380-a3ca-4220-f20a-f612a81637af"
      },
      "execution_count": null,
      "outputs": [
        {
          "output_type": "stream",
          "name": "stdout",
          "text": [
            "Enter your Word : try\n",
            "There is a 0 vovels in try\n"
          ]
        }
      ]
    },
    {
      "cell_type": "code",
      "source": [
        "#\"Guvi Geek Network\"  \n",
        "\n",
        "word=input('Enter the word : ')\n",
        "\n",
        "uniq_word=set(word)\n",
        "\n",
        "\n",
        "for i in uniq_word:\n",
        "  if i !=' ':\n",
        "    print(i,word.count(i))"
      ],
      "metadata": {
        "colab": {
          "base_uri": "https://localhost:8080/"
        },
        "id": "jz86fVK1qzI9",
        "outputId": "660fa918-2540-4026-8d78-092230c8a29a"
      },
      "execution_count": null,
      "outputs": [
        {
          "output_type": "stream",
          "name": "stdout",
          "text": [
            "Enter the word : Guvi Geek Network\n",
            "i 1\n",
            "t 1\n",
            "e 3\n",
            "u 1\n",
            "o 1\n",
            "G 2\n",
            "v 1\n",
            "k 2\n",
            "r 1\n",
            "N 1\n",
            "w 1\n"
          ]
        }
      ]
    },
    {
      "cell_type": "code",
      "source": [
        "d={}\n",
        "for i in uniq_word:\n",
        "  if i !=' ':\n",
        "    if word.count(i)>1:\n",
        "      d.update({i:word.count(i)})\n",
        "d"
      ],
      "metadata": {
        "colab": {
          "base_uri": "https://localhost:8080/"
        },
        "id": "6j32BKe9tVfN",
        "outputId": "88d7b471-430d-4985-f095-f2c6ea8204b0"
      },
      "execution_count": null,
      "outputs": [
        {
          "output_type": "execute_result",
          "data": {
            "text/plain": [
              "{'G': 2, 'e': 3, 'k': 2}"
            ]
          },
          "metadata": {},
          "execution_count": 31
        }
      ]
    },
    {
      "cell_type": "code",
      "source": [
        "# 0 to 10\n",
        "\n",
        "\n",
        "for i in range(10+1):\n",
        "  print(i)"
      ],
      "metadata": {
        "colab": {
          "base_uri": "https://localhost:8080/"
        },
        "id": "yp_hAa1WuZc0",
        "outputId": "632d18ff-1d2c-4dbc-e7a6-500dd05cd9fe"
      },
      "execution_count": null,
      "outputs": [
        {
          "output_type": "stream",
          "name": "stdout",
          "text": [
            "0\n",
            "1\n",
            "2\n",
            "3\n",
            "4\n",
            "5\n",
            "6\n",
            "7\n",
            "8\n",
            "9\n",
            "10\n"
          ]
        }
      ]
    },
    {
      "cell_type": "code",
      "source": [
        "# 5 to 25\n",
        "\n",
        "for i in range(5,25+1):\n",
        "  print(i)"
      ],
      "metadata": {
        "colab": {
          "base_uri": "https://localhost:8080/"
        },
        "id": "45PUPKAgw2UL",
        "outputId": "91a71504-f53f-4135-8b03-001fd2cb430e"
      },
      "execution_count": null,
      "outputs": [
        {
          "output_type": "stream",
          "name": "stdout",
          "text": [
            "5\n",
            "6\n",
            "7\n",
            "8\n",
            "9\n",
            "10\n",
            "11\n",
            "12\n",
            "13\n",
            "14\n",
            "15\n",
            "16\n",
            "17\n",
            "18\n",
            "19\n",
            "20\n",
            "21\n",
            "22\n",
            "23\n",
            "24\n",
            "25\n"
          ]
        }
      ]
    },
    {
      "cell_type": "code",
      "source": [
        "# 5 7 9 11 13 15 17 19 21....  (5,29)\n",
        "\n",
        "for i in range(5,29+1,2):\n",
        "  print(i)"
      ],
      "metadata": {
        "colab": {
          "base_uri": "https://localhost:8080/"
        },
        "id": "97F884SQxG4M",
        "outputId": "aec2fd49-ae37-455f-91d6-10ce53d2ca8f"
      },
      "execution_count": null,
      "outputs": [
        {
          "output_type": "stream",
          "name": "stdout",
          "text": [
            "5\n",
            "7\n",
            "9\n",
            "11\n",
            "13\n",
            "15\n",
            "17\n",
            "19\n",
            "21\n",
            "23\n",
            "25\n",
            "27\n"
          ]
        }
      ]
    },
    {
      "cell_type": "code",
      "source": [
        "# 10 to 5\n",
        "\n",
        "for i in range(10,5-1,-1):\n",
        "  \n",
        "  print(i)"
      ],
      "metadata": {
        "colab": {
          "base_uri": "https://localhost:8080/"
        },
        "id": "9BYh62kjygPu",
        "outputId": "b4b0d5fe-9c1e-4512-9d5d-5a28f61c3e35"
      },
      "execution_count": null,
      "outputs": [
        {
          "output_type": "stream",
          "name": "stdout",
          "text": [
            "10\n",
            "9\n",
            "8\n",
            "7\n",
            "6\n",
            "5\n"
          ]
        }
      ]
    },
    {
      "cell_type": "code",
      "source": [
        "D=[1,2,3,4,1,2,4,5,6,7,8,9,2,4,5,7]\n",
        "\n",
        "D.count(10)\n",
        "\n"
      ],
      "metadata": {
        "id": "cIPuqtf90D6w",
        "colab": {
          "base_uri": "https://localhost:8080/"
        },
        "outputId": "bdf5d941-e452-4425-b0b8-57b439717eda"
      },
      "execution_count": null,
      "outputs": [
        {
          "output_type": "execute_result",
          "data": {
            "text/plain": [
              "0"
            ]
          },
          "metadata": {},
          "execution_count": 12
        }
      ]
    },
    {
      "cell_type": "code",
      "source": [
        "S=[25,96,56,23,14,78,11,1,2,4,5,7,8,9,6,14,45,15,30,60,80]\n",
        "\n",
        "Even=[]\n",
        "Odd=[]\n",
        "\n",
        "for i in S:\n",
        "  if i%2==0:\n",
        "    Even.append(i)\n",
        "  else:\n",
        "    Odd.append(i)\n",
        "print(Odd)\n",
        "print(Even)\n"
      ],
      "metadata": {
        "id": "xtIrGmnDzX_L",
        "colab": {
          "base_uri": "https://localhost:8080/"
        },
        "outputId": "9c978f8f-a28d-41e0-aac1-495a62a2a23b"
      },
      "execution_count": null,
      "outputs": [
        {
          "output_type": "stream",
          "name": "stdout",
          "text": [
            "[25, 23, 11, 1, 5, 7, 9, 45, 15]\n",
            "[96, 56, 14, 78, 2, 4, 8, 6, 14, 30, 60, 80]\n"
          ]
        }
      ]
    },
    {
      "cell_type": "code",
      "source": [
        "S=[25,96,56,23,14,78,11,1,2,4,5,7,8,9,6,14,45,15,30,60,80]\n",
        "\n",
        "Even=[]\n",
        "Odd=[]\n",
        "\n",
        "for i in range(0,len(S)):\n",
        "  if S[i]%2==0:\n",
        "    Even.append(S[i])\n",
        "  else:\n",
        "    Odd.append(S[i])\n",
        "\n",
        "print(Odd)\n",
        "print(Even)\n"
      ],
      "metadata": {
        "colab": {
          "base_uri": "https://localhost:8080/"
        },
        "id": "VtzwioGflJCq",
        "outputId": "7a6c34b1-919f-43f6-d0a9-aad55c3ae740"
      },
      "execution_count": null,
      "outputs": [
        {
          "output_type": "stream",
          "name": "stdout",
          "text": [
            "[25, 23, 11, 1, 5, 7, 9, 45, 15]\n",
            "[96, 56, 14, 78, 2, 4, 8, 6, 14, 30, 60, 80]\n"
          ]
        }
      ]
    },
    {
      "cell_type": "code",
      "source": [
        "S[2]"
      ],
      "metadata": {
        "colab": {
          "base_uri": "https://localhost:8080/"
        },
        "id": "PXwalN38l227",
        "outputId": "96bd4396-a402-481d-f31f-ff28f9a0d3d1"
      },
      "execution_count": null,
      "outputs": [
        {
          "output_type": "execute_result",
          "data": {
            "text/plain": [
              "56"
            ]
          },
          "metadata": {},
          "execution_count": 4
        }
      ]
    },
    {
      "cell_type": "code",
      "source": [
        "D=[1,2,3,4,1,2,5,6,7,2,8,9,3,5,2,5,9,10]\n",
        "S=set(D)\n",
        "for i in S:\n",
        "  if i!=' ':\n",
        "    print(i,'->>',D.count(i))\n"
      ],
      "metadata": {
        "colab": {
          "base_uri": "https://localhost:8080/"
        },
        "id": "xwPa0CA-mAUL",
        "outputId": "9d2083b0-881c-4dba-dbd7-fd7e050aca51"
      },
      "execution_count": null,
      "outputs": [
        {
          "output_type": "stream",
          "name": "stdout",
          "text": [
            "1 ->> 2\n",
            "2 ->> 4\n",
            "3 ->> 2\n",
            "4 ->> 1\n",
            "5 ->> 3\n",
            "6 ->> 1\n",
            "7 ->> 1\n",
            "8 ->> 1\n",
            "9 ->> 2\n",
            "10 ->> 1\n"
          ]
        }
      ]
    },
    {
      "cell_type": "code",
      "source": [
        "#Zip Function \n",
        "\n",
        "A=[1,2,3,4,5,6,80]\n",
        "B=[10,20,30,40,50,60,70]\n",
        "\n",
        "for i,j in zip(A,B):\n",
        "  print(i+j)"
      ],
      "metadata": {
        "colab": {
          "base_uri": "https://localhost:8080/"
        },
        "id": "mmAE8iJqqYHQ",
        "outputId": "51f7c3c8-af46-422f-d92d-2b8f7c409481"
      },
      "execution_count": null,
      "outputs": [
        {
          "output_type": "stream",
          "name": "stdout",
          "text": [
            "11\n",
            "22\n",
            "33\n",
            "44\n",
            "55\n",
            "66\n",
            "150\n"
          ]
        }
      ]
    },
    {
      "cell_type": "code",
      "source": [
        "Product_list={'Pro_Name':['Sugar','Dhall','Oil','Rice','Salt'],\n",
        "              'Pro_Qty':[2,3,5,10,1.5],\n",
        "              'Pro_Price':[40,85,180,75,20]}\n",
        "\n",
        "Product_list   "
      ],
      "metadata": {
        "colab": {
          "base_uri": "https://localhost:8080/"
        },
        "id": "dx2gGcBsrpMU",
        "outputId": "e8e05648-cfea-48a5-b1da-69cd2855c257"
      },
      "execution_count": null,
      "outputs": [
        {
          "output_type": "execute_result",
          "data": {
            "text/plain": [
              "{'Pro_Name': ['Sugar', 'Dhall', 'Oil', 'Rice', 'Salt'],\n",
              " 'Pro_Price': [40, 85, 180, 75, 20],\n",
              " 'Pro_Qty': [2, 3, 5, 10, 1.5]}"
            ]
          },
          "metadata": {},
          "execution_count": 29
        }
      ]
    },
    {
      "cell_type": "code",
      "source": [
        "Product_list['Total_Price']=[]\n",
        "Product_list"
      ],
      "metadata": {
        "colab": {
          "base_uri": "https://localhost:8080/"
        },
        "id": "8HD6DIe9uUzl",
        "outputId": "7be37a5f-537f-4c94-a7df-4d687303ed9f"
      },
      "execution_count": null,
      "outputs": [
        {
          "output_type": "execute_result",
          "data": {
            "text/plain": [
              "{'Pro_Name': ['Sugar', 'Dhall', 'Oil', 'Rice', 'Salt'],\n",
              " 'Pro_Price': [40, 85, 180, 75, 20],\n",
              " 'Pro_Qty': [2, 3, 5, 10, 1.5],\n",
              " 'Total_Price': []}"
            ]
          },
          "metadata": {},
          "execution_count": 30
        }
      ]
    },
    {
      "cell_type": "code",
      "source": [
        "for p,q in zip(Product_list['Pro_Price'],Product_list['Pro_Qty']):\n",
        "  T=p*q\n",
        "  Product_list['Total_Price'].append(T)\n"
      ],
      "metadata": {
        "id": "tt6mv3LwuoXf"
      },
      "execution_count": null,
      "outputs": []
    },
    {
      "cell_type": "code",
      "source": [
        "Product_list"
      ],
      "metadata": {
        "colab": {
          "base_uri": "https://localhost:8080/"
        },
        "id": "69vTBbfHvQuF",
        "outputId": "49d2120b-86b8-479f-bc44-5a0c15ca9577"
      },
      "execution_count": null,
      "outputs": [
        {
          "output_type": "execute_result",
          "data": {
            "text/plain": [
              "{'Pro_Name': ['Sugar', 'Dhall', 'Oil', 'Rice', 'Salt'],\n",
              " 'Pro_Price': [40, 85, 180, 75, 20],\n",
              " 'Pro_Qty': [2, 3, 5, 10, 1.5],\n",
              " 'Total_Price': [80, 255, 900, 750, 30.0, 80, 255, 900, 750, 30.0]}"
            ]
          },
          "metadata": {},
          "execution_count": 34
        }
      ]
    },
    {
      "cell_type": "code",
      "source": [
        "for N,TP in zip(Product_list['Pro_Name'],Product_list['Total_Price']):\n",
        "  print(N,'Price is ',TP)"
      ],
      "metadata": {
        "colab": {
          "base_uri": "https://localhost:8080/"
        },
        "id": "58FngeHRvlfz",
        "outputId": "2ca0006b-4a4c-4613-daa7-ae49705f973a"
      },
      "execution_count": null,
      "outputs": [
        {
          "output_type": "stream",
          "name": "stdout",
          "text": [
            "Sugar Price is  80\n",
            "Dhall Price is  255\n",
            "Oil Price is  900\n",
            "Rice Price is  750\n",
            "Salt Price is  30.0\n"
          ]
        }
      ]
    },
    {
      "cell_type": "code",
      "source": [
        "Gst_5=['Milk','Rice','Curd','Salt']\n",
        "Gst_12=['Sugar','Dhall','SurfXL','Handwash']\n",
        "Gst_18=['Oil','Cashews','Ghee','Toothpaste']\n",
        "\n",
        "Product_list['Total_Price']=[]\n",
        "Product_list['GST_Price']=[]\n",
        "\n",
        "\n",
        "for N,P,Q in zip(Product_list['Pro_Name'],Product_list['Pro_Price'],Product_list['Pro_Qty']):\n",
        "  T=P*Q\n",
        "  Product_list['Total_Price'].append(T)\n",
        "\n",
        "  if N in Gst_5:\n",
        "    GT=T+(T*0.05)\n",
        "    Product_list['GST_Price'].append(GT)\n",
        "  elif N in Gst_12:\n",
        "    GT=T+(T*0.12)\n",
        "    Product_list['GST_Price'].append(GT)\n",
        "  elif N in Gst_18:\n",
        "    GT=T+(T*0.18)\n",
        "    Product_list['GST_Price'].append(GT)\n",
        "\n",
        "Product_list"
      ],
      "metadata": {
        "colab": {
          "base_uri": "https://localhost:8080/"
        },
        "id": "VlntdRYowMN8",
        "outputId": "3beb7132-dad3-4143-e87b-a4ed2488e56c"
      },
      "execution_count": null,
      "outputs": [
        {
          "output_type": "execute_result",
          "data": {
            "text/plain": [
              "{'GST_Price': [89.6, 285.6, 1062.0, 787.5, 31.5],\n",
              " 'Pro_Name': ['Sugar', 'Dhall', 'Oil', 'Rice', 'Salt'],\n",
              " 'Pro_Price': [40, 85, 180, 75, 20],\n",
              " 'Pro_Qty': [2, 3, 5, 10, 1.5],\n",
              " 'Total_Price': [80, 255, 900, 750, 30.0]}"
            ]
          },
          "metadata": {},
          "execution_count": 38
        }
      ]
    },
    {
      "cell_type": "code",
      "source": [
        "for N,TP,GT in zip(Product_list['Pro_Name'],Product_list['Total_Price'],Product_list['GST_Price']):\n",
        "  print(N,'Price is ',TP,'With GST',GT)\n",
        "\n",
        "\n",
        "print('Bill Amount',sum(Product_list['Total_Price']),' with Gst :',sum(Product_list['GST_Price']))"
      ],
      "metadata": {
        "colab": {
          "base_uri": "https://localhost:8080/"
        },
        "id": "IVumCHF_xFIr",
        "outputId": "497131e3-e8ff-46e4-dbab-2641823d68ff"
      },
      "execution_count": null,
      "outputs": [
        {
          "output_type": "stream",
          "name": "stdout",
          "text": [
            "Sugar Price is  80 With GST 89.6\n",
            "Dhall Price is  255 With GST 285.6\n",
            "Oil Price is  900 With GST 1062.0\n",
            "Rice Price is  750 With GST 787.5\n",
            "Salt Price is  30.0 With GST 31.5\n",
            "Bill Amount 2015.0  with Gst : 2256.2\n"
          ]
        }
      ]
    },
    {
      "cell_type": "code",
      "source": [
        "# While Loop\n",
        "\n"
      ],
      "metadata": {
        "id": "__0adr2LxItI"
      },
      "execution_count": null,
      "outputs": []
    }
  ]
}