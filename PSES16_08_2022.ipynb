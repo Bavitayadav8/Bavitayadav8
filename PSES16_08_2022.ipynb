{
  "nbformat": 4,
  "nbformat_minor": 0,
  "metadata": {
    "colab": {
      "name": "PSES16-08-2022.ipynb",
      "provenance": [],
      "collapsed_sections": [],
      "include_colab_link": true
    },
    "kernelspec": {
      "name": "python3",
      "display_name": "Python 3"
    },
    "language_info": {
      "name": "python"
    }
  },
  "cells": [
    {
      "cell_type": "markdown",
      "metadata": {
        "id": "view-in-github",
        "colab_type": "text"
      },
      "source": [
        "<a href=\"https://colab.research.google.com/github/Bavitayadav8/Bavitayadav8/blob/main/PSES16_08_2022.ipynb\" target=\"_parent\"><img src=\"https://colab.research.google.com/assets/colab-badge.svg\" alt=\"Open In Colab\"/></a>"
      ]
    },
    {
      "cell_type": "markdown",
      "source": [
        "# **Input/Output**"
      ],
      "metadata": {
        "id": "qZzy6IhqgXbP"
      }
    },
    {
      "cell_type": "markdown",
      "source": [
        "Write a code to get the input in the given format and print the output in the given format\n",
        "\n",
        "Input Description:\n",
        "To take an integer value\n",
        "\n",
        "Output Description:\n",
        "Print the integer value\n",
        "\n",
        "Sample Input :\n",
        "2\n",
        "Sample Output :\n",
        "2"
      ],
      "metadata": {
        "id": "ZLv6AAoMhiLz"
      }
    },
    {
      "cell_type": "code",
      "execution_count": null,
      "metadata": {
        "colab": {
          "base_uri": "https://localhost:8080/"
        },
        "id": "VlFQyOk6e9fs",
        "outputId": "8d9e0ead-bffa-4456-a6ce-cb93edd5d489"
      },
      "outputs": [
        {
          "output_type": "stream",
          "name": "stdout",
          "text": [
            "5\n",
            "5\n"
          ]
        }
      ],
      "source": [
        "A=int(input())\n",
        "print(A)"
      ]
    },
    {
      "cell_type": "markdown",
      "source": [
        "# **Basic Python**"
      ],
      "metadata": {
        "id": "HCXFXKc2h0yY"
      }
    },
    {
      "cell_type": "markdown",
      "source": [
        "Variable"
      ],
      "metadata": {
        "id": "fChaQNTxiBOB"
      }
    },
    {
      "cell_type": "code",
      "source": [
        "A=50\n",
        "A='Guvi'\n",
        "A=3.14\n",
        "A=[1,23,3,4,56]\n",
        "\n",
        "user_input=20\n",
        "UserInput=50\n",
        "\n",
        "List=20\n",
        "user_2=25\n",
        "A=25\n",
        "B=30\n",
        "print(A+B)"
      ],
      "metadata": {
        "colab": {
          "base_uri": "https://localhost:8080/"
        },
        "id": "J8a8glwNhY_s",
        "outputId": "8688ed8b-73af-4363-ff6c-1b4f5e1d0450"
      },
      "execution_count": null,
      "outputs": [
        {
          "output_type": "stream",
          "name": "stdout",
          "text": [
            "55\n"
          ]
        }
      ]
    },
    {
      "cell_type": "markdown",
      "source": [
        "Data Type"
      ],
      "metadata": {
        "id": "BUy59WLKjhG3"
      }
    },
    {
      "cell_type": "code",
      "source": [
        "I=50  #Int  # mobile ,Adhar,RollNo,Bank AccNo\n",
        "I=-50 #Int\n",
        "\n",
        "F=3.14   #Float #Height , Weight,Temp,BMI,Avg,Distance \n",
        "F=-3.14  #Float\n",
        "\n",
        "S='50'  #MailId,PAN, IFSC,Name,Address......\n",
        "S=\"50\"\n",
        "S=\"Guvi\"\n",
        "\n",
        "S='!@#$%^&*()_' # Anything inside cote will call it as string\n",
        "\n",
        "\n",
        "B=True #Bool #1 ,Yes,Pass,Start,High.....\n",
        "B=False #Bool #0,No,Fail,Stop,Low......\n"
      ],
      "metadata": {
        "id": "zi3IDHBgjaR8"
      },
      "execution_count": null,
      "outputs": []
    },
    {
      "cell_type": "code",
      "source": [
        "5==5"
      ],
      "metadata": {
        "colab": {
          "base_uri": "https://localhost:8080/"
        },
        "id": "jZISOBUvohgM",
        "outputId": "e7d5b2e1-f24f-46d2-d188-9a99405676f6"
      },
      "execution_count": null,
      "outputs": [
        {
          "output_type": "execute_result",
          "data": {
            "text/plain": [
              "True"
            ]
          },
          "metadata": {},
          "execution_count": 4
        }
      ]
    },
    {
      "cell_type": "code",
      "source": [
        "5=='5'"
      ],
      "metadata": {
        "colab": {
          "base_uri": "https://localhost:8080/"
        },
        "id": "JpblQBcYokws",
        "outputId": "5b9e3f12-56e6-4a2c-a696-16894dd308e0"
      },
      "execution_count": null,
      "outputs": [
        {
          "output_type": "execute_result",
          "data": {
            "text/plain": [
              "False"
            ]
          },
          "metadata": {},
          "execution_count": 8
        }
      ]
    },
    {
      "cell_type": "code",
      "source": [
        "10>5"
      ],
      "metadata": {
        "colab": {
          "base_uri": "https://localhost:8080/"
        },
        "id": "x97DnmlIRE3v",
        "outputId": "bd944d60-1087-41da-f143-1810ff9af091"
      },
      "execution_count": null,
      "outputs": [
        {
          "output_type": "execute_result",
          "data": {
            "text/plain": [
              "True"
            ]
          },
          "metadata": {},
          "execution_count": 5
        }
      ]
    },
    {
      "cell_type": "markdown",
      "source": [
        "**Data Structures **\n",
        "\n",
        "list,Tuple, set and dictionary "
      ],
      "metadata": {
        "id": "L9oJYmOFpDhX"
      }
    },
    {
      "cell_type": "code",
      "source": [
        "#List\n",
        "\n",
        "L=[5,3.14,5,'Guvi',True,[10,20,30,40,50]]  # list can contain any datatypes or data structure ,it can contain duplicates\n",
        "\n",
        "#  0  1      2    3        4      #index Add, Remove, Manipulate (list is Mutable)\n",
        "\n",
        "print(L)"
      ],
      "metadata": {
        "colab": {
          "base_uri": "https://localhost:8080/"
        },
        "id": "8VT4ypwooosb",
        "outputId": "e6d4a465-c609-4ba9-d1e4-16447db0c9fa"
      },
      "execution_count": null,
      "outputs": [
        {
          "output_type": "stream",
          "name": "stdout",
          "text": [
            "[5, 3.14, 5, 'Guvi', True, [10, 20, 30, 40, 50]]\n"
          ]
        }
      ]
    },
    {
      "cell_type": "code",
      "source": [
        "print(L[4])"
      ],
      "metadata": {
        "colab": {
          "base_uri": "https://localhost:8080/"
        },
        "id": "x728eqnDrn8j",
        "outputId": "9eb0642c-2d8d-4322-9524-7f7656f3d2ba"
      },
      "execution_count": null,
      "outputs": [
        {
          "output_type": "stream",
          "name": "stdout",
          "text": [
            "True\n"
          ]
        }
      ]
    },
    {
      "cell_type": "code",
      "source": [
        "print(L[5][4])"
      ],
      "metadata": {
        "colab": {
          "base_uri": "https://localhost:8080/"
        },
        "id": "4oi1CxW5SGp-",
        "outputId": "9370e069-96e2-458e-e5e2-2e0020f02431"
      },
      "execution_count": null,
      "outputs": [
        {
          "output_type": "stream",
          "name": "stdout",
          "text": [
            "50\n"
          ]
        }
      ]
    },
    {
      "cell_type": "code",
      "source": [
        "print(L[5])"
      ],
      "metadata": {
        "colab": {
          "base_uri": "https://localhost:8080/"
        },
        "id": "woZqyuBMrukw",
        "outputId": "c09c95bf-da06-47ae-d385-63a4c71278f6"
      },
      "execution_count": null,
      "outputs": [
        {
          "output_type": "stream",
          "name": "stdout",
          "text": [
            "[10, 20, 30, 40, 50]\n"
          ]
        }
      ]
    },
    {
      "cell_type": "code",
      "source": [
        "print(L[5][2])"
      ],
      "metadata": {
        "colab": {
          "base_uri": "https://localhost:8080/"
        },
        "id": "ucdAUQdFr1MJ",
        "outputId": "242003e9-8739-431b-d10f-76552d72f8c9"
      },
      "execution_count": null,
      "outputs": [
        {
          "output_type": "stream",
          "name": "stdout",
          "text": [
            "30\n"
          ]
        }
      ]
    },
    {
      "cell_type": "code",
      "source": [
        "#Tuple\n",
        "\n",
        "T=(5,3.14,5,'Guvi',True,[10,20,30,40,50]) # Tuple can contain any data types or data structure, it can contain duplicate \n",
        "                                          # Immutable (we can't change)\n",
        "print(T[3])\n",
        "\n"
      ],
      "metadata": {
        "colab": {
          "base_uri": "https://localhost:8080/"
        },
        "id": "QSETV4hQr72J",
        "outputId": "8f6e6280-7237-4f74-99c2-5e72839aad14"
      },
      "execution_count": null,
      "outputs": [
        {
          "output_type": "stream",
          "name": "stdout",
          "text": [
            "Guvi\n"
          ]
        }
      ]
    },
    {
      "cell_type": "code",
      "source": [
        "S=(5,7,9,8,1,3,4,6,1,2,5)\n",
        "print(S)"
      ],
      "metadata": {
        "colab": {
          "base_uri": "https://localhost:8080/"
        },
        "id": "XM2H81ZfSy7-",
        "outputId": "55966923-ed49-43d2-ae52-784e420ad685"
      },
      "execution_count": null,
      "outputs": [
        {
          "output_type": "stream",
          "name": "stdout",
          "text": [
            "(5, 7, 9, 8, 1, 3, 4, 6, 1, 2, 5)\n"
          ]
        }
      ]
    },
    {
      "cell_type": "code",
      "source": [
        "A=[1,2,3,4,5]\n",
        "B=(10,20,30,40,50)\n",
        "print(A)\n",
        "print(B)"
      ],
      "metadata": {
        "colab": {
          "base_uri": "https://localhost:8080/"
        },
        "id": "fS68ByHBTmwO",
        "outputId": "a9023b4a-6560-46ae-ea5a-630aae29a22d"
      },
      "execution_count": null,
      "outputs": [
        {
          "output_type": "stream",
          "name": "stdout",
          "text": [
            "[1, 2, 3, 4, 5]\n",
            "(10, 20, 30, 40, 50)\n"
          ]
        }
      ]
    },
    {
      "cell_type": "code",
      "source": [
        "print(tuple(A))\n",
        "print(list(B))"
      ],
      "metadata": {
        "colab": {
          "base_uri": "https://localhost:8080/"
        },
        "id": "lQeLYPpqUsov",
        "outputId": "188ac33e-1231-4276-de12-1967ef88d155"
      },
      "execution_count": null,
      "outputs": [
        {
          "output_type": "stream",
          "name": "stdout",
          "text": [
            "(1, 2, 3, 4, 5)\n",
            "[10, 20, 30, 40, 50]\n"
          ]
        }
      ]
    },
    {
      "cell_type": "code",
      "source": [
        "sorted(S,reverse =True)"
      ],
      "metadata": {
        "colab": {
          "base_uri": "https://localhost:8080/"
        },
        "id": "lfY0o-EHTT7D",
        "outputId": "b1a0fc8c-e512-4345-cc50-0ef790c8e28c"
      },
      "execution_count": null,
      "outputs": [
        {
          "output_type": "execute_result",
          "data": {
            "text/plain": [
              "[9, 8, 7, 6, 5, 5, 4, 3, 2, 1, 1]"
            ]
          },
          "metadata": {},
          "execution_count": 15
        }
      ]
    },
    {
      "cell_type": "code",
      "source": [
        "Passedout_student=('Sachin',2010,'EEE','A')  #Tuple\n",
        "\n",
        "Present_Student=['Dhoni','EcE','II-A','B'] #List\n"
      ],
      "metadata": {
        "id": "pB-Owa7DtQIS"
      },
      "execution_count": null,
      "outputs": []
    },
    {
      "cell_type": "code",
      "source": [
        "dir(list)"
      ],
      "metadata": {
        "colab": {
          "base_uri": "https://localhost:8080/"
        },
        "id": "9fo8qc-yuRbC",
        "outputId": "20b5c3ff-d7db-4cd6-b166-d1aa0094023b"
      },
      "execution_count": null,
      "outputs": [
        {
          "output_type": "execute_result",
          "data": {
            "text/plain": [
              "['__add__',\n",
              " '__class__',\n",
              " '__contains__',\n",
              " '__delattr__',\n",
              " '__delitem__',\n",
              " '__dir__',\n",
              " '__doc__',\n",
              " '__eq__',\n",
              " '__format__',\n",
              " '__ge__',\n",
              " '__getattribute__',\n",
              " '__getitem__',\n",
              " '__gt__',\n",
              " '__hash__',\n",
              " '__iadd__',\n",
              " '__imul__',\n",
              " '__init__',\n",
              " '__init_subclass__',\n",
              " '__iter__',\n",
              " '__le__',\n",
              " '__len__',\n",
              " '__lt__',\n",
              " '__mul__',\n",
              " '__ne__',\n",
              " '__new__',\n",
              " '__reduce__',\n",
              " '__reduce_ex__',\n",
              " '__repr__',\n",
              " '__reversed__',\n",
              " '__rmul__',\n",
              " '__setattr__',\n",
              " '__setitem__',\n",
              " '__sizeof__',\n",
              " '__str__',\n",
              " '__subclasshook__',\n",
              " 'append',\n",
              " 'clear',\n",
              " 'copy',\n",
              " 'count',\n",
              " 'extend',\n",
              " 'index',\n",
              " 'insert',\n",
              " 'pop',\n",
              " 'remove',\n",
              " 'reverse',\n",
              " 'sort']"
            ]
          },
          "metadata": {},
          "execution_count": 23
        }
      ]
    },
    {
      "cell_type": "code",
      "source": [
        "dir(tuple)"
      ],
      "metadata": {
        "colab": {
          "base_uri": "https://localhost:8080/"
        },
        "id": "KySxp9yDusqB",
        "outputId": "4bc1ca6e-7ccb-44c1-b118-23114546a014"
      },
      "execution_count": null,
      "outputs": [
        {
          "output_type": "execute_result",
          "data": {
            "text/plain": [
              "['__add__',\n",
              " '__class__',\n",
              " '__contains__',\n",
              " '__delattr__',\n",
              " '__dir__',\n",
              " '__doc__',\n",
              " '__eq__',\n",
              " '__format__',\n",
              " '__ge__',\n",
              " '__getattribute__',\n",
              " '__getitem__',\n",
              " '__getnewargs__',\n",
              " '__gt__',\n",
              " '__hash__',\n",
              " '__init__',\n",
              " '__init_subclass__',\n",
              " '__iter__',\n",
              " '__le__',\n",
              " '__len__',\n",
              " '__lt__',\n",
              " '__mul__',\n",
              " '__ne__',\n",
              " '__new__',\n",
              " '__reduce__',\n",
              " '__reduce_ex__',\n",
              " '__repr__',\n",
              " '__rmul__',\n",
              " '__setattr__',\n",
              " '__sizeof__',\n",
              " '__str__',\n",
              " '__subclasshook__',\n",
              " 'count',\n",
              " 'index']"
            ]
          },
          "metadata": {},
          "execution_count": 24
        }
      ]
    },
    {
      "cell_type": "markdown",
      "source": [
        ""
      ],
      "metadata": {
        "id": "8KoXhxfoV31i"
      }
    },
    {
      "cell_type": "code",
      "source": [
        "S=[1,2,3,1,4,7,8,2,3,2,4,2,1]\n",
        "len(S)"
      ],
      "metadata": {
        "id": "nRR4cSVDuuHp",
        "colab": {
          "base_uri": "https://localhost:8080/"
        },
        "outputId": "a19dabfa-fa97-4c26-b936-59c9a6e48431"
      },
      "execution_count": null,
      "outputs": [
        {
          "output_type": "execute_result",
          "data": {
            "text/plain": [
              "13"
            ]
          },
          "metadata": {},
          "execution_count": 19
        }
      ]
    },
    {
      "cell_type": "code",
      "source": [
        "S.count(10)"
      ],
      "metadata": {
        "colab": {
          "base_uri": "https://localhost:8080/"
        },
        "id": "E3z0AEYnVICt",
        "outputId": "c3b4d48c-4ce0-4e87-c104-16e90abb8b15"
      },
      "execution_count": null,
      "outputs": [
        {
          "output_type": "execute_result",
          "data": {
            "text/plain": [
              "0"
            ]
          },
          "metadata": {},
          "execution_count": 24
        }
      ]
    },
    {
      "cell_type": "code",
      "source": [
        ""
      ],
      "metadata": {
        "id": "ENf5CPnuWwhW"
      },
      "execution_count": null,
      "outputs": []
    },
    {
      "cell_type": "code",
      "source": [
        "S.index(2)"
      ],
      "metadata": {
        "colab": {
          "base_uri": "https://localhost:8080/"
        },
        "id": "iK9_jJPhVNp0",
        "outputId": "da623200-7f55-4335-ec86-d589268b7db8"
      },
      "execution_count": null,
      "outputs": [
        {
          "output_type": "execute_result",
          "data": {
            "text/plain": [
              "1"
            ]
          },
          "metadata": {},
          "execution_count": 28
        }
      ]
    },
    {
      "cell_type": "code",
      "source": [
        "S[5]"
      ],
      "metadata": {
        "colab": {
          "base_uri": "https://localhost:8080/"
        },
        "id": "qETIX7cFWyPS",
        "outputId": "4d4b5d53-e141-4327-8d50-143aa9656f09"
      },
      "execution_count": null,
      "outputs": [
        {
          "output_type": "execute_result",
          "data": {
            "text/plain": [
              "7"
            ]
          },
          "metadata": {},
          "execution_count": 27
        }
      ]
    },
    {
      "cell_type": "code",
      "source": [
        "#Set\n",
        "Passport_Num=['A25','A55','B89','A25','C36','B89','D40','A55','A25'] #1000 #A25-2,A55-1,B89-1 =4\n",
        "len(Passport_Num)"
      ],
      "metadata": {
        "colab": {
          "base_uri": "https://localhost:8080/"
        },
        "id": "FFZdhJwtVYGN",
        "outputId": "0326ae6d-121d-446e-93c7-ea94818125a7"
      },
      "execution_count": null,
      "outputs": [
        {
          "output_type": "execute_result",
          "data": {
            "text/plain": [
              "9"
            ]
          },
          "metadata": {},
          "execution_count": 29
        }
      ]
    },
    {
      "cell_type": "code",
      "source": [
        "Remove_Dup=set(Passport_Num)  #Set will Remove duplicate, set is unoroder\n",
        "Remove_Dup"
      ],
      "metadata": {
        "colab": {
          "base_uri": "https://localhost:8080/"
        },
        "id": "TlTTsgU0YzCl",
        "outputId": "e0e55997-326b-4c9d-895a-d9e3d6d0e89d"
      },
      "execution_count": null,
      "outputs": [
        {
          "output_type": "execute_result",
          "data": {
            "text/plain": [
              "{'A25', 'A55', 'B89', 'C36', 'D40'}"
            ]
          },
          "metadata": {},
          "execution_count": 30
        }
      ]
    },
    {
      "cell_type": "code",
      "source": [
        "list(Remove_Dup)[2]"
      ],
      "metadata": {
        "colab": {
          "base_uri": "https://localhost:8080/",
          "height": 36
        },
        "id": "hi23t0r5aKkR",
        "outputId": "4d6ecd9b-d617-42b1-ad40-3bfec3264177"
      },
      "execution_count": null,
      "outputs": [
        {
          "output_type": "execute_result",
          "data": {
            "text/plain": [
              "'B89'"
            ],
            "application/vnd.google.colaboratory.intrinsic+json": {
              "type": "string"
            }
          },
          "metadata": {},
          "execution_count": 35
        }
      ]
    },
    {
      "cell_type": "code",
      "source": [
        "len(Remove_Dup)"
      ],
      "metadata": {
        "colab": {
          "base_uri": "https://localhost:8080/"
        },
        "id": "MXFDDXrDZdX0",
        "outputId": "df74fc08-4c01-4987-9200-6471c1c2a7fd"
      },
      "execution_count": null,
      "outputs": [
        {
          "output_type": "execute_result",
          "data": {
            "text/plain": [
              "5"
            ]
          },
          "metadata": {},
          "execution_count": 31
        }
      ]
    },
    {
      "cell_type": "code",
      "source": [
        "print(\"No of duplicate : \", len(Passport_Num)-len(Remove_Dup))"
      ],
      "metadata": {
        "colab": {
          "base_uri": "https://localhost:8080/"
        },
        "id": "ix9QzNVlZ3t8",
        "outputId": "cd13ed09-2d33-49f2-d102-3b12e135c2d0"
      },
      "execution_count": null,
      "outputs": [
        {
          "output_type": "stream",
          "name": "stdout",
          "text": [
            "No of duplicate :  4\n"
          ]
        }
      ]
    },
    {
      "cell_type": "code",
      "source": [
        "S={1,5,144,201,56,89,75,100,45,7,9,99,5,55,53,46,78,54,26,10,100,14,13,12,14,1,4,144,'144'}\n",
        "S"
      ],
      "metadata": {
        "colab": {
          "base_uri": "https://localhost:8080/"
        },
        "id": "_gDTjcVQaDJd",
        "outputId": "c4d0fe50-584c-4dcf-c3b2-4d639211c0e1"
      },
      "execution_count": null,
      "outputs": [
        {
          "output_type": "execute_result",
          "data": {
            "text/plain": [
              "{1,\n",
              " 10,\n",
              " 100,\n",
              " 12,\n",
              " 13,\n",
              " 14,\n",
              " '144',\n",
              " 144,\n",
              " 201,\n",
              " 26,\n",
              " 4,\n",
              " 45,\n",
              " 46,\n",
              " 5,\n",
              " 53,\n",
              " 54,\n",
              " 55,\n",
              " 56,\n",
              " 7,\n",
              " 75,\n",
              " 78,\n",
              " 89,\n",
              " 9,\n",
              " 99}"
            ]
          },
          "metadata": {},
          "execution_count": 38
        }
      ]
    },
    {
      "cell_type": "code",
      "source": [
        "#Dictionary \n",
        "\n",
        "D={'Name':'Sachin',\n",
        "   'Age':40,\n",
        "   'Salary':40000}\n",
        "   \n",
        "print(D['Name'])"
      ],
      "metadata": {
        "colab": {
          "base_uri": "https://localhost:8080/"
        },
        "id": "bwAgpGjka4qg",
        "outputId": "fd540f75-c444-45fc-fc2c-c793e45f2b8b"
      },
      "execution_count": null,
      "outputs": [
        {
          "output_type": "stream",
          "name": "stdout",
          "text": [
            "Sachin\n"
          ]
        }
      ]
    },
    {
      "cell_type": "code",
      "source": [
        "Emp={'Emp_Id':[45,63,89,78,7,5],\n",
        "     'Name':['Arun','Suresh','Rahul','Bala','Dhoni','Sachin'],\n",
        "     'Age':[25,34,30,28,35,40],\n",
        "     'Salary':[25000,30000,32000,40000,50000,75000]} #500\n",
        "\n",
        "Emp"
      ],
      "metadata": {
        "colab": {
          "base_uri": "https://localhost:8080/"
        },
        "id": "MVMCzmVmceKW",
        "outputId": "920844ac-23a5-4cdb-ef5a-ef0ebbfdcc40"
      },
      "execution_count": null,
      "outputs": [
        {
          "output_type": "execute_result",
          "data": {
            "text/plain": [
              "{'Emp_Id': [45, 63, 89, 78, 7, 5],\n",
              " 'Name': ['Arun', 'Suresh', 'Rahul', 'Bala', 'Dhoni', 'Sachin'],\n",
              " 'Age': [25, 34, 30, 28, 35, 40],\n",
              " 'Salary': [25000, 30000, 32000, 40000, 50000, 75000]}"
            ]
          },
          "metadata": {},
          "execution_count": 40
        }
      ]
    },
    {
      "cell_type": "code",
      "source": [
        "Emp['Name'][3]"
      ],
      "metadata": {
        "colab": {
          "base_uri": "https://localhost:8080/",
          "height": 36
        },
        "id": "lF8sREyhdhJn",
        "outputId": "7bf2c59d-82bd-4f5b-c16c-86c7ad070c50"
      },
      "execution_count": null,
      "outputs": [
        {
          "output_type": "execute_result",
          "data": {
            "text/plain": [
              "'Bala'"
            ],
            "application/vnd.google.colaboratory.intrinsic+json": {
              "type": "string"
            }
          },
          "metadata": {},
          "execution_count": 42
        }
      ]
    },
    {
      "cell_type": "code",
      "source": [
        "print('employee :',Emp['Emp_Id'][3])\n",
        "print('Name :',Emp['Name'][3])\n",
        "print('Age :',Emp['Age'][3])\n",
        "print('Salary:',Emp['Salary'][3])"
      ],
      "metadata": {
        "colab": {
          "base_uri": "https://localhost:8080/"
        },
        "id": "aKlFlTVjdrLl",
        "outputId": "4bd3af5c-408a-4175-8aee-aca096df18de"
      },
      "execution_count": null,
      "outputs": [
        {
          "output_type": "stream",
          "name": "stdout",
          "text": [
            "employee : 78\n",
            "Name : Bala\n",
            "Age                     : 28\n",
            "Salary: 40000\n"
          ]
        }
      ]
    },
    {
      "cell_type": "code",
      "source": [
        "Emp['Emp_Id'].index(78)"
      ],
      "metadata": {
        "colab": {
          "base_uri": "https://localhost:8080/"
        },
        "id": "MuplhUc3eGjd",
        "outputId": "078de58b-01f9-47f0-f783-15956b51d506"
      },
      "execution_count": null,
      "outputs": [
        {
          "output_type": "execute_result",
          "data": {
            "text/plain": [
              "3"
            ]
          },
          "metadata": {},
          "execution_count": 47
        }
      ]
    },
    {
      "cell_type": "code",
      "source": [
        "print('EmpID : ',Emp['Emp_Id'][Emp['Emp_Id'].index(78)])\n",
        "print('Name : ',Emp['Name'][Emp['Emp_Id'].index(78)])\n",
        "print('Age : ',Emp['Age'][Emp['Emp_Id'].index(78)])\n",
        "print('Salary : ',Emp['Salary'][Emp['Emp_Id'].index(78)])"
      ],
      "metadata": {
        "colab": {
          "base_uri": "https://localhost:8080/"
        },
        "id": "OpGsE84JelXX",
        "outputId": "564e4ae8-8e90-478f-e3cd-cc7ea3ff7156"
      },
      "execution_count": null,
      "outputs": [
        {
          "output_type": "stream",
          "name": "stdout",
          "text": [
            "EmpID :  78\n",
            "Name :  Bala\n",
            "Age :  28\n",
            "Salary :  40000\n"
          ]
        }
      ]
    },
    {
      "cell_type": "code",
      "source": [
        "id=int(input('Enter the Emp_Id ')) #7 63\n",
        "pos=Emp['Emp_Id'].index(id) #4  1  \n",
        "\n",
        "print('EmpID : ',Emp['Emp_Id'][pos])#7  63\n",
        "print('Name : ',Emp['Name'][pos])#Dhoni  Suresh\n",
        "print('Age : ',Emp['Age'][pos])#35   34\n",
        "print('Salary : ',Emp['Salary'][pos])#50000  30000"
      ],
      "metadata": {
        "colab": {
          "base_uri": "https://localhost:8080/"
        },
        "id": "uzlbRDcdfBA6",
        "outputId": "2dcbc862-c51d-4e06-b345-c824918803aa"
      },
      "execution_count": null,
      "outputs": [
        {
          "output_type": "stream",
          "name": "stdout",
          "text": [
            "Enter the Emp_Id 63\n",
            "EmpID :  63\n",
            "Name :  Suresh\n",
            "Age :  34\n",
            "Salary :  30000\n"
          ]
        }
      ]
    },
    {
      "cell_type": "code",
      "source": [
        "dir(dict)"
      ],
      "metadata": {
        "colab": {
          "base_uri": "https://localhost:8080/"
        },
        "id": "4n6ZrxInfwon",
        "outputId": "375ecafd-6796-454e-c81d-a338a4d7272d"
      },
      "execution_count": null,
      "outputs": [
        {
          "output_type": "execute_result",
          "data": {
            "text/plain": [
              "['__class__',\n",
              " '__contains__',\n",
              " '__delattr__',\n",
              " '__delitem__',\n",
              " '__dir__',\n",
              " '__doc__',\n",
              " '__eq__',\n",
              " '__format__',\n",
              " '__ge__',\n",
              " '__getattribute__',\n",
              " '__getitem__',\n",
              " '__gt__',\n",
              " '__hash__',\n",
              " '__init__',\n",
              " '__init_subclass__',\n",
              " '__iter__',\n",
              " '__le__',\n",
              " '__len__',\n",
              " '__lt__',\n",
              " '__ne__',\n",
              " '__new__',\n",
              " '__reduce__',\n",
              " '__reduce_ex__',\n",
              " '__repr__',\n",
              " '__setattr__',\n",
              " '__setitem__',\n",
              " '__sizeof__',\n",
              " '__str__',\n",
              " '__subclasshook__',\n",
              " 'clear',\n",
              " 'copy',\n",
              " 'fromkeys',\n",
              " 'get',\n",
              " 'items',\n",
              " 'keys',\n",
              " 'pop',\n",
              " 'popitem',\n",
              " 'setdefault',\n",
              " 'update',\n",
              " 'values']"
            ]
          },
          "metadata": {},
          "execution_count": 51
        }
      ]
    },
    {
      "cell_type": "code",
      "source": [
        "#Input and Output\n",
        "\n",
        "# 5  / o/p  5\n",
        "\n",
        "A=int(input())\n",
        "print(A)\n",
        "print(type(A))\n"
      ],
      "metadata": {
        "colab": {
          "base_uri": "https://localhost:8080/"
        },
        "id": "dgrlq7mvgmhX",
        "outputId": "5279664c-e3de-4519-fe0d-3621bf42707b"
      },
      "execution_count": null,
      "outputs": [
        {
          "output_type": "stream",
          "name": "stdout",
          "text": [
            "5\n",
            "5\n",
            "<class 'int'>\n"
          ]
        }
      ]
    },
    {
      "cell_type": "code",
      "source": [
        "A=input()\n",
        "print(A)\n",
        "print(type(A))\n"
      ],
      "metadata": {
        "colab": {
          "base_uri": "https://localhost:8080/"
        },
        "id": "HSzohrbdia74",
        "outputId": "8840b66c-4a4f-4f0a-a23b-cb634f617364"
      },
      "execution_count": null,
      "outputs": [
        {
          "output_type": "stream",
          "name": "stdout",
          "text": [
            "5\n",
            "5\n",
            "<class 'str'>\n"
          ]
        }
      ]
    },
    {
      "cell_type": "code",
      "source": [
        "A=input()\n",
        "B=input()\n",
        "print(A+B)"
      ],
      "metadata": {
        "colab": {
          "base_uri": "https://localhost:8080/"
        },
        "id": "lSVeI4Aoigjq",
        "outputId": "6783c55c-4a8e-4615-8b75-253be153e9fd"
      },
      "execution_count": null,
      "outputs": [
        {
          "output_type": "stream",
          "name": "stdout",
          "text": [
            "50\n",
            "10\n",
            "5010\n"
          ]
        }
      ]
    },
    {
      "cell_type": "code",
      "source": [
        "A=int(input())\n",
        "B=int(input())\n",
        "print(A+B)"
      ],
      "metadata": {
        "colab": {
          "base_uri": "https://localhost:8080/"
        },
        "id": "atwJmyjDioQX",
        "outputId": "7dd16e95-335c-4c5d-a1b8-0ac6e7786ff9"
      },
      "execution_count": null,
      "outputs": [
        {
          "output_type": "stream",
          "name": "stdout",
          "text": [
            "50\n",
            "10\n",
            "60\n"
          ]
        }
      ]
    },
    {
      "cell_type": "code",
      "source": [
        "A=int(input())\n",
        "B=input()\n",
        "print(A+B)"
      ],
      "metadata": {
        "colab": {
          "base_uri": "https://localhost:8080/",
          "height": 241
        },
        "id": "YzC3s1cpiwhV",
        "outputId": "c7be6ade-14ef-4450-ccb5-9514df10a7a5"
      },
      "execution_count": null,
      "outputs": [
        {
          "name": "stdout",
          "output_type": "stream",
          "text": [
            "50\n",
            "10\n"
          ]
        },
        {
          "output_type": "error",
          "ename": "TypeError",
          "evalue": "ignored",
          "traceback": [
            "\u001b[0;31m---------------------------------------------------------------------------\u001b[0m",
            "\u001b[0;31mTypeError\u001b[0m                                 Traceback (most recent call last)",
            "\u001b[0;32m<ipython-input-60-041cd5177f8b>\u001b[0m in \u001b[0;36m<module>\u001b[0;34m\u001b[0m\n\u001b[1;32m      1\u001b[0m \u001b[0mA\u001b[0m\u001b[0;34m=\u001b[0m\u001b[0mint\u001b[0m\u001b[0;34m(\u001b[0m\u001b[0minput\u001b[0m\u001b[0;34m(\u001b[0m\u001b[0;34m)\u001b[0m\u001b[0;34m)\u001b[0m\u001b[0;34m\u001b[0m\u001b[0;34m\u001b[0m\u001b[0m\n\u001b[1;32m      2\u001b[0m \u001b[0mB\u001b[0m\u001b[0;34m=\u001b[0m\u001b[0minput\u001b[0m\u001b[0;34m(\u001b[0m\u001b[0;34m)\u001b[0m\u001b[0;34m\u001b[0m\u001b[0;34m\u001b[0m\u001b[0m\n\u001b[0;32m----> 3\u001b[0;31m \u001b[0mprint\u001b[0m\u001b[0;34m(\u001b[0m\u001b[0mA\u001b[0m\u001b[0;34m+\u001b[0m\u001b[0mB\u001b[0m\u001b[0;34m)\u001b[0m\u001b[0;34m\u001b[0m\u001b[0;34m\u001b[0m\u001b[0m\n\u001b[0m",
            "\u001b[0;31mTypeError\u001b[0m: unsupported operand type(s) for +: 'int' and 'str'"
          ]
        }
      ]
    },
    {
      "cell_type": "code",
      "source": [
        "A=int(input())\n",
        "B=input()\n",
        "print(A*B)"
      ],
      "metadata": {
        "colab": {
          "base_uri": "https://localhost:8080/"
        },
        "id": "YUgMxmKki0uO",
        "outputId": "abe8e33c-fb65-4fb4-a7ae-9badbbccc2bc"
      },
      "execution_count": null,
      "outputs": [
        {
          "output_type": "stream",
          "name": "stdout",
          "text": [
            "5\n",
            "guvi \n",
            "guvi guvi guvi guvi guvi \n"
          ]
        }
      ]
    },
    {
      "cell_type": "code",
      "source": [
        "A='50'\n",
        "float(A)"
      ],
      "metadata": {
        "colab": {
          "base_uri": "https://localhost:8080/"
        },
        "id": "2GNKX53oi8ON",
        "outputId": "4014df78-5e1c-436a-92d9-55a045557659"
      },
      "execution_count": null,
      "outputs": [
        {
          "output_type": "execute_result",
          "data": {
            "text/plain": [
              "50.0"
            ]
          },
          "metadata": {},
          "execution_count": 65
        }
      ]
    },
    {
      "cell_type": "code",
      "source": [
        "#1 2 3 4 5/ 1 2 3 4 5\n",
        "\n",
        "A=input()\n",
        "print(A)\n",
        "print(type(A))"
      ],
      "metadata": {
        "colab": {
          "base_uri": "https://localhost:8080/"
        },
        "id": "zaBNv4kdjlX2",
        "outputId": "2e16a73e-e4a3-4f8b-8a88-40b1f5f56db4"
      },
      "execution_count": null,
      "outputs": [
        {
          "output_type": "stream",
          "name": "stdout",
          "text": [
            "1 2 3 4 5\n",
            "1 2 3 4 5\n",
            "<class 'str'>\n"
          ]
        }
      ]
    },
    {
      "cell_type": "code",
      "source": [
        "A=int(input())\n",
        "print(A)\n",
        "print(type(A))"
      ],
      "metadata": {
        "colab": {
          "base_uri": "https://localhost:8080/",
          "height": 223
        },
        "id": "sZRhETLWj66s",
        "outputId": "dae087f9-7675-4304-a8bd-abcc7afa8569"
      },
      "execution_count": null,
      "outputs": [
        {
          "name": "stdout",
          "output_type": "stream",
          "text": [
            "1 2 3 4 5\n"
          ]
        },
        {
          "output_type": "error",
          "ename": "ValueError",
          "evalue": "ignored",
          "traceback": [
            "\u001b[0;31m---------------------------------------------------------------------------\u001b[0m",
            "\u001b[0;31mValueError\u001b[0m                                Traceback (most recent call last)",
            "\u001b[0;32m<ipython-input-69-8dec9ca2dd64>\u001b[0m in \u001b[0;36m<module>\u001b[0;34m\u001b[0m\n\u001b[0;32m----> 1\u001b[0;31m \u001b[0mA\u001b[0m\u001b[0;34m=\u001b[0m\u001b[0mint\u001b[0m\u001b[0;34m(\u001b[0m\u001b[0minput\u001b[0m\u001b[0;34m(\u001b[0m\u001b[0;34m)\u001b[0m\u001b[0;34m)\u001b[0m\u001b[0;34m\u001b[0m\u001b[0;34m\u001b[0m\u001b[0m\n\u001b[0m\u001b[1;32m      2\u001b[0m \u001b[0mprint\u001b[0m\u001b[0;34m(\u001b[0m\u001b[0mA\u001b[0m\u001b[0;34m)\u001b[0m\u001b[0;34m\u001b[0m\u001b[0;34m\u001b[0m\u001b[0m\n\u001b[1;32m      3\u001b[0m \u001b[0mprint\u001b[0m\u001b[0;34m(\u001b[0m\u001b[0mtype\u001b[0m\u001b[0;34m(\u001b[0m\u001b[0mA\u001b[0m\u001b[0;34m)\u001b[0m\u001b[0;34m)\u001b[0m\u001b[0;34m\u001b[0m\u001b[0;34m\u001b[0m\u001b[0m\n",
            "\u001b[0;31mValueError\u001b[0m: invalid literal for int() with base 10: '1 2 3 4 5'"
          ]
        }
      ]
    },
    {
      "cell_type": "code",
      "source": [
        "A=input().split(' ')\n",
        "print(A)"
      ],
      "metadata": {
        "colab": {
          "base_uri": "https://localhost:8080/"
        },
        "id": "ZviFjWIwkCrW",
        "outputId": "c7771388-bb92-48ac-c07b-996fc4867385"
      },
      "execution_count": null,
      "outputs": [
        {
          "output_type": "stream",
          "name": "stdout",
          "text": [
            "1 2 3 4 5\n",
            "['1', '2', '3', '4', '5']\n"
          ]
        }
      ]
    },
    {
      "cell_type": "code",
      "source": [
        "H='50'\n",
        "int(H)"
      ],
      "metadata": {
        "colab": {
          "base_uri": "https://localhost:8080/"
        },
        "id": "lKs_31KJsOta",
        "outputId": "e7441569-5d86-4caa-abdb-a8acd43158f3"
      },
      "execution_count": null,
      "outputs": [
        {
          "output_type": "execute_result",
          "data": {
            "text/plain": [
              "50"
            ]
          },
          "metadata": {},
          "execution_count": 106
        }
      ]
    },
    {
      "cell_type": "code",
      "source": [
        "B=list(map(int,A)) #1 2 4 5 1 6 7 1 5\n",
        "B"
      ],
      "metadata": {
        "colab": {
          "base_uri": "https://localhost:8080/"
        },
        "id": "QCf6AgMRkUDO",
        "outputId": "57f85d3f-9b00-4d58-fa21-8363298aca3c"
      },
      "execution_count": null,
      "outputs": [
        {
          "output_type": "execute_result",
          "data": {
            "text/plain": [
              "[1, 2, 3, 4, 5]"
            ]
          },
          "metadata": {},
          "execution_count": 78
        }
      ]
    },
    {
      "cell_type": "code",
      "source": [
        "A"
      ],
      "metadata": {
        "colab": {
          "base_uri": "https://localhost:8080/"
        },
        "id": "UJfPhpHOkl9g",
        "outputId": "bc0c9913-b1ef-43d1-816b-b0400fa3e774"
      },
      "execution_count": null,
      "outputs": [
        {
          "output_type": "execute_result",
          "data": {
            "text/plain": [
              "['1', '2', '3', '4', '5']"
            ]
          },
          "metadata": {},
          "execution_count": 79
        }
      ]
    },
    {
      "cell_type": "code",
      "source": [
        "print(''.join(A))"
      ],
      "metadata": {
        "colab": {
          "base_uri": "https://localhost:8080/"
        },
        "id": "Eyv6U8Wvl2YF",
        "outputId": "bc2e873c-3755-4b85-94f1-73d8b4d23953"
      },
      "execution_count": null,
      "outputs": [
        {
          "output_type": "stream",
          "name": "stdout",
          "text": [
            "12345\n"
          ]
        }
      ]
    },
    {
      "cell_type": "code",
      "source": [
        ""
      ],
      "metadata": {
        "id": "GGDL_WKQl_nQ"
      },
      "execution_count": null,
      "outputs": []
    },
    {
      "cell_type": "code",
      "source": [
        "B"
      ],
      "metadata": {
        "colab": {
          "base_uri": "https://localhost:8080/"
        },
        "id": "SY31tHkrltzg",
        "outputId": "ceb02ca4-45d4-4319-a856-3f4c93b05785"
      },
      "execution_count": null,
      "outputs": [
        {
          "output_type": "execute_result",
          "data": {
            "text/plain": [
              "[1, 2, 3, 4, 5]"
            ]
          },
          "metadata": {},
          "execution_count": 80
        }
      ]
    },
    {
      "cell_type": "code",
      "source": [
        "print(' '.join(B))"
      ],
      "metadata": {
        "colab": {
          "base_uri": "https://localhost:8080/",
          "height": 169
        },
        "id": "b0S37fmJlwIA",
        "outputId": "0b01c428-d367-42f7-bc34-d1c830beb224"
      },
      "execution_count": null,
      "outputs": [
        {
          "output_type": "error",
          "ename": "TypeError",
          "evalue": "ignored",
          "traceback": [
            "\u001b[0;31m---------------------------------------------------------------------------\u001b[0m",
            "\u001b[0;31mTypeError\u001b[0m                                 Traceback (most recent call last)",
            "\u001b[0;32m<ipython-input-85-18502ba7a45e>\u001b[0m in \u001b[0;36m<module>\u001b[0;34m\u001b[0m\n\u001b[0;32m----> 1\u001b[0;31m \u001b[0mprint\u001b[0m\u001b[0;34m(\u001b[0m\u001b[0;34m' '\u001b[0m\u001b[0;34m.\u001b[0m\u001b[0mjoin\u001b[0m\u001b[0;34m(\u001b[0m\u001b[0mB\u001b[0m\u001b[0;34m)\u001b[0m\u001b[0;34m)\u001b[0m\u001b[0;34m\u001b[0m\u001b[0;34m\u001b[0m\u001b[0m\n\u001b[0m",
            "\u001b[0;31mTypeError\u001b[0m: sequence item 0: expected str instance, int found"
          ]
        }
      ]
    },
    {
      "cell_type": "code",
      "source": [
        "print(*A)"
      ],
      "metadata": {
        "colab": {
          "base_uri": "https://localhost:8080/"
        },
        "id": "F8svtHULm8u_",
        "outputId": "a7ccdcc4-81e4-49ba-d39d-df2cc9210969"
      },
      "execution_count": null,
      "outputs": [
        {
          "output_type": "stream",
          "name": "stdout",
          "text": [
            "1 2 3 4 5\n"
          ]
        }
      ]
    },
    {
      "cell_type": "code",
      "source": [
        "print(*B)"
      ],
      "metadata": {
        "colab": {
          "base_uri": "https://localhost:8080/"
        },
        "id": "ttMHlC0gmOI2",
        "outputId": "4cac21ef-fc6e-48bf-ddd3-355d0b69ea08"
      },
      "execution_count": null,
      "outputs": [
        {
          "output_type": "stream",
          "name": "stdout",
          "text": [
            "1 2 3 4 5\n"
          ]
        }
      ]
    },
    {
      "cell_type": "code",
      "source": [
        "B=list(map(int,input().split(' ')))\n",
        "print(*B)"
      ],
      "metadata": {
        "colab": {
          "base_uri": "https://localhost:8080/"
        },
        "id": "b8SV2Zj6mdL2",
        "outputId": "a2f1426b-88c9-491b-d5c1-7a29af51aa5e"
      },
      "execution_count": null,
      "outputs": [
        {
          "output_type": "stream",
          "name": "stdout",
          "text": [
            "1 2 3 4 5\n",
            "1 2 3 4 5\n"
          ]
        }
      ]
    },
    {
      "cell_type": "code",
      "source": [
        "dir(str)"
      ],
      "metadata": {
        "colab": {
          "base_uri": "https://localhost:8080/"
        },
        "id": "ZzrrlbJfp21j",
        "outputId": "a8b4cc00-6702-4e28-e7c6-5e0e9f637f8e"
      },
      "execution_count": null,
      "outputs": [
        {
          "output_type": "execute_result",
          "data": {
            "text/plain": [
              "['__add__',\n",
              " '__class__',\n",
              " '__contains__',\n",
              " '__delattr__',\n",
              " '__dir__',\n",
              " '__doc__',\n",
              " '__eq__',\n",
              " '__format__',\n",
              " '__ge__',\n",
              " '__getattribute__',\n",
              " '__getitem__',\n",
              " '__getnewargs__',\n",
              " '__gt__',\n",
              " '__hash__',\n",
              " '__init__',\n",
              " '__init_subclass__',\n",
              " '__iter__',\n",
              " '__le__',\n",
              " '__len__',\n",
              " '__lt__',\n",
              " '__mod__',\n",
              " '__mul__',\n",
              " '__ne__',\n",
              " '__new__',\n",
              " '__reduce__',\n",
              " '__reduce_ex__',\n",
              " '__repr__',\n",
              " '__rmod__',\n",
              " '__rmul__',\n",
              " '__setattr__',\n",
              " '__sizeof__',\n",
              " '__str__',\n",
              " '__subclasshook__',\n",
              " 'capitalize',\n",
              " 'casefold',\n",
              " 'center',\n",
              " 'count',\n",
              " 'encode',\n",
              " 'endswith',\n",
              " 'expandtabs',\n",
              " 'find',\n",
              " 'format',\n",
              " 'format_map',\n",
              " 'index',\n",
              " 'isalnum',\n",
              " 'isalpha',\n",
              " 'isascii',\n",
              " 'isdecimal',\n",
              " 'isdigit',\n",
              " 'isidentifier',\n",
              " 'islower',\n",
              " 'isnumeric',\n",
              " 'isprintable',\n",
              " 'isspace',\n",
              " 'istitle',\n",
              " 'isupper',\n",
              " 'join',\n",
              " 'ljust',\n",
              " 'lower',\n",
              " 'lstrip',\n",
              " 'maketrans',\n",
              " 'partition',\n",
              " 'replace',\n",
              " 'rfind',\n",
              " 'rindex',\n",
              " 'rjust',\n",
              " 'rpartition',\n",
              " 'rsplit',\n",
              " 'rstrip',\n",
              " 'split',\n",
              " 'splitlines',\n",
              " 'startswith',\n",
              " 'strip',\n",
              " 'swapcase',\n",
              " 'title',\n",
              " 'translate',\n",
              " 'upper',\n",
              " 'zfill']"
            ]
          },
          "metadata": {},
          "execution_count": 96
        }
      ]
    },
    {
      "cell_type": "code",
      "source": [
        "#5-2\n",
        "#7-8-9-4-5\n",
        "\n",
        "A=list(map(int,input().split('-')))\n",
        "B=list(map(int,input().split('-')))\n",
        "\n",
        "print(*A)\n",
        "print(*B)\n"
      ],
      "metadata": {
        "colab": {
          "base_uri": "https://localhost:8080/"
        },
        "id": "h4FmPmf7nSfH",
        "outputId": "1cc3e559-e770-4808-b895-84824f1eced3"
      },
      "execution_count": null,
      "outputs": [
        {
          "output_type": "stream",
          "name": "stdout",
          "text": [
            "5-2\n",
            "1-2-3-4-5\n",
            "5 2\n",
            "1 2 3 4 5\n"
          ]
        }
      ]
    },
    {
      "cell_type": "code",
      "source": [
        ""
      ],
      "metadata": {
        "colab": {
          "base_uri": "https://localhost:8080/",
          "height": 169
        },
        "id": "hzbOfj1knyYP",
        "outputId": "9453a6bd-b969-48e3-cf15-2e502ca77b34"
      },
      "execution_count": null,
      "outputs": [
        {
          "output_type": "error",
          "ename": "NameError",
          "evalue": "ignored",
          "traceback": [
            "\u001b[0;31m---------------------------------------------------------------------------\u001b[0m",
            "\u001b[0;31mNameError\u001b[0m                                 Traceback (most recent call last)",
            "\u001b[0;32m<ipython-input-98-08f05e6f4bd6>\u001b[0m in \u001b[0;36m<module>\u001b[0;34m\u001b[0m\n\u001b[0;32m----> 1\u001b[0;31m \u001b[0mhelp\u001b[0m\u001b[0;34m(\u001b[0m\u001b[0msplit\u001b[0m\u001b[0;34m(\u001b[0m\u001b[0;34m)\u001b[0m\u001b[0;34m)\u001b[0m\u001b[0;34m\u001b[0m\u001b[0;34m\u001b[0m\u001b[0m\n\u001b[0m",
            "\u001b[0;31mNameError\u001b[0m: name 'split' is not defined"
          ]
        }
      ]
    },
    {
      "cell_type": "code",
      "source": [
        "S='guvi'\n",
        "\n",
        "S.upper()"
      ],
      "metadata": {
        "colab": {
          "base_uri": "https://localhost:8080/",
          "height": 36
        },
        "id": "T9cKBTNqqM-L",
        "outputId": "595d0f52-6147-4766-d565-2cebb24c0408"
      },
      "execution_count": null,
      "outputs": [
        {
          "output_type": "execute_result",
          "data": {
            "text/plain": [
              "'GUVI'"
            ],
            "application/vnd.google.colaboratory.intrinsic+json": {
              "type": "string"
            }
          },
          "metadata": {},
          "execution_count": 99
        }
      ]
    },
    {
      "cell_type": "code",
      "source": [
        "S.upper()"
      ],
      "metadata": {
        "colab": {
          "base_uri": "https://localhost:8080/",
          "height": 36
        },
        "id": "kjR3ZYXFrVWo",
        "outputId": "6c5281dd-516c-4e9c-c783-b3cc1affbaae"
      },
      "execution_count": null,
      "outputs": [
        {
          "output_type": "execute_result",
          "data": {
            "text/plain": [
              "'GUVI'"
            ],
            "application/vnd.google.colaboratory.intrinsic+json": {
              "type": "string"
            }
          },
          "metadata": {},
          "execution_count": 105
        }
      ]
    },
    {
      "cell_type": "markdown",
      "source": [
        "#Conditional Statment\n",
        "\n",
        "if, else and elif"
      ],
      "metadata": {
        "id": "9S00Kg4KX8o8"
      }
    },
    {
      "cell_type": "code",
      "source": [
        "# Age>=14 and weight>=45\n",
        "Name=input('Enter your Name: ')\n",
        "Age=int(input('Enter your Age : '))\n",
        "Wt=float(input('Enter your Weight : '))\n",
        "\n",
        "if Age>=14 and Wt>=45:\n",
        "  print(Name,'You are eligible for ride')\n",
        "else:\n",
        "  print(Name, 'You are not eligible for ride')"
      ],
      "metadata": {
        "colab": {
          "base_uri": "https://localhost:8080/"
        },
        "id": "e6I_ax4rrbQY",
        "outputId": "93b2baf7-13df-4d20-d0f3-62f522379cb7"
      },
      "execution_count": null,
      "outputs": [
        {
          "output_type": "stream",
          "name": "stdout",
          "text": [
            "Enter your Name: Akhil\n",
            "Enter your Age : 15\n",
            "Enter your Weight : 40\n",
            "Akhil You are not eligible for ride\n"
          ]
        }
      ]
    },
    {
      "cell_type": "code",
      "source": [
        "Name=input('Enter your Name: ')\n",
        "Age=int(input('Enter your Age : '))\n",
        "\n",
        "if Age>=14:\n",
        "  Wt=float(input('Enter your Weight : '))\n",
        "  if Wt>=45:\n",
        "    print(Name,'You are eligible for ride')\n",
        "  else:\n",
        "    print(Name,'You are not eligible for ride because you are underweight')\n",
        "else:\n",
        "    print(Name,'You are not eligible for ride because you are underAge')   "
      ],
      "metadata": {
        "colab": {
          "base_uri": "https://localhost:8080/"
        },
        "id": "074DExOAZlpD",
        "outputId": "9456bec1-b08e-4964-bf2c-a2db69c8778a"
      },
      "execution_count": null,
      "outputs": [
        {
          "output_type": "stream",
          "name": "stdout",
          "text": [
            "Enter your Name: Ram\n",
            "Enter your Age : 15\n",
            "Enter your Weight : 45\n",
            "Ram You are eligible for ride\n"
          ]
        }
      ]
    },
    {
      "cell_type": "code",
      "source": [
        "#1000> 10%  2000>20% 5000> 25%  / 1000<  not eligible for discount \n",
        "\n",
        "\n",
        "Cust_Name=input('Enter Your Name : ')\n",
        "Bill_Amt=float(input('Enter the Bill Amt: '))\n",
        "\n",
        "if Bill_Amt>1000 and Bill_Amt<=2000:\n",
        "  print(Cust_Name, 'You got 10% discount')\n",
        "\n",
        "elif Bill_Amt>2000 and Bill_Amt<=5000:\n",
        "  print(Cust_Name, 'You got 20% discount')\n",
        "\n",
        "elif Bill_Amt>5000:\n",
        "  print(Cust_Name, 'You got 25% discount')\n",
        "\n",
        "else:\n",
        "  print(Cust_Name, 'You not eligible for discount ')"
      ],
      "metadata": {
        "colab": {
          "base_uri": "https://localhost:8080/"
        },
        "id": "9SVIHCH2cHhh",
        "outputId": "abb764df-1fdf-42cb-b918-020f2f544949"
      },
      "execution_count": null,
      "outputs": [
        {
          "output_type": "stream",
          "name": "stdout",
          "text": [
            "Enter Your Name : Akash\n",
            "Enter the Bill Amt: 5000.50\n",
            "Akash You got 25% discount\n"
          ]
        }
      ]
    },
    {
      "cell_type": "code",
      "source": [
        "#500\n",
        "\n",
        "Cust_Name=input('Enter Your Name : ')\n",
        "Bill_Amt=float(input('Enter the Bill Amt: '))\n",
        "\n",
        "if round(Bill_Amt)%2!=0:\n",
        "  print(Cust_Name,'Eligible for Discount')\n",
        "else:\n",
        "  print(Cust_Name,'Not Eligible for Discount')"
      ],
      "metadata": {
        "colab": {
          "base_uri": "https://localhost:8080/"
        },
        "id": "Ls3I3LPueI_U",
        "outputId": "a37204e3-d0ba-48a4-96a4-7c7ac3efacd1"
      },
      "execution_count": null,
      "outputs": [
        {
          "output_type": "stream",
          "name": "stdout",
          "text": [
            "Enter Your Name : Ram\n",
            "Enter the Bill Amt: 25.3\n",
            "Ram Eligible for Discount\n"
          ]
        }
      ]
    },
    {
      "cell_type": "markdown",
      "source": [
        ""
      ],
      "metadata": {
        "id": "nBxN540XhmxJ"
      }
    },
    {
      "cell_type": "code",
      "source": [
        "R=600.400000\n",
        "round(R,2)"
      ],
      "metadata": {
        "colab": {
          "base_uri": "https://localhost:8080/"
        },
        "id": "TpM9wPyyg3l6",
        "outputId": "b3a7c2f9-dc8c-4177-c94c-2380983e9ef6"
      },
      "execution_count": null,
      "outputs": [
        {
          "output_type": "execute_result",
          "data": {
            "text/plain": [
              "600.4"
            ]
          },
          "metadata": {},
          "execution_count": 36
        }
      ]
    },
    {
      "cell_type": "code",
      "source": [
        "print('%.10f'%R)"
      ],
      "metadata": {
        "colab": {
          "base_uri": "https://localhost:8080/"
        },
        "id": "UHrZ7SkjhPnk",
        "outputId": "4825985e-2738-4d4c-a320-21ba83137066"
      },
      "execution_count": null,
      "outputs": [
        {
          "output_type": "stream",
          "name": "stdout",
          "text": [
            "600.4000000000\n"
          ]
        }
      ]
    },
    {
      "cell_type": "markdown",
      "source": [
        "Loops\n",
        "\n",
        "For loop and while loop"
      ],
      "metadata": {
        "id": "zHFHtVqWjZbA"
      }
    },
    {
      "cell_type": "code",
      "source": [
        "#0 to 10\n",
        "for i in range(0,11):\n",
        "  print(i)"
      ],
      "metadata": {
        "colab": {
          "base_uri": "https://localhost:8080/"
        },
        "id": "evKKuGY8iXxA",
        "outputId": "6a5edb90-3549-452f-fd1e-8f2babfdb29a"
      },
      "execution_count": null,
      "outputs": [
        {
          "output_type": "stream",
          "name": "stdout",
          "text": [
            "0\n",
            "1\n",
            "2\n",
            "3\n",
            "4\n",
            "5\n",
            "6\n",
            "7\n",
            "8\n",
            "9\n",
            "10\n"
          ]
        }
      ]
    },
    {
      "cell_type": "code",
      "source": [
        "#100 to 80  m  to n\n",
        "m=int(input())\n",
        "n=int(input())\n",
        "for i in range(m,n-1,-1):\n",
        "  print(i)"
      ],
      "metadata": {
        "colab": {
          "base_uri": "https://localhost:8080/"
        },
        "id": "Eo12cQQklviX",
        "outputId": "a559997c-bf38-471a-d31e-327d481be08a"
      },
      "execution_count": null,
      "outputs": [
        {
          "output_type": "stream",
          "name": "stdout",
          "text": [
            "50\n",
            "30\n",
            "50\n",
            "49\n",
            "48\n",
            "47\n",
            "46\n",
            "45\n",
            "44\n",
            "43\n",
            "42\n",
            "41\n",
            "40\n",
            "39\n",
            "38\n",
            "37\n",
            "36\n",
            "35\n",
            "34\n",
            "33\n",
            "32\n",
            "31\n"
          ]
        }
      ]
    },
    {
      "cell_type": "code",
      "source": [
        "list(range(1,10,2))"
      ],
      "metadata": {
        "colab": {
          "base_uri": "https://localhost:8080/"
        },
        "id": "hPDbhGVVkiRC",
        "outputId": "954a05d4-9c63-4507-96c5-a9b3a86634df"
      },
      "execution_count": null,
      "outputs": [
        {
          "output_type": "execute_result",
          "data": {
            "text/plain": [
              "[1, 3, 5, 7, 9]"
            ]
          },
          "metadata": {},
          "execution_count": 43
        }
      ]
    },
    {
      "cell_type": "code",
      "source": [
        "for i in range(0,11):\n",
        "  print(i)"
      ],
      "metadata": {
        "colab": {
          "base_uri": "https://localhost:8080/"
        },
        "id": "ME_t7ETxne59",
        "outputId": "0016d77c-3a8b-461f-c6cc-0d605285a309"
      },
      "execution_count": null,
      "outputs": [
        {
          "output_type": "stream",
          "name": "stdout",
          "text": [
            "0\n",
            "1\n",
            "2\n",
            "3\n",
            "4\n",
            "5\n",
            "6\n",
            "7\n",
            "8\n",
            "9\n",
            "10\n"
          ]
        }
      ]
    },
    {
      "cell_type": "code",
      "source": [
        "#0  to 10\n",
        "i=0\n",
        "while i<=5:\n",
        "  print(i)\n",
        "  i=i+1"
      ],
      "metadata": {
        "colab": {
          "base_uri": "https://localhost:8080/"
        },
        "id": "QRNwVMDWkqir",
        "outputId": "dc1e0e93-b14e-46d2-d2d1-df9f2ec08e8e"
      },
      "execution_count": null,
      "outputs": [
        {
          "output_type": "stream",
          "name": "stdout",
          "text": [
            "0\n",
            "1\n",
            "2\n",
            "3\n",
            "4\n",
            "5\n"
          ]
        }
      ]
    },
    {
      "cell_type": "code",
      "source": [
        "#0  to 10\n",
        "i=0\n",
        "while i<=5:\n",
        "  i=i+1\n",
        "  print(i)\n",
        "  "
      ],
      "metadata": {
        "colab": {
          "base_uri": "https://localhost:8080/"
        },
        "id": "tRQiEHownA-V",
        "outputId": "5110baad-9f77-4a5b-f9bd-b20f4817aa85"
      },
      "execution_count": null,
      "outputs": [
        {
          "output_type": "stream",
          "name": "stdout",
          "text": [
            "1\n",
            "2\n",
            "3\n",
            "4\n",
            "5\n",
            "6\n"
          ]
        }
      ]
    },
    {
      "cell_type": "code",
      "source": [
        "i=0\n",
        "while i<=25:\n",
        "  i=i+1\n",
        "  print(i)\n",
        "  i=i+2\n",
        " "
      ],
      "metadata": {
        "colab": {
          "base_uri": "https://localhost:8080/"
        },
        "id": "LaWNUfIhp8Jm",
        "outputId": "cba6857c-f658-4139-a25e-293a7df7a8e8"
      },
      "execution_count": null,
      "outputs": [
        {
          "output_type": "stream",
          "name": "stdout",
          "text": [
            "1\n",
            "4\n",
            "7\n",
            "10\n",
            "13\n",
            "16\n",
            "19\n",
            "22\n",
            "25\n"
          ]
        }
      ]
    },
    {
      "cell_type": "code",
      "source": [
        "S=[1,2,4,8,9,7,55,66,33,45,12,78,96,45,30,15]\n",
        "\n",
        "Odd=[]\n",
        "Even=[]\n",
        "\n",
        "for i in range(0,len(S)):\n",
        "  if S[i]%2==0:\n",
        "    Even.append(S[i])\n",
        "  else:\n",
        "    Odd.append(S[i])\n",
        "  \n",
        "print(Odd)\n",
        "print(Even)"
      ],
      "metadata": {
        "colab": {
          "base_uri": "https://localhost:8080/"
        },
        "id": "Ogsrzvo7szxG",
        "outputId": "0db11861-4a47-4416-f9d4-222c72127eec"
      },
      "execution_count": null,
      "outputs": [
        {
          "output_type": "stream",
          "name": "stdout",
          "text": [
            "[1, 9, 7, 55, 33, 45, 45, 15]\n",
            "[2, 4, 8, 66, 12, 78, 96, 30]\n"
          ]
        }
      ]
    },
    {
      "cell_type": "code",
      "source": [
        "S=[1,2,4,8,9,7,55,66,33,45,12,78,96,45,30,15]\n",
        "\n",
        "Odd=[]\n",
        "Even=[]\n",
        "\n",
        "i=0\n",
        "while i<len(S):\n",
        "  if S[i]%2==0:\n",
        "    Even.append(S[i])\n",
        "  else:\n",
        "    Odd.append(S[i])  \n",
        "  i=i+1\n",
        "\n",
        "print(Odd)\n",
        "print(Even)"
      ],
      "metadata": {
        "colab": {
          "base_uri": "https://localhost:8080/"
        },
        "id": "1WKzEh3Wh49Q",
        "outputId": "c9e171c1-799b-4992-d199-40a623208b75"
      },
      "execution_count": null,
      "outputs": [
        {
          "output_type": "stream",
          "name": "stdout",
          "text": [
            "[1, 9, 7, 55, 33, 45, 45, 15]\n",
            "[2, 4, 8, 66, 12, 78, 96, 30]\n"
          ]
        }
      ]
    },
    {
      "cell_type": "code",
      "source": [
        "S=[1,2,4,8,9,7,55,66,33,45,12,78,96,45,30,15]\n",
        "\n",
        "for i in S:\n",
        "  print(i)"
      ],
      "metadata": {
        "colab": {
          "base_uri": "https://localhost:8080/"
        },
        "id": "rC2atF88iZvr",
        "outputId": "c7161619-271a-4d9a-9659-0b25db4a82be"
      },
      "execution_count": null,
      "outputs": [
        {
          "output_type": "stream",
          "name": "stdout",
          "text": [
            "1\n",
            "2\n",
            "4\n",
            "8\n",
            "9\n",
            "7\n",
            "55\n",
            "66\n",
            "33\n",
            "45\n",
            "12\n",
            "78\n",
            "96\n",
            "45\n",
            "30\n",
            "15\n"
          ]
        }
      ]
    },
    {
      "cell_type": "code",
      "source": [
        "# Sachin 25000 Raina 20000 Dhoni 23000 Virat 22000 Yuvaraj 18000\n",
        "\n",
        "#Sachin\n",
        "#Dhoni\n",
        "#Virat\n",
        "#Raina\n",
        "#Yuvaraj\n",
        "\n",
        "Data=input().split(' ')\n",
        "print(Data)\n",
        "\n"
      ],
      "metadata": {
        "colab": {
          "base_uri": "https://localhost:8080/"
        },
        "id": "7FySYlJSkFdc",
        "outputId": "dddaaf7f-a656-4e0e-a86c-2c59236bda42"
      },
      "execution_count": null,
      "outputs": [
        {
          "output_type": "stream",
          "name": "stdout",
          "text": [
            "Sachin 25000 Raina 20000 Dhoni 23000 Virat 22000 Yuvaraj 18000\n",
            "['Sachin', '25000', 'Raina', '20000', 'Dhoni', '23000', 'Virat', '22000', 'Yuvaraj', '18000']\n"
          ]
        }
      ]
    },
    {
      "cell_type": "code",
      "source": [
        "Name=[]\n",
        "Salary=[]\n",
        "\n",
        "for i in Data:\n",
        "  if i.isnumeric():\n",
        "    Salary.append(int(i))\n",
        "  else:\n",
        "    Name.append(i)\n",
        "print(Name)\n",
        "print(Salary)"
      ],
      "metadata": {
        "colab": {
          "base_uri": "https://localhost:8080/"
        },
        "id": "A8-6WzCplF4_",
        "outputId": "15ce358d-a2f8-4676-91d3-3dad040b341f"
      },
      "execution_count": null,
      "outputs": [
        {
          "output_type": "stream",
          "name": "stdout",
          "text": [
            "['Sachin', 'Raina', 'Dhoni', 'Virat', 'Yuvaraj']\n",
            "[25000, 20000, 23000, 22000, 18000]\n"
          ]
        }
      ]
    },
    {
      "cell_type": "code",
      "source": [
        "sorted_data=sorted(Salary,reverse=True)\n",
        "sorted_data"
      ],
      "metadata": {
        "colab": {
          "base_uri": "https://localhost:8080/"
        },
        "id": "3S5B7lpDm-db",
        "outputId": "82b245ea-4ab8-44ec-fa67-23f49ed586dd"
      },
      "execution_count": null,
      "outputs": [
        {
          "output_type": "execute_result",
          "data": {
            "text/plain": [
              "[25000, 23000, 22000, 20000, 18000]"
            ]
          },
          "metadata": {},
          "execution_count": 20
        }
      ]
    },
    {
      "cell_type": "code",
      "source": [
        "for i in sorted_data:\n",
        "  pos=Salary.index(i)\n",
        "  print(Name[pos],'--->',Salary[pos])\n",
        "\n",
        "#Sachin\n",
        "#Dhoni\n",
        "#Virat\n",
        "#Raina\n",
        "#Yuvaraj"
      ],
      "metadata": {
        "colab": {
          "base_uri": "https://localhost:8080/"
        },
        "id": "S98wiAa4nc4r",
        "outputId": "d9bcf631-cb4b-45ed-bb31-7c43a65f5c23"
      },
      "execution_count": null,
      "outputs": [
        {
          "output_type": "stream",
          "name": "stdout",
          "text": [
            "Sachin ---> 25000\n",
            "Dhoni ---> 23000\n",
            "Virat ---> 22000\n",
            "Raina ---> 20000\n",
            "Yuvaraj ---> 18000\n"
          ]
        }
      ]
    },
    {
      "cell_type": "code",
      "source": [
        "S=[]\n",
        "S.append(100)\n",
        "S"
      ],
      "metadata": {
        "colab": {
          "base_uri": "https://localhost:8080/"
        },
        "id": "tEPoOGIgmnzC",
        "outputId": "f9c44e06-d8dc-4670-e177-8077fbeb60e3"
      },
      "execution_count": null,
      "outputs": [
        {
          "output_type": "execute_result",
          "data": {
            "text/plain": [
              "[100]"
            ]
          },
          "metadata": {},
          "execution_count": 9
        }
      ]
    },
    {
      "cell_type": "code",
      "source": [
        "dir(str)"
      ],
      "metadata": {
        "colab": {
          "base_uri": "https://localhost:8080/"
        },
        "id": "ENlJoa9RltF2",
        "outputId": "de04e3e4-bf8b-4589-8c89-34a3960154d2"
      },
      "execution_count": null,
      "outputs": [
        {
          "output_type": "execute_result",
          "data": {
            "text/plain": [
              "['__add__',\n",
              " '__class__',\n",
              " '__contains__',\n",
              " '__delattr__',\n",
              " '__dir__',\n",
              " '__doc__',\n",
              " '__eq__',\n",
              " '__format__',\n",
              " '__ge__',\n",
              " '__getattribute__',\n",
              " '__getitem__',\n",
              " '__getnewargs__',\n",
              " '__gt__',\n",
              " '__hash__',\n",
              " '__init__',\n",
              " '__init_subclass__',\n",
              " '__iter__',\n",
              " '__le__',\n",
              " '__len__',\n",
              " '__lt__',\n",
              " '__mod__',\n",
              " '__mul__',\n",
              " '__ne__',\n",
              " '__new__',\n",
              " '__reduce__',\n",
              " '__reduce_ex__',\n",
              " '__repr__',\n",
              " '__rmod__',\n",
              " '__rmul__',\n",
              " '__setattr__',\n",
              " '__sizeof__',\n",
              " '__str__',\n",
              " '__subclasshook__',\n",
              " 'capitalize',\n",
              " 'casefold',\n",
              " 'center',\n",
              " 'count',\n",
              " 'encode',\n",
              " 'endswith',\n",
              " 'expandtabs',\n",
              " 'find',\n",
              " 'format',\n",
              " 'format_map',\n",
              " 'index',\n",
              " 'isalnum',\n",
              " 'isalpha',\n",
              " 'isascii',\n",
              " 'isdecimal',\n",
              " 'isdigit',\n",
              " 'isidentifier',\n",
              " 'islower',\n",
              " 'isnumeric',\n",
              " 'isprintable',\n",
              " 'isspace',\n",
              " 'istitle',\n",
              " 'isupper',\n",
              " 'join',\n",
              " 'ljust',\n",
              " 'lower',\n",
              " 'lstrip',\n",
              " 'maketrans',\n",
              " 'partition',\n",
              " 'replace',\n",
              " 'rfind',\n",
              " 'rindex',\n",
              " 'rjust',\n",
              " 'rpartition',\n",
              " 'rsplit',\n",
              " 'rstrip',\n",
              " 'split',\n",
              " 'splitlines',\n",
              " 'startswith',\n",
              " 'strip',\n",
              " 'swapcase',\n",
              " 'title',\n",
              " 'translate',\n",
              " 'upper',\n",
              " 'zfill']"
            ]
          },
          "metadata": {},
          "execution_count": 7
        }
      ]
    },
    {
      "cell_type": "code",
      "source": [
        "#Zip in Forloop\n",
        "\n",
        "A=[1,2,3,4,5,100,25]\n",
        "B=[10,20,30,40,50,25,80]\n",
        "C=[10,20,30,40,50,25,80]\n",
        "\n",
        "for a,b,c in zip(A,B,C):\n",
        "  print((a+b)*c)"
      ],
      "metadata": {
        "colab": {
          "base_uri": "https://localhost:8080/"
        },
        "id": "VjhnUC-ymNPP",
        "outputId": "28aed18d-dbc5-4248-836a-1b0df09d4f0e"
      },
      "execution_count": null,
      "outputs": [
        {
          "output_type": "stream",
          "name": "stdout",
          "text": [
            "110\n",
            "440\n",
            "990\n",
            "1760\n",
            "2750\n",
            "3125\n",
            "8400\n"
          ]
        }
      ]
    },
    {
      "cell_type": "code",
      "source": [
        "Product={'Prod_name':['Sugar','Salt','Rice','Oil','Dhall','Milk','Apple','Mango','Carrot','Beans'],\n",
        "         'Prod_Qty':[2,1,20,5,15,3,1.5,4,0.500,0.750],\n",
        "         'Prod_Price':[40,10,60,200,120,60,180,160,65,58]}\n",
        "\n",
        "Product"
      ],
      "metadata": {
        "colab": {
          "base_uri": "https://localhost:8080/"
        },
        "id": "lqQCWPBFq9k1",
        "outputId": "87b710c0-3cea-4345-a252-da187a209c1b"
      },
      "execution_count": null,
      "outputs": [
        {
          "output_type": "execute_result",
          "data": {
            "text/plain": [
              "{'Prod_name': ['Sugar',\n",
              "  'Salt',\n",
              "  'Rice',\n",
              "  'Oil',\n",
              "  'Dhall',\n",
              "  'Milk',\n",
              "  'Apple',\n",
              "  'Mango',\n",
              "  'Carrot',\n",
              "  'Beans'],\n",
              " 'Prod_Qty': [2, 1, 20, 5, 15, 3, 1.5, 4, 0.5, 0.75],\n",
              " 'Prod_Price': [40, 10, 60, 200, 120, 60, 180, 160, 65, 58]}"
            ]
          },
          "metadata": {},
          "execution_count": 35
        }
      ]
    },
    {
      "cell_type": "code",
      "source": [
        "Product['Total_price']=[]\n",
        "Product"
      ],
      "metadata": {
        "colab": {
          "base_uri": "https://localhost:8080/"
        },
        "id": "QY94HMbmt9RV",
        "outputId": "4b4a9c57-0190-46d1-cb27-f2774365f965"
      },
      "execution_count": null,
      "outputs": [
        {
          "output_type": "execute_result",
          "data": {
            "text/plain": [
              "{'Prod_name': ['Sugar',\n",
              "  'Salt',\n",
              "  'Rice',\n",
              "  'Oil',\n",
              "  'Dhall',\n",
              "  'Milk',\n",
              "  'Apple',\n",
              "  'Mango',\n",
              "  'Carrot',\n",
              "  'Beans'],\n",
              " 'Prod_Qty': [2, 1, 20, 5, 15, 3, 1.5, 4, 0.5, 0.75],\n",
              " 'Prod_Price': [40, 10, 60, 200, 120, 60, 180, 160, 65, 58],\n",
              " 'Total_price': []}"
            ]
          },
          "metadata": {},
          "execution_count": 36
        }
      ]
    },
    {
      "cell_type": "code",
      "source": [
        "for p,q in zip(Product['Prod_Price'],Product['Prod_Qty']):\n",
        "  T=p*q\n",
        "  Product['Total_price'].append(T)\n",
        "Product"
      ],
      "metadata": {
        "colab": {
          "base_uri": "https://localhost:8080/"
        },
        "id": "3eMFbwEMuSqj",
        "outputId": "5174b707-f359-44b2-f318-a45458008591"
      },
      "execution_count": null,
      "outputs": [
        {
          "output_type": "execute_result",
          "data": {
            "text/plain": [
              "{'Prod_name': ['Sugar',\n",
              "  'Salt',\n",
              "  'Rice',\n",
              "  'Oil',\n",
              "  'Dhall',\n",
              "  'Milk',\n",
              "  'Apple',\n",
              "  'Mango',\n",
              "  'Carrot',\n",
              "  'Beans'],\n",
              " 'Prod_Qty': [2, 1, 20, 5, 15, 3, 1.5, 4, 0.5, 0.75],\n",
              " 'Prod_Price': [40, 10, 60, 200, 120, 60, 180, 160, 65, 58],\n",
              " 'Total_price': [80,\n",
              "  10,\n",
              "  1200,\n",
              "  1000,\n",
              "  1800,\n",
              "  180,\n",
              "  270.0,\n",
              "  640,\n",
              "  32.5,\n",
              "  43.5,\n",
              "  80,\n",
              "  10,\n",
              "  1200,\n",
              "  1000,\n",
              "  1800,\n",
              "  180,\n",
              "  270.0,\n",
              "  640,\n",
              "  32.5,\n",
              "  43.5,\n",
              "  80,\n",
              "  10,\n",
              "  1200,\n",
              "  1000,\n",
              "  1800,\n",
              "  180,\n",
              "  270.0,\n",
              "  640,\n",
              "  32.5,\n",
              "  43.5,\n",
              "  80,\n",
              "  10,\n",
              "  1200,\n",
              "  1000,\n",
              "  1800,\n",
              "  180,\n",
              "  270.0,\n",
              "  640,\n",
              "  32.5,\n",
              "  43.5,\n",
              "  80,\n",
              "  10,\n",
              "  1200,\n",
              "  1000,\n",
              "  1800,\n",
              "  180,\n",
              "  270.0,\n",
              "  640,\n",
              "  32.5,\n",
              "  43.5]}"
            ]
          },
          "metadata": {},
          "execution_count": 44
        }
      ]
    },
    {
      "cell_type": "code",
      "source": [
        "Product['Total_price']"
      ],
      "metadata": {
        "colab": {
          "base_uri": "https://localhost:8080/"
        },
        "id": "-czCbplxvNhG",
        "outputId": "c15bfa2b-128f-4634-ec27-6f01691619ef"
      },
      "execution_count": null,
      "outputs": [
        {
          "output_type": "execute_result",
          "data": {
            "text/plain": [
              "[80, 10, 1200, 1000, 1800, 180, 270.0, 640, 32.5, 43.5]"
            ]
          },
          "metadata": {},
          "execution_count": 39
        }
      ]
    },
    {
      "cell_type": "code",
      "source": [
        "sum(Product['Total_price'])"
      ],
      "metadata": {
        "colab": {
          "base_uri": "https://localhost:8080/"
        },
        "id": "Y-uFtQicu7hs",
        "outputId": "3726f164-8715-4ec7-bc47-480ac31387f1"
      },
      "execution_count": null,
      "outputs": [
        {
          "output_type": "execute_result",
          "data": {
            "text/plain": [
              "5256.0"
            ]
          },
          "metadata": {},
          "execution_count": 40
        }
      ]
    },
    {
      "cell_type": "code",
      "source": [
        "A=10\n",
        "B=20\n",
        "print(A+B)\n",
        "print(A*B)"
      ],
      "metadata": {
        "colab": {
          "base_uri": "https://localhost:8080/"
        },
        "id": "GWsr86icvFQd",
        "outputId": "6061ff11-074f-4517-b421-285ec56a91f7"
      },
      "execution_count": null,
      "outputs": [
        {
          "output_type": "stream",
          "name": "stdout",
          "text": [
            "30\n",
            "200\n"
          ]
        }
      ]
    },
    {
      "cell_type": "code",
      "source": [
        "# list Comp\n",
        "\n",
        "#1 2 3 4 5 / 1 2 3 4 5\n",
        "A=input().split(' ')\n",
        "num=[]\n",
        "for i in A:\n",
        "  num.append(int(i))\n",
        "print(num)"
      ],
      "metadata": {
        "colab": {
          "base_uri": "https://localhost:8080/"
        },
        "id": "Ivl2YZ-uxHU1",
        "outputId": "478f930e-30c3-4057-df02-d6c0c25a04d9"
      },
      "execution_count": null,
      "outputs": [
        {
          "output_type": "stream",
          "name": "stdout",
          "text": [
            "1 2 3 4 5\n",
            "[1, 2, 3, 4, 5]\n"
          ]
        }
      ]
    },
    {
      "cell_type": "code",
      "source": [
        "B=[int(i) for i in A]\n",
        "print(B)"
      ],
      "metadata": {
        "colab": {
          "base_uri": "https://localhost:8080/"
        },
        "id": "wNDjxn8xy5g5",
        "outputId": "208c7dae-d756-4ce0-cffc-c5963ff3ecb9"
      },
      "execution_count": null,
      "outputs": [
        {
          "output_type": "stream",
          "name": "stdout",
          "text": [
            "[1, 2, 3, 4, 5]\n"
          ]
        }
      ]
    },
    {
      "cell_type": "code",
      "source": [
        "print(*[int(i) for i in input().split('-')]) #1-2-3-4-5 /1 2 3 4 5"
      ],
      "metadata": {
        "colab": {
          "base_uri": "https://localhost:8080/"
        },
        "id": "HB4YbwU-zUGH",
        "outputId": "872c38c4-8a9c-47fc-a4d4-01c032d74225"
      },
      "execution_count": null,
      "outputs": [
        {
          "output_type": "stream",
          "name": "stdout",
          "text": [
            "1-2-3-4-5\n",
            "1 2 3 4 5\n"
          ]
        }
      ]
    },
    {
      "cell_type": "code",
      "source": [
        "#Sachin 25000 Raina 20000 Dhoni 23000 Virat 22000 Yuvaraj 18000\n",
        "\n",
        "Data=input().split(' ')\n",
        "Name=[i for i in Data if i.isalpha()]\n",
        "Salary=[int(i) for i in Data if i.isnumeric()]\n",
        "print(Name)\n",
        "print(Salary)"
      ],
      "metadata": {
        "colab": {
          "base_uri": "https://localhost:8080/"
        },
        "id": "4opV21pSzpdT",
        "outputId": "44e5008f-224f-472b-8454-c98896655b12"
      },
      "execution_count": null,
      "outputs": [
        {
          "output_type": "stream",
          "name": "stdout",
          "text": [
            "Sachin 25000 Raina 20000 Dhoni 23000 Virat 22000 Yuvaraj 18000\n",
            "['Sachin', 'Raina', 'Dhoni', 'Virat', 'Yuvaraj']\n",
            "[25000, 20000, 23000, 22000, 18000]\n"
          ]
        }
      ]
    },
    {
      "cell_type": "code",
      "source": [
        "#Functions\n",
        "\n",
        "#print(),int(),input(),split(),sum(),len(),append(),min(),max(), sorted()....\n",
        "\n",
        "\n",
        "\n",
        "S=[1,2,3,4,5]\n",
        "sum(S)\n"
      ],
      "metadata": {
        "colab": {
          "base_uri": "https://localhost:8080/"
        },
        "id": "Wc4wEbED2bkz",
        "outputId": "009e1466-14d7-4340-f1f7-9697efe4f50e"
      },
      "execution_count": null,
      "outputs": [
        {
          "output_type": "execute_result",
          "data": {
            "text/plain": [
              "15"
            ]
          },
          "metadata": {},
          "execution_count": 59
        }
      ]
    },
    {
      "cell_type": "code",
      "source": [
        "T=0\n",
        "for i in S:\n",
        "  T=T+i\n",
        "T"
      ],
      "metadata": {
        "colab": {
          "base_uri": "https://localhost:8080/"
        },
        "id": "wabv7KQD3St4",
        "outputId": "1075f39e-ca5e-4d65-d295-3466e8b13a57"
      },
      "execution_count": null,
      "outputs": [
        {
          "output_type": "execute_result",
          "data": {
            "text/plain": [
              "15"
            ]
          },
          "metadata": {},
          "execution_count": 60
        }
      ]
    },
    {
      "cell_type": "code",
      "source": [
        "def Total(x):\n",
        "  T=0\n",
        "  for i in x:\n",
        "    T=T+i\n",
        "  return T\n",
        "  "
      ],
      "metadata": {
        "id": "VnuRFJg638US"
      },
      "execution_count": null,
      "outputs": []
    },
    {
      "cell_type": "code",
      "source": [
        "D=[10,20,30,40,50]\n",
        "\n",
        "sum(D)"
      ],
      "metadata": {
        "colab": {
          "base_uri": "https://localhost:8080/"
        },
        "id": "PptNl0jc4bux",
        "outputId": "11d61500-9a0a-4426-ca0b-c69d409da301"
      },
      "execution_count": null,
      "outputs": [
        {
          "output_type": "execute_result",
          "data": {
            "text/plain": [
              "150"
            ]
          },
          "metadata": {},
          "execution_count": 62
        }
      ]
    },
    {
      "cell_type": "code",
      "source": [
        "Total(D)"
      ],
      "metadata": {
        "colab": {
          "base_uri": "https://localhost:8080/"
        },
        "id": "OmQGFYDe4iyZ",
        "outputId": "328860c9-5b8b-4a33-f77f-e854749272d1"
      },
      "execution_count": null,
      "outputs": [
        {
          "output_type": "execute_result",
          "data": {
            "text/plain": [
              "150"
            ]
          },
          "metadata": {},
          "execution_count": 63
        }
      ]
    },
    {
      "cell_type": "code",
      "source": [
        "Total([1,2,4,5,7,8,9,4,5,6,8])"
      ],
      "metadata": {
        "colab": {
          "base_uri": "https://localhost:8080/"
        },
        "id": "ZytVfP-q4nUF",
        "outputId": "b5e7d1d1-0e04-4c56-b49f-04c8a7dbd461"
      },
      "execution_count": null,
      "outputs": [
        {
          "output_type": "execute_result",
          "data": {
            "text/plain": [
              "59"
            ]
          },
          "metadata": {},
          "execution_count": 64
        }
      ]
    },
    {
      "cell_type": "code",
      "source": [
        "def SQR(x):\n",
        "  print(x**2) "
      ],
      "metadata": {
        "id": "Bjhxft4I4wPN"
      },
      "execution_count": null,
      "outputs": []
    },
    {
      "cell_type": "code",
      "source": [
        "SQR(5)"
      ],
      "metadata": {
        "colab": {
          "base_uri": "https://localhost:8080/"
        },
        "id": "ogO7qq_05XiR",
        "outputId": "e784438e-4f13-4521-baa6-593545e2df95"
      },
      "execution_count": null,
      "outputs": [
        {
          "output_type": "stream",
          "name": "stdout",
          "text": [
            "25\n"
          ]
        }
      ]
    },
    {
      "cell_type": "code",
      "source": [
        "D=[1,2,3,4,5,6]\n",
        "\n",
        "F=list(map(SQR,D))\n",
        "F"
      ],
      "metadata": {
        "colab": {
          "base_uri": "https://localhost:8080/"
        },
        "id": "iGIlcXbD5b3Y",
        "outputId": "4c6b713f-e259-48dd-ae7e-e26d8aacfbce"
      },
      "execution_count": null,
      "outputs": [
        {
          "output_type": "stream",
          "name": "stdout",
          "text": [
            "1\n",
            "4\n",
            "9\n",
            "16\n",
            "25\n",
            "36\n"
          ]
        },
        {
          "output_type": "execute_result",
          "data": {
            "text/plain": [
              "[None, None, None, None, None, None]"
            ]
          },
          "metadata": {},
          "execution_count": 76
        }
      ]
    },
    {
      "cell_type": "code",
      "source": [
        "def SQR(x):\n",
        "  print(x**2) \n",
        "\n",
        "def EXP(x,y):\n",
        "  print (x**y)\n"
      ],
      "metadata": {
        "id": "c7jt30_b5k27"
      },
      "execution_count": null,
      "outputs": []
    },
    {
      "cell_type": "code",
      "source": [
        "SQR(5)"
      ],
      "metadata": {
        "colab": {
          "base_uri": "https://localhost:8080/"
        },
        "id": "rcf_od5R7GoC",
        "outputId": "1d3dca66-c9cc-473b-8783-93f76fc8da8e"
      },
      "execution_count": null,
      "outputs": [
        {
          "output_type": "stream",
          "name": "stdout",
          "text": [
            "25\n"
          ]
        }
      ]
    },
    {
      "cell_type": "code",
      "source": [
        "EXP(5,3)"
      ],
      "metadata": {
        "colab": {
          "base_uri": "https://localhost:8080/"
        },
        "id": "NVhpZXxy7Hm2",
        "outputId": "c29ce3af-25c1-41f0-a6de-8283ea11bd06"
      },
      "execution_count": null,
      "outputs": [
        {
          "output_type": "stream",
          "name": "stdout",
          "text": [
            "125\n"
          ]
        }
      ]
    },
    {
      "cell_type": "code",
      "source": [
        "EXP(5,3) = 25**3"
      ],
      "metadata": {
        "id": "ROZTOoeO7OiO"
      },
      "execution_count": null,
      "outputs": []
    },
    {
      "cell_type": "code",
      "source": [
        "25**3"
      ],
      "metadata": {
        "colab": {
          "base_uri": "https://localhost:8080/"
        },
        "id": "epKgGCxj7n0d",
        "outputId": "219ce4d8-140a-44f3-f387-457db068bfaf"
      },
      "execution_count": null,
      "outputs": [
        {
          "output_type": "execute_result",
          "data": {
            "text/plain": [
              "15625"
            ]
          },
          "metadata": {},
          "execution_count": 83
        }
      ]
    },
    {
      "cell_type": "code",
      "source": [
        "def SQR(x):\n",
        " return x**2\n",
        "\n",
        "def EXP(x,y):\n",
        "  return SQR(x)**y"
      ],
      "metadata": {
        "id": "gYU1Bd3j7os3"
      },
      "execution_count": null,
      "outputs": []
    },
    {
      "cell_type": "code",
      "source": [
        "SQR(5)"
      ],
      "metadata": {
        "colab": {
          "base_uri": "https://localhost:8080/"
        },
        "id": "fVKkQG997y0q",
        "outputId": "19529a6b-c84c-46fb-9bce-8d064217e5f1"
      },
      "execution_count": null,
      "outputs": [
        {
          "output_type": "execute_result",
          "data": {
            "text/plain": [
              "25"
            ]
          },
          "metadata": {},
          "execution_count": 92
        }
      ]
    },
    {
      "cell_type": "code",
      "source": [
        "EXP(5,3)"
      ],
      "metadata": {
        "colab": {
          "base_uri": "https://localhost:8080/"
        },
        "id": "WGbKTWVY70_o",
        "outputId": "ce52dd01-64d3-4537-c52c-78285e4b14b3"
      },
      "execution_count": null,
      "outputs": [
        {
          "output_type": "execute_result",
          "data": {
            "text/plain": [
              "15625"
            ]
          },
          "metadata": {},
          "execution_count": 93
        }
      ]
    },
    {
      "cell_type": "code",
      "source": [
        ""
      ],
      "metadata": {
        "id": "W3auojIM8VVU"
      },
      "execution_count": null,
      "outputs": []
    }
  ]
}