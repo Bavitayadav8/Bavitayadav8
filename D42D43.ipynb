{
  "nbformat": 4,
  "nbformat_minor": 0,
  "metadata": {
    "colab": {
      "provenance": [],
      "include_colab_link": true
    },
    "kernelspec": {
      "name": "python3",
      "display_name": "Python 3"
    },
    "language_info": {
      "name": "python"
    }
  },
  "cells": [
    {
      "cell_type": "markdown",
      "metadata": {
        "id": "view-in-github",
        "colab_type": "text"
      },
      "source": [
        "<a href=\"https://colab.research.google.com/github/Bavitayadav8/Bavitayadav8/blob/main/D42D43.ipynb\" target=\"_parent\"><img src=\"https://colab.research.google.com/assets/colab-badge.svg\" alt=\"Open In Colab\"/></a>"
      ]
    },
    {
      "cell_type": "markdown",
      "source": [
        "### **Connect your google drive**"
      ],
      "metadata": {
        "id": "Pq3cV0bVXu2-"
      }
    },
    {
      "cell_type": "code",
      "source": [
        "from google.colab import drive\n",
        "drive.mount('/content/drive')"
      ],
      "metadata": {
        "colab": {
          "base_uri": "https://localhost:8080/"
        },
        "id": "a12yp5UuX0k7",
        "outputId": "196b68d7-a10f-4d2a-dad6-36276ec1c295"
      },
      "execution_count": null,
      "outputs": [
        {
          "output_type": "stream",
          "name": "stdout",
          "text": [
            "Mounted at /content/drive\n"
          ]
        }
      ]
    },
    {
      "cell_type": "code",
      "source": [
        "import pandas as pd\n",
        "df = pd.read_csv(\"/content/drive/MyDrive/GUVI/data/Bengaluru_House_Data.csv\")"
      ],
      "metadata": {
        "id": "ra0ye16DYp8I"
      },
      "execution_count": null,
      "outputs": []
    },
    {
      "cell_type": "code",
      "source": [
        "import numpy as np\n",
        "df = df.replace(to_replace=np.nan,value = \"Three BHK\")\n",
        "print(df)"
      ],
      "metadata": {
        "colab": {
          "base_uri": "https://localhost:8080/"
        },
        "id": "OxWin-c_Y3jb",
        "outputId": "23d36db5-0856-4c9e-cb4c-f348bea454a5"
      },
      "execution_count": null,
      "outputs": [
        {
          "output_type": "stream",
          "name": "stdout",
          "text": [
            "                  area_type   availability                  location  \\\n",
            "0      Super built-up  Area         19-Dec  Electronic City Phase II   \n",
            "1                Plot  Area  Ready To Move          Chikka Tirupathi   \n",
            "2            Built-up  Area  Ready To Move               Uttarahalli   \n",
            "3      Super built-up  Area  Ready To Move        Lingadheeranahalli   \n",
            "4      Super built-up  Area  Ready To Move                  Kothanur   \n",
            "...                     ...            ...                       ...   \n",
            "13315        Built-up  Area  Ready To Move                Whitefield   \n",
            "13316  Super built-up  Area  Ready To Move             Richards Town   \n",
            "13317        Built-up  Area  Ready To Move     Raja Rajeshwari Nagar   \n",
            "13318  Super built-up  Area         18-Jun           Padmanabhanagar   \n",
            "13319  Super built-up  Area  Ready To Move              Doddathoguru   \n",
            "\n",
            "            size    society total_sqft bath    balcony   price  \n",
            "0          2 BHK    Coomee        1056  2.0        1.0   39.07  \n",
            "1      4 Bedroom    Theanmp       2600  5.0        3.0  120.00  \n",
            "2      Three BHK  Three BHK       1440  2.0        3.0   62.00  \n",
            "3      Three BHK    Soiewre       1521  3.0        1.0   95.00  \n",
            "4          2 BHK  Three BHK       1200  2.0        1.0   51.00  \n",
            "...          ...        ...        ...  ...        ...     ...  \n",
            "13315  5 Bedroom    ArsiaEx       3453  4.0        0.0  231.00  \n",
            "13316      4 BHK  Three BHK       3600  5.0  Three BHK  400.00  \n",
            "13317      2 BHK    Mahla T       1141  2.0        1.0   60.00  \n",
            "13318      4 BHK    SollyCl       4689  4.0        1.0  488.00  \n",
            "13319      1 BHK  Three BHK        550  1.0        1.0   17.00  \n",
            "\n",
            "[13320 rows x 9 columns]\n"
          ]
        }
      ]
    },
    {
      "cell_type": "code",
      "source": [
        "!pip install scikit-learn\n",
        "\n",
        "import numpy as np\n",
        "from sklearn.impute import SimpleImputer"
      ],
      "metadata": {
        "colab": {
          "base_uri": "https://localhost:8080/"
        },
        "id": "xnI2LO-eY3f3",
        "outputId": "1b28db42-8488-423c-8f51-6faedfdb4810"
      },
      "execution_count": null,
      "outputs": [
        {
          "output_type": "stream",
          "name": "stdout",
          "text": [
            "Looking in indexes: https://pypi.org/simple, https://us-python.pkg.dev/colab-wheels/public/simple/\n",
            "Requirement already satisfied: scikit-learn in /usr/local/lib/python3.7/dist-packages (1.0.2)\n",
            "Requirement already satisfied: scipy>=1.1.0 in /usr/local/lib/python3.7/dist-packages (from scikit-learn) (1.7.3)\n",
            "Requirement already satisfied: joblib>=0.11 in /usr/local/lib/python3.7/dist-packages (from scikit-learn) (1.2.0)\n",
            "Requirement already satisfied: numpy>=1.14.6 in /usr/local/lib/python3.7/dist-packages (from scikit-learn) (1.21.6)\n",
            "Requirement already satisfied: threadpoolctl>=2.0.0 in /usr/local/lib/python3.7/dist-packages (from scikit-learn) (3.1.0)\n"
          ]
        }
      ]
    },
    {
      "cell_type": "code",
      "source": [
        "imp = SimpleImputer(missing_values = np.nan,strategy=\"mean\")\n",
        "data = [[1,2],[np.nan,3],[7,6],[7,6],[np.nan,6],[7,6]]\n",
        "imp.fit_transform(data)"
      ],
      "metadata": {
        "colab": {
          "base_uri": "https://localhost:8080/"
        },
        "id": "emT9w_1sY3Zy",
        "outputId": "8cd3cad2-3cf8-4d6f-fb2c-ec49a7326f24"
      },
      "execution_count": null,
      "outputs": [
        {
          "output_type": "execute_result",
          "data": {
            "text/plain": [
              "array([[1., 2.],\n",
              "       [7., 3.],\n",
              "       [7., 6.],\n",
              "       [7., 6.],\n",
              "       [7., 6.],\n",
              "       [7., 6.]])"
            ]
          },
          "metadata": {},
          "execution_count": 20
        }
      ]
    },
    {
      "cell_type": "markdown",
      "source": [
        "## Most Frequent "
      ],
      "metadata": {
        "id": "JvLpIDsMyA5l"
      }
    },
    {
      "cell_type": "code",
      "source": [
        "imp = SimpleImputer(missing_values = np.nan,strategy=\"most_frequent\")\n",
        "data = [[1,2],[np.nan,3],[7,6],[7,6],[np.nan,6],[7,6]]\n",
        "imp.fit_transform(data)"
      ],
      "metadata": {
        "colab": {
          "base_uri": "https://localhost:8080/"
        },
        "id": "A7KH3TDNY3W7",
        "outputId": "ac3e588d-11f2-46b1-9fef-8dd88ac25b5a"
      },
      "execution_count": null,
      "outputs": [
        {
          "output_type": "execute_result",
          "data": {
            "text/plain": [
              "array([[1., 2.],\n",
              "       [7., 3.],\n",
              "       [7., 6.],\n",
              "       [7., 6.],\n",
              "       [7., 6.],\n",
              "       [7., 6.]])"
            ]
          },
          "metadata": {},
          "execution_count": 21
        }
      ]
    },
    {
      "cell_type": "code",
      "source": [
        "imp = SimpleImputer(missing_values = np.nan,strategy=\"constant\")\n",
        "data = [[1,2],[np.nan,3],[7,6],[7,6],[np.nan,6],[7,6]]\n",
        "imp.fit_transform(data)"
      ],
      "metadata": {
        "colab": {
          "base_uri": "https://localhost:8080/"
        },
        "id": "ZLle-nUJY3T8",
        "outputId": "32ca03f7-d4bf-458c-e0a3-685ce9200391"
      },
      "execution_count": null,
      "outputs": [
        {
          "output_type": "execute_result",
          "data": {
            "text/plain": [
              "array([[1., 2.],\n",
              "       [0., 3.],\n",
              "       [7., 6.],\n",
              "       [7., 6.],\n",
              "       [0., 6.],\n",
              "       [7., 6.]])"
            ]
          },
          "metadata": {},
          "execution_count": 22
        }
      ]
    },
    {
      "cell_type": "code",
      "source": [],
      "metadata": {
        "id": "bTzzDrV-Y3Qq"
      },
      "execution_count": null,
      "outputs": []
    },
    {
      "cell_type": "markdown",
      "source": [
        "### **Simple Imputer using Entire DataFrame**"
      ],
      "metadata": {
        "id": "tBeoBsyA30RR"
      }
    },
    {
      "cell_type": "code",
      "source": [
        "import pandas as pd\n",
        "import numpy as np\n",
        "from sklearn.impute import SimpleImputer"
      ],
      "metadata": {
        "id": "9Bxz7hnNY3Nv"
      },
      "execution_count": null,
      "outputs": []
    },
    {
      "cell_type": "markdown",
      "source": [
        "##### **Read data and perform imputation**"
      ],
      "metadata": {
        "id": "dcKZK1Nh4GkX"
      }
    },
    {
      "cell_type": "code",
      "source": [
        "df = pd.read_csv(\"/content/drive/MyDrive/GUVI/data/Bengaluru_House_Data.csv\")\n",
        "imp = SimpleImputer(missing_values=np.nan,strategy=\"mean\")\n",
        "df[['bath','balcony']] = imp.fit_transform(df[['bath','balcony']])\n",
        "print(df)"
      ],
      "metadata": {
        "colab": {
          "base_uri": "https://localhost:8080/"
        },
        "id": "j6hGaG-6Y3K2",
        "outputId": "fb3bf7fd-24b4-40b9-e49d-edd5b7cdd3c1"
      },
      "execution_count": null,
      "outputs": [
        {
          "output_type": "stream",
          "name": "stdout",
          "text": [
            "                  area_type   availability                  location  \\\n",
            "0      Super built-up  Area         19-Dec  Electronic City Phase II   \n",
            "1                Plot  Area  Ready To Move          Chikka Tirupathi   \n",
            "2            Built-up  Area  Ready To Move               Uttarahalli   \n",
            "3      Super built-up  Area  Ready To Move        Lingadheeranahalli   \n",
            "4      Super built-up  Area  Ready To Move                  Kothanur   \n",
            "...                     ...            ...                       ...   \n",
            "13315        Built-up  Area  Ready To Move                Whitefield   \n",
            "13316  Super built-up  Area  Ready To Move             Richards Town   \n",
            "13317        Built-up  Area  Ready To Move     Raja Rajeshwari Nagar   \n",
            "13318  Super built-up  Area         18-Jun           Padmanabhanagar   \n",
            "13319  Super built-up  Area  Ready To Move              Doddathoguru   \n",
            "\n",
            "            size  society total_sqft  bath   balcony   price  \n",
            "0          2 BHK  Coomee        1056   2.0  1.000000   39.07  \n",
            "1      4 Bedroom  Theanmp       2600   5.0  3.000000  120.00  \n",
            "2          3 BHK      NaN       1440   2.0  3.000000   62.00  \n",
            "3          3 BHK  Soiewre       1521   3.0  1.000000   95.00  \n",
            "4          2 BHK      NaN       1200   2.0  1.000000   51.00  \n",
            "...          ...      ...        ...   ...       ...     ...  \n",
            "13315  5 Bedroom  ArsiaEx       3453   4.0  0.000000  231.00  \n",
            "13316      4 BHK      NaN       3600   5.0  1.584376  400.00  \n",
            "13317      2 BHK  Mahla T       1141   2.0  1.000000   60.00  \n",
            "13318      4 BHK  SollyCl       4689   4.0  1.000000  488.00  \n",
            "13319      1 BHK      NaN        550   1.0  1.000000   17.00  \n",
            "\n",
            "[13320 rows x 9 columns]\n"
          ]
        }
      ]
    },
    {
      "cell_type": "code",
      "source": [
        "df = pd.read_csv(\"/content/drive/MyDrive/GUVI/data/Bengaluru_House_Data.csv\")\n",
        "imp = SimpleImputer(missing_values=np.nan,strategy=\"most_frequent\")\n",
        "df['bath'] = imp.fit_transform(df[['bath']])\n",
        "df = pd.DataFrame(df)\n",
        "print(df)\n",
        "print(df.isnull().sum())"
      ],
      "metadata": {
        "colab": {
          "base_uri": "https://localhost:8080/"
        },
        "id": "gNEvAkBnY3Hf",
        "outputId": "53147e46-81c4-4626-b350-75566195bf5f"
      },
      "execution_count": null,
      "outputs": [
        {
          "output_type": "stream",
          "name": "stdout",
          "text": [
            "                          0              1                         2  \\\n",
            "0      Super built-up  Area         19-Dec  Electronic City Phase II   \n",
            "1                Plot  Area  Ready To Move          Chikka Tirupathi   \n",
            "2            Built-up  Area  Ready To Move               Uttarahalli   \n",
            "3      Super built-up  Area  Ready To Move        Lingadheeranahalli   \n",
            "4      Super built-up  Area  Ready To Move                  Kothanur   \n",
            "...                     ...            ...                       ...   \n",
            "13315        Built-up  Area  Ready To Move                Whitefield   \n",
            "13316  Super built-up  Area  Ready To Move             Richards Town   \n",
            "13317        Built-up  Area  Ready To Move     Raja Rajeshwari Nagar   \n",
            "13318  Super built-up  Area         18-Jun           Padmanabhanagar   \n",
            "13319  Super built-up  Area  Ready To Move              Doddathoguru   \n",
            "\n",
            "               3        4     5    6    7      8  \n",
            "0          2 BHK  Coomee   1056  2.0  1.0  39.07  \n",
            "1      4 Bedroom  Theanmp  2600  5.0  3.0  120.0  \n",
            "2          3 BHK  GrrvaGr  1440  2.0  3.0   62.0  \n",
            "3          3 BHK  Soiewre  1521  3.0  1.0   95.0  \n",
            "4          2 BHK  GrrvaGr  1200  2.0  1.0   51.0  \n",
            "...          ...      ...   ...  ...  ...    ...  \n",
            "13315  5 Bedroom  ArsiaEx  3453  4.0  0.0  231.0  \n",
            "13316      4 BHK  GrrvaGr  3600  5.0  2.0  400.0  \n",
            "13317      2 BHK  Mahla T  1141  2.0  1.0   60.0  \n",
            "13318      4 BHK  SollyCl  4689  4.0  1.0  488.0  \n",
            "13319      1 BHK  GrrvaGr   550  1.0  1.0   17.0  \n",
            "\n",
            "[13320 rows x 9 columns]\n",
            "0    0\n",
            "1    0\n",
            "2    0\n",
            "3    0\n",
            "4    0\n",
            "5    0\n",
            "6    0\n",
            "7    0\n",
            "8    0\n",
            "dtype: int64\n"
          ]
        }
      ]
    },
    {
      "cell_type": "code",
      "source": [],
      "metadata": {
        "id": "mnmbIxodY3Et"
      },
      "execution_count": null,
      "outputs": []
    },
    {
      "cell_type": "markdown",
      "source": [
        "### ***Label Encoding***"
      ],
      "metadata": {
        "id": "-RF1FImk6YGJ"
      }
    },
    {
      "cell_type": "code",
      "source": [
        "import pandas as pd\n",
        "from sklearn.preprocessing import LabelEncoder"
      ],
      "metadata": {
        "id": "r9JYBjFBY3Bl"
      },
      "execution_count": null,
      "outputs": []
    },
    {
      "cell_type": "code",
      "source": [
        "df = pd.read_csv(\"/content/drive/MyDrive/GUVI/data/Bengaluru_House_Data.csv\")\n",
        "df['area_type'].unique()\n",
        "\n",
        "le = LabelEncoder()\n",
        "df['area_type_encoded'] = le.fit_transform(df['area_type'])\n",
        "print(df[['area_type','area_type_encoded']].head(20))"
      ],
      "metadata": {
        "colab": {
          "base_uri": "https://localhost:8080/"
        },
        "id": "dBI6Jj0HY2-p",
        "outputId": "30f0d47f-eecc-401f-f730-e878128a9c1d"
      },
      "execution_count": null,
      "outputs": [
        {
          "output_type": "stream",
          "name": "stdout",
          "text": [
            "               area_type  area_type_encoded\n",
            "0   Super built-up  Area                  3\n",
            "1             Plot  Area                  2\n",
            "2         Built-up  Area                  0\n",
            "3   Super built-up  Area                  3\n",
            "4   Super built-up  Area                  3\n",
            "5   Super built-up  Area                  3\n",
            "6   Super built-up  Area                  3\n",
            "7   Super built-up  Area                  3\n",
            "8   Super built-up  Area                  3\n",
            "9             Plot  Area                  2\n",
            "10  Super built-up  Area                  3\n",
            "11            Plot  Area                  2\n",
            "12  Super built-up  Area                  3\n",
            "13        Built-up  Area                  0\n",
            "14            Plot  Area                  2\n",
            "15  Super built-up  Area                  3\n",
            "16  Super built-up  Area                  3\n",
            "17  Super built-up  Area                  3\n",
            "18  Super built-up  Area                  3\n",
            "19  Super built-up  Area                  3\n"
          ]
        }
      ]
    },
    {
      "cell_type": "markdown",
      "source": [
        "# IMAGE Processing"
      ],
      "metadata": {
        "id": "UZjeZq8a0U-E"
      }
    },
    {
      "cell_type": "code",
      "source": [
        "from PIL import Image\n",
        "#pip install pillow\n",
        "img = Image.open(\"tajmahal.jpg\")\n",
        "#im = im.rotate(30)\n",
        "img_size = img.size\n",
        "print(img.format)\n",
        "print(img_size)\n",
        "print(img.mode)\n",
        "img = img.convert(\"L\")\n"
      ],
      "metadata": {
        "id": "tTAHt3OnY27x",
        "colab": {
          "base_uri": "https://localhost:8080/",
          "height": 356
        },
        "outputId": "5bd724c7-e251-466a-e646-fea90556084e"
      },
      "execution_count": null,
      "outputs": [
        {
          "output_type": "error",
          "ename": "FileNotFoundError",
          "evalue": "ignored",
          "traceback": [
            "\u001b[0;31m---------------------------------------------------------------------------\u001b[0m",
            "\u001b[0;31mFileNotFoundError\u001b[0m                         Traceback (most recent call last)",
            "\u001b[0;32m<ipython-input-2-017c0f02eab9>\u001b[0m in \u001b[0;36m<module>\u001b[0;34m\u001b[0m\n\u001b[1;32m      1\u001b[0m \u001b[0;32mfrom\u001b[0m \u001b[0mPIL\u001b[0m \u001b[0;32mimport\u001b[0m \u001b[0mImage\u001b[0m\u001b[0;34m\u001b[0m\u001b[0;34m\u001b[0m\u001b[0m\n\u001b[1;32m      2\u001b[0m \u001b[0;31m#pip install pillow\u001b[0m\u001b[0;34m\u001b[0m\u001b[0;34m\u001b[0m\u001b[0;34m\u001b[0m\u001b[0m\n\u001b[0;32m----> 3\u001b[0;31m \u001b[0mimg\u001b[0m \u001b[0;34m=\u001b[0m \u001b[0mImage\u001b[0m\u001b[0;34m.\u001b[0m\u001b[0mopen\u001b[0m\u001b[0;34m(\u001b[0m\u001b[0;34m\"tajmahal.jpg\"\u001b[0m\u001b[0;34m)\u001b[0m\u001b[0;34m\u001b[0m\u001b[0;34m\u001b[0m\u001b[0m\n\u001b[0m\u001b[1;32m      4\u001b[0m \u001b[0;31m#im = im.rotate(30)\u001b[0m\u001b[0;34m\u001b[0m\u001b[0;34m\u001b[0m\u001b[0;34m\u001b[0m\u001b[0m\n\u001b[1;32m      5\u001b[0m \u001b[0mimg_size\u001b[0m \u001b[0;34m=\u001b[0m \u001b[0mimg\u001b[0m\u001b[0;34m.\u001b[0m\u001b[0msize\u001b[0m\u001b[0;34m\u001b[0m\u001b[0;34m\u001b[0m\u001b[0m\n",
            "\u001b[0;32m/usr/local/lib/python3.8/dist-packages/PIL/Image.py\u001b[0m in \u001b[0;36mopen\u001b[0;34m(fp, mode)\u001b[0m\n\u001b[1;32m   2841\u001b[0m \u001b[0;34m\u001b[0m\u001b[0m\n\u001b[1;32m   2842\u001b[0m     \u001b[0;32mif\u001b[0m \u001b[0mfilename\u001b[0m\u001b[0;34m:\u001b[0m\u001b[0;34m\u001b[0m\u001b[0;34m\u001b[0m\u001b[0m\n\u001b[0;32m-> 2843\u001b[0;31m         \u001b[0mfp\u001b[0m \u001b[0;34m=\u001b[0m \u001b[0mbuiltins\u001b[0m\u001b[0;34m.\u001b[0m\u001b[0mopen\u001b[0m\u001b[0;34m(\u001b[0m\u001b[0mfilename\u001b[0m\u001b[0;34m,\u001b[0m \u001b[0;34m\"rb\"\u001b[0m\u001b[0;34m)\u001b[0m\u001b[0;34m\u001b[0m\u001b[0;34m\u001b[0m\u001b[0m\n\u001b[0m\u001b[1;32m   2844\u001b[0m         \u001b[0mexclusive_fp\u001b[0m \u001b[0;34m=\u001b[0m \u001b[0;32mTrue\u001b[0m\u001b[0;34m\u001b[0m\u001b[0;34m\u001b[0m\u001b[0m\n\u001b[1;32m   2845\u001b[0m \u001b[0;34m\u001b[0m\u001b[0m\n",
            "\u001b[0;31mFileNotFoundError\u001b[0m: [Errno 2] No such file or directory: 'tajmahal.jpg'"
          ]
        }
      ]
    },
    {
      "cell_type": "code",
      "source": [
        "!pip install nltk\n",
        "!pip install scikit-learn"
      ],
      "metadata": {
        "id": "kvNu-1CRY245"
      },
      "execution_count": null,
      "outputs": []
    },
    {
      "cell_type": "markdown",
      "source": [
        "## **Tokens**"
      ],
      "metadata": {
        "id": "HeN03hYIpAdP"
      }
    },
    {
      "cell_type": "code",
      "source": [
        "import nltk\n",
        "nltk.download('punkt')\n",
        "from nltk.tokenize import word_tokenize\n",
        "from nltk.tokenize import RegexpTokenizer\n",
        "\n",
        "text = \"Hi !! my name is arushi. I am a datascience expert.\"\n",
        "tokens = word_tokenize(text)\n",
        "print(tokens)"
      ],
      "metadata": {
        "id": "RiYEEYgsY21z",
        "colab": {
          "base_uri": "https://localhost:8080/"
        },
        "outputId": "6f809309-9721-4404-c0cf-8a5bde8a9bae"
      },
      "execution_count": null,
      "outputs": [
        {
          "output_type": "stream",
          "name": "stdout",
          "text": [
            "['Hi', '!', '!', 'my', 'name', 'is', 'arushi', '.', 'I', 'am', 'a', 'datascience', 'expert', '.']\n"
          ]
        },
        {
          "output_type": "stream",
          "name": "stderr",
          "text": [
            "[nltk_data] Downloading package punkt to /root/nltk_data...\n",
            "[nltk_data]   Package punkt is already up-to-date!\n"
          ]
        }
      ]
    },
    {
      "cell_type": "markdown",
      "source": [
        "# **Punctuation**"
      ],
      "metadata": {
        "id": "Da4CTkcsstvT"
      }
    },
    {
      "cell_type": "code",
      "source": [
        "from nltk.tokenize import RegexpTokenizer\n",
        "\n",
        "text = \"Hi !! my name is arushi. I am a datascience expert.\"\n",
        "tokenizer = RegexpTokenizer(r'\\w+')\n",
        "tokens = tokenizer.tokenize(text)\n",
        "\n",
        "print(tokens)"
      ],
      "metadata": {
        "id": "L6PDnVvcY2yp",
        "colab": {
          "base_uri": "https://localhost:8080/"
        },
        "outputId": "d0ef04fe-d48c-4e35-d9f4-b14c664802f6"
      },
      "execution_count": null,
      "outputs": [
        {
          "output_type": "stream",
          "name": "stdout",
          "text": [
            "['Hi', 'my', 'name', 'is', 'arushi', 'I', 'am', 'a', 'datascience', 'expert']\n"
          ]
        }
      ]
    },
    {
      "cell_type": "markdown",
      "source": [
        "# **Removing Stop words**"
      ],
      "metadata": {
        "id": "PXqrPosFt1MU"
      }
    },
    {
      "cell_type": "code",
      "source": [
        "nltk.download('stopwords')"
      ],
      "metadata": {
        "id": "-8GozyCQY2vn",
        "colab": {
          "base_uri": "https://localhost:8080/"
        },
        "outputId": "170b5b20-6358-483d-87e5-45e865cc5e1f"
      },
      "execution_count": null,
      "outputs": [
        {
          "output_type": "stream",
          "name": "stderr",
          "text": [
            "[nltk_data] Downloading package stopwords to /root/nltk_data...\n",
            "[nltk_data]   Unzipping corpora/stopwords.zip.\n"
          ]
        },
        {
          "output_type": "execute_result",
          "data": {
            "text/plain": [
              "True"
            ]
          },
          "metadata": {},
          "execution_count": 11
        }
      ]
    },
    {
      "cell_type": "code",
      "source": [
        "from nltk.corpus import stopwords"
      ],
      "metadata": {
        "id": "hjwqJ79LY2sZ"
      },
      "execution_count": null,
      "outputs": []
    },
    {
      "cell_type": "code",
      "source": [
        "from sklearn.linear_model import LinearRegression,Ridge,Lasso\n",
        "\n",
        "import pandas as pd\n",
        "from sklearn.metrics import mean_squared_error, r2_score\n",
        "from sklearn.model_selection import train_test_split\n",
        "\n",
        "df = pd.read_csv(\"boston.csv\")\n",
        "X = df.drop(['CRIM'],axis=1)\n",
        "y = df['CRIM']\n",
        "\n",
        "x_train,x_test,y_train,y_test = train_test_split(X,y,test_size=0.3)\n",
        "\n",
        "LR = LinearRegression()\n",
        "ridge = Ridge(alpha=1)\n",
        "lasso = Lasso(alpha=1)\n",
        "\n",
        "LR.fit(x_train,y_train)\n",
        "ridge.fit(x_train.values,y_train.values)\n",
        "lasso.fit(x_train.values,y_train.values)\n",
        "\n",
        "print(\"Coeffi and Intercept LR: \",LR.coef_,LR.intercept_)\n",
        "print(\"Coeffi and Intercept Ridge: \",ridge.coef_,ridge.intercept_)\n",
        "print(\"Coeffi and Intercept Lasso: \",lasso.coef_,lasso.intercept_)\n",
        "\n",
        "\n",
        "prediction1 = LR.predict(x_train)\n",
        "prediction2 = ridge.predict(x_train.values)\n",
        "prediction3 = lasso.predict(x_train.values)\n",
        "\n",
        "print(\"mean square error LR: \",mean_squared_error(y_train,prediction1))\n",
        "print(\"mean square error Ridge: \",mean_squared_error(y_train,prediction2))\n",
        "print(\"mean square error Lasso: \",mean_squared_error(y_train,prediction3))\n",
        "\n",
        "\n",
        "print(\"R2 LR: \",r2_score(y_train,prediction1))\n",
        "print(\"R2 Ridge: \",r2_score(y_train,prediction2))\n",
        "print(\"R2 Lasso: \",r2_score(y_train,prediction3))\n",
        "\n",
        "\n",
        "print(\"********Test**************\")\n",
        "\n",
        "prediction1 = LR.predict(x_test)\n",
        "prediction2 = ridge.predict(x_test.values)\n",
        "prediction3 = lasso.predict(x_test.values)\n",
        "\n",
        "print(\"mean square error LR: \",mean_squared_error(y_test,prediction1))\n",
        "print(\"mean square error Ridge: \",mean_squared_error(y_test,prediction2))\n",
        "print(\"mean square error Lasso: \",mean_squared_error(y_test,prediction3))\n",
        "\n",
        "\n",
        "print(\"R2 LR: \",r2_score(y_test,prediction1))\n",
        "print(\"R2 Ridge: \",r2_score(y_test,prediction2))\n",
        "print(\"R2 Lasso: \",r2_score(y_test,prediction3))\n",
        "\n",
        "\n"
      ],
      "metadata": {
        "id": "ZH30IFnCY2pd"
      },
      "execution_count": null,
      "outputs": []
    },
    {
      "cell_type": "code",
      "source": [
        "from sklearn.linear_model import LinearRegression,Ridge,Lasso\n",
        "\n",
        "import pandas as pd\n",
        "from sklearn.metrics import mean_squared_error, r2_score\n",
        "from sklearn.model_selection import train_test_split\n",
        "\n",
        "df = pd.read_csv(\"Real estate.csv\")\n",
        "\n",
        "X=df.drop(['Y house price of unit area'],axis=1)\n",
        "Y=df['Y house price of unit area']\n",
        "\n",
        "x_train,x_test,y_train,y_test = train_test_split(X,Y,test_size=0.2)\n",
        "LR = LinearRegression()\n",
        "LR.fit(x_train,y_train)\n",
        "predict_train = LR.predict(x_train)\n",
        "\n",
        "print(\"Error in training: \",mean_squared_error(y_train,predict_train))\n",
        "print(\"R2 values: \",r2_score(y_train,predict_train))\n",
        "\n",
        "predict_test = LR.predict(x_test)\n",
        "print(\"Error in testing: \",mean_squared_error(y_test,predict_test))\n",
        "print(\"R2 values while testing: \",r2_score(y_test,predict_test))\n"
      ],
      "metadata": {
        "id": "Ab82sAXnY2mf"
      },
      "execution_count": null,
      "outputs": []
    },
    {
      "cell_type": "code",
      "source": [],
      "metadata": {
        "id": "KZdoaOlMY2jJ"
      },
      "execution_count": null,
      "outputs": []
    },
    {
      "cell_type": "code",
      "source": [],
      "metadata": {
        "id": "rFYINIZGY2gK"
      },
      "execution_count": null,
      "outputs": []
    },
    {
      "cell_type": "code",
      "source": [],
      "metadata": {
        "id": "NPVbRUyVY2dF"
      },
      "execution_count": null,
      "outputs": []
    },
    {
      "cell_type": "code",
      "source": [],
      "metadata": {
        "id": "waofyFnmY2Z2"
      },
      "execution_count": null,
      "outputs": []
    },
    {
      "cell_type": "code",
      "source": [],
      "metadata": {
        "id": "QPxy29AIY2We"
      },
      "execution_count": null,
      "outputs": []
    },
    {
      "cell_type": "code",
      "source": [],
      "metadata": {
        "id": "M5_u2xEaY2Tq"
      },
      "execution_count": null,
      "outputs": []
    },
    {
      "cell_type": "code",
      "source": [],
      "metadata": {
        "id": "vtJTo97TY2Qd"
      },
      "execution_count": null,
      "outputs": []
    },
    {
      "cell_type": "code",
      "source": [],
      "metadata": {
        "id": "HYXhEf6TY2NL"
      },
      "execution_count": null,
      "outputs": []
    },
    {
      "cell_type": "code",
      "source": [],
      "metadata": {
        "id": "wKBbYeo0Y2Jp"
      },
      "execution_count": null,
      "outputs": []
    },
    {
      "cell_type": "code",
      "source": [],
      "metadata": {
        "id": "DavcEwATY12w"
      },
      "execution_count": null,
      "outputs": []
    },
    {
      "cell_type": "code",
      "source": [],
      "metadata": {
        "id": "43QCae9OYx53"
      },
      "execution_count": null,
      "outputs": []
    },
    {
      "cell_type": "code",
      "source": [],
      "metadata": {
        "id": "lznCvI3JYx8x"
      },
      "execution_count": null,
      "outputs": []
    },
    {
      "cell_type": "code",
      "source": [],
      "metadata": {
        "id": "NSsKvRezYyAC"
      },
      "execution_count": null,
      "outputs": []
    },
    {
      "cell_type": "code",
      "source": [],
      "metadata": {
        "id": "Bj7LcpENYyC-"
      },
      "execution_count": null,
      "outputs": []
    },
    {
      "cell_type": "code",
      "source": [],
      "metadata": {
        "id": "6p91vwgDYyGR"
      },
      "execution_count": null,
      "outputs": []
    },
    {
      "cell_type": "code",
      "source": [],
      "metadata": {
        "id": "d9YR0C6BYyJO"
      },
      "execution_count": null,
      "outputs": []
    },
    {
      "cell_type": "code",
      "source": [],
      "metadata": {
        "id": "zgr_JsFxYyMS"
      },
      "execution_count": null,
      "outputs": []
    },
    {
      "cell_type": "code",
      "source": [],
      "metadata": {
        "id": "M9cF3o7FYyPq"
      },
      "execution_count": null,
      "outputs": []
    },
    {
      "cell_type": "code",
      "source": [],
      "metadata": {
        "id": "6VYQogbuYySd"
      },
      "execution_count": null,
      "outputs": []
    },
    {
      "cell_type": "code",
      "source": [],
      "metadata": {
        "id": "6YJr7RBKYyVm"
      },
      "execution_count": null,
      "outputs": []
    },
    {
      "cell_type": "code",
      "source": [],
      "metadata": {
        "id": "OQ2m3txYYyYV"
      },
      "execution_count": null,
      "outputs": []
    },
    {
      "cell_type": "code",
      "source": [],
      "metadata": {
        "id": "G_bN7EOZYybm"
      },
      "execution_count": null,
      "outputs": []
    },
    {
      "cell_type": "code",
      "source": [],
      "metadata": {
        "id": "I9mR6IEMYyek"
      },
      "execution_count": null,
      "outputs": []
    },
    {
      "cell_type": "code",
      "source": [],
      "metadata": {
        "id": "qmhfhHFYYyhy"
      },
      "execution_count": null,
      "outputs": []
    },
    {
      "cell_type": "code",
      "source": [],
      "metadata": {
        "id": "PYN6QxjIYykx"
      },
      "execution_count": null,
      "outputs": []
    },
    {
      "cell_type": "code",
      "source": [],
      "metadata": {
        "id": "8zGvW2u_Yyop"
      },
      "execution_count": null,
      "outputs": []
    },
    {
      "cell_type": "code",
      "source": [],
      "metadata": {
        "id": "yVmzOq_0YysE"
      },
      "execution_count": null,
      "outputs": []
    },
    {
      "cell_type": "code",
      "source": [],
      "metadata": {
        "id": "2Tf8r_fEYyvI"
      },
      "execution_count": null,
      "outputs": []
    },
    {
      "cell_type": "code",
      "source": [],
      "metadata": {
        "id": "T2K6_F2GYyyZ"
      },
      "execution_count": null,
      "outputs": []
    },
    {
      "cell_type": "code",
      "source": [],
      "metadata": {
        "id": "O5vI_Pa2Yy1t"
      },
      "execution_count": null,
      "outputs": []
    },
    {
      "cell_type": "code",
      "source": [],
      "metadata": {
        "id": "uRVh4pPHYy43"
      },
      "execution_count": null,
      "outputs": []
    },
    {
      "cell_type": "code",
      "source": [],
      "metadata": {
        "id": "Nr16czgxYy8J"
      },
      "execution_count": null,
      "outputs": []
    },
    {
      "cell_type": "code",
      "source": [],
      "metadata": {
        "id": "d4m9M4D_Yy_V"
      },
      "execution_count": null,
      "outputs": []
    },
    {
      "cell_type": "code",
      "source": [],
      "metadata": {
        "id": "ikVOYWE-YzCv"
      },
      "execution_count": null,
      "outputs": []
    },
    {
      "cell_type": "code",
      "source": [],
      "metadata": {
        "id": "IEUpbfq5YzF0"
      },
      "execution_count": null,
      "outputs": []
    },
    {
      "cell_type": "code",
      "source": [],
      "metadata": {
        "id": "YOH3-qw3YzJA"
      },
      "execution_count": null,
      "outputs": []
    },
    {
      "cell_type": "code",
      "source": [],
      "metadata": {
        "id": "gD-_SA0nYzL2"
      },
      "execution_count": null,
      "outputs": []
    },
    {
      "cell_type": "code",
      "source": [],
      "metadata": {
        "id": "AWRxWKnXYzPc"
      },
      "execution_count": null,
      "outputs": []
    },
    {
      "cell_type": "code",
      "source": [],
      "metadata": {
        "id": "6jIL1MOYYwup"
      },
      "execution_count": null,
      "outputs": []
    },
    {
      "cell_type": "code",
      "source": [],
      "metadata": {
        "id": "YYeSKI6QYwyB"
      },
      "execution_count": null,
      "outputs": []
    },
    {
      "cell_type": "code",
      "source": [],
      "metadata": {
        "id": "x9MfXOziYw07"
      },
      "execution_count": null,
      "outputs": []
    },
    {
      "cell_type": "code",
      "source": [],
      "metadata": {
        "id": "AADZaGdEYw3m"
      },
      "execution_count": null,
      "outputs": []
    },
    {
      "cell_type": "code",
      "source": [],
      "metadata": {
        "id": "o4zE_GXuYw66"
      },
      "execution_count": null,
      "outputs": []
    },
    {
      "cell_type": "code",
      "source": [],
      "metadata": {
        "id": "Fdl7wD48Yw-F"
      },
      "execution_count": null,
      "outputs": []
    },
    {
      "cell_type": "code",
      "source": [],
      "metadata": {
        "id": "pf2FYs73YxBK"
      },
      "execution_count": null,
      "outputs": []
    },
    {
      "cell_type": "code",
      "source": [],
      "metadata": {
        "id": "F73pvTXmYxEL"
      },
      "execution_count": null,
      "outputs": []
    },
    {
      "cell_type": "code",
      "source": [],
      "metadata": {
        "id": "Sll29QpNYxHV"
      },
      "execution_count": null,
      "outputs": []
    },
    {
      "cell_type": "code",
      "source": [],
      "metadata": {
        "id": "XdOIkVACYxKz"
      },
      "execution_count": null,
      "outputs": []
    },
    {
      "cell_type": "code",
      "source": [],
      "metadata": {
        "id": "uvnCuFFxYvnW"
      },
      "execution_count": null,
      "outputs": []
    },
    {
      "cell_type": "code",
      "source": [],
      "metadata": {
        "id": "vJujCGOPYvqZ"
      },
      "execution_count": null,
      "outputs": []
    },
    {
      "cell_type": "code",
      "source": [],
      "metadata": {
        "id": "9FX_SFS8Yvtv"
      },
      "execution_count": null,
      "outputs": []
    },
    {
      "cell_type": "code",
      "source": [],
      "metadata": {
        "id": "YUKR6RVVYvwd"
      },
      "execution_count": null,
      "outputs": []
    },
    {
      "cell_type": "code",
      "source": [],
      "metadata": {
        "id": "V7tvvYUPYvzl"
      },
      "execution_count": null,
      "outputs": []
    },
    {
      "cell_type": "code",
      "source": [],
      "metadata": {
        "id": "vIVnaPuKYv2q"
      },
      "execution_count": null,
      "outputs": []
    },
    {
      "cell_type": "code",
      "source": [],
      "metadata": {
        "id": "vV92XfHEYv5v"
      },
      "execution_count": null,
      "outputs": []
    },
    {
      "cell_type": "code",
      "source": [],
      "metadata": {
        "id": "-wiGzPa4Yv82"
      },
      "execution_count": null,
      "outputs": []
    },
    {
      "cell_type": "code",
      "source": [],
      "metadata": {
        "id": "VQ6bOq-fYwAP"
      },
      "execution_count": null,
      "outputs": []
    },
    {
      "cell_type": "code",
      "source": [],
      "metadata": {
        "id": "77w4eW7gYuif"
      },
      "execution_count": null,
      "outputs": []
    },
    {
      "cell_type": "code",
      "source": [],
      "metadata": {
        "id": "mexLGwkpYulK"
      },
      "execution_count": null,
      "outputs": []
    },
    {
      "cell_type": "code",
      "source": [],
      "metadata": {
        "id": "YoomD3wQYuoR"
      },
      "execution_count": null,
      "outputs": []
    },
    {
      "cell_type": "code",
      "source": [],
      "metadata": {
        "id": "r4m8jskJYurL"
      },
      "execution_count": null,
      "outputs": []
    },
    {
      "cell_type": "code",
      "source": [],
      "metadata": {
        "id": "exVLKovhYuuV"
      },
      "execution_count": null,
      "outputs": []
    },
    {
      "cell_type": "code",
      "source": [],
      "metadata": {
        "id": "JnXGLB5lYuxZ"
      },
      "execution_count": null,
      "outputs": []
    },
    {
      "cell_type": "code",
      "source": [],
      "metadata": {
        "id": "1VRk8N_dYu0Q"
      },
      "execution_count": null,
      "outputs": []
    },
    {
      "cell_type": "code",
      "source": [],
      "metadata": {
        "id": "AhjibMHVYu3w"
      },
      "execution_count": null,
      "outputs": []
    },
    {
      "cell_type": "code",
      "source": [],
      "metadata": {
        "id": "Ycj5gUyGYs-S"
      },
      "execution_count": null,
      "outputs": []
    },
    {
      "cell_type": "code",
      "source": [],
      "metadata": {
        "id": "y72WotT_YtA-"
      },
      "execution_count": null,
      "outputs": []
    },
    {
      "cell_type": "code",
      "source": [],
      "metadata": {
        "id": "w3V5GccoYtD4"
      },
      "execution_count": null,
      "outputs": []
    },
    {
      "cell_type": "code",
      "source": [],
      "metadata": {
        "id": "nvLuMF5sYtG5"
      },
      "execution_count": null,
      "outputs": []
    },
    {
      "cell_type": "code",
      "source": [],
      "metadata": {
        "id": "AbZVz1mIYtKF"
      },
      "execution_count": null,
      "outputs": []
    },
    {
      "cell_type": "code",
      "source": [],
      "metadata": {
        "id": "1eWN3runYtM7"
      },
      "execution_count": null,
      "outputs": []
    },
    {
      "cell_type": "code",
      "source": [],
      "metadata": {
        "id": "TKghnabzYtP0"
      },
      "execution_count": null,
      "outputs": []
    },
    {
      "cell_type": "code",
      "source": [],
      "metadata": {
        "id": "H5i8z6EUYtSw"
      },
      "execution_count": null,
      "outputs": []
    },
    {
      "cell_type": "code",
      "source": [],
      "metadata": {
        "id": "S-Z6cwYrYtV7"
      },
      "execution_count": null,
      "outputs": []
    },
    {
      "cell_type": "code",
      "source": [],
      "metadata": {
        "id": "hTFReIWfYtZd"
      },
      "execution_count": null,
      "outputs": []
    },
    {
      "cell_type": "code",
      "source": [],
      "metadata": {
        "id": "QsmsZmFnYrqy"
      },
      "execution_count": null,
      "outputs": []
    },
    {
      "cell_type": "code",
      "source": [],
      "metadata": {
        "id": "-9sVLxlVYrtm"
      },
      "execution_count": null,
      "outputs": []
    },
    {
      "cell_type": "code",
      "source": [],
      "metadata": {
        "id": "oSrbyuVzYrwh"
      },
      "execution_count": null,
      "outputs": []
    },
    {
      "cell_type": "code",
      "source": [],
      "metadata": {
        "id": "u3bwLIGLYrzY"
      },
      "execution_count": null,
      "outputs": []
    },
    {
      "cell_type": "code",
      "source": [],
      "metadata": {
        "id": "d36xknC8Yr2X"
      },
      "execution_count": null,
      "outputs": []
    },
    {
      "cell_type": "code",
      "source": [],
      "metadata": {
        "id": "ZhD1dqPkYr5Q"
      },
      "execution_count": null,
      "outputs": []
    },
    {
      "cell_type": "code",
      "source": [],
      "metadata": {
        "id": "6-Vi3IVFYr8T"
      },
      "execution_count": null,
      "outputs": []
    },
    {
      "cell_type": "code",
      "source": [],
      "metadata": {
        "id": "N8qyFVZZYr_s"
      },
      "execution_count": null,
      "outputs": []
    },
    {
      "cell_type": "code",
      "source": [],
      "metadata": {
        "id": "cPOaZQcAYsCi"
      },
      "execution_count": null,
      "outputs": []
    },
    {
      "cell_type": "code",
      "source": [],
      "metadata": {
        "id": "1CbpbvDeYsFF"
      },
      "execution_count": null,
      "outputs": []
    },
    {
      "cell_type": "code",
      "source": [],
      "metadata": {
        "id": "t12qvGxmYsH9"
      },
      "execution_count": null,
      "outputs": []
    },
    {
      "cell_type": "code",
      "source": [],
      "metadata": {
        "id": "-JnGt2F4YsLY"
      },
      "execution_count": null,
      "outputs": []
    },
    {
      "cell_type": "code",
      "source": [],
      "metadata": {
        "id": "Mwq_pe4AYqoE"
      },
      "execution_count": null,
      "outputs": []
    },
    {
      "cell_type": "code",
      "source": [],
      "metadata": {
        "id": "FtLtvpCNYqrY"
      },
      "execution_count": null,
      "outputs": []
    },
    {
      "cell_type": "code",
      "source": [],
      "metadata": {
        "id": "JpW0eYlyYqvc"
      },
      "execution_count": null,
      "outputs": []
    },
    {
      "cell_type": "code",
      "source": [],
      "metadata": {
        "id": "zQzruAv2Yqyh"
      },
      "execution_count": null,
      "outputs": []
    },
    {
      "cell_type": "code",
      "source": [],
      "metadata": {
        "id": "swYUoy8iYq1s"
      },
      "execution_count": null,
      "outputs": []
    },
    {
      "cell_type": "code",
      "source": [],
      "metadata": {
        "id": "casRExw-Yq4s"
      },
      "execution_count": null,
      "outputs": []
    },
    {
      "cell_type": "code",
      "source": [],
      "metadata": {
        "id": "ufSZgbgiYq8P"
      },
      "execution_count": null,
      "outputs": []
    },
    {
      "cell_type": "code",
      "source": [],
      "metadata": {
        "id": "0tx2iCE3Yn5i"
      },
      "execution_count": null,
      "outputs": []
    },
    {
      "cell_type": "code",
      "source": [],
      "metadata": {
        "id": "Jpqu8AKuYoVV"
      },
      "execution_count": null,
      "outputs": []
    },
    {
      "cell_type": "code",
      "source": [],
      "metadata": {
        "id": "eFF9C2mRYo0F"
      },
      "execution_count": null,
      "outputs": []
    },
    {
      "cell_type": "code",
      "source": [],
      "metadata": {
        "id": "4HQruea2YlSg"
      },
      "execution_count": null,
      "outputs": []
    },
    {
      "cell_type": "code",
      "source": [],
      "metadata": {
        "id": "x7VBhYTRYlwZ"
      },
      "execution_count": null,
      "outputs": []
    },
    {
      "cell_type": "code",
      "source": [],
      "metadata": {
        "id": "Lr4Vqs9HYmY9"
      },
      "execution_count": null,
      "outputs": []
    },
    {
      "cell_type": "code",
      "source": [],
      "metadata": {
        "id": "FJgXlAtlYm93"
      },
      "execution_count": null,
      "outputs": []
    },
    {
      "cell_type": "code",
      "source": [],
      "metadata": {
        "id": "rUAsRZ1XYe3Q"
      },
      "execution_count": null,
      "outputs": []
    },
    {
      "cell_type": "code",
      "source": [],
      "metadata": {
        "id": "CKfNJpSnYe6N"
      },
      "execution_count": null,
      "outputs": []
    },
    {
      "cell_type": "code",
      "source": [],
      "metadata": {
        "id": "F7dsygWYYe9E"
      },
      "execution_count": null,
      "outputs": []
    },
    {
      "cell_type": "code",
      "source": [],
      "metadata": {
        "id": "mFRxgPkgYfvy"
      },
      "execution_count": null,
      "outputs": []
    },
    {
      "cell_type": "code",
      "source": [],
      "metadata": {
        "id": "hveVBs-9YgNp"
      },
      "execution_count": null,
      "outputs": []
    },
    {
      "cell_type": "code",
      "source": [],
      "metadata": {
        "id": "7faI3gXIYgs1"
      },
      "execution_count": null,
      "outputs": []
    },
    {
      "cell_type": "code",
      "source": [],
      "metadata": {
        "id": "6YmYxucdYhIU"
      },
      "execution_count": null,
      "outputs": []
    },
    {
      "cell_type": "code",
      "source": [],
      "metadata": {
        "id": "r1Ov7fOQYhr4"
      },
      "execution_count": null,
      "outputs": []
    },
    {
      "cell_type": "code",
      "source": [],
      "metadata": {
        "id": "toM0NR-YYiPu"
      },
      "execution_count": null,
      "outputs": []
    },
    {
      "cell_type": "code",
      "source": [],
      "metadata": {
        "id": "Wwuynn18Yi21"
      },
      "execution_count": null,
      "outputs": []
    },
    {
      "cell_type": "code",
      "source": [],
      "metadata": {
        "id": "ZcczghnmYjet"
      },
      "execution_count": null,
      "outputs": []
    },
    {
      "cell_type": "code",
      "source": [],
      "metadata": {
        "id": "PYc3dXTz0SWS"
      },
      "execution_count": null,
      "outputs": []
    }
  ]
}