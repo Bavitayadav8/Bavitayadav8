{
  "cells": [
    {
      "cell_type": "markdown",
      "metadata": {
        "id": "view-in-github",
        "colab_type": "text"
      },
      "source": [
        "<a href=\"https://colab.research.google.com/github/Bavitayadav8/Bavitayadav8/blob/main/Data_Exploration.ipynb\" target=\"_parent\"><img src=\"https://colab.research.google.com/assets/colab-badge.svg\" alt=\"Open In Colab\"/></a>"
      ]
    },
    {
      "cell_type": "code",
      "execution_count": null,
      "id": "d31f7f5d",
      "metadata": {
        "id": "d31f7f5d"
      },
      "outputs": [],
      "source": [
        "# univariate analysis - cat uni(barplot0 , con uni (boxplot)\n",
        "# bivariate analysis - con con (scatter plot), con cat (multple boxplot), cat cat (cross tabulation)\n",
        "# model\n",
        "# business problem\n",
        "# data science problem\n",
        "# independent variable(factors, features, inputs, x values)\n",
        "# dependent variable (target, output, y value)"
      ]
    },
    {
      "cell_type": "code",
      "execution_count": null,
      "id": "a3d169a8",
      "metadata": {
        "id": "a3d169a8"
      },
      "outputs": [],
      "source": [
        "import pandas as pd\n",
        "import matplotlib.pyplot as plot\n",
        "import numpy as np\n",
        "import seaborn as sb\n",
        "from sklearn.model_selection import train_test_split\n",
        "from sklearn.tree import DecisionTreeClassifier\n",
        "from sklearn.tree import DecisionTreeRegressor\n",
        "from sklearn import tree\n",
        "from sklearn import metrics\n",
        "from sklearn.metrics import classification_report\n",
        "from sklearn.tree import export_graphviz\n",
        "import pydotplus\n",
        "from IPython.display import Image"
      ]
    },
    {
      "cell_type": "code",
      "execution_count": null,
      "id": "0eefcfeb",
      "metadata": {
        "id": "0eefcfeb"
      },
      "outputs": [],
      "source": [
        "boston_exp = pd.read_csv(\"boston.csv\")"
      ]
    },
    {
      "cell_type": "code",
      "execution_count": null,
      "id": "e5f20ce0",
      "metadata": {
        "id": "e5f20ce0",
        "outputId": "4528821e-f70c-4bf4-e565-97c19082d28c"
      },
      "outputs": [
        {
          "data": {
            "text/html": [
              "<div>\n",
              "<style scoped>\n",
              "    .dataframe tbody tr th:only-of-type {\n",
              "        vertical-align: middle;\n",
              "    }\n",
              "\n",
              "    .dataframe tbody tr th {\n",
              "        vertical-align: top;\n",
              "    }\n",
              "\n",
              "    .dataframe thead th {\n",
              "        text-align: right;\n",
              "    }\n",
              "</style>\n",
              "<table border=\"1\" class=\"dataframe\">\n",
              "  <thead>\n",
              "    <tr style=\"text-align: right;\">\n",
              "      <th></th>\n",
              "      <th>crim</th>\n",
              "      <th>zn</th>\n",
              "      <th>indus</th>\n",
              "      <th>chas</th>\n",
              "      <th>nox</th>\n",
              "      <th>rm</th>\n",
              "      <th>age</th>\n",
              "      <th>dis</th>\n",
              "      <th>rad</th>\n",
              "      <th>tax</th>\n",
              "      <th>ptratio</th>\n",
              "      <th>black</th>\n",
              "      <th>lstat</th>\n",
              "      <th>medv</th>\n",
              "    </tr>\n",
              "  </thead>\n",
              "  <tbody>\n",
              "    <tr>\n",
              "      <th>count</th>\n",
              "      <td>506.000000</td>\n",
              "      <td>506.000000</td>\n",
              "      <td>506.000000</td>\n",
              "      <td>506.000000</td>\n",
              "      <td>506.000000</td>\n",
              "      <td>506.000000</td>\n",
              "      <td>506.000000</td>\n",
              "      <td>506.000000</td>\n",
              "      <td>506.000000</td>\n",
              "      <td>506.000000</td>\n",
              "      <td>506.000000</td>\n",
              "      <td>506.000000</td>\n",
              "      <td>506.000000</td>\n",
              "      <td>506.000000</td>\n",
              "    </tr>\n",
              "    <tr>\n",
              "      <th>mean</th>\n",
              "      <td>3.613524</td>\n",
              "      <td>11.363636</td>\n",
              "      <td>11.136779</td>\n",
              "      <td>0.069170</td>\n",
              "      <td>0.554695</td>\n",
              "      <td>6.284634</td>\n",
              "      <td>68.574901</td>\n",
              "      <td>3.795043</td>\n",
              "      <td>9.549407</td>\n",
              "      <td>408.237154</td>\n",
              "      <td>18.455534</td>\n",
              "      <td>356.674032</td>\n",
              "      <td>12.653063</td>\n",
              "      <td>22.532806</td>\n",
              "    </tr>\n",
              "    <tr>\n",
              "      <th>std</th>\n",
              "      <td>8.601545</td>\n",
              "      <td>23.322453</td>\n",
              "      <td>6.860353</td>\n",
              "      <td>0.253994</td>\n",
              "      <td>0.115878</td>\n",
              "      <td>0.702617</td>\n",
              "      <td>28.148861</td>\n",
              "      <td>2.105710</td>\n",
              "      <td>8.707259</td>\n",
              "      <td>168.537116</td>\n",
              "      <td>2.164946</td>\n",
              "      <td>91.294864</td>\n",
              "      <td>7.141062</td>\n",
              "      <td>9.197104</td>\n",
              "    </tr>\n",
              "    <tr>\n",
              "      <th>min</th>\n",
              "      <td>0.006320</td>\n",
              "      <td>0.000000</td>\n",
              "      <td>0.460000</td>\n",
              "      <td>0.000000</td>\n",
              "      <td>0.385000</td>\n",
              "      <td>3.561000</td>\n",
              "      <td>2.900000</td>\n",
              "      <td>1.129600</td>\n",
              "      <td>1.000000</td>\n",
              "      <td>187.000000</td>\n",
              "      <td>12.600000</td>\n",
              "      <td>0.320000</td>\n",
              "      <td>1.730000</td>\n",
              "      <td>5.000000</td>\n",
              "    </tr>\n",
              "    <tr>\n",
              "      <th>25%</th>\n",
              "      <td>0.082045</td>\n",
              "      <td>0.000000</td>\n",
              "      <td>5.190000</td>\n",
              "      <td>0.000000</td>\n",
              "      <td>0.449000</td>\n",
              "      <td>5.885500</td>\n",
              "      <td>45.025000</td>\n",
              "      <td>2.100175</td>\n",
              "      <td>4.000000</td>\n",
              "      <td>279.000000</td>\n",
              "      <td>17.400000</td>\n",
              "      <td>375.377500</td>\n",
              "      <td>6.950000</td>\n",
              "      <td>17.025000</td>\n",
              "    </tr>\n",
              "    <tr>\n",
              "      <th>50%</th>\n",
              "      <td>0.256510</td>\n",
              "      <td>0.000000</td>\n",
              "      <td>9.690000</td>\n",
              "      <td>0.000000</td>\n",
              "      <td>0.538000</td>\n",
              "      <td>6.208500</td>\n",
              "      <td>77.500000</td>\n",
              "      <td>3.207450</td>\n",
              "      <td>5.000000</td>\n",
              "      <td>330.000000</td>\n",
              "      <td>19.050000</td>\n",
              "      <td>391.440000</td>\n",
              "      <td>11.360000</td>\n",
              "      <td>21.200000</td>\n",
              "    </tr>\n",
              "    <tr>\n",
              "      <th>75%</th>\n",
              "      <td>3.677083</td>\n",
              "      <td>12.500000</td>\n",
              "      <td>18.100000</td>\n",
              "      <td>0.000000</td>\n",
              "      <td>0.624000</td>\n",
              "      <td>6.623500</td>\n",
              "      <td>94.075000</td>\n",
              "      <td>5.188425</td>\n",
              "      <td>24.000000</td>\n",
              "      <td>666.000000</td>\n",
              "      <td>20.200000</td>\n",
              "      <td>396.225000</td>\n",
              "      <td>16.955000</td>\n",
              "      <td>25.000000</td>\n",
              "    </tr>\n",
              "    <tr>\n",
              "      <th>max</th>\n",
              "      <td>88.976200</td>\n",
              "      <td>100.000000</td>\n",
              "      <td>27.740000</td>\n",
              "      <td>1.000000</td>\n",
              "      <td>0.871000</td>\n",
              "      <td>8.780000</td>\n",
              "      <td>100.000000</td>\n",
              "      <td>12.126500</td>\n",
              "      <td>24.000000</td>\n",
              "      <td>711.000000</td>\n",
              "      <td>22.000000</td>\n",
              "      <td>396.900000</td>\n",
              "      <td>37.970000</td>\n",
              "      <td>50.000000</td>\n",
              "    </tr>\n",
              "  </tbody>\n",
              "</table>\n",
              "</div>"
            ],
            "text/plain": [
              "             crim          zn       indus        chas         nox          rm  \\\n",
              "count  506.000000  506.000000  506.000000  506.000000  506.000000  506.000000   \n",
              "mean     3.613524   11.363636   11.136779    0.069170    0.554695    6.284634   \n",
              "std      8.601545   23.322453    6.860353    0.253994    0.115878    0.702617   \n",
              "min      0.006320    0.000000    0.460000    0.000000    0.385000    3.561000   \n",
              "25%      0.082045    0.000000    5.190000    0.000000    0.449000    5.885500   \n",
              "50%      0.256510    0.000000    9.690000    0.000000    0.538000    6.208500   \n",
              "75%      3.677083   12.500000   18.100000    0.000000    0.624000    6.623500   \n",
              "max     88.976200  100.000000   27.740000    1.000000    0.871000    8.780000   \n",
              "\n",
              "              age         dis         rad         tax     ptratio       black  \\\n",
              "count  506.000000  506.000000  506.000000  506.000000  506.000000  506.000000   \n",
              "mean    68.574901    3.795043    9.549407  408.237154   18.455534  356.674032   \n",
              "std     28.148861    2.105710    8.707259  168.537116    2.164946   91.294864   \n",
              "min      2.900000    1.129600    1.000000  187.000000   12.600000    0.320000   \n",
              "25%     45.025000    2.100175    4.000000  279.000000   17.400000  375.377500   \n",
              "50%     77.500000    3.207450    5.000000  330.000000   19.050000  391.440000   \n",
              "75%     94.075000    5.188425   24.000000  666.000000   20.200000  396.225000   \n",
              "max    100.000000   12.126500   24.000000  711.000000   22.000000  396.900000   \n",
              "\n",
              "            lstat        medv  \n",
              "count  506.000000  506.000000  \n",
              "mean    12.653063   22.532806  \n",
              "std      7.141062    9.197104  \n",
              "min      1.730000    5.000000  \n",
              "25%      6.950000   17.025000  \n",
              "50%     11.360000   21.200000  \n",
              "75%     16.955000   25.000000  \n",
              "max     37.970000   50.000000  "
            ]
          },
          "execution_count": 27,
          "metadata": {},
          "output_type": "execute_result"
        }
      ],
      "source": [
        "boston_exp.describe()"
      ]
    },
    {
      "cell_type": "code",
      "execution_count": null,
      "id": "4b966e1d",
      "metadata": {
        "id": "4b966e1d",
        "outputId": "5f3ee77e-022e-4ddf-9f1d-f3a46408160a"
      },
      "outputs": [
        {
          "name": "stdout",
          "output_type": "stream",
          "text": [
            "crim       float64\n",
            "zn         float64\n",
            "indus      float64\n",
            "chas         int64\n",
            "nox        float64\n",
            "rm         float64\n",
            "age        float64\n",
            "dis        float64\n",
            "rad          int64\n",
            "tax          int64\n",
            "ptratio    float64\n",
            "black      float64\n",
            "lstat      float64\n",
            "medv       float64\n",
            "dtype: object\n"
          ]
        }
      ],
      "source": [
        "print(boston_exp.dtypes)"
      ]
    },
    {
      "cell_type": "code",
      "execution_count": null,
      "id": "af50c066",
      "metadata": {
        "id": "af50c066",
        "outputId": "219478a8-399a-432d-c3e5-c2b451d4d320"
      },
      "outputs": [
        {
          "data": {
            "text/plain": [
              "' Housing Values in Suburbs of Boston Description\\n\\nThe Boston data frame has 506 rows and 14 columns.\\n\\nThis data frame contains the following columns:\\ncrim\\nper capita crime rate by town.\\n\\nzn\\nproportion of residential land zoned for lots over 25,000 sq.ft.\\n\\nindus\\nproportion of non-retail business acres per town.\\n\\nchas\\nCharles River dummy variable (= 1 if tract bounds river; 0 otherwise).\\n\\nnox\\nnitrogen oxides concentration (parts per 10 million).\\n\\nrm\\naverage number of rooms per dwelling.\\n\\nage\\nproportion of owner-occupied units built prior to 1940.\\n\\ndis\\nweighted mean of distances to five Boston employment centres.\\n\\nrad\\nindex of accessibility to radial highways.\\n\\ntax\\nfull-value property-tax rate per $10,000.\\n\\nptratio\\npupil-teacher ratio by town.\\n\\nblack\\nBlack population\\n\\nlstat\\nlower status of the population (percent).\\n\\nmedv\\nmedian value of owner-occupied homes in $1000s'"
            ]
          },
          "execution_count": 29,
          "metadata": {},
          "output_type": "execute_result"
        }
      ],
      "source": [
        "''' Housing Values in Suburbs of Boston Description\n",
        "\n",
        "The Boston data frame has 506 rows and 14 columns.\n",
        "\n",
        "This data frame contains the following columns:\n",
        "crim\n",
        "per capita crime rate by town.\n",
        "\n",
        "zn\n",
        "proportion of residential land zoned for lots over 25,000 sq.ft.\n",
        "\n",
        "indus\n",
        "proportion of non-retail business acres per town.\n",
        "\n",
        "chas\n",
        "Charles River dummy variable (= 1 if tract bounds river; 0 otherwise).\n",
        "\n",
        "nox\n",
        "nitrogen oxides concentration (parts per 10 million).\n",
        "\n",
        "rm\n",
        "average number of rooms per dwelling.\n",
        "\n",
        "age\n",
        "proportion of owner-occupied units built prior to 1940.\n",
        "\n",
        "dis\n",
        "weighted mean of distances to five Boston employment centres.\n",
        "\n",
        "rad\n",
        "index of accessibility to radial highways.\n",
        "\n",
        "tax\n",
        "full-value property-tax rate per $10,000.\n",
        "\n",
        "ptratio\n",
        "pupil-teacher ratio by town.\n",
        "\n",
        "black\n",
        "Black population\n",
        "\n",
        "lstat\n",
        "lower status of the population (percent).\n",
        "\n",
        "medv\n",
        "median value of owner-occupied homes in $1000s'''\n"
      ]
    },
    {
      "cell_type": "code",
      "execution_count": null,
      "id": "701c710f",
      "metadata": {
        "id": "701c710f",
        "outputId": "de7ce94c-e3c1-4365-f6de-5d6bd9bb088b"
      },
      "outputs": [
        {
          "data": {
            "image/png": "[encoded data removed]",
            "text/plain": [
              "<Figure size 432x288 with 1 Axes>"
            ]
          },
          "metadata": {
            "needs_background": "light"
          },
          "output_type": "display_data"
        }
      ],
      "source": [
        "import matplotlib.pyplot as plot\n",
        "x1 = boston_exp['medv'] \n",
        "y1 = boston_exp['crim'] \n",
        "plot.scatter(x1, y1, alpha=1) \n",
        "plot.title('Scatter plot') \n",
        "plot.xlabel('House Price') \n",
        "plot.ylabel('Crime Rate') \n",
        "plot.show()"
      ]
    },
    {
      "cell_type": "code",
      "execution_count": null,
      "id": "247830db",
      "metadata": {
        "id": "247830db",
        "outputId": "63433a47-a6ec-4203-a890-2dca39c29bc0"
      },
      "outputs": [
        {
          "name": "stderr",
          "output_type": "stream",
          "text": [
            "/opt/anaconda3/lib/python3.8/site-packages/seaborn/categorical.py:1296: UserWarning: 12.3% of the points cannot be placed; you may want to decrease the size of the markers or use stripplot.\n",
            "  warnings.warn(msg, UserWarning)\n"
          ]
        },
        {
          "data": {
            "image/png": "[encoded data removed]",
            "text/plain": [
              "<Figure size 432x288 with 1 Axes>"
            ]
          },
          "metadata": {
            "needs_background": "light"
          },
          "output_type": "display_data"
        }
      ],
      "source": [
        "boston_exp['chas'] = pd.Categorical(boston_exp.chas)\n",
        "chas_holder = boston_exp['chas'] \n",
        "medv_holder = boston_exp['medv'] \n",
        "sb.boxplot(x = chas_holder, y = medv_holder) \n",
        "sb.swarmplot(x = chas_holder, y = medv_holder, color = '0.25')\n",
        "plot.show()"
      ]
    },
    {
      "cell_type": "code",
      "execution_count": null,
      "id": "6dda886c",
      "metadata": {
        "id": "6dda886c",
        "outputId": "f8d90179-2e90-4ba0-8b5b-430ab50b0849"
      },
      "outputs": [
        {
          "name": "stdout",
          "output_type": "stream",
          "text": [
            "rm    3.561  3.863  4.138  4.368  4.519  4.628  4.652  4.88  4.903  4.906  \\\n",
            "chas                                                                        \n",
            "0         1      1      2      1      1      1      1     1      1      1   \n",
            "1         0      0      0      0      0      0      0     0      0      0   \n",
            "\n",
            "rm    ...  8.247  8.259  8.266  8.297  8.337  8.375  8.398  8.704  8.725  8.78  \n",
            "chas  ...                                                                       \n",
            "0     ...      1      1      1      1      1      0      1      1      1     0  \n",
            "1     ...      0      0      0      0      0      1      0      0      0     1  \n",
            "\n",
            "[2 rows x 446 columns]\n"
          ]
        }
      ],
      "source": [
        "boston_exp['rm'] = pd.Categorical(boston_exp.rm)\n",
        "print(pd.crosstab(boston_exp.chas, boston_exp.rm))"
      ]
    },
    {
      "cell_type": "code",
      "execution_count": null,
      "id": "91a1b329",
      "metadata": {
        "id": "91a1b329"
      },
      "outputs": [],
      "source": []
    }
  ],
  "metadata": {
    "kernelspec": {
      "display_name": "Python 3 (ipykernel)",
      "language": "python",
      "name": "python3"
    },
    "language_info": {
      "codemirror_mode": {
        "name": "ipython",
        "version": 3
      },
      "file_extension": ".py",
      "mimetype": "text/x-python",
      "name": "python",
      "nbconvert_exporter": "python",
      "pygments_lexer": "ipython3",
      "version": "3.8.2"
    },
    "colab": {
      "provenance": [],
      "include_colab_link": true
    }
  },
  "nbformat": 4,
  "nbformat_minor": 5
}