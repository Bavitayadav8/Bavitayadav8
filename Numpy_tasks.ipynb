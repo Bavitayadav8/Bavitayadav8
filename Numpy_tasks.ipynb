{
  "cells": [
    {
      "cell_type": "markdown",
      "metadata": {
        "id": "view-in-github",
        "colab_type": "text"
      },
      "source": [
        "<a href=\"https://colab.research.google.com/github/Bavitayadav8/Bavitayadav8/blob/main/Numpy_tasks.ipynb\" target=\"_parent\"><img src=\"https://colab.research.google.com/assets/colab-badge.svg\" alt=\"Open In Colab\"/></a>"
      ]
    },
    {
      "cell_type": "markdown",
      "metadata": {
        "id": "1orVAxLJir8Q"
      },
      "source": [
        "# Numpy\n",
        "\n"
      ]
    },
    {
      "cell_type": "markdown",
      "metadata": {
        "id": "_xQPEZxyir8e"
      },
      "source": [
        "#### 1. Import the numpy package under the name `np` (★☆☆) \n",
        "(**hint**: import … as …)"
      ]
    },
    {
      "cell_type": "code",
      "execution_count": null,
      "metadata": {
        "collapsed": true,
        "id": "Arnm4QfSir8h"
      },
      "outputs": [],
      "source": [
        "import numpy as np"
      ]
    },
    {
      "cell_type": "markdown",
      "metadata": {
        "id": "RveoeStoir8k"
      },
      "source": [
        "#### 2. Print the numpy version and the configuration (★☆☆) \n",
        "(**hint**: np.\\_\\_version\\_\\_, np.show\\_config)"
      ]
    },
    {
      "cell_type": "code",
      "execution_count": null,
      "metadata": {
        "id": "xnUQS6J6ir8m",
        "outputId": "c7f1ff45-6f49-45f7-dcb1-ef9e4dc3e22c",
        "colab": {
          "base_uri": "https://localhost:8080/"
        }
      },
      "outputs": [
        {
          "output_type": "stream",
          "name": "stdout",
          "text": [
            "1.21.6\n",
            "blas_mkl_info:\n",
            "  NOT AVAILABLE\n",
            "blis_info:\n",
            "  NOT AVAILABLE\n",
            "openblas_info:\n",
            "    libraries = ['openblas', 'openblas']\n",
            "    library_dirs = ['/usr/local/lib']\n",
            "    language = c\n",
            "    define_macros = [('HAVE_CBLAS', None)]\n",
            "    runtime_library_dirs = ['/usr/local/lib']\n",
            "blas_opt_info:\n",
            "    libraries = ['openblas', 'openblas']\n",
            "    library_dirs = ['/usr/local/lib']\n",
            "    language = c\n",
            "    define_macros = [('HAVE_CBLAS', None)]\n",
            "    runtime_library_dirs = ['/usr/local/lib']\n",
            "lapack_mkl_info:\n",
            "  NOT AVAILABLE\n",
            "openblas_lapack_info:\n",
            "    libraries = ['openblas', 'openblas']\n",
            "    library_dirs = ['/usr/local/lib']\n",
            "    language = c\n",
            "    define_macros = [('HAVE_CBLAS', None)]\n",
            "    runtime_library_dirs = ['/usr/local/lib']\n",
            "lapack_opt_info:\n",
            "    libraries = ['openblas', 'openblas']\n",
            "    library_dirs = ['/usr/local/lib']\n",
            "    language = c\n",
            "    define_macros = [('HAVE_CBLAS', None)]\n",
            "    runtime_library_dirs = ['/usr/local/lib']\n",
            "Supported SIMD extensions in this NumPy install:\n",
            "    baseline = SSE,SSE2,SSE3\n",
            "    found = SSSE3,SSE41,POPCNT,SSE42,AVX,F16C,FMA3,AVX2\n",
            "    not found = AVX512F,AVX512CD,AVX512_KNL,AVX512_KNM,AVX512_SKX,AVX512_CLX,AVX512_CNL,AVX512_ICL\n"
          ]
        }
      ],
      "source": [
        "print(np.__version__)\n",
        "np.show_config()"
      ]
    },
    {
      "cell_type": "markdown",
      "metadata": {
        "id": "IUWYdOebir8n"
      },
      "source": [
        "#### 3. Create a null vector of size 10 (★☆☆) \n",
        "(**hint**: np.zeros)"
      ]
    },
    {
      "cell_type": "code",
      "execution_count": null,
      "metadata": {
        "id": "8Xvk5YlMir8p",
        "colab": {
          "base_uri": "https://localhost:8080/"
        },
        "outputId": "fd2deb90-6e35-4640-edb2-db7f9d219917"
      },
      "outputs": [
        {
          "output_type": "stream",
          "name": "stdout",
          "text": [
            "[0. 0. 0. 0. 0. 0. 0. 0. 0. 0.]\n"
          ]
        }
      ],
      "source": [
        "z=np.zeros(10)\n",
        "print(z)"
      ]
    },
    {
      "cell_type": "markdown",
      "metadata": {
        "id": "3R8BnQqWir8r"
      },
      "source": [
        "#### 4.  How to find the memory size of any array (★☆☆) \n",
        "(**hint**: size, itemsize)"
      ]
    },
    {
      "cell_type": "code",
      "execution_count": null,
      "metadata": {
        "id": "rN_4nLCKir8u",
        "colab": {
          "base_uri": "https://localhost:8080/"
        },
        "outputId": "faed74fe-51cc-44b9-fb51-171b7d2f17bc"
      },
      "outputs": [
        {
          "output_type": "stream",
          "name": "stdout",
          "text": [
            "[[1 2]\n",
            " [3 4]]\n",
            "4\n",
            "8\n"
          ]
        }
      ],
      "source": [
        "arr=np.array([[1,2],[3,4]])\n",
        "print(arr)\n",
        "print(arr.size)\n",
        "print(arr.itemsize)\n"
      ]
    },
    {
      "cell_type": "markdown",
      "metadata": {
        "id": "b6Mpvf35ir8v"
      },
      "source": [
        "#### 5.  How to get the documentation of the numpy add function from the command line? (★☆☆) \n",
        "(**hint**: np.info)"
      ]
    },
    {
      "cell_type": "code",
      "source": [
        "ar1= np.arange(1,10).reshape(3,3)\n",
        "ar2= np.arange(1,10).reshape(3,3)\n",
        "print(ar1,ar2)\n",
        "print(np.add(ar1,ar2))\n",
        "print(np.info(np.add))\n"
      ],
      "metadata": {
        "colab": {
          "base_uri": "https://localhost:8080/"
        },
        "id": "jVXRu0osqqOF",
        "outputId": "183b1abc-b99d-4af2-c5d8-327bb2ef7389"
      },
      "execution_count": null,
      "outputs": [
        {
          "output_type": "stream",
          "name": "stdout",
          "text": [
            "[[1 2 3]\n",
            " [4 5 6]\n",
            " [7 8 9]] [[1 2 3]\n",
            " [4 5 6]\n",
            " [7 8 9]]\n",
            "[[ 2  4  6]\n",
            " [ 8 10 12]\n",
            " [14 16 18]]\n",
            "add(x1, x2, /, out=None, *, where=True, casting='same_kind', order='K', dtype=None, subok=True[, signature, extobj])\n",
            "\n",
            "Add arguments element-wise.\n",
            "\n",
            "Parameters\n",
            "----------\n",
            "x1, x2 : array_like\n",
            "    The arrays to be added.\n",
            "    If ``x1.shape != x2.shape``, they must be broadcastable to a common\n",
            "    shape (which becomes the shape of the output).\n",
            "out : ndarray, None, or tuple of ndarray and None, optional\n",
            "    A location into which the result is stored. If provided, it must have\n",
            "    a shape that the inputs broadcast to. If not provided or None,\n",
            "    a freshly-allocated array is returned. A tuple (possible only as a\n",
            "    keyword argument) must have length equal to the number of outputs.\n",
            "where : array_like, optional\n",
            "    This condition is broadcast over the input. At locations where the\n",
            "    condition is True, the `out` array will be set to the ufunc result.\n",
            "    Elsewhere, the `out` array will retain its original value.\n",
            "    Note that if an uninitialized `out` array is created via the default\n",
            "    ``out=None``, locations within it where the condition is False will\n",
            "    remain uninitialized.\n",
            "**kwargs\n",
            "    For other keyword-only arguments, see the\n",
            "    :ref:`ufunc docs <ufuncs.kwargs>`.\n",
            "\n",
            "Returns\n",
            "-------\n",
            "add : ndarray or scalar\n",
            "    The sum of `x1` and `x2`, element-wise.\n",
            "    This is a scalar if both `x1` and `x2` are scalars.\n",
            "\n",
            "Notes\n",
            "-----\n",
            "Equivalent to `x1` + `x2` in terms of array broadcasting.\n",
            "\n",
            "Examples\n",
            "--------\n",
            ">>> np.add(1.0, 4.0)\n",
            "5.0\n",
            ">>> x1 = np.arange(9.0).reshape((3, 3))\n",
            ">>> x2 = np.arange(3.0)\n",
            ">>> np.add(x1, x2)\n",
            "array([[  0.,   2.,   4.],\n",
            "       [  3.,   5.,   7.],\n",
            "       [  6.,   8.,  10.]])\n",
            "\n",
            "The ``+`` operator can be used as a shorthand for ``np.add`` on ndarrays.\n",
            "\n",
            ">>> x1 = np.arange(9.0).reshape((3, 3))\n",
            ">>> x2 = np.arange(3.0)\n",
            ">>> x1 + x2\n",
            "array([[ 0.,  2.,  4.],\n",
            "       [ 3.,  5.,  7.],\n",
            "       [ 6.,  8., 10.]])\n",
            "None\n"
          ]
        }
      ]
    },
    {
      "cell_type": "markdown",
      "metadata": {
        "id": "IvRIz2Piir8y"
      },
      "source": [
        "#### 6.  Create a null vector of size 10 but the fifth value which is 1 (★☆☆) \n",
        "(**hint**: array\\[4\\])"
      ]
    },
    {
      "cell_type": "code",
      "execution_count": null,
      "metadata": {
        "id": "IZ2I3NnYir80",
        "colab": {
          "base_uri": "https://localhost:8080/"
        },
        "outputId": "af473479-0310-4d34-bab8-b1fe5c8b67f0"
      },
      "outputs": [
        {
          "output_type": "stream",
          "name": "stdout",
          "text": [
            "[0. 0. 0. 0. 1. 0. 0. 0. 0. 0.]\n"
          ]
        }
      ],
      "source": [
        "array=np.zeros(10)\n",
        "array[4]=1\n",
        "print(array)"
      ]
    },
    {
      "cell_type": "markdown",
      "metadata": {
        "id": "tWJ6Nbjgir81"
      },
      "source": [
        "#### 7.  Create a vector with values ranging from 10 to 49 (★☆☆) \n",
        "(**hint**: np.arange)"
      ]
    },
    {
      "cell_type": "code",
      "execution_count": null,
      "metadata": {
        "id": "1-23Uwwpir83",
        "colab": {
          "base_uri": "https://localhost:8080/"
        },
        "outputId": "c44ca5e7-ace0-453c-d5a3-cbc4e0c9c64b"
      },
      "outputs": [
        {
          "output_type": "execute_result",
          "data": {
            "text/plain": [
              "array([10, 11, 12, 13, 14, 15, 16, 17, 18, 19, 20, 21, 22, 23, 24, 25, 26,\n",
              "       27, 28, 29, 30, 31, 32, 33, 34, 35, 36, 37, 38, 39, 40, 41, 42, 43,\n",
              "       44, 45, 46, 47, 48, 49])"
            ]
          },
          "metadata": {},
          "execution_count": 7
        }
      ],
      "source": [
        "np.arange(10, 50)"
      ]
    },
    {
      "cell_type": "markdown",
      "metadata": {
        "id": "auaXrD4Uir84"
      },
      "source": [
        "#### 8.  Reverse a vector (first element becomes last) (★☆☆) \n",
        "(**hint**: array\\[::-1\\])"
      ]
    },
    {
      "cell_type": "code",
      "execution_count": null,
      "metadata": {
        "id": "-fTepHwzir86",
        "colab": {
          "base_uri": "https://localhost:8080/"
        },
        "outputId": "23feb8f0-de0f-4e3d-d785-c4cf86ebc982"
      },
      "outputs": [
        {
          "output_type": "execute_result",
          "data": {
            "text/plain": [
              "array([10,  9,  8,  7,  6,  5,  4,  3,  2,  1,  0])"
            ]
          },
          "metadata": {},
          "execution_count": 8
        }
      ],
      "source": [
        "np.arange(0, 11)[::-1]"
      ]
    },
    {
      "cell_type": "markdown",
      "metadata": {
        "id": "fioYzW-Mir86"
      },
      "source": [
        "#### 9.  Create a 3x3 matrix with values ranging from 0 to 8 (★☆☆) \n",
        "(**hint**: reshape)"
      ]
    },
    {
      "cell_type": "code",
      "execution_count": null,
      "metadata": {
        "id": "pZQFCGi0ir88",
        "colab": {
          "base_uri": "https://localhost:8080/"
        },
        "outputId": "8b61c63b-93a7-4b99-a4b9-8ed604f705f9"
      },
      "outputs": [
        {
          "output_type": "stream",
          "name": "stdout",
          "text": [
            "[[0 1 2]\n",
            " [3 4 5]\n",
            " [6 7 8]]\n"
          ]
        }
      ],
      "source": [
        "Z = np.arange(9).reshape(3, 3)\n",
        "print(Z)"
      ]
    },
    {
      "cell_type": "markdown",
      "metadata": {
        "id": "6de6KleYir89"
      },
      "source": [
        "#### 10. Find indices of non-zero elements from \\[1,2,0,0,4,0\\] (★☆☆) \n",
        "(**hint**: np.nonzero)"
      ]
    },
    {
      "cell_type": "code",
      "execution_count": null,
      "metadata": {
        "id": "UUE_40j4ir8-",
        "colab": {
          "base_uri": "https://localhost:8080/"
        },
        "outputId": "e5b0d314-a8cd-4745-ecb0-e3a07ee13d6e"
      },
      "outputs": [
        {
          "output_type": "stream",
          "name": "stdout",
          "text": [
            "(array([0, 1, 4]),)\n"
          ]
        }
      ],
      "source": [
        "z = np.nonzero([1,2,0,0,4,0])\n",
        "print(z)"
      ]
    },
    {
      "cell_type": "markdown",
      "metadata": {
        "id": "uICgsci0ir8_"
      },
      "source": [
        "#### 11. Create a 3x3 identity matrix (★☆☆) \n",
        "(**hint**: np.eye)"
      ]
    },
    {
      "cell_type": "code",
      "execution_count": null,
      "metadata": {
        "id": "JOllU8bAir9A",
        "colab": {
          "base_uri": "https://localhost:8080/"
        },
        "outputId": "d6184443-651c-455f-ecc4-be8ddf98ba01"
      },
      "outputs": [
        {
          "output_type": "stream",
          "name": "stdout",
          "text": [
            "[[1. 0. 0.]\n",
            " [0. 1. 0.]\n",
            " [0. 0. 1.]]\n"
          ]
        }
      ],
      "source": [
        "x = np.eye(3)\n",
        "print(x)"
      ]
    },
    {
      "cell_type": "markdown",
      "metadata": {
        "id": "vfEuWou5ir9B"
      },
      "source": [
        "#### 12. Create a 3x3x3 array with random values (★☆☆) \n",
        "(**hint**: np.random.random)"
      ]
    },
    {
      "cell_type": "code",
      "execution_count": null,
      "metadata": {
        "collapsed": true,
        "id": "7HiV7KNIir9C",
        "colab": {
          "base_uri": "https://localhost:8080/"
        },
        "outputId": "61270c0a-5eb2-4429-fd44-5e5f083a969b"
      },
      "outputs": [
        {
          "output_type": "stream",
          "name": "stdout",
          "text": [
            "[[[0.67840729 0.92247603 0.1230668 ]\n",
            "  [0.73723925 0.84157578 0.59045147]\n",
            "  [0.20203792 0.46567863 0.26266719]]\n",
            "\n",
            " [[0.98148031 0.58343046 0.18972261]\n",
            "  [0.02186412 0.59053263 0.71871964]\n",
            "  [0.85449769 0.28736074 0.90679107]]\n",
            "\n",
            " [[0.90966438 0.66953297 0.76188573]\n",
            "  [0.99504899 0.69667754 0.86042437]\n",
            "  [0.14893235 0.45920871 0.11172474]]]\n"
          ]
        }
      ],
      "source": [
        "z=np.random.random((3,3,3))\n",
        "print(z)"
      ]
    },
    {
      "cell_type": "markdown",
      "metadata": {
        "id": "EMVZv3aEir9D"
      },
      "source": [
        "#### 13. Create a 10x10 array with random values and find the minimum and maximum values (★☆☆) \n",
        "(**hint**: min, max)"
      ]
    },
    {
      "cell_type": "code",
      "execution_count": null,
      "metadata": {
        "id": "bvwrSx2Oir9E",
        "colab": {
          "base_uri": "https://localhost:8080/"
        },
        "outputId": "91957bac-024f-4f75-f8e2-36639094c845"
      },
      "outputs": [
        {
          "output_type": "stream",
          "name": "stdout",
          "text": [
            "[[0.14291799 0.75272062 0.53663489 0.87462167 0.38113849 0.23689512\n",
            "  0.04783642 0.566775   0.69260543 0.64197769]\n",
            " [0.46625682 0.16150987 0.69014897 0.55850572 0.26754616 0.44337878\n",
            "  0.88280172 0.05197105 0.95515155 0.23198885]\n",
            " [0.72827409 0.27125947 0.98999963 0.30139648 0.74200641 0.02685103\n",
            "  0.9296964  0.27306376 0.10927367 0.04051749]\n",
            " [0.00391026 0.46357822 0.63557119 0.20246146 0.35946827 0.73377754\n",
            "  0.0516907  0.97408309 0.12533922 0.42718532]\n",
            " [0.04764142 0.65427301 0.7024761  0.69889915 0.31665681 0.35287593\n",
            "  0.39338882 0.19125488 0.24341489 0.64648651]\n",
            " [0.03361126 0.61931888 0.87483131 0.15566016 0.72853757 0.67226725\n",
            "  0.43455931 0.08904651 0.07364569 0.85189797]\n",
            " [0.50674152 0.02827942 0.47362944 0.94287019 0.23323798 0.36153815\n",
            "  0.07308466 0.72680449 0.78141644 0.05497256]\n",
            " [0.85079289 0.05670811 0.04839151 0.59244082 0.61308356 0.38760084\n",
            "  0.50370446 0.45630416 0.31331243 0.5698626 ]\n",
            " [0.35603427 0.47562305 0.82422889 0.2454227  0.7485448  0.21414603\n",
            "  0.23477868 0.74871439 0.28362512 0.45719205]\n",
            " [0.33560631 0.15566811 0.19464502 0.0584187  0.76417531 0.11138293\n",
            "  0.74583464 0.18939164 0.67685264 0.72267404]]\n",
            "0.9899996317981923 0.003910260376333241\n"
          ]
        }
      ],
      "source": [
        "x = np.random.random((10, 10))\n",
        "print(x)\n",
        "xmax,xmin = x.max() , x.min()\n",
        "print(xmax,xmin) "
      ]
    },
    {
      "cell_type": "markdown",
      "metadata": {
        "id": "0m-J3RZnir9E"
      },
      "source": [
        "#### 14. Create a random vector of size 30 and find the mean value (★☆☆) \n",
        "(**hint**: mean)"
      ]
    },
    {
      "cell_type": "code",
      "execution_count": null,
      "metadata": {
        "id": "CX3F0VXIir9F",
        "colab": {
          "base_uri": "https://localhost:8080/"
        },
        "outputId": "ff6ea13d-aa66-47d2-f640-93a5d9b54705"
      },
      "outputs": [
        {
          "output_type": "stream",
          "name": "stdout",
          "text": [
            "[0.35598976 0.99831763 0.84469996 0.60634211 0.84239925 0.17254172\n",
            " 0.90519554 0.9338899  0.40226483 0.4300188  0.46469706 0.56552331\n",
            " 0.31840321 0.59520659 0.18052726 0.51877731 0.05158469 0.90194445\n",
            " 0.92974885 0.39376265 0.42535093 0.65351615 0.97177057 0.83102776\n",
            " 0.78277968 0.75402104 0.81910299 0.78973781 0.90446642 0.57502766]\n",
            "0.6306211961670453\n"
          ]
        }
      ],
      "source": [
        "z = np.random.random(30)\n",
        "print(z)\n",
        "m = z.mean()\n",
        "print(m)"
      ]
    },
    {
      "cell_type": "markdown",
      "metadata": {
        "id": "B_W4lLZGir9G"
      },
      "source": [
        "#### 15. Create a 2d array with 1 on the border and 0 inside (★☆☆) \n",
        "(**hint**: array\\[1:-1, 1:-1\\])"
      ]
    },
    {
      "cell_type": "code",
      "execution_count": null,
      "metadata": {
        "id": "0pg6WQBtir9G",
        "colab": {
          "base_uri": "https://localhost:8080/"
        },
        "outputId": "54b071f4-1759-48de-a12c-e9d73cab683d"
      },
      "outputs": [
        {
          "output_type": "stream",
          "name": "stdout",
          "text": [
            "[[1. 1. 1. 1. 1.]\n",
            " [1. 1. 1. 1. 1.]\n",
            " [1. 1. 1. 1. 1.]\n",
            " [1. 1. 1. 1. 1.]\n",
            " [1. 1. 1. 1. 1.]]\n",
            "[[1. 1. 1. 1. 1.]\n",
            " [1. 0. 0. 0. 1.]\n",
            " [1. 0. 0. 0. 1.]\n",
            " [1. 0. 0. 0. 1.]\n",
            " [1. 1. 1. 1. 1.]]\n"
          ]
        }
      ],
      "source": [
        "x = np.ones((5,5))\n",
        "print(x)\n",
        "x[1:-1,1:-1] = 0\n",
        "print(x)"
      ]
    },
    {
      "cell_type": "markdown",
      "metadata": {
        "id": "IWIhIYacir9H"
      },
      "source": [
        "#### 16. How to add a border (filled with 0's) around an existing array? (★☆☆) \n",
        "(**hint**: np.pad)"
      ]
    },
    {
      "cell_type": "code",
      "execution_count": null,
      "metadata": {
        "id": "iy_2onc0ir9I",
        "colab": {
          "base_uri": "https://localhost:8080/"
        },
        "outputId": "84127297-6ed8-4c2b-cd6d-63c861f89501"
      },
      "outputs": [
        {
          "output_type": "stream",
          "name": "stdout",
          "text": [
            "[[1. 1. 1.]\n",
            " [1. 1. 1.]\n",
            " [1. 1. 1.]]\n",
            "[[0. 0. 0. 0. 0.]\n",
            " [0. 1. 1. 1. 0.]\n",
            " [0. 1. 1. 1. 0.]\n",
            " [0. 1. 1. 1. 0.]\n",
            " [0. 0. 0. 0. 0.]]\n"
          ]
        }
      ],
      "source": [
        "import numpy as np\n",
        "x = np.ones((3,3))\n",
        "print(x)\n",
        "x = np.pad(x, pad_width=1, mode='constant', constant_values=0)\n",
        "print(x)"
      ]
    },
    {
      "cell_type": "markdown",
      "metadata": {
        "id": "TtXRLd5eir9J"
      },
      "source": [
        "#### 17. What is the result of the following expression? (★☆☆) \n",
        "(**hint**: NaN = not a number, inf = infinity)"
      ]
    },
    {
      "cell_type": "markdown",
      "metadata": {
        "id": "5I9HMlh8ir9K"
      },
      "source": [
        "```python\n",
        "0 * np.nan\n",
        "np.nan == np.nan\n",
        "np.inf > np.nan\n",
        "np.nan - np.nan\n",
        "0.3 == 3 * 0.1\n",
        "```"
      ]
    },
    {
      "cell_type": "code",
      "source": [
        "print(0 * np.nan)\n",
        "print(np.nan == np.nan)\n",
        "print(np.inf > np.nan)\n",
        "print(np.nan - np.nan)\n",
        "print(0.3 == 3 * 0.1)"
      ],
      "metadata": {
        "colab": {
          "base_uri": "https://localhost:8080/"
        },
        "id": "zwYsOahnyfIA",
        "outputId": "7d4cf1a2-67c9-406a-aad0-351333bd495f"
      },
      "execution_count": null,
      "outputs": [
        {
          "output_type": "stream",
          "name": "stdout",
          "text": [
            "nan\n",
            "False\n",
            "False\n",
            "nan\n",
            "False\n"
          ]
        }
      ]
    },
    {
      "cell_type": "markdown",
      "metadata": {
        "id": "mnSeOUQfir9M"
      },
      "source": [
        "#### 18. Create a 5x5 matrix with values 1,2,3,4 just below the diagonal (★☆☆) \n",
        "(**hint**: np.diag)"
      ]
    },
    {
      "cell_type": "code",
      "execution_count": null,
      "metadata": {
        "id": "lJKsUP2Yir9M",
        "colab": {
          "base_uri": "https://localhost:8080/"
        },
        "outputId": "7bd73b90-e64d-4522-d197-19d2b6726d5e"
      },
      "outputs": [
        {
          "output_type": "stream",
          "name": "stdout",
          "text": [
            "[[0. 0. 0. 0. 0.]\n",
            " [0. 0. 0. 0. 0.]\n",
            " [0. 0. 0. 0. 0.]\n",
            " [0. 0. 0. 0. 0.]\n",
            " [0. 0. 0. 0. 0.]]\n",
            "[[1 0 0 0 0]\n",
            " [0 2 0 0 0]\n",
            " [0 0 3 0 0]\n",
            " [0 0 0 4 0]\n",
            " [0 0 0 0 5]]\n"
          ]
        }
      ],
      "source": [
        "x= np.zeros((5,5))\n",
        "print(x)\n",
        "x = np.diag([1, 2, 3, 4, 5])\n",
        "print(x)"
      ]
    },
    {
      "cell_type": "markdown",
      "metadata": {
        "id": "tkA7Xp0fir9N"
      },
      "source": [
        "#### 19. Create a 8x8 matrix and fill it with a checkerboard pattern (★☆☆) \n",
        "(**hint**: array\\[::2\\])"
      ]
    },
    {
      "cell_type": "code",
      "execution_count": null,
      "metadata": {
        "id": "1iNunnOJir9O",
        "colab": {
          "base_uri": "https://localhost:8080/"
        },
        "outputId": "608b873e-63f4-4222-f0a2-b6b502dcf629"
      },
      "outputs": [
        {
          "output_type": "stream",
          "name": "stdout",
          "text": [
            "Checkerboard pattern:\n",
            "[[0 1 0 1 0 1 0 1]\n",
            " [1 0 1 0 1 0 1 0]\n",
            " [0 1 0 1 0 1 0 1]\n",
            " [1 0 1 0 1 0 1 0]\n",
            " [0 1 0 1 0 1 0 1]\n",
            " [1 0 1 0 1 0 1 0]\n",
            " [0 1 0 1 0 1 0 1]\n",
            " [1 0 1 0 1 0 1 0]]\n"
          ]
        }
      ],
      "source": [
        "import numpy as np\n",
        "x = np.ones((3,3))\n",
        "print(\"Checkerboard pattern:\")\n",
        "x = np.zeros((8,8),dtype=int)\n",
        "x[1::2,::2] = 1\n",
        "x[::2,1::2] = 1\n",
        "print(x)"
      ]
    },
    {
      "cell_type": "markdown",
      "metadata": {
        "id": "sCy7-kUOir9O"
      },
      "source": [
        "#### 20. Consider a (6,7,8) shape array, what is the index (x,y,z) of the 100th element? \n",
        "(**hint**: np.unravel_index)"
      ]
    },
    {
      "cell_type": "code",
      "execution_count": null,
      "metadata": {
        "id": "ZPFhvHIjir9P",
        "colab": {
          "base_uri": "https://localhost:8080/"
        },
        "outputId": "158115a8-b20b-4001-b911-c21bff16a0ec"
      },
      "outputs": [
        {
          "output_type": "stream",
          "name": "stdout",
          "text": [
            "(1, 5, 4)\n"
          ]
        }
      ],
      "source": [
        "print(np.unravel_index(100,(6,7,8)))"
      ]
    },
    {
      "cell_type": "markdown",
      "metadata": {
        "id": "pWif6h82ir9Q"
      },
      "source": [
        "#### 21. Create a checkerboard 8x8 matrix using the tile function (★☆☆) \n",
        "(**hint**: np.tile)"
      ]
    },
    {
      "cell_type": "code",
      "execution_count": null,
      "metadata": {
        "id": "3AB2e2o5ir9R",
        "colab": {
          "base_uri": "https://localhost:8080/"
        },
        "outputId": "4678374e-1f20-4c41-edc3-fe168c17d4e9"
      },
      "outputs": [
        {
          "output_type": "stream",
          "name": "stdout",
          "text": [
            "[[0 1 0 1 0 1 0 1]\n",
            " [1 0 1 0 1 0 1 0]\n",
            " [0 1 0 1 0 1 0 1]\n",
            " [1 0 1 0 1 0 1 0]\n",
            " [0 1 0 1 0 1 0 1]\n",
            " [1 0 1 0 1 0 1 0]\n",
            " [0 1 0 1 0 1 0 1]\n",
            " [1 0 1 0 1 0 1 0]]\n"
          ]
        }
      ],
      "source": [
        "Z = np.tile( np.array([[0,1],[1,0]]), (4,4))\n",
        "\n",
        "print(Z)"
      ]
    },
    {
      "cell_type": "markdown",
      "metadata": {
        "id": "jxuSRMD0ir9S"
      },
      "source": [
        "#### 22. Normalize a 5x5 random matrix (★☆☆) \n",
        "(**hint**: (x - min) / (max - min))"
      ]
    },
    {
      "cell_type": "code",
      "execution_count": null,
      "metadata": {
        "id": "LPB1rbcqir9T",
        "colab": {
          "base_uri": "https://localhost:8080/"
        },
        "outputId": "1195f170-7c95-4709-edd2-efe4df949cdb"
      },
      "outputs": [
        {
          "output_type": "stream",
          "name": "stdout",
          "text": [
            "[[0.47465905 0.74971114 0.8967928  0.04085211 0.47520377]\n",
            " [0.44426337 0.24931943 0.41812101 0.37567168 0.33118408]\n",
            " [0.32754423 0.4855281  0.78929061 0.87907599 0.99552351]\n",
            " [0.40646187 0.21666294 0.06140904 0.61807743 0.89911485]\n",
            " [0.11475777 0.50753597 0.69521191 0.53908291 0.24665686]]\n",
            "[[0.45440446 0.74251625 0.89658147 0.         0.45497504]\n",
            " [0.42256556 0.21836552 0.39518194 0.35071709 0.30411717]\n",
            " [0.3003045  0.46578958 0.78397498 0.87802346 1.        ]\n",
            " [0.38296922 0.18415847 0.02153299 0.60463246 0.89901378]\n",
            " [0.07741476 0.4888424  0.68542936 0.52188722 0.21557653]]\n"
          ]
        }
      ],
      "source": [
        "z = np.random.random((5,5))\n",
        "print(z)\n",
        "zmax, zmin = z.max(), z.min()\n",
        "z = (z - zmin)/(zmax - zmin)\n",
        "print(z)"
      ]
    },
    {
      "cell_type": "markdown",
      "metadata": {
        "id": "7KQ26AP-ir9T"
      },
      "source": [
        "#### 23. Create a custom dtype that describes a color as four unsigned bytes (RGBA) (★☆☆) \n",
        "(**hint**: np.dtype)"
      ]
    },
    {
      "cell_type": "code",
      "execution_count": null,
      "metadata": {
        "collapsed": true,
        "id": "bQRD2ReOir9U",
        "colab": {
          "base_uri": "https://localhost:8080/"
        },
        "outputId": "05f5b77c-e154-4e9a-ae93-b9b761c48e27"
      },
      "outputs": [
        {
          "output_type": "stream",
          "name": "stdout",
          "text": [
            "[('r', 'u1'), ('g', 'u1'), ('b', 'u1'), ('a', 'u1')]\n"
          ]
        }
      ],
      "source": [
        "color = np.dtype([(\"r\", np.ubyte),\n",
        "                  (\"g\", np.ubyte),\n",
        "                  (\"b\", np.ubyte),\n",
        "                  (\"a\", np.ubyte)])\n",
        "print(color)"
      ]
    },
    {
      "cell_type": "markdown",
      "metadata": {
        "id": "rCEqEl9Kir9U"
      },
      "source": [
        "#### 24. Multiply a 5x3 matrix by a 3x2 matrix (real matrix product) (★☆☆) \n",
        "(**hint**: np.dot | @)"
      ]
    },
    {
      "cell_type": "code",
      "execution_count": null,
      "metadata": {
        "id": "F9kTxtSxir9V",
        "colab": {
          "base_uri": "https://localhost:8080/"
        },
        "outputId": "d98a6dca-66e6-42f3-a539-51df632aba07"
      },
      "outputs": [
        {
          "output_type": "stream",
          "name": "stdout",
          "text": [
            "[[1. 1. 1.]\n",
            " [1. 1. 1.]\n",
            " [1. 1. 1.]\n",
            " [1. 1. 1.]\n",
            " [1. 1. 1.]] [[1. 1.]\n",
            " [1. 1.]\n",
            " [1. 1.]]\n",
            "[[3. 3.]\n",
            " [3. 3.]\n",
            " [3. 3.]\n",
            " [3. 3.]\n",
            " [3. 3.]]\n",
            "[[3. 3.]\n",
            " [3. 3.]\n",
            " [3. 3.]\n",
            " [3. 3.]\n",
            " [3. 3.]]\n"
          ]
        }
      ],
      "source": [
        "z1=np.ones((5,3))\n",
        "z2= np.ones((3,2))\n",
        "print(z1,z2)\n",
        "print(z1.dot(z2))\n",
        "print(z1@z2)"
      ]
    },
    {
      "cell_type": "markdown",
      "metadata": {
        "id": "2l6-4ZmFir9W"
      },
      "source": [
        "#### 25. Given a 1D array, negate all elements which are between 3 and 8, in place. (★☆☆) \n",
        "(**hint**: >, <=)"
      ]
    },
    {
      "cell_type": "code",
      "execution_count": null,
      "metadata": {
        "id": "J44SoIDEir9X",
        "colab": {
          "base_uri": "https://localhost:8080/"
        },
        "outputId": "7c3428f8-b1ba-449c-f22a-1b32c47d97e8"
      },
      "outputs": [
        {
          "output_type": "stream",
          "name": "stdout",
          "text": [
            "[ 0  1  2  3 -4 -5 -6 -7 -8  9 10]\n"
          ]
        }
      ],
      "source": [
        "Z = np.arange(11)\n",
        "Z[(Z>3) & (Z <= 8)] *= -1\n",
        "print(Z)"
      ]
    },
    {
      "cell_type": "markdown",
      "metadata": {
        "id": "cN1EJI0uir9X"
      },
      "source": [
        "#### 26. What is the output of the following script? (★☆☆) \n",
        "(**hint**: np.sum)"
      ]
    },
    {
      "cell_type": "markdown",
      "metadata": {
        "id": "_uRiHfaHir9Y"
      },
      "source": [
        "```python\n",
        "# Author: Jake VanderPlas\n",
        "\n",
        "print(sum(range(5),-1))\n",
        "from numpy import *\n",
        "print(sum(range(5),-1))\n",
        "```"
      ]
    },
    {
      "cell_type": "code",
      "execution_count": null,
      "metadata": {
        "id": "sQANBsqqir9Z",
        "colab": {
          "base_uri": "https://localhost:8080/"
        },
        "outputId": "5fea564a-4dfe-478e-9fc5-dc6935772f6e"
      },
      "outputs": [
        {
          "output_type": "stream",
          "name": "stdout",
          "text": [
            "9\n",
            "10\n"
          ]
        }
      ],
      "source": [
        "print(sum(range(5),-1))\n",
        "from numpy import *\n",
        "print(sum(range(5),-1))"
      ]
    },
    {
      "cell_type": "markdown",
      "metadata": {
        "id": "qDXExX0tir9Z"
      },
      "source": [
        "#### 27. Consider an integer vector Z, which of these expressions are legal? (★☆☆)"
      ]
    },
    {
      "cell_type": "markdown",
      "metadata": {
        "id": "dXAYxqinir9a"
      },
      "source": [
        "```python\n",
        "Z**Z\n",
        "2 << Z >> 2\n",
        "Z <- Z\n",
        "1j*Z\n",
        "Z/1/1\n",
        "Z<Z>Z\n",
        "```"
      ]
    },
    {
      "cell_type": "code",
      "execution_count": null,
      "metadata": {
        "id": "3a0JKp7rir9b",
        "colab": {
          "base_uri": "https://localhost:8080/"
        },
        "outputId": "5362a942-96cb-4115-a2a3-6127bf5332b5"
      },
      "outputs": [
        {
          "output_type": "execute_result",
          "data": {
            "text/plain": [
              "array([1., 1., 1.])"
            ]
          },
          "metadata": {},
          "execution_count": 27
        }
      ],
      "source": [
        "Z = np.ones(3)\n",
        "Z**Z\n",
        "Z <- Z\n",
        "1j*Z\n",
        "Z/1/1"
      ]
    },
    {
      "cell_type": "markdown",
      "metadata": {
        "id": "QPZetdbjir9b"
      },
      "source": [
        "#### 28. What are the result of the following expressions?"
      ]
    },
    {
      "cell_type": "markdown",
      "metadata": {
        "id": "UZK4v-8dir9c"
      },
      "source": [
        "```python\n",
        "np.array(0) / np.array(0)\n",
        "np.array(0) // np.array(0)\n",
        "np.array([np.nan]).astype(int).astype(float)\n",
        "```"
      ]
    },
    {
      "cell_type": "code",
      "execution_count": null,
      "metadata": {
        "id": "1CGkEqhQir9d",
        "colab": {
          "base_uri": "https://localhost:8080/"
        },
        "outputId": "95aedf85-8b0f-4173-dcd7-35360cb3c026"
      },
      "outputs": [
        {
          "output_type": "stream",
          "name": "stderr",
          "text": [
            "/usr/local/lib/python3.7/dist-packages/ipykernel_launcher.py:1: RuntimeWarning: invalid value encountered in true_divide\n",
            "  \"\"\"Entry point for launching an IPython kernel.\n",
            "/usr/local/lib/python3.7/dist-packages/ipykernel_launcher.py:2: RuntimeWarning: divide by zero encountered in floor_divide\n",
            "  \n"
          ]
        },
        {
          "output_type": "execute_result",
          "data": {
            "text/plain": [
              "array([-9.22337204e+18])"
            ]
          },
          "metadata": {},
          "execution_count": 28
        }
      ],
      "source": [
        "np.array(0) / np.array(0)\n",
        "np.array(0) // np.array(0)\n",
        "np.array([np.nan]).astype(int).astype(float)"
      ]
    },
    {
      "cell_type": "markdown",
      "metadata": {
        "id": "eQ67466wir9e"
      },
      "source": [
        "#### 29. How to round away from zero a float array ? (★☆☆) \n",
        "(**hint**: np.uniform, np.copysign, np.ceil, np.abs)"
      ]
    },
    {
      "cell_type": "code",
      "execution_count": null,
      "metadata": {
        "id": "_IJIlHd2ir9e",
        "colab": {
          "base_uri": "https://localhost:8080/"
        },
        "outputId": "577ef7c1-e852-43f3-f85c-f2553310cdf3"
      },
      "outputs": [
        {
          "output_type": "stream",
          "name": "stdout",
          "text": [
            "[  7.   9.  10.  10.   6.  -2.   5. -10.  -2.  -7.]\n",
            "[  7.   9.  10.  10.   6.  -2.   5. -10.  -2.  -7.]\n"
          ]
        }
      ],
      "source": [
        "\n",
        "Z = np.random.uniform(-10,+10,10)\n",
        "print(np.copysign(np.ceil(np.abs(Z)),Z))\n",
        "print(np.where(Z>0, np.ceil(Z), np.floor(Z)))"
      ]
    },
    {
      "cell_type": "markdown",
      "metadata": {
        "id": "AtQW0FHIir9f"
      },
      "source": [
        "#### 30. How to find common values between two arrays? (★☆☆) \n",
        "(**hint**: np.intersect1d)"
      ]
    },
    {
      "cell_type": "code",
      "execution_count": null,
      "metadata": {
        "id": "CpxmIYc8ir9g",
        "colab": {
          "base_uri": "https://localhost:8080/"
        },
        "outputId": "411372de-a5ee-48ce-ddb4-1affcbdf3822"
      },
      "outputs": [
        {
          "output_type": "stream",
          "name": "stdout",
          "text": [
            "[2 7 7 3 3 0 2 1 2 2] [7 0 7 3 4 3 3 9 7 3]\n",
            "[0 3 7]\n"
          ]
        }
      ],
      "source": [
        "Z1 = np.random.randint(0,10,10)\n",
        "Z2 = np.random.randint(0,10,10)\n",
        "print(Z1, Z2)\n",
        "print(np.intersect1d(Z1,Z2))"
      ]
    },
    {
      "cell_type": "markdown",
      "metadata": {
        "id": "NBw0JMVVir9g"
      },
      "source": [
        "#### 31. How to ignore all numpy warnings (not recommended)? (★☆☆) \n",
        "(**hint**: np.seterr, np.errstate)"
      ]
    },
    {
      "cell_type": "code",
      "source": [
        "# Suicide mode on\n",
        "defaults = np.seterr(all=\"ignore\")\n",
        "Z = np.ones(1) / 0\n",
        "\n",
        "# Back to sanity\n",
        "_ = np.seterr(**defaults)\n",
        "\n",
        "# Equivalently with a context manager\n",
        "with np.errstate(all=\"ignore\"):\n",
        "    np.arange(3) / 0\n",
        "    \n",
        "# Back to sanity\n",
        "_ = np.seterr(**defaults)\n",
        "Z = np.ones(1) / 0"
      ],
      "metadata": {
        "colab": {
          "base_uri": "https://localhost:8080/"
        },
        "id": "ooRZ2Nw976RI",
        "outputId": "30ec7802-eca8-493b-a9b5-2030dc1def50"
      },
      "execution_count": null,
      "outputs": [
        {
          "output_type": "stream",
          "name": "stderr",
          "text": [
            "/usr/local/lib/python3.7/dist-packages/ipykernel_launcher.py:14: RuntimeWarning: divide by zero encountered in true_divide\n",
            "  \n"
          ]
        }
      ]
    },
    {
      "cell_type": "markdown",
      "metadata": {
        "id": "6MvaLBlYir9h"
      },
      "source": [
        "#### 32. Is the following expressions true? (★☆☆) \n",
        "(**hint**: imaginary number)"
      ]
    },
    {
      "cell_type": "markdown",
      "metadata": {
        "id": "hHvS2dO2ir9i"
      },
      "source": [
        "```python\n",
        "np.sqrt(-1) == np.emath.sqrt(-1)\n",
        "```"
      ]
    },
    {
      "cell_type": "code",
      "execution_count": null,
      "metadata": {
        "id": "Xy3EaSL6ir9j",
        "colab": {
          "base_uri": "https://localhost:8080/"
        },
        "outputId": "418a316b-b80d-48be-fde3-74b8840cc801"
      },
      "outputs": [
        {
          "output_type": "stream",
          "name": "stderr",
          "text": [
            "/usr/local/lib/python3.7/dist-packages/ipykernel_launcher.py:1: RuntimeWarning: invalid value encountered in sqrt\n",
            "  \"\"\"Entry point for launching an IPython kernel.\n"
          ]
        },
        {
          "output_type": "execute_result",
          "data": {
            "text/plain": [
              "False"
            ]
          },
          "metadata": {},
          "execution_count": 32
        }
      ],
      "source": [
        "np.sqrt(-1) == np.emath.sqrt(-1)"
      ]
    },
    {
      "cell_type": "markdown",
      "metadata": {
        "id": "tomFTagJir9k"
      },
      "source": [
        "#### 33. How to get the dates of yesterday, today and tomorrow? (★☆☆) \n",
        "(**hint**: np.datetime64, np.timedelta64)"
      ]
    },
    {
      "cell_type": "code",
      "execution_count": null,
      "metadata": {
        "collapsed": true,
        "id": "t2KI3Iofir9l",
        "colab": {
          "base_uri": "https://localhost:8080/"
        },
        "outputId": "995e8236-a167-4545-ca8a-dddec26d3037"
      },
      "outputs": [
        {
          "output_type": "stream",
          "name": "stdout",
          "text": [
            "2022-05-14\n",
            "2022-05-15\n",
            "2022-05-16\n"
          ]
        }
      ],
      "source": [
        "yesterday = np.datetime64('today') - np.timedelta64(1)\n",
        "print(yesterday)\n",
        "today     = np.datetime64('today')\n",
        "print(today)\n",
        "tomorrow  = np.datetime64('today') + np.timedelta64(1)\n",
        "print(tomorrow)"
      ]
    },
    {
      "cell_type": "markdown",
      "metadata": {
        "id": "n0SI7VIfir9l"
      },
      "source": [
        "#### 34. How to get all the dates corresponding to the month of July 2016? (★★☆) \n",
        "(**hint**: np.arange(dtype=datetime64\\['D'\\]))"
      ]
    },
    {
      "cell_type": "code",
      "execution_count": null,
      "metadata": {
        "id": "Q06FwIciir9m",
        "colab": {
          "base_uri": "https://localhost:8080/"
        },
        "outputId": "e1867516-6be0-4762-8384-aed101e9c3e0"
      },
      "outputs": [
        {
          "output_type": "stream",
          "name": "stdout",
          "text": [
            "['2016-07-01' '2016-07-02' '2016-07-03' '2016-07-04' '2016-07-05'\n",
            " '2016-07-06' '2016-07-07' '2016-07-08' '2016-07-09' '2016-07-10'\n",
            " '2016-07-11' '2016-07-12' '2016-07-13' '2016-07-14' '2016-07-15'\n",
            " '2016-07-16' '2016-07-17' '2016-07-18' '2016-07-19' '2016-07-20'\n",
            " '2016-07-21' '2016-07-22' '2016-07-23' '2016-07-24' '2016-07-25'\n",
            " '2016-07-26' '2016-07-27' '2016-07-28' '2016-07-29' '2016-07-30'\n",
            " '2016-07-31']\n"
          ]
        }
      ],
      "source": [
        "Z = np.arange('2016-07', '2016-08', dtype='datetime64[D]')\n",
        "print(Z)"
      ]
    },
    {
      "cell_type": "markdown",
      "metadata": {
        "id": "NKjfBoY_ir9n"
      },
      "source": [
        "#### 35. How to compute ((A+B)\\*(-A/2)) in place (without copy)? (★★☆) \n",
        "(**hint**: np.add(out=), np.negative(out=), np.multiply(out=), np.divide(out=))"
      ]
    },
    {
      "cell_type": "code",
      "execution_count": null,
      "metadata": {
        "id": "rQBlcwt5ir9n",
        "colab": {
          "base_uri": "https://localhost:8080/"
        },
        "outputId": "7114376f-8e66-4009-9270-10af5b82bdfd"
      },
      "outputs": [
        {
          "output_type": "execute_result",
          "data": {
            "text/plain": [
              "array([-1.5, -1.5, -1.5])"
            ]
          },
          "metadata": {},
          "execution_count": 35
        }
      ],
      "source": [
        "A = np.ones(3)*1\n",
        "B = np.ones(3)*2\n",
        "C = np.ones(3)*3\n",
        "np.add(A,B,out=B)\n",
        "np.divide(A,2,out=A)\n",
        "np.negative(A,out=A)\n",
        "np.multiply(A,B,out=A)"
      ]
    },
    {
      "cell_type": "markdown",
      "metadata": {
        "id": "8kW7JM3tir9o"
      },
      "source": [
        "#### 36. Extract the integer part of a random array using 5 different methods (★★☆) \n",
        "(**hint**: %, np.floor, np.ceil, astype, np.trunc)"
      ]
    },
    {
      "cell_type": "code",
      "execution_count": null,
      "metadata": {
        "id": "-P_OTCLEir9p",
        "colab": {
          "base_uri": "https://localhost:8080/"
        },
        "outputId": "c9dcb000-d4ad-4382-e28e-0ee1e65003bf"
      },
      "outputs": [
        {
          "output_type": "stream",
          "name": "stdout",
          "text": [
            "[5.65672599 9.51086489 1.67269469]\n",
            "[5. 9. 1.]\n",
            "[5. 9. 1.]\n",
            "[5. 9. 1.]\n",
            "[5 9 1]\n",
            "[5. 9. 1.]\n"
          ]
        }
      ],
      "source": [
        "Z = np.random.uniform(0,10,3)\n",
        "print(Z)\n",
        "print(Z - Z%1)\n",
        "print(Z // 1)\n",
        "print(np.floor(Z))\n",
        "print(Z.astype(int))\n",
        "print(np.trunc(Z))"
      ]
    },
    {
      "cell_type": "markdown",
      "metadata": {
        "id": "EK45yE1pir9p"
      },
      "source": [
        "#### 37. Create a 5x5 matrix with row values ranging from 0 to 4 (★★☆) \n",
        "(**hint**: np.arange)"
      ]
    },
    {
      "cell_type": "code",
      "execution_count": null,
      "metadata": {
        "id": "ufxBGIFair9q",
        "colab": {
          "base_uri": "https://localhost:8080/"
        },
        "outputId": "ae59f53f-5117-4a9a-ba18-7ba76e1e3976"
      },
      "outputs": [
        {
          "output_type": "stream",
          "name": "stdout",
          "text": [
            "[[0. 1. 2. 3. 4.]\n",
            " [0. 1. 2. 3. 4.]\n",
            " [0. 1. 2. 3. 4.]\n",
            " [0. 1. 2. 3. 4.]\n",
            " [0. 1. 2. 3. 4.]]\n"
          ]
        }
      ],
      "source": [
        "Z = np.zeros((5,5))\n",
        "Z += np.arange(5)\n",
        "print(Z)"
      ]
    },
    {
      "cell_type": "markdown",
      "metadata": {
        "id": "I4jn2qQxir9r"
      },
      "source": [
        "#### 38. Consider a generator function that generates 10 integers and use it to build an array (★☆☆) \n",
        "(**hint**: np.fromiter)"
      ]
    },
    {
      "cell_type": "code",
      "execution_count": null,
      "metadata": {
        "id": "-7O16NS3ir9r",
        "colab": {
          "base_uri": "https://localhost:8080/"
        },
        "outputId": "2ba5cdf8-43bf-4b9b-d0ec-4df539574513"
      },
      "outputs": [
        {
          "output_type": "stream",
          "name": "stdout",
          "text": [
            "[0. 1. 2. 3. 4. 5. 6. 7. 8. 9.]\n"
          ]
        }
      ],
      "source": [
        "def generate():\n",
        "    for x in range(10):\n",
        "        yield x\n",
        "Z = np.fromiter(generate(),dtype=float,count=-1)\n",
        "print(Z)"
      ]
    },
    {
      "cell_type": "markdown",
      "metadata": {
        "id": "cmLVI01dir9s"
      },
      "source": [
        "#### 39. Create a vector of size 10 with values ranging from 0 to 1, both excluded (★★☆) \n",
        "(**hint**: np.linspace)"
      ]
    },
    {
      "cell_type": "code",
      "execution_count": null,
      "metadata": {
        "id": "CFk4Pptzir9t",
        "colab": {
          "base_uri": "https://localhost:8080/"
        },
        "outputId": "4d67a377-b2b8-4b9e-af8d-f521dd5ae6e8"
      },
      "outputs": [
        {
          "output_type": "stream",
          "name": "stdout",
          "text": [
            "[0.09090909 0.18181818 0.27272727 0.36363636 0.45454545 0.54545455\n",
            " 0.63636364 0.72727273 0.81818182 0.90909091]\n"
          ]
        }
      ],
      "source": [
        "Z = np.linspace(0,1,11,endpoint=False)[1:]\n",
        "print(Z)"
      ]
    },
    {
      "cell_type": "markdown",
      "metadata": {
        "id": "-MYIAPxHir9t"
      },
      "source": [
        "#### 40. Create a random vector of size 10 and sort it (★★☆) \n",
        "(**hint**: sort)"
      ]
    },
    {
      "cell_type": "code",
      "execution_count": null,
      "metadata": {
        "id": "bUzgwh7Zir9u",
        "colab": {
          "base_uri": "https://localhost:8080/"
        },
        "outputId": "48abfc99-2f34-4423-e5a7-b7c3451fe326"
      },
      "outputs": [
        {
          "output_type": "stream",
          "name": "stdout",
          "text": [
            "[0.11429101 0.17432863 0.26814513 0.40130952 0.49470807 0.53403771\n",
            " 0.5753656  0.5839587  0.92633404 0.95243266]\n"
          ]
        }
      ],
      "source": [
        "Z = np.random.random(10)\n",
        "Z.sort()\n",
        "print(Z)"
      ]
    },
    {
      "cell_type": "markdown",
      "metadata": {
        "id": "Um6CUmFAir9v"
      },
      "source": [
        "#### 41. How to sum a small array faster than np.sum? (★★☆) \n",
        "(**hint**: np.add.reduce)"
      ]
    },
    {
      "cell_type": "code",
      "execution_count": null,
      "metadata": {
        "id": "rrI1QSY8ir9v",
        "colab": {
          "base_uri": "https://localhost:8080/"
        },
        "outputId": "9ea3bc37-b270-4870-c250-b5ea19483ee4"
      },
      "outputs": [
        {
          "output_type": "execute_result",
          "data": {
            "text/plain": [
              "45"
            ]
          },
          "metadata": {},
          "execution_count": 41
        }
      ],
      "source": [
        "Z = np.arange(10)\n",
        "np.add.reduce(Z)"
      ]
    },
    {
      "cell_type": "markdown",
      "metadata": {
        "id": "_tCx1D91ir9w"
      },
      "source": [
        "#### 42. Consider two random array A and B, check if they are equal (★★☆) \n",
        "(**hint**: np.allclose, np.array\\_equal)"
      ]
    },
    {
      "cell_type": "code",
      "execution_count": null,
      "metadata": {
        "id": "8f2NxuXtir9x",
        "colab": {
          "base_uri": "https://localhost:8080/"
        },
        "outputId": "e6f668c6-2f70-4d99-a96c-541ea304cadb"
      },
      "outputs": [
        {
          "output_type": "stream",
          "name": "stdout",
          "text": [
            "[0 0 1] [1 1 1]\n",
            "False\n",
            "False\n"
          ]
        }
      ],
      "source": [
        "A = np.random.randint(0,2,3)\n",
        "B = np.random.randint(0,2,3)\n",
        "print(A, B)\n",
        "equal = np.allclose(A,B)\n",
        "print(equal)\n",
        "equal = np.array_equal(A,B)\n",
        "print(equal)"
      ]
    },
    {
      "cell_type": "markdown",
      "metadata": {
        "id": "ITxeeLLUir9x"
      },
      "source": [
        "#### 43. Make an array immutable (read-only) (★★☆) \n",
        "(**hint**: flags.writeable)"
      ]
    },
    {
      "cell_type": "code",
      "execution_count": null,
      "metadata": {
        "id": "c5ihyvEPir9y",
        "colab": {
          "base_uri": "https://localhost:8080/"
        },
        "outputId": "3d3fc18e-6b9f-4efe-8794-84293141c7e7"
      },
      "outputs": [
        {
          "output_type": "stream",
          "name": "stdout",
          "text": [
            "assignment destination is read-only\n"
          ]
        }
      ],
      "source": [
        "Z = np.zeros(10)\n",
        "Z.flags.writeable = False\n",
        "try:\n",
        "    Z[0] = 1\n",
        "except Exception as e:\n",
        "    print(e)"
      ]
    },
    {
      "cell_type": "markdown",
      "metadata": {
        "id": "C8CfrTiiir9z"
      },
      "source": [
        "#### 44. Consider a random 10x2 matrix representing cartesian coordinates, convert them to polar coordinates (★★☆) \n",
        "(**hint**: np.sqrt, np.arctan2)"
      ]
    },
    {
      "cell_type": "code",
      "execution_count": null,
      "metadata": {
        "id": "h5P-vsorir9z",
        "colab": {
          "base_uri": "https://localhost:8080/"
        },
        "outputId": "4250761f-230d-4326-e7f7-c261a70e140d"
      },
      "outputs": [
        {
          "output_type": "stream",
          "name": "stdout",
          "text": [
            "[0.82347583 0.65603328 0.90412251 0.86761926 0.86486444 0.71551732\n",
            " 0.66172776 0.25381703 0.64829111 1.0025759 ]\n",
            "[0.55883153 1.49176421 0.74629199 0.95181132 0.90497912 0.91921352\n",
            " 1.31676132 1.44078674 0.26206028 0.43960051]\n"
          ]
        }
      ],
      "source": [
        "Z = np.random.random((10,2))\n",
        "X,Y = Z[:,0], Z[:,1]\n",
        "R = np.sqrt(X**2+Y**2)\n",
        "T = np.arctan2(Y,X)\n",
        "print(R)\n",
        "print(T)"
      ]
    },
    {
      "cell_type": "markdown",
      "metadata": {
        "id": "Iss3Betair90"
      },
      "source": [
        "#### 45. Create random vector of size 10 and replace the maximum value by 0 (★★☆) \n",
        "(**hint**: argmax)"
      ]
    },
    {
      "cell_type": "code",
      "execution_count": null,
      "metadata": {
        "id": "o9iUe77dir91",
        "colab": {
          "base_uri": "https://localhost:8080/"
        },
        "outputId": "1a27dcfa-1229-491c-ba6e-74d5f0537eab"
      },
      "outputs": [
        {
          "output_type": "stream",
          "name": "stdout",
          "text": [
            "[[0.45440446 0.74251625 0.89658147 0.         0.45497504]\n",
            " [0.42256556 0.21836552 0.39518194 0.35071709 0.30411717]\n",
            " [0.3003045  0.46578958 0.78397498 0.87802346 1.        ]\n",
            " [0.38296922 0.18415847 0.02153299 0.60463246 0.89901378]\n",
            " [0.07741476 0.4888424  0.68542936 0.52188722 0.21557653]]\n",
            "[0.44214002 0.92290394 0.         0.06575807 0.36236728 0.65091654\n",
            " 0.45557323 0.79510615 0.16890328 0.59229336]\n"
          ]
        }
      ],
      "source": [
        "Z = np.random.random(10)\n",
        "print(z)\n",
        "Z[Z.argmax()] = 0\n",
        "print(Z)"
      ]
    },
    {
      "cell_type": "markdown",
      "metadata": {
        "id": "Gtu0E1H_ir91"
      },
      "source": [
        "#### 46. Create a structured array with `x` and `y` coordinates covering the \\[0,1\\]x\\[0,1\\] area (★★☆) \n",
        "(**hint**: np.meshgrid)"
      ]
    },
    {
      "cell_type": "code",
      "execution_count": null,
      "metadata": {
        "id": "9QZMSmhxir92",
        "colab": {
          "base_uri": "https://localhost:8080/"
        },
        "outputId": "aad40633-9964-4f8b-94d9-6c72a6e52d7a"
      },
      "outputs": [
        {
          "output_type": "stream",
          "name": "stdout",
          "text": [
            "[[(0.  , 0.  ) (0.25, 0.  ) (0.5 , 0.  ) (0.75, 0.  ) (1.  , 0.  )]\n",
            " [(0.  , 0.25) (0.25, 0.25) (0.5 , 0.25) (0.75, 0.25) (1.  , 0.25)]\n",
            " [(0.  , 0.5 ) (0.25, 0.5 ) (0.5 , 0.5 ) (0.75, 0.5 ) (1.  , 0.5 )]\n",
            " [(0.  , 0.75) (0.25, 0.75) (0.5 , 0.75) (0.75, 0.75) (1.  , 0.75)]\n",
            " [(0.  , 1.  ) (0.25, 1.  ) (0.5 , 1.  ) (0.75, 1.  ) (1.  , 1.  )]]\n"
          ]
        }
      ],
      "source": [
        "Z = np.zeros((5,5), [('x',float),('y',float)])\n",
        "Z['x'], Z['y'] = np.meshgrid(np.linspace(0,1,5),\n",
        "                             np.linspace(0,1,5))\n",
        "print(Z)"
      ]
    },
    {
      "cell_type": "markdown",
      "metadata": {
        "id": "mF7XOQlEir92"
      },
      "source": [
        "####  47. Given two arrays, X and Y, construct the Cauchy matrix C (Cij =1/(xi - yj)) \n",
        "(**hint**: np.subtract.outer)"
      ]
    },
    {
      "cell_type": "code",
      "execution_count": null,
      "metadata": {
        "id": "HDs0uiafir93",
        "colab": {
          "base_uri": "https://localhost:8080/"
        },
        "outputId": "e66583af-c47a-4edc-fde7-be2b04c9b576"
      },
      "outputs": [
        {
          "output_type": "stream",
          "name": "stdout",
          "text": [
            "3638.163637117973\n"
          ]
        }
      ],
      "source": [
        "X = np.arange(8)\n",
        "Y = X + 0.5\n",
        "C = 1.0 / np.subtract.outer(X, Y)\n",
        "print(np.linalg.det(C))"
      ]
    },
    {
      "cell_type": "markdown",
      "metadata": {
        "id": "gHQ1d-frir94"
      },
      "source": [
        "#### 48. Print the minimum and maximum representable value for each numpy scalar type (★★☆) \n",
        "(**hint**: np.iinfo, np.finfo, eps)"
      ]
    },
    {
      "cell_type": "code",
      "execution_count": null,
      "metadata": {
        "id": "ZONrfthXir94",
        "colab": {
          "base_uri": "https://localhost:8080/"
        },
        "outputId": "696c86f5-5378-4f42-99c6-a2c2d90ff8ce"
      },
      "outputs": [
        {
          "output_type": "stream",
          "name": "stdout",
          "text": [
            "-128\n",
            "127\n",
            "-2147483648\n",
            "2147483647\n",
            "-9223372036854775808\n",
            "9223372036854775807\n",
            "-3.4028235e+38\n",
            "3.4028235e+38\n",
            "1.1920929e-07\n",
            "-1.7976931348623157e+308\n",
            "1.7976931348623157e+308\n",
            "2.220446049250313e-16\n"
          ]
        }
      ],
      "source": [
        "for dtype in [np.int8, np.int32, np.int64]:\n",
        "   print(np.iinfo(dtype).min)\n",
        "   print(np.iinfo(dtype).max)\n",
        "for dtype in [np.float32, np.float64]:\n",
        "   print(np.finfo(dtype).min)\n",
        "   print(np.finfo(dtype).max)\n",
        "   print(np.finfo(dtype).eps)"
      ]
    },
    {
      "cell_type": "markdown",
      "metadata": {
        "id": "adXZ-uEqir95"
      },
      "source": [
        "#### 49. How to print all the values of an array? (★★☆) \n",
        "(**hint**: np.set\\_printoptions)"
      ]
    },
    {
      "cell_type": "code",
      "execution_count": null,
      "metadata": {
        "id": "B9TDgUOJir96",
        "colab": {
          "base_uri": "https://localhost:8080/"
        },
        "outputId": "b3bc3fdf-eb70-4005-8239-c99b7f3e53e5"
      },
      "outputs": [
        {
          "output_type": "stream",
          "name": "stdout",
          "text": [
            "[[0.25846903 0.21526821 0.13181811 0.32037947]\n",
            " [0.98733011 0.54166061 0.90313432 0.72379286]\n",
            " [0.05494669 0.43692799 0.24428326 0.98671975]\n",
            " [0.64241867 0.402467   0.80715324 0.8152891 ]]\n"
          ]
        }
      ],
      "source": [
        "np.set_printoptions(threshold=float(\"inf\"))\n",
        "Z = np.random.random((4,4))\n",
        "print(Z)"
      ]
    },
    {
      "cell_type": "markdown",
      "metadata": {
        "id": "m197_E2uir96"
      },
      "source": [
        "#### 50. How to find the closest value (to a given scalar) in a vector? (★★☆) \n",
        "(**hint**: argmin)"
      ]
    },
    {
      "cell_type": "code",
      "execution_count": null,
      "metadata": {
        "id": "KgKBAJ6rir97",
        "colab": {
          "base_uri": "https://localhost:8080/"
        },
        "outputId": "9c944592-a357-4f8b-a88b-c6e4d7aa97f3"
      },
      "outputs": [
        {
          "output_type": "stream",
          "name": "stdout",
          "text": [
            "46.081191303645575\n",
            "46\n"
          ]
        }
      ],
      "source": [
        "Z = np.arange(100)\n",
        "v = np.random.uniform(0,100)\n",
        "print(v)\n",
        "index = (np.abs(Z-v)).argmin()\n",
        "print(Z[index])"
      ]
    },
    {
      "cell_type": "markdown",
      "metadata": {
        "id": "QgNYIc8Wir97"
      },
      "source": [
        "#### 51. Create a structured array representing a position (x,y) and a color (r,g,b) (★★☆) \n",
        "(**hint**: dtype)"
      ]
    },
    {
      "cell_type": "code",
      "execution_count": null,
      "metadata": {
        "id": "-612-bhuir98",
        "colab": {
          "base_uri": "https://localhost:8080/"
        },
        "outputId": "597e6ba9-b845-4287-825b-c0ee408a7fc1"
      },
      "outputs": [
        {
          "output_type": "stream",
          "name": "stdout",
          "text": [
            "([1.], [1.], [1.])\n",
            "[(([1.], [1.]), ([1.], [1.], [1.])) (([1.], [1.]), ([1.], [1.], [1.]))\n",
            " (([1.], [1.]), ([1.], [1.], [1.]))]\n"
          ]
        }
      ],
      "source": [
        "Z = np.ones(3, [ ('position', [ ('x', float, (1,)),\n",
        "                                  ('y', float, (1,))]),\n",
        "                   ('color',    [ ('r', float, (1,)),\n",
        "                                  ('g', float, (1,)),\n",
        "                                  ('b', float, (1,))])])\n",
        "print(Z[\"color\"][0])\n",
        "print(Z)"
      ]
    },
    {
      "cell_type": "markdown",
      "metadata": {
        "id": "NnqyvFphir99"
      },
      "source": [
        "#### 52. Consider a random vector with shape (100,2) representing coordinates, find point by point distances (★★☆) \n",
        "(**hint**: np.atleast\\_2d, T, np.sqrt)"
      ]
    },
    {
      "cell_type": "code",
      "source": [
        "Z = np.random.random((10,2))\n",
        "X,Y = np.atleast_2d(Z[:,0], Z[:,1])\n",
        "D = np.sqrt( (X-X.T)**2 + (Y-Y.T)**2)\n",
        "print(D)\n",
        "import scipy\n",
        "import scipy.spatial\n",
        "\n",
        "Z = np.random.random((10,2))\n",
        "D = scipy.spatial.distance.cdist(Z,Z)\n",
        "print(D)"
      ],
      "metadata": {
        "colab": {
          "base_uri": "https://localhost:8080/"
        },
        "id": "yiippDgr_y3k",
        "outputId": "ec43c447-2893-4ebd-89e6-d944d4512c80"
      },
      "execution_count": null,
      "outputs": [
        {
          "output_type": "stream",
          "name": "stdout",
          "text": [
            "[[0.         0.79277793 0.68924255 0.3639034  0.54791563 0.44761439\n",
            "  0.61947511 0.76576996 0.71595538 0.35076548]\n",
            " [0.79277793 0.         0.10484754 0.87872852 0.66384345 0.34841778\n",
            "  0.20705842 0.53559114 0.10916366 0.68480016]\n",
            " [0.68924255 0.10484754 0.         0.79276125 0.60420563 0.24819397\n",
            "  0.11472802 0.51965784 0.09196869 0.60149102]\n",
            " [0.3639034  0.87872852 0.79276125 0.         0.32734271 0.55960264\n",
            "  0.77297546 0.60648426 0.77560023 0.19532043]\n",
            " [0.54791563 0.66384345 0.60420563 0.32734271 0.         0.43995991\n",
            "  0.63096522 0.28045629 0.55468868 0.19910677]\n",
            " [0.44761439 0.34841778 0.24819397 0.55960264 0.43995991 0.\n",
            "  0.21365455 0.47876475 0.2686626  0.3778882 ]\n",
            " [0.61947511 0.20705842 0.11472802 0.77297546 0.63096522 0.21365455\n",
            "  0.         0.59418358 0.20059672 0.59091998]\n",
            " [0.76576996 0.53559114 0.51965784 0.60648426 0.28045629 0.47876475\n",
            "  0.59418358 0.         0.43890206 0.44994988]\n",
            " [0.71595538 0.10916366 0.09196869 0.77560023 0.55468868 0.2686626\n",
            "  0.20059672 0.43890206 0.         0.58078167]\n",
            " [0.35076548 0.68480016 0.60149102 0.19532043 0.19910677 0.3778882\n",
            "  0.59091998 0.44994988 0.58078167 0.        ]]\n",
            "[[0.         0.61022917 0.75458406 0.33838681 0.77180152 0.28078661\n",
            "  0.28786964 0.30303866 0.50200291 0.49099115]\n",
            " [0.61022917 0.         0.83868344 0.30983389 0.4411153  0.55510553\n",
            "  0.37237563 0.36763971 0.65991636 0.1217019 ]\n",
            " [0.75458406 0.83868344 0.         0.84733774 1.24884293 0.48011708\n",
            "  0.85609209 0.87039092 0.25456856 0.8066624 ]\n",
            " [0.33838681 0.30983389 0.84733774 0.         0.45608555 0.41710779\n",
            "  0.06285259 0.05844819 0.60965061 0.19133219]\n",
            " [0.77180152 0.4411153  1.24884293 0.45608555 0.         0.86642781\n",
            "  0.48968061 0.47316762 1.03547648 0.44246892]\n",
            " [0.28078661 0.55510553 0.48011708 0.41710779 0.86642781 0.\n",
            "  0.40569214 0.42196598 0.22555167 0.4648181 ]\n",
            " [0.28786964 0.37237563 0.85609209 0.06285259 0.48968061 0.40569214\n",
            "  0.         0.01694872 0.61139103 0.25301012]\n",
            " [0.30303866 0.36763971 0.87039092 0.05844819 0.47316762 0.42196598\n",
            "  0.01694872 0.         0.62651149 0.24972921]\n",
            " [0.50200291 0.65991636 0.25456856 0.60965061 1.03547648 0.22555167\n",
            "  0.61139103 0.62651149 0.         0.60175718]\n",
            " [0.49099115 0.1217019  0.8066624  0.19133219 0.44246892 0.4648181\n",
            "  0.25301012 0.24972921 0.60175718 0.        ]]\n"
          ]
        }
      ]
    },
    {
      "cell_type": "markdown",
      "metadata": {
        "id": "oJVlC73Wir9-"
      },
      "source": [
        "#### 53. How to convert a float (32 bits) array into an integer (32 bits) in place? \n",
        "(**hint**: astype(copy=False))"
      ]
    },
    {
      "cell_type": "code",
      "execution_count": null,
      "metadata": {
        "id": "wClsYxGNir9_",
        "colab": {
          "base_uri": "https://localhost:8080/"
        },
        "outputId": "cc78f135-7746-4ff0-f752-54ce0bef753f"
      },
      "outputs": [
        {
          "output_type": "stream",
          "name": "stdout",
          "text": [
            "[79.39647  22.096512 29.587011]\n",
            "[79 22 29]\n",
            "True\n"
          ]
        }
      ],
      "source": [
        "Z = (np.random.rand(3)*100).astype(np.float32)\n",
        "print(Z)\n",
        "Y = Z.view(np.int32)\n",
        "Y[:] = Z\n",
        "print(Y)\n",
        "print(Y.base is Z)"
      ]
    },
    {
      "cell_type": "markdown",
      "metadata": {
        "id": "S2bDjEzair-A"
      },
      "source": [
        "#### 54. How to read the following file? (★★☆) \n",
        "(**hint**: np.genfromtxt)"
      ]
    },
    {
      "cell_type": "markdown",
      "metadata": {
        "id": "HtYBVULwir-A"
      },
      "source": [
        "```\n",
        "1, 2, 3, 4, 5\n",
        "6,  ,  , 7, 8\n",
        " ,  , 9,10,11\n",
        "```"
      ]
    },
    {
      "cell_type": "code",
      "execution_count": null,
      "metadata": {
        "id": "4_rKwEL3ir-B",
        "colab": {
          "base_uri": "https://localhost:8080/"
        },
        "outputId": "1be8f60b-44d5-4569-b0e9-8662459e6265"
      },
      "outputs": [
        {
          "output_type": "stream",
          "name": "stdout",
          "text": [
            "[[ 1  2  3  4  5]\n",
            " [ 6 -1 -1  7  8]\n",
            " [-1 -1  9 10 11]]\n"
          ]
        },
        {
          "output_type": "stream",
          "name": "stderr",
          "text": [
            "/usr/local/lib/python3.7/dist-packages/ipykernel_launcher.py:8: DeprecationWarning: `np.int` is a deprecated alias for the builtin `int`. To silence this warning, use `int` by itself. Doing this will not modify any behavior and is safe. When replacing `np.int`, you may wish to use e.g. `np.int64` or `np.int32` to specify the precision. If you wish to review your current use, check the release note link for additional information.\n",
            "Deprecated in NumPy 1.20; for more details and guidance: https://numpy.org/devdocs/release/1.20.0-notes.html#deprecations\n",
            "  \n"
          ]
        }
      ],
      "source": [
        "from io import StringIO\n",
        "\n",
        "s = StringIO('''\n",
        "1, 2, 3, 4, 5\n",
        "6,  ,  , 7, 8\n",
        ",  , 9,10,11\n",
        "''')\n",
        "Z = np.genfromtxt(s, delimiter=\",\", dtype=np.int)\n",
        "print(Z)"
      ]
    },
    {
      "cell_type": "markdown",
      "metadata": {
        "id": "3jsBA9DUir-C"
      },
      "source": [
        "#### 55. What is the equivalent of enumerate for numpy arrays? (★★☆) \n",
        "(**hint**: np.ndenumerate, np.ndindex)"
      ]
    },
    {
      "cell_type": "code",
      "execution_count": null,
      "metadata": {
        "id": "6fbpMfpVir-C",
        "colab": {
          "base_uri": "https://localhost:8080/"
        },
        "outputId": "3e1edf2f-6659-42f7-cfb8-d91ba3b2bf9a"
      },
      "outputs": [
        {
          "output_type": "stream",
          "name": "stdout",
          "text": [
            "(0, 0) 0\n",
            "(0, 1) 1\n",
            "(1, 0) 2\n",
            "(1, 1) 3\n",
            "(0, 0) 0\n",
            "(0, 1) 1\n",
            "(1, 0) 2\n",
            "(1, 1) 3\n"
          ]
        }
      ],
      "source": [
        "Z = np.arange(4).reshape(2,2)\n",
        "for index, value in np.ndenumerate(Z):\n",
        "    print(index, value)\n",
        "for index in np.ndindex(Z.shape):\n",
        "    print(index, Z[index])"
      ]
    },
    {
      "cell_type": "markdown",
      "metadata": {
        "id": "M6MKBrUkir-D"
      },
      "source": [
        "#### 56. Generate a generic 2D Gaussian-like array (★★☆) \n",
        "(**hint**: np.meshgrid, np.exp)"
      ]
    },
    {
      "cell_type": "code",
      "execution_count": null,
      "metadata": {
        "id": "GQMlhtvdir-E",
        "colab": {
          "base_uri": "https://localhost:8080/"
        },
        "outputId": "ad0048da-f309-42d9-ae5e-3835a375abae"
      },
      "outputs": [
        {
          "output_type": "stream",
          "name": "stdout",
          "text": [
            "(5, 4)\n",
            "[[0.36787944 0.57375342 0.57375342 0.36787944]\n",
            " [0.53526143 0.8348063  0.8348063  0.53526143]\n",
            " [0.60653066 0.94595947 0.94595947 0.60653066]\n",
            " [0.53526143 0.8348063  0.8348063  0.53526143]\n",
            " [0.36787944 0.57375342 0.57375342 0.36787944]]\n"
          ]
        }
      ],
      "source": [
        "X, Y = np.meshgrid(np.linspace(-1,1,4), np.linspace(-1,1,5))\n",
        "D = np.sqrt(X*X+Y*Y)\n",
        "sigma, mu = 1.0, 0.0\n",
        "G = np.exp(-( (D-mu)**2 / ( 2.0 * sigma**2 ) ) )\n",
        "print(G.shape)\n",
        "print(G)"
      ]
    },
    {
      "cell_type": "markdown",
      "metadata": {
        "id": "Awg8ZUYrir-E"
      },
      "source": [
        "#### 57. How to randomly place p elements in a 2D array? (★★☆) \n",
        "(**hint**: np.put, np.random.choice)"
      ]
    },
    {
      "cell_type": "code",
      "execution_count": null,
      "metadata": {
        "id": "2g7cjyxEir-F",
        "colab": {
          "base_uri": "https://localhost:8080/"
        },
        "outputId": "af200fbe-d669-4c03-d48d-28a10d0db19d"
      },
      "outputs": [
        {
          "output_type": "stream",
          "name": "stdout",
          "text": [
            "[[0. 0. 3. 0. 0. 0. 0. 0. 0. 0.]\n",
            " [0. 0. 0. 0. 0. 0. 0. 0. 0. 0.]\n",
            " [0. 0. 0. 0. 0. 0. 0. 0. 0. 3.]\n",
            " [0. 0. 0. 0. 0. 0. 0. 0. 0. 0.]\n",
            " [0. 0. 0. 0. 0. 0. 0. 0. 0. 0.]\n",
            " [0. 0. 0. 0. 0. 0. 0. 0. 0. 0.]\n",
            " [0. 0. 0. 0. 0. 0. 0. 0. 0. 0.]\n",
            " [0. 0. 0. 3. 0. 0. 0. 0. 0. 0.]\n",
            " [0. 0. 0. 0. 0. 0. 0. 0. 0. 0.]\n",
            " [0. 0. 0. 0. 0. 0. 0. 0. 0. 0.]]\n"
          ]
        }
      ],
      "source": [
        "n = 10\n",
        "p = 3\n",
        "Z = np.zeros((n,n))\n",
        "np.put(Z, np.random.choice(range(n*n), p, replace=False),p)\n",
        "print(Z)"
      ]
    },
    {
      "cell_type": "markdown",
      "metadata": {
        "id": "epfX9B12ir-F"
      },
      "source": [
        "#### 58. Subtract the mean of each row of a matrix (★★☆) \n",
        "(**hint**: mean(axis=,keepdims=))"
      ]
    },
    {
      "cell_type": "code",
      "execution_count": null,
      "metadata": {
        "id": "XpOKt4qJir-G",
        "colab": {
          "base_uri": "https://localhost:8080/"
        },
        "outputId": "66eab428-24d2-4d5c-b112-b3ad28b085f1"
      },
      "outputs": [
        {
          "output_type": "stream",
          "name": "stdout",
          "text": [
            "[[-0.26202835  0.1207475  -0.09252083  0.46885673 -0.3489104   0.33382695\n",
            "   0.23119138 -0.28119206 -0.47451451  0.30454358]\n",
            " [-0.3556647  -0.08056433 -0.04723648  0.00927885  0.03591066 -0.10061686\n",
            "  -0.19985042 -0.34625665  0.58100333  0.50399659]\n",
            " [-0.05588787 -0.06545638  0.30927815  0.38370493 -0.05554708 -0.14665254\n",
            "   0.34927784 -0.47070753  0.01773481 -0.26574435]\n",
            " [ 0.18907681  0.07272586 -0.15307184 -0.45999194  0.0931039   0.12536214\n",
            "  -0.05530616 -0.29311314  0.11647895  0.36473543]\n",
            " [ 0.25846586  0.0626083  -0.05322698 -0.34847818  0.21474119 -0.36597342\n",
            "   0.22851776  0.30668328 -0.31451036  0.01117255]]\n"
          ]
        }
      ],
      "source": [
        "X = np.random.rand(5, 10)\n",
        "\n",
        "# Recent versions of numpy\n",
        "Y = X - X.mean(axis=1, keepdims=True)\n",
        "\n",
        "# Older versions of numpy\n",
        "Y = X - X.mean(axis=1).reshape(-1, 1)\n",
        "\n",
        "print(Y)"
      ]
    },
    {
      "cell_type": "markdown",
      "metadata": {
        "id": "hU0ePZE_ir-H"
      },
      "source": [
        "#### 59. How to sort an array by the nth column? (★★☆) \n",
        "(**hint**: argsort)"
      ]
    },
    {
      "cell_type": "code",
      "execution_count": null,
      "metadata": {
        "id": "DdH6dXPWir-H",
        "colab": {
          "base_uri": "https://localhost:8080/"
        },
        "outputId": "9ac9bfba-d8d8-4cc0-f316-b7ad6e7c90a0"
      },
      "outputs": [
        {
          "output_type": "stream",
          "name": "stdout",
          "text": [
            "[[3 0 1]\n",
            " [2 9 2]\n",
            " [6 5 2]]\n",
            "[[3 0 1]\n",
            " [6 5 2]\n",
            " [2 9 2]]\n"
          ]
        }
      ],
      "source": [
        "Z = np.random.randint(0,10,(3,3))\n",
        "print(Z)\n",
        "print(Z[Z[:,1].argsort()])"
      ]
    },
    {
      "cell_type": "markdown",
      "metadata": {
        "id": "QA4j-5bhir-I"
      },
      "source": [
        "#### 60. How to tell if a given 2D array has null columns? (★★☆) \n",
        "(**hint**: any, ~)"
      ]
    },
    {
      "cell_type": "code",
      "execution_count": null,
      "metadata": {
        "id": "IvK2pEBzir-I",
        "colab": {
          "base_uri": "https://localhost:8080/"
        },
        "outputId": "9525f58f-4e5a-4dae-b2d6-32af5e116603"
      },
      "outputs": [
        {
          "output_type": "stream",
          "name": "stdout",
          "text": [
            "False\n"
          ]
        }
      ],
      "source": [
        "Z = np.random.randint(0,3,(3,10))\n",
        "print((~Z.any(axis=0)).any())"
      ]
    },
    {
      "cell_type": "markdown",
      "metadata": {
        "id": "QFcVNDBgir-J"
      },
      "source": [
        "#### 61. Find the nearest value from a given value in an array (★★☆) \n",
        "(**hint**: np.abs, argmin, flat)"
      ]
    },
    {
      "cell_type": "code",
      "execution_count": null,
      "metadata": {
        "id": "hE8uR9-Pir-K",
        "colab": {
          "base_uri": "https://localhost:8080/"
        },
        "outputId": "f3600aad-e14c-4b9b-bf54-91ef6a5e8709"
      },
      "outputs": [
        {
          "output_type": "stream",
          "name": "stdout",
          "text": [
            "0.48951646514336944\n"
          ]
        }
      ],
      "source": [
        "Z = np.random.uniform(0,1,10)\n",
        "z = 0.5\n",
        "m = Z.flat[np.abs(Z - z).argmin()]\n",
        "print(m)"
      ]
    },
    {
      "cell_type": "markdown",
      "metadata": {
        "id": "jmBNv6Kdir-K"
      },
      "source": [
        "#### 62. Considering two arrays with shape (1,3) and (3,1), how to compute their sum using an iterator? (★★☆) \n",
        "(**hint**: np.nditer)"
      ]
    },
    {
      "cell_type": "code",
      "execution_count": null,
      "metadata": {
        "id": "FRf1HHJQir-L",
        "colab": {
          "base_uri": "https://localhost:8080/"
        },
        "outputId": "d7e237b7-31cd-4c18-9282-52c1c7c53a2a"
      },
      "outputs": [
        {
          "output_type": "stream",
          "name": "stdout",
          "text": [
            "[[0 1 2]\n",
            " [1 2 3]\n",
            " [2 3 4]]\n"
          ]
        }
      ],
      "source": [
        "A = np.arange(3).reshape(3,1)\n",
        "B = np.arange(3).reshape(1,3)\n",
        "it = np.nditer([A,B,None])\n",
        "for x,y,z in it: z[...] = x + y\n",
        "print(it.operands[2])"
      ]
    },
    {
      "cell_type": "markdown",
      "metadata": {
        "id": "9L2O2_oOir-L"
      },
      "source": [
        "#### 63. Create an array class that has a name attribute (★★☆) \n",
        "(**hint**: class method)"
      ]
    },
    {
      "cell_type": "code",
      "execution_count": null,
      "metadata": {
        "id": "Jv53akiFir-M",
        "colab": {
          "base_uri": "https://localhost:8080/"
        },
        "outputId": "6f4c2ab4-23b6-4a93-f18c-d3ebafb44504"
      },
      "outputs": [
        {
          "output_type": "stream",
          "name": "stdout",
          "text": [
            "range_10\n"
          ]
        }
      ],
      "source": [
        "class NamedArray(np.ndarray):\n",
        "    def __new__(cls, array, name=\"no name\"):\n",
        "        obj = np.asarray(array).view(cls)\n",
        "        obj.name = name\n",
        "        return obj\n",
        "    def __array_finalize__(self, obj):\n",
        "        if obj is None: return\n",
        "        self.info = getattr(obj, 'name', \"no name\")\n",
        "\n",
        "Z = NamedArray(np.arange(10), \"range_10\")\n",
        "print (Z.name)"
      ]
    },
    {
      "cell_type": "markdown",
      "metadata": {
        "id": "0lFu9Ruwir-N"
      },
      "source": [
        "#### 64. Consider a given vector, how to add 1 to each element indexed by a second vector (be careful with repeated indices)? (★★★) \n",
        "(**hint**: np.bincount | np.add.at)"
      ]
    },
    {
      "cell_type": "code",
      "execution_count": null,
      "metadata": {
        "id": "JwMDi6xzir-N",
        "colab": {
          "base_uri": "https://localhost:8080/"
        },
        "outputId": "2f750358-1610-4d46-c991-32425596a678"
      },
      "outputs": [
        {
          "output_type": "stream",
          "name": "stdout",
          "text": [
            "[4. 4. 6. 2. 1. 2. 2. 1. 5. 3.]\n",
            "[ 7.  7. 11.  3.  1.  3.  3.  1.  9.  5.]\n"
          ]
        }
      ],
      "source": [
        "Z = np.ones(10)\n",
        "I = np.random.randint(0,len(Z),20)\n",
        "Z += np.bincount(I, minlength=len(Z))\n",
        "print(Z)\n",
        "np.add.at(Z, I, 1)\n",
        "print(Z)"
      ]
    },
    {
      "cell_type": "markdown",
      "metadata": {
        "id": "m5VA0QdGir-O"
      },
      "source": [
        "#### 65. How to accumulate elements of a vector (X) to an array (F) based on an index list (I)? (★★★) \n",
        "(**hint**: np.bincount)"
      ]
    },
    {
      "cell_type": "code",
      "execution_count": null,
      "metadata": {
        "id": "Kn_YR9C6ir-P",
        "colab": {
          "base_uri": "https://localhost:8080/"
        },
        "outputId": "a1b0ce4a-b537-4dc7-b416-70c9b97971f8"
      },
      "outputs": [
        {
          "output_type": "stream",
          "name": "stdout",
          "text": [
            "[0. 7. 0. 6. 5. 0. 0. 0. 0. 3.]\n"
          ]
        }
      ],
      "source": [
        "X = [1,2,3,4,5,6]\n",
        "I = [1,3,9,3,4,1]\n",
        "F = np.bincount(I,X)\n",
        "print(F)"
      ]
    },
    {
      "cell_type": "markdown",
      "metadata": {
        "id": "cCMPaxcvir-P"
      },
      "source": [
        "#### 66. Considering a (w,h,3) image of (dtype=ubyte), compute the number of unique colors (★★★) \n",
        "(**hint**: np.unique)"
      ]
    },
    {
      "cell_type": "code",
      "execution_count": null,
      "metadata": {
        "id": "oT6iC4CSir-Q",
        "colab": {
          "base_uri": "https://localhost:8080/"
        },
        "outputId": "372808e9-b84c-4819-f938-fd5c821b3ec5"
      },
      "outputs": [
        {
          "output_type": "stream",
          "name": "stdout",
          "text": [
            "64\n"
          ]
        }
      ],
      "source": [
        "w, h = 256, 256\n",
        "I = np.random.randint(0,4,(h,w,3), dtype=np.uint8)\n",
        "I24 = np.dot(I.astype(np.uint32),[1,256,65536])\n",
        "n = len(np.unique(I24))\n",
        "print(n)"
      ]
    },
    {
      "cell_type": "markdown",
      "metadata": {
        "id": "-fpwKNloir-R"
      },
      "source": [
        "#### 67. Considering a four dimensions array, how to get sum over the last two axis at once? (★★★) \n",
        "(**hint**: sum(axis=(-2,-1)))"
      ]
    },
    {
      "cell_type": "code",
      "execution_count": null,
      "metadata": {
        "id": "OjjWSWeBir-R",
        "colab": {
          "base_uri": "https://localhost:8080/"
        },
        "outputId": "551af366-50d4-4089-df87-b144c6ac8491"
      },
      "outputs": [
        {
          "output_type": "stream",
          "name": "stdout",
          "text": [
            "[[67 38 46 60]\n",
            " [54 55 47 61]\n",
            " [68 66 43 56]]\n",
            "[[67 38 46 60]\n",
            " [54 55 47 61]\n",
            " [68 66 43 56]]\n"
          ]
        }
      ],
      "source": [
        "A = np.random.randint(0,10,(3,4,3,4))\n",
        "sum = A.sum(axis=(-2,-1))\n",
        "print(sum)\n",
        "sum = A.reshape(A.shape[:-2] + (-1,)).sum(axis=-1)\n",
        "print(sum)"
      ]
    },
    {
      "cell_type": "markdown",
      "metadata": {
        "id": "bO2Sc1D2ir-S"
      },
      "source": [
        "#### 68. Considering a one-dimensional vector D, how to compute means of subsets of D using a vector S of same size describing subset  indices? (★★★) \n",
        "(**hint**: np.bincount)"
      ]
    },
    {
      "cell_type": "code",
      "execution_count": null,
      "metadata": {
        "id": "DK4-8i9Air-T",
        "colab": {
          "base_uri": "https://localhost:8080/"
        },
        "outputId": "134d764e-11aa-4f1f-ce8c-90b23a333b9f"
      },
      "outputs": [
        {
          "output_type": "stream",
          "name": "stdout",
          "text": [
            "[0.57470272 0.64072534 0.58754682 0.43819131 0.54985559 0.64223748\n",
            " 0.3400356  0.59085996 0.37457673 0.35770492]\n",
            "0    0.574703\n",
            "1    0.640725\n",
            "2    0.587547\n",
            "3    0.438191\n",
            "4    0.549856\n",
            "5    0.642237\n",
            "6    0.340036\n",
            "7    0.590860\n",
            "8    0.374577\n",
            "9    0.357705\n",
            "dtype: float64\n"
          ]
        }
      ],
      "source": [
        "D = np.random.uniform(0,1,100)\n",
        "S = np.random.randint(0,10,100)\n",
        "D_sums = np.bincount(S, weights=D)\n",
        "D_counts = np.bincount(S)\n",
        "D_means = D_sums / D_counts\n",
        "print(D_means)\n",
        "\n",
        "import pandas as pd\n",
        "print(pd.Series(D).groupby(S).mean())"
      ]
    },
    {
      "cell_type": "markdown",
      "metadata": {
        "id": "SlnA5yynir-T"
      },
      "source": [
        "#### 69. How to get the diagonal of a dot product? (★★★) \n",
        "(**hint**: np.diag)"
      ]
    },
    {
      "cell_type": "code",
      "execution_count": null,
      "metadata": {
        "id": "v8XV5rLzir-U",
        "colab": {
          "base_uri": "https://localhost:8080/"
        },
        "outputId": "0fb3a07e-879b-478f-ef3e-cc1b1d5768f9"
      },
      "outputs": [
        {
          "output_type": "execute_result",
          "data": {
            "text/plain": [
              "array([1.13924312, 1.96691038, 1.41120682, 1.76712094, 1.37294667])"
            ]
          },
          "metadata": {},
          "execution_count": 85
        }
      ],
      "source": [
        "A = np.random.uniform(0,1,(5,5))\n",
        "B = np.random.uniform(0,1,(5,5))\n",
        "\n",
        "# Slow version\n",
        "np.diag(np.dot(A, B))\n",
        "\n",
        "# Fast version\n",
        "np.sum(A * B.T, axis=1)\n",
        "\n",
        "# Faster version\n",
        "np.einsum(\"ij,ji->i\", A, B)"
      ]
    },
    {
      "cell_type": "markdown",
      "metadata": {
        "id": "M7wo5CQcir-V"
      },
      "source": [
        "#### 70. Consider the vector \\[1, 2, 3, 4, 5\\], how to build a new vector with 3 consecutive zeros interleaved between each value? (★★★) \n",
        "(**hint**: array\\[::4\\])"
      ]
    },
    {
      "cell_type": "code",
      "execution_count": null,
      "metadata": {
        "id": "BgZ4P30Air-V",
        "colab": {
          "base_uri": "https://localhost:8080/"
        },
        "outputId": "f9a824b4-7258-4251-a25b-a53bf83590b4"
      },
      "outputs": [
        {
          "output_type": "stream",
          "name": "stdout",
          "text": [
            "[1. 0. 0. 0. 2. 0. 0. 0. 3. 0. 0. 0. 4. 0. 0. 0. 5.]\n"
          ]
        }
      ],
      "source": [
        "Z = np.array([1,2,3,4,5])\n",
        "nz = 3\n",
        "Z0 = np.zeros(len(Z) + (len(Z)-1)*(nz))\n",
        "Z0[::nz+1] = Z\n",
        "print(Z0)"
      ]
    },
    {
      "cell_type": "markdown",
      "metadata": {
        "id": "jZg5MasNir-W"
      },
      "source": [
        "#### 71. Consider an array of dimension (5,5,3), how to mulitply it by an array with dimensions (5,5)? (★★★) \n",
        "(**hint**: array\\[:, :, None\\])"
      ]
    },
    {
      "cell_type": "code",
      "execution_count": null,
      "metadata": {
        "collapsed": true,
        "id": "8fqZWVlDir-X",
        "colab": {
          "base_uri": "https://localhost:8080/"
        },
        "outputId": "bb44f471-b859-4b7b-97bd-0af4b92a9e33"
      },
      "outputs": [
        {
          "output_type": "stream",
          "name": "stdout",
          "text": [
            "[[[2. 2. 2.]\n",
            "  [2. 2. 2.]\n",
            "  [2. 2. 2.]\n",
            "  [2. 2. 2.]\n",
            "  [2. 2. 2.]]\n",
            "\n",
            " [[2. 2. 2.]\n",
            "  [2. 2. 2.]\n",
            "  [2. 2. 2.]\n",
            "  [2. 2. 2.]\n",
            "  [2. 2. 2.]]\n",
            "\n",
            " [[2. 2. 2.]\n",
            "  [2. 2. 2.]\n",
            "  [2. 2. 2.]\n",
            "  [2. 2. 2.]\n",
            "  [2. 2. 2.]]\n",
            "\n",
            " [[2. 2. 2.]\n",
            "  [2. 2. 2.]\n",
            "  [2. 2. 2.]\n",
            "  [2. 2. 2.]\n",
            "  [2. 2. 2.]]\n",
            "\n",
            " [[2. 2. 2.]\n",
            "  [2. 2. 2.]\n",
            "  [2. 2. 2.]\n",
            "  [2. 2. 2.]\n",
            "  [2. 2. 2.]]]\n"
          ]
        }
      ],
      "source": [
        "A = np.ones((5,5,3))\n",
        "B = 2*np.ones((5,5))\n",
        "print(A * B[:,:,None])\n"
      ]
    },
    {
      "cell_type": "markdown",
      "metadata": {
        "id": "RUbF7TKYir-X"
      },
      "source": [
        "#### 72. How to swap two rows of an array? (★★★) \n",
        "(**hint**: array\\[\\[\\]\\] = array\\[\\[\\]\\])"
      ]
    },
    {
      "cell_type": "code",
      "execution_count": null,
      "metadata": {
        "id": "hY9Hs5THir-Y",
        "colab": {
          "base_uri": "https://localhost:8080/"
        },
        "outputId": "16ef198d-fa79-47f0-e32e-72526dd46496"
      },
      "outputs": [
        {
          "output_type": "stream",
          "name": "stdout",
          "text": [
            "[[ 5  6  7  8  9]\n",
            " [ 0  1  2  3  4]\n",
            " [10 11 12 13 14]\n",
            " [15 16 17 18 19]\n",
            " [20 21 22 23 24]]\n"
          ]
        }
      ],
      "source": [
        "A = np.arange(25).reshape(5,5)\n",
        "A[[0,1]] = A[[1,0]]\n",
        "print(A)"
      ]
    },
    {
      "cell_type": "markdown",
      "metadata": {
        "id": "-MvLFEKwir-Z"
      },
      "source": [
        "#### 73. Consider a set of 10 triplets describing 10 triangles (with shared vertices), find the set of unique line segments composing all the  triangles (★★★) \n",
        "(**hint**: repeat, np.roll, np.sort, view, np.unique)"
      ]
    },
    {
      "cell_type": "code",
      "execution_count": null,
      "metadata": {
        "id": "sMaqy5JTir-Z",
        "colab": {
          "base_uri": "https://localhost:8080/"
        },
        "outputId": "be609787-62ae-4203-af09-4034d3fca134"
      },
      "outputs": [
        {
          "output_type": "stream",
          "name": "stdout",
          "text": [
            "[( 1, 51) ( 1, 74) ( 6, 39) ( 6, 74) ( 7, 41) ( 7, 90) (15, 88) (15, 95)\n",
            " (17, 19) (17, 45) (19, 45) (21, 48) (21, 86) (39, 68) (39, 74) (39, 79)\n",
            " (41, 90) (44, 45) (44, 61) (45, 61) (48, 86) (49, 80) (49, 93) (51, 74)\n",
            " (68, 79) (77, 88) (77, 90) (80, 93) (88, 90) (88, 95)]\n"
          ]
        }
      ],
      "source": [
        "faces = np.random.randint(0,100,(10,3))\n",
        "F = np.roll(faces.repeat(2,axis=1),-1,axis=1)\n",
        "F = F.reshape(len(F)*3,2)\n",
        "F = np.sort(F,axis=1)\n",
        "G = F.view( dtype=[('p0',F.dtype),('p1',F.dtype)] )\n",
        "G = np.unique(G)\n",
        "print(G)"
      ]
    },
    {
      "cell_type": "markdown",
      "metadata": {
        "id": "n1BYda1pir-a"
      },
      "source": [
        "#### 74. Given an array C that is a bincount, how to produce an array A such that np.bincount(A) == C? (★★★) \n",
        "(**hint**: np.repeat)"
      ]
    },
    {
      "cell_type": "code",
      "execution_count": null,
      "metadata": {
        "id": "-qvuHfDzir-b",
        "colab": {
          "base_uri": "https://localhost:8080/"
        },
        "outputId": "5ddc2872-92c6-4887-fbb0-d97f7a2024da"
      },
      "outputs": [
        {
          "output_type": "stream",
          "name": "stdout",
          "text": [
            "[1 1 2 3 4 4 6]\n"
          ]
        }
      ],
      "source": [
        "C = np.bincount([1,1,2,3,4,4,6])\n",
        "A = np.repeat(np.arange(len(C)), C)\n",
        "print(A)"
      ]
    },
    {
      "cell_type": "markdown",
      "metadata": {
        "id": "Li-6zBlzir-b"
      },
      "source": [
        "#### 75. How to compute averages using a sliding window over an array? (★★★) \n",
        "(**hint**: np.cumsum)"
      ]
    },
    {
      "cell_type": "code",
      "execution_count": null,
      "metadata": {
        "id": "mHc955UIir-c",
        "colab": {
          "base_uri": "https://localhost:8080/"
        },
        "outputId": "9913a5d1-91f8-41cb-b173-6de75f9d1ff4"
      },
      "outputs": [
        {
          "output_type": "stream",
          "name": "stdout",
          "text": [
            "[ 1.  2.  3.  4.  5.  6.  7.  8.  9. 10. 11. 12. 13. 14. 15. 16. 17. 18.]\n",
            "[ 1.  2.  3.  4.  5.  6.  7.  8.  9. 10. 11. 12. 13. 14. 15. 16. 17. 18.]\n"
          ]
        }
      ],
      "source": [
        "def moving_average(a, n=3) :\n",
        "    ret = np.cumsum(a, dtype=float)\n",
        "    ret[n:] = ret[n:] - ret[:-n]\n",
        "    return ret[n - 1:] / n\n",
        "Z = np.arange(20)\n",
        "print(moving_average(Z, n=3))\n",
        "\n",
        "from numpy.lib.stride_tricks import sliding_window_view\n",
        "Z = np.arange(20)\n",
        "print(sliding_window_view(Z, window_shape=3).mean(axis=-1))\n"
      ]
    },
    {
      "cell_type": "markdown",
      "metadata": {
        "id": "fdCeNOaKir-c"
      },
      "source": [
        "#### 76. Consider a one-dimensional array Z, build a two-dimensional array whose first row is (Z\\[0\\],Z\\[1\\],Z\\[2\\]) and each subsequent row is  shifted by 1 (last row should be (Z\\[-3\\],Z\\[-2\\],Z\\[-1\\]) (★★★) \n",
        "(**hint**: from numpy.lib import stride_tricks)"
      ]
    },
    {
      "cell_type": "code",
      "execution_count": null,
      "metadata": {
        "id": "XS-NI1uUir-d",
        "colab": {
          "base_uri": "https://localhost:8080/"
        },
        "outputId": "e888a468-ae0e-46c6-9171-4afaa1365a8e"
      },
      "outputs": [
        {
          "output_type": "stream",
          "name": "stdout",
          "text": [
            "[[0 1 2]\n",
            " [1 2 3]\n",
            " [2 3 4]\n",
            " [3 4 5]\n",
            " [4 5 6]\n",
            " [5 6 7]\n",
            " [6 7 8]\n",
            " [7 8 9]]\n",
            "[[0 1 2]\n",
            " [1 2 3]\n",
            " [2 3 4]\n",
            " [3 4 5]\n",
            " [4 5 6]\n",
            " [5 6 7]\n",
            " [6 7 8]\n",
            " [7 8 9]]\n"
          ]
        }
      ],
      "source": [
        "from numpy.lib import stride_tricks\n",
        "\n",
        "def rolling(a, window):\n",
        "    shape = (a.size - window + 1, window)\n",
        "    strides = (a.strides[0], a.strides[0])\n",
        "    return stride_tricks.as_strided(a, shape=shape, strides=strides)\n",
        "Z = rolling(np.arange(10), 3)\n",
        "print(Z)\n",
        "\n",
        "Z = np.arange(10)\n",
        "print(sliding_window_view(Z, window_shape=3))\n"
      ]
    },
    {
      "cell_type": "markdown",
      "metadata": {
        "id": "XbHN5XNtir-e"
      },
      "source": [
        "#### 77. How to negate a boolean, or to change the sign of a float inplace? (★★★) \n",
        "(**hint**: np.logical_not, np.negative)"
      ]
    },
    {
      "cell_type": "code",
      "execution_count": null,
      "metadata": {
        "id": "m-6N83Lrir-e",
        "colab": {
          "base_uri": "https://localhost:8080/"
        },
        "outputId": "f450d185-bfc8-4fcf-ab10-2e430ffabd85"
      },
      "outputs": [
        {
          "output_type": "execute_result",
          "data": {
            "text/plain": [
              "array([-0.86758162,  0.05353427,  0.61064064, -0.79882669, -0.44759961,\n",
              "        0.67295351,  0.92540478,  0.67369192,  0.20558609,  0.6652474 ,\n",
              "       -0.35281565,  0.07739295, -0.16126695,  0.28596358, -0.18622247,\n",
              "       -0.91804055, -0.4312642 , -0.5002008 , -0.40507224, -0.87581595,\n",
              "        0.50788236, -0.27128578, -0.23264284, -0.5655539 ,  0.67601471,\n",
              "       -0.96330342, -0.45962054,  0.41295684, -0.83013684, -0.47255206,\n",
              "       -0.0203675 ,  0.65487236,  0.58267998,  0.36047189,  0.26456852,\n",
              "        0.84205516, -0.65003028,  0.04488898,  0.84843659, -0.09479883,\n",
              "       -0.6721925 ,  0.73502766,  0.89785675,  0.65333461, -0.67299019,\n",
              "        0.52533415, -0.10909173, -0.21826725,  0.30449601, -0.51090014,\n",
              "        0.13303579,  0.75442538, -0.25000776,  0.65566126,  0.48551793,\n",
              "        0.54021809, -0.11425611,  0.89754259, -0.28453632, -0.30420785,\n",
              "       -0.48367551,  0.96600576, -0.6959557 , -0.96315521,  0.47894509,\n",
              "       -0.99417803,  0.52606332, -0.66783312, -0.01194513,  0.93261831,\n",
              "        0.11444384,  0.56684599,  0.78067712, -0.33778455, -0.87139565,\n",
              "       -0.29057329, -0.33281254, -0.11079425, -0.79028745,  0.4015301 ,\n",
              "        0.14923624, -0.22732297,  0.37656638,  0.99252177,  0.48963533,\n",
              "       -0.61014865, -0.67136198,  0.47984867, -0.17364643, -0.47623903,\n",
              "        0.31991302,  0.72899885,  0.6107811 , -0.87717967,  0.72745812,\n",
              "        0.46529902, -0.28539943,  0.32864122, -0.49924806,  0.32095274])"
            ]
          },
          "metadata": {},
          "execution_count": 97
        }
      ],
      "source": [
        "Z = np.random.randint(0,2,100)\n",
        "np.logical_not(Z, out=Z)\n",
        "\n",
        "Z = np.random.uniform(-1.0,1.0,100)\n",
        "np.negative(Z, out=Z)"
      ]
    },
    {
      "cell_type": "markdown",
      "metadata": {
        "id": "Lb7rkr90ir-f"
      },
      "source": [
        "#### 78. Consider 2 sets of points P0,P1 describing lines (2d) and a point p, how to compute distance from p to each line i  (P0\\[i\\],P1\\[i\\])? (★★★)"
      ]
    },
    {
      "cell_type": "code",
      "execution_count": null,
      "metadata": {
        "id": "-t-KBH6Cir-g",
        "colab": {
          "base_uri": "https://localhost:8080/"
        },
        "outputId": "f6de08d8-b010-4406-a1f3-8652c59e8662"
      },
      "outputs": [
        {
          "output_type": "stream",
          "name": "stdout",
          "text": [
            "[7.50120347 0.65376518 9.95027975 8.24564314 1.52389645 6.31451855\n",
            " 5.17299447 0.35368589 0.7655336  2.86032707]\n"
          ]
        }
      ],
      "source": [
        "def distance(P0, P1, p):\n",
        "    T = P1 - P0\n",
        "    L = (T**2).sum(axis=1)\n",
        "    U = -((P0[:,0]-p[...,0])*T[:,0] + (P0[:,1]-p[...,1])*T[:,1]) / L\n",
        "    U = U.reshape(len(U),1)\n",
        "    D = P0 + U*T - p\n",
        "    return np.sqrt((D**2).sum(axis=1))\n",
        "\n",
        "P0 = np.random.uniform(-10,10,(10,2))\n",
        "P1 = np.random.uniform(-10,10,(10,2))\n",
        "p  = np.random.uniform(-10,10,( 1,2))\n",
        "print(distance(P0, P1, p))"
      ]
    },
    {
      "cell_type": "markdown",
      "metadata": {
        "id": "QRiF1K2air-g"
      },
      "source": [
        "#### 79. Consider 2 sets of points P0,P1 describing lines (2d) and a set of points P, how to compute distance from each point j (P\\[j\\]) to each line i (P0\\[i\\],P1\\[i\\])? (★★★)"
      ]
    },
    {
      "cell_type": "code",
      "execution_count": null,
      "metadata": {
        "id": "Jxb7CfjUir-h",
        "colab": {
          "base_uri": "https://localhost:8080/"
        },
        "outputId": "7cbce173-31a9-475b-9eb8-0f0c0bb374d8"
      },
      "outputs": [
        {
          "output_type": "stream",
          "name": "stdout",
          "text": [
            "[[ 3.57602487  0.5248797   1.88034826  3.98303813  0.10438364  2.28537279\n",
            "   0.1648932   8.44816344  4.009399    0.19726265]\n",
            " [ 2.97446214 10.4545788   1.71520455  4.80192407 10.59848752  6.79951787\n",
            "  10.48425688  2.50358231 11.50650557  8.82688751]\n",
            " [ 6.92079947  7.65485474  2.72655391  0.809716    9.29146618  9.22139255\n",
            "   9.39526106  0.4123199   6.96669071  4.54005343]\n",
            " [ 8.89255819  1.45026803  7.07710498  1.33855914  1.12043377  6.86533951\n",
            "   1.43650002  9.54231977  0.27110904  3.71465538]\n",
            " [ 3.97962409  1.25806508  5.63445989 11.55520812  0.88319722  4.00701005\n",
            "   1.192148    6.42738584 10.39437058  5.17260548]\n",
            " [ 8.06227322  3.44247709  4.95234655  0.41284399  5.5939794   8.34735894\n",
            "   5.80646429  4.64365613  3.45935485  0.60108449]\n",
            " [ 8.59979079  8.81392813  8.841535    1.19329745  6.16898902  3.18196723\n",
            "   5.76756987 16.86477113  4.81683663  9.40244642]\n",
            " [ 4.32074222  6.56681353  7.41967018 12.00127912  4.17273724  1.87168502\n",
            "   3.77699843  1.13040408 14.05416411  9.56223887]\n",
            " [ 6.84203819  1.64724513  7.49109725 14.35251099  4.75062304  8.04786825\n",
            "   5.15152572  9.22718155 10.50416041  4.36658258]\n",
            " [ 0.20356949 11.85955011  5.05721566  7.99996056 10.82212645  4.45595895\n",
            "  10.543711    4.00577056 14.6145414  11.60513564]]\n"
          ]
        }
      ],
      "source": [
        "P0 = np.random.uniform(-10, 10, (10,2))\n",
        "P1 = np.random.uniform(-10,10,(10,2))\n",
        "p = np.random.uniform(-10, 10, (10,2))\n",
        "print(np.array([distance(P0,P1,p_i) for p_i in p]))"
      ]
    },
    {
      "cell_type": "markdown",
      "metadata": {
        "id": "Pfn5NpOiir-i"
      },
      "source": [
        "#### 80. Consider an arbitrary array, write a function that extract a subpart with a fixed shape and centered on a given element (pad with a `fill` value when necessary) (★★★) \n",
        "(**hint**: minimum, maximum)"
      ]
    },
    {
      "cell_type": "code",
      "execution_count": null,
      "metadata": {
        "id": "38MCyPDBir-i",
        "colab": {
          "base_uri": "https://localhost:8080/"
        },
        "outputId": "0677e8a4-7d26-431b-d072-03b0e6470c11"
      },
      "outputs": [
        {
          "output_type": "stream",
          "name": "stdout",
          "text": [
            "[[2 4 3 4 6 1 6 6 3 6]\n",
            " [2 4 3 1 3 2 9 3 6 0]\n",
            " [6 0 0 9 7 8 3 4 9 7]\n",
            " [5 0 4 0 1 4 4 1 5 5]\n",
            " [7 0 0 2 9 0 8 8 7 2]\n",
            " [0 1 3 9 8 1 5 1 7 3]\n",
            " [9 7 8 8 9 2 5 7 4 6]\n",
            " [1 4 4 0 1 0 8 6 5 8]\n",
            " [8 0 4 1 7 4 8 0 7 8]\n",
            " [4 8 6 8 1 0 9 9 4 3]]\n",
            "[[0 0 0 0 0]\n",
            " [0 2 4 3 4]\n",
            " [0 2 4 3 1]\n",
            " [0 6 0 0 9]\n",
            " [0 5 0 4 0]]\n"
          ]
        },
        {
          "output_type": "stream",
          "name": "stderr",
          "text": [
            "/usr/local/lib/python3.7/dist-packages/ipykernel_launcher.py:23: FutureWarning: Using a non-tuple sequence for multidimensional indexing is deprecated; use `arr[tuple(seq)]` instead of `arr[seq]`. In the future this will be interpreted as an array index, `arr[np.array(seq)]`, which will result either in an error or a different result.\n"
          ]
        }
      ],
      "source": [
        "Z = np.random.randint(0,10,(10,10))\n",
        "shape = (5,5)\n",
        "fill  = 0\n",
        "position = (1,1)\n",
        "\n",
        "R = np.ones(shape, dtype=Z.dtype)*fill\n",
        "P  = np.array(list(position)).astype(int)\n",
        "Rs = np.array(list(R.shape)).astype(int)\n",
        "Zs = np.array(list(Z.shape)).astype(int)\n",
        "\n",
        "R_start = np.zeros((len(shape),)).astype(int)\n",
        "R_stop  = np.array(list(shape)).astype(int)\n",
        "Z_start = (P-Rs//2)\n",
        "Z_stop  = (P+Rs//2)+Rs%2\n",
        "\n",
        "R_start = (R_start - np.minimum(Z_start,0)).tolist()\n",
        "Z_start = (np.maximum(Z_start,0)).tolist()\n",
        "R_stop = np.maximum(R_start, (R_stop - np.maximum(Z_stop-Zs,0))).tolist()\n",
        "Z_stop = (np.minimum(Z_stop,Zs)).tolist()\n",
        "\n",
        "r = [slice(start,stop) for start,stop in zip(R_start,R_stop)]\n",
        "z = [slice(start,stop) for start,stop in zip(Z_start,Z_stop)]\n",
        "R[r] = Z[z]\n",
        "print(Z)\n",
        "print(R)"
      ]
    },
    {
      "cell_type": "markdown",
      "metadata": {
        "id": "ZzHQY9MKir-j"
      },
      "source": [
        "#### 81. Consider an array Z = \\[1,2,3,4,5,6,7,8,9,10,11,12,13,14\\], how to generate an array R = \\[\\[1,2,3,4\\], \\[2,3,4,5\\], \\[3,4,5,6\\], ..., \\[11,12,13,14\\]\\]? (★★★) \n",
        "(**hint**: stride\\_tricks.as\\_strided)"
      ]
    },
    {
      "cell_type": "code",
      "execution_count": null,
      "metadata": {
        "id": "nLOJOcUair-k",
        "colab": {
          "base_uri": "https://localhost:8080/"
        },
        "outputId": "671dd686-6ecf-4717-971c-b5c24706bf11"
      },
      "outputs": [
        {
          "output_type": "stream",
          "name": "stdout",
          "text": [
            "[[ 1  2  3  4]\n",
            " [ 2  3  4  5]\n",
            " [ 3  4  5  6]\n",
            " [ 4  5  6  7]\n",
            " [ 5  6  7  8]\n",
            " [ 6  7  8  9]\n",
            " [ 7  8  9 10]\n",
            " [ 8  9 10 11]\n",
            " [ 9 10 11 12]\n",
            " [10 11 12 13]\n",
            " [11 12 13 14]]\n",
            "[[ 1  2  3  4]\n",
            " [ 2  3  4  5]\n",
            " [ 3  4  5  6]\n",
            " [ 4  5  6  7]\n",
            " [ 5  6  7  8]\n",
            " [ 6  7  8  9]\n",
            " [ 7  8  9 10]\n",
            " [ 8  9 10 11]\n",
            " [ 9 10 11 12]\n",
            " [10 11 12 13]\n",
            " [11 12 13 14]]\n"
          ]
        }
      ],
      "source": [
        "Z = np.arange(1,15,dtype=np.uint32)\n",
        "R = stride_tricks.as_strided(Z,(11,4),(4,4))\n",
        "print(R)\n",
        "\n",
        "Z = np.arange(1, 15, dtype=np.uint32)\n",
        "print(sliding_window_view(Z, window_shape=4))"
      ]
    },
    {
      "cell_type": "markdown",
      "metadata": {
        "id": "wHFK7Dtmir-k"
      },
      "source": [
        "#### 82. Compute a matrix rank (★★★) \n",
        "(**hint**: np.linalg.svd) (suggestion: np.linalg.svd)"
      ]
    },
    {
      "cell_type": "code",
      "execution_count": null,
      "metadata": {
        "id": "Vw-gDZ3Jir-l",
        "colab": {
          "base_uri": "https://localhost:8080/"
        },
        "outputId": "1f9178fe-987b-4dea-b676-5f31a32adc5e"
      },
      "outputs": [
        {
          "output_type": "stream",
          "name": "stdout",
          "text": [
            "10\n",
            "10\n"
          ]
        }
      ],
      "source": [
        "Z = np.random.uniform(0,1,(10,10))\n",
        "U, S, V = np.linalg.svd(Z) \n",
        "rank = np.sum(S > 1e-10)\n",
        "print(rank)\n",
        "\n",
        "\n",
        "\n",
        "rank = np.linalg.matrix_rank(Z)\n",
        "print(rank)"
      ]
    },
    {
      "cell_type": "markdown",
      "metadata": {
        "id": "mTz9BQ7Dir-l"
      },
      "source": [
        "#### 83. How to find the most frequent value in an array? \n",
        "(**hint**: np.bincount, argmax)"
      ]
    },
    {
      "cell_type": "code",
      "execution_count": null,
      "metadata": {
        "id": "mkmsnnyYir-m",
        "colab": {
          "base_uri": "https://localhost:8080/"
        },
        "outputId": "06d34589-6930-4199-fc36-b3648c74b15e"
      },
      "outputs": [
        {
          "output_type": "stream",
          "name": "stdout",
          "text": [
            "0\n"
          ]
        }
      ],
      "source": [
        "Z = np.random.randint(0,10,50)\n",
        "print(np.bincount(Z).argmax())"
      ]
    },
    {
      "cell_type": "markdown",
      "metadata": {
        "id": "88xZ_3sOir-n"
      },
      "source": [
        "#### 84. Extract all the contiguous 3x3 blocks from a random 10x10 matrix (★★★) \n",
        "(**hint**: stride\\_tricks.as\\_strided)"
      ]
    },
    {
      "cell_type": "code",
      "execution_count": null,
      "metadata": {
        "id": "wrITEUtIir-n",
        "colab": {
          "base_uri": "https://localhost:8080/"
        },
        "outputId": "6ff6ad7a-37b5-4846-f7bd-a858b3d4a48f"
      },
      "outputs": [
        {
          "output_type": "stream",
          "name": "stdout",
          "text": [
            "[[[[1 4 4]\n",
            "   [4 4 2]\n",
            "   [3 3 3]]\n",
            "\n",
            "  [[4 4 3]\n",
            "   [4 2 3]\n",
            "   [3 3 3]]\n",
            "\n",
            "  [[4 3 2]\n",
            "   [2 3 3]\n",
            "   [3 3 2]]\n",
            "\n",
            "  [[3 2 2]\n",
            "   [3 3 1]\n",
            "   [3 2 3]]\n",
            "\n",
            "  [[2 2 1]\n",
            "   [3 1 2]\n",
            "   [2 3 2]]\n",
            "\n",
            "  [[2 1 1]\n",
            "   [1 2 1]\n",
            "   [3 2 1]]\n",
            "\n",
            "  [[1 1 4]\n",
            "   [2 1 1]\n",
            "   [2 1 0]]\n",
            "\n",
            "  [[1 4 2]\n",
            "   [1 1 4]\n",
            "   [1 0 1]]]\n",
            "\n",
            "\n",
            " [[[4 4 2]\n",
            "   [3 3 3]\n",
            "   [3 1 1]]\n",
            "\n",
            "  [[4 2 3]\n",
            "   [3 3 3]\n",
            "   [1 1 3]]\n",
            "\n",
            "  [[2 3 3]\n",
            "   [3 3 2]\n",
            "   [1 3 2]]\n",
            "\n",
            "  [[3 3 1]\n",
            "   [3 2 3]\n",
            "   [3 2 0]]\n",
            "\n",
            "  [[3 1 2]\n",
            "   [2 3 2]\n",
            "   [2 0 4]]\n",
            "\n",
            "  [[1 2 1]\n",
            "   [3 2 1]\n",
            "   [0 4 2]]\n",
            "\n",
            "  [[2 1 1]\n",
            "   [2 1 0]\n",
            "   [4 2 4]]\n",
            "\n",
            "  [[1 1 4]\n",
            "   [1 0 1]\n",
            "   [2 4 4]]]\n",
            "\n",
            "\n",
            " [[[3 3 3]\n",
            "   [3 1 1]\n",
            "   [4 0 4]]\n",
            "\n",
            "  [[3 3 3]\n",
            "   [1 1 3]\n",
            "   [0 4 1]]\n",
            "\n",
            "  [[3 3 2]\n",
            "   [1 3 2]\n",
            "   [4 1 2]]\n",
            "\n",
            "  [[3 2 3]\n",
            "   [3 2 0]\n",
            "   [1 2 3]]\n",
            "\n",
            "  [[2 3 2]\n",
            "   [2 0 4]\n",
            "   [2 3 1]]\n",
            "\n",
            "  [[3 2 1]\n",
            "   [0 4 2]\n",
            "   [3 1 0]]\n",
            "\n",
            "  [[2 1 0]\n",
            "   [4 2 4]\n",
            "   [1 0 0]]\n",
            "\n",
            "  [[1 0 1]\n",
            "   [2 4 4]\n",
            "   [0 0 3]]]\n",
            "\n",
            "\n",
            " [[[3 1 1]\n",
            "   [4 0 4]\n",
            "   [2 0 2]]\n",
            "\n",
            "  [[1 1 3]\n",
            "   [0 4 1]\n",
            "   [0 2 0]]\n",
            "\n",
            "  [[1 3 2]\n",
            "   [4 1 2]\n",
            "   [2 0 0]]\n",
            "\n",
            "  [[3 2 0]\n",
            "   [1 2 3]\n",
            "   [0 0 2]]\n",
            "\n",
            "  [[2 0 4]\n",
            "   [2 3 1]\n",
            "   [0 2 0]]\n",
            "\n",
            "  [[0 4 2]\n",
            "   [3 1 0]\n",
            "   [2 0 1]]\n",
            "\n",
            "  [[4 2 4]\n",
            "   [1 0 0]\n",
            "   [0 1 4]]\n",
            "\n",
            "  [[2 4 4]\n",
            "   [0 0 3]\n",
            "   [1 4 0]]]\n",
            "\n",
            "\n",
            " [[[4 0 4]\n",
            "   [2 0 2]\n",
            "   [4 1 4]]\n",
            "\n",
            "  [[0 4 1]\n",
            "   [0 2 0]\n",
            "   [1 4 0]]\n",
            "\n",
            "  [[4 1 2]\n",
            "   [2 0 0]\n",
            "   [4 0 2]]\n",
            "\n",
            "  [[1 2 3]\n",
            "   [0 0 2]\n",
            "   [0 2 1]]\n",
            "\n",
            "  [[2 3 1]\n",
            "   [0 2 0]\n",
            "   [2 1 2]]\n",
            "\n",
            "  [[3 1 0]\n",
            "   [2 0 1]\n",
            "   [1 2 3]]\n",
            "\n",
            "  [[1 0 0]\n",
            "   [0 1 4]\n",
            "   [2 3 1]]\n",
            "\n",
            "  [[0 0 3]\n",
            "   [1 4 0]\n",
            "   [3 1 0]]]\n",
            "\n",
            "\n",
            " [[[2 0 2]\n",
            "   [4 1 4]\n",
            "   [3 3 3]]\n",
            "\n",
            "  [[0 2 0]\n",
            "   [1 4 0]\n",
            "   [3 3 0]]\n",
            "\n",
            "  [[2 0 0]\n",
            "   [4 0 2]\n",
            "   [3 0 3]]\n",
            "\n",
            "  [[0 0 2]\n",
            "   [0 2 1]\n",
            "   [0 3 4]]\n",
            "\n",
            "  [[0 2 0]\n",
            "   [2 1 2]\n",
            "   [3 4 4]]\n",
            "\n",
            "  [[2 0 1]\n",
            "   [1 2 3]\n",
            "   [4 4 3]]\n",
            "\n",
            "  [[0 1 4]\n",
            "   [2 3 1]\n",
            "   [4 3 4]]\n",
            "\n",
            "  [[1 4 0]\n",
            "   [3 1 0]\n",
            "   [3 4 3]]]\n",
            "\n",
            "\n",
            " [[[4 1 4]\n",
            "   [3 3 3]\n",
            "   [3 2 0]]\n",
            "\n",
            "  [[1 4 0]\n",
            "   [3 3 0]\n",
            "   [2 0 2]]\n",
            "\n",
            "  [[4 0 2]\n",
            "   [3 0 3]\n",
            "   [0 2 0]]\n",
            "\n",
            "  [[0 2 1]\n",
            "   [0 3 4]\n",
            "   [2 0 3]]\n",
            "\n",
            "  [[2 1 2]\n",
            "   [3 4 4]\n",
            "   [0 3 4]]\n",
            "\n",
            "  [[1 2 3]\n",
            "   [4 4 3]\n",
            "   [3 4 3]]\n",
            "\n",
            "  [[2 3 1]\n",
            "   [4 3 4]\n",
            "   [4 3 2]]\n",
            "\n",
            "  [[3 1 0]\n",
            "   [3 4 3]\n",
            "   [3 2 1]]]\n",
            "\n",
            "\n",
            " [[[3 3 3]\n",
            "   [3 2 0]\n",
            "   [4 1 4]]\n",
            "\n",
            "  [[3 3 0]\n",
            "   [2 0 2]\n",
            "   [1 4 2]]\n",
            "\n",
            "  [[3 0 3]\n",
            "   [0 2 0]\n",
            "   [4 2 1]]\n",
            "\n",
            "  [[0 3 4]\n",
            "   [2 0 3]\n",
            "   [2 1 1]]\n",
            "\n",
            "  [[3 4 4]\n",
            "   [0 3 4]\n",
            "   [1 1 3]]\n",
            "\n",
            "  [[4 4 3]\n",
            "   [3 4 3]\n",
            "   [1 3 2]]\n",
            "\n",
            "  [[4 3 4]\n",
            "   [4 3 2]\n",
            "   [3 2 0]]\n",
            "\n",
            "  [[3 4 3]\n",
            "   [3 2 1]\n",
            "   [2 0 2]]]]\n",
            "[[[[1 1 3]\n",
            "   [1 0 4]\n",
            "   [4 3 2]]\n",
            "\n",
            "  [[1 3 3]\n",
            "   [0 4 2]\n",
            "   [3 2 1]]\n",
            "\n",
            "  [[3 3 0]\n",
            "   [4 2 2]\n",
            "   [2 1 3]]\n",
            "\n",
            "  [[3 0 2]\n",
            "   [2 2 0]\n",
            "   [1 3 2]]\n",
            "\n",
            "  [[0 2 2]\n",
            "   [2 0 0]\n",
            "   [3 2 4]]\n",
            "\n",
            "  [[2 2 1]\n",
            "   [0 0 3]\n",
            "   [2 4 2]]\n",
            "\n",
            "  [[2 1 3]\n",
            "   [0 3 1]\n",
            "   [4 2 2]]\n",
            "\n",
            "  [[1 3 1]\n",
            "   [3 1 2]\n",
            "   [2 2 1]]]\n",
            "\n",
            "\n",
            " [[[1 0 4]\n",
            "   [4 3 2]\n",
            "   [4 0 4]]\n",
            "\n",
            "  [[0 4 2]\n",
            "   [3 2 1]\n",
            "   [0 4 3]]\n",
            "\n",
            "  [[4 2 2]\n",
            "   [2 1 3]\n",
            "   [4 3 1]]\n",
            "\n",
            "  [[2 2 0]\n",
            "   [1 3 2]\n",
            "   [3 1 4]]\n",
            "\n",
            "  [[2 0 0]\n",
            "   [3 2 4]\n",
            "   [1 4 2]]\n",
            "\n",
            "  [[0 0 3]\n",
            "   [2 4 2]\n",
            "   [4 2 3]]\n",
            "\n",
            "  [[0 3 1]\n",
            "   [4 2 2]\n",
            "   [2 3 4]]\n",
            "\n",
            "  [[3 1 2]\n",
            "   [2 2 1]\n",
            "   [3 4 1]]]\n",
            "\n",
            "\n",
            " [[[4 3 2]\n",
            "   [4 0 4]\n",
            "   [1 0 4]]\n",
            "\n",
            "  [[3 2 1]\n",
            "   [0 4 3]\n",
            "   [0 4 2]]\n",
            "\n",
            "  [[2 1 3]\n",
            "   [4 3 1]\n",
            "   [4 2 2]]\n",
            "\n",
            "  [[1 3 2]\n",
            "   [3 1 4]\n",
            "   [2 2 0]]\n",
            "\n",
            "  [[3 2 4]\n",
            "   [1 4 2]\n",
            "   [2 0 4]]\n",
            "\n",
            "  [[2 4 2]\n",
            "   [4 2 3]\n",
            "   [0 4 3]]\n",
            "\n",
            "  [[4 2 2]\n",
            "   [2 3 4]\n",
            "   [4 3 1]]\n",
            "\n",
            "  [[2 2 1]\n",
            "   [3 4 1]\n",
            "   [3 1 1]]]\n",
            "\n",
            "\n",
            " [[[4 0 4]\n",
            "   [1 0 4]\n",
            "   [0 0 2]]\n",
            "\n",
            "  [[0 4 3]\n",
            "   [0 4 2]\n",
            "   [0 2 4]]\n",
            "\n",
            "  [[4 3 1]\n",
            "   [4 2 2]\n",
            "   [2 4 4]]\n",
            "\n",
            "  [[3 1 4]\n",
            "   [2 2 0]\n",
            "   [4 4 0]]\n",
            "\n",
            "  [[1 4 2]\n",
            "   [2 0 4]\n",
            "   [4 0 3]]\n",
            "\n",
            "  [[4 2 3]\n",
            "   [0 4 3]\n",
            "   [0 3 3]]\n",
            "\n",
            "  [[2 3 4]\n",
            "   [4 3 1]\n",
            "   [3 3 0]]\n",
            "\n",
            "  [[3 4 1]\n",
            "   [3 1 1]\n",
            "   [3 0 1]]]\n",
            "\n",
            "\n",
            " [[[1 0 4]\n",
            "   [0 0 2]\n",
            "   [3 4 2]]\n",
            "\n",
            "  [[0 4 2]\n",
            "   [0 2 4]\n",
            "   [4 2 3]]\n",
            "\n",
            "  [[4 2 2]\n",
            "   [2 4 4]\n",
            "   [2 3 1]]\n",
            "\n",
            "  [[2 2 0]\n",
            "   [4 4 0]\n",
            "   [3 1 0]]\n",
            "\n",
            "  [[2 0 4]\n",
            "   [4 0 3]\n",
            "   [1 0 0]]\n",
            "\n",
            "  [[0 4 3]\n",
            "   [0 3 3]\n",
            "   [0 0 4]]\n",
            "\n",
            "  [[4 3 1]\n",
            "   [3 3 0]\n",
            "   [0 4 3]]\n",
            "\n",
            "  [[3 1 1]\n",
            "   [3 0 1]\n",
            "   [4 3 0]]]\n",
            "\n",
            "\n",
            " [[[0 0 2]\n",
            "   [3 4 2]\n",
            "   [3 1 4]]\n",
            "\n",
            "  [[0 2 4]\n",
            "   [4 2 3]\n",
            "   [1 4 4]]\n",
            "\n",
            "  [[2 4 4]\n",
            "   [2 3 1]\n",
            "   [4 4 0]]\n",
            "\n",
            "  [[4 4 0]\n",
            "   [3 1 0]\n",
            "   [4 0 4]]\n",
            "\n",
            "  [[4 0 3]\n",
            "   [1 0 0]\n",
            "   [0 4 0]]\n",
            "\n",
            "  [[0 3 3]\n",
            "   [0 0 4]\n",
            "   [4 0 3]]\n",
            "\n",
            "  [[3 3 0]\n",
            "   [0 4 3]\n",
            "   [0 3 4]]\n",
            "\n",
            "  [[3 0 1]\n",
            "   [4 3 0]\n",
            "   [3 4 1]]]\n",
            "\n",
            "\n",
            " [[[3 4 2]\n",
            "   [3 1 4]\n",
            "   [0 3 1]]\n",
            "\n",
            "  [[4 2 3]\n",
            "   [1 4 4]\n",
            "   [3 1 1]]\n",
            "\n",
            "  [[2 3 1]\n",
            "   [4 4 0]\n",
            "   [1 1 2]]\n",
            "\n",
            "  [[3 1 0]\n",
            "   [4 0 4]\n",
            "   [1 2 2]]\n",
            "\n",
            "  [[1 0 0]\n",
            "   [0 4 0]\n",
            "   [2 2 2]]\n",
            "\n",
            "  [[0 0 4]\n",
            "   [4 0 3]\n",
            "   [2 2 4]]\n",
            "\n",
            "  [[0 4 3]\n",
            "   [0 3 4]\n",
            "   [2 4 4]]\n",
            "\n",
            "  [[4 3 0]\n",
            "   [3 4 1]\n",
            "   [4 4 1]]]\n",
            "\n",
            "\n",
            " [[[3 1 4]\n",
            "   [0 3 1]\n",
            "   [1 3 3]]\n",
            "\n",
            "  [[1 4 4]\n",
            "   [3 1 1]\n",
            "   [3 3 4]]\n",
            "\n",
            "  [[4 4 0]\n",
            "   [1 1 2]\n",
            "   [3 4 4]]\n",
            "\n",
            "  [[4 0 4]\n",
            "   [1 2 2]\n",
            "   [4 4 1]]\n",
            "\n",
            "  [[0 4 0]\n",
            "   [2 2 2]\n",
            "   [4 1 4]]\n",
            "\n",
            "  [[4 0 3]\n",
            "   [2 2 4]\n",
            "   [1 4 3]]\n",
            "\n",
            "  [[0 3 4]\n",
            "   [2 4 4]\n",
            "   [4 3 1]]\n",
            "\n",
            "  [[3 4 1]\n",
            "   [4 4 1]\n",
            "   [3 1 1]]]]\n"
          ]
        }
      ],
      "source": [
        "Z = np.random.randint(0,5,(10,10))\n",
        "n = 3\n",
        "i = 1 + (Z.shape[0]-3)\n",
        "j = 1 + (Z.shape[1]-3)\n",
        "C = stride_tricks.as_strided(Z, shape=(i, j, n, n), strides=Z.strides + Z.strides)\n",
        "print(C)\n",
        "\n",
        "Z = np.random.randint(0,5,(10,10))\n",
        "print(sliding_window_view(Z, window_shape=(3, 3)))"
      ]
    },
    {
      "cell_type": "markdown",
      "metadata": {
        "id": "-Ip2Z2MJir-o"
      },
      "source": [
        "#### 85. Create a 2D array subclass such that Z\\[i,j\\] == Z\\[j,i\\] (★★★) \n",
        "(**hint**: class method)"
      ]
    },
    {
      "cell_type": "code",
      "execution_count": null,
      "metadata": {
        "id": "hriykPtoir-o",
        "colab": {
          "base_uri": "https://localhost:8080/"
        },
        "outputId": "e4aaa9d9-bf76-415a-9319-0e2e78e6ce91"
      },
      "outputs": [
        {
          "output_type": "stream",
          "name": "stdout",
          "text": [
            "[[ 6  7 12 10 11]\n",
            " [ 7  3  2 18  7]\n",
            " [12  2  7 42 12]\n",
            " [10 18 42  1  7]\n",
            " [11  7 12  7  9]]\n"
          ]
        }
      ],
      "source": [
        "class Symetric(np.ndarray):\n",
        "    def __setitem__(self, index, value):\n",
        "        i,j = index\n",
        "        super(Symetric, self).__setitem__((i,j), value)\n",
        "        super(Symetric, self).__setitem__((j,i), value)\n",
        "\n",
        "def symetric(Z):\n",
        "    return np.asarray(Z + Z.T - np.diag(Z.diagonal())).view(Symetric)\n",
        "\n",
        "S = symetric(np.random.randint(0,10,(5,5)))\n",
        "S[2,3] = 42\n",
        "print(S)"
      ]
    },
    {
      "cell_type": "markdown",
      "metadata": {
        "id": "fjNTA_Luir-p"
      },
      "source": [
        "#### 86. Consider a set of p matrices wich shape (n,n) and a set of p vectors with shape (n,1). How to compute the sum of of the p matrix products at once? (result has shape (n,1)) (★★★) \n",
        "(**hint**: np.tensordot)"
      ]
    },
    {
      "cell_type": "code",
      "execution_count": null,
      "metadata": {
        "id": "Gd_OaDwGir-q",
        "colab": {
          "base_uri": "https://localhost:8080/"
        },
        "outputId": "f3104dc4-374b-43bf-cac2-e2bb83d446a5"
      },
      "outputs": [
        {
          "output_type": "stream",
          "name": "stdout",
          "text": [
            "[[200.]\n",
            " [200.]\n",
            " [200.]\n",
            " [200.]\n",
            " [200.]\n",
            " [200.]\n",
            " [200.]\n",
            " [200.]\n",
            " [200.]\n",
            " [200.]\n",
            " [200.]\n",
            " [200.]\n",
            " [200.]\n",
            " [200.]\n",
            " [200.]\n",
            " [200.]\n",
            " [200.]\n",
            " [200.]\n",
            " [200.]\n",
            " [200.]]\n"
          ]
        }
      ],
      "source": [
        "p, n = 10, 20\n",
        "M = np.ones((p,n,n))\n",
        "V = np.ones((p,n,1))\n",
        "S = np.tensordot(M, V, axes=[[0, 2], [0, 1]])\n",
        "print(S)"
      ]
    },
    {
      "cell_type": "markdown",
      "metadata": {
        "id": "YPH09QErir-q"
      },
      "source": [
        "#### 87. Consider a 16x16 array, how to get the block-sum (block size is 4x4)? (★★★) \n",
        "(**hint**: np.add.reduceat)"
      ]
    },
    {
      "cell_type": "code",
      "execution_count": null,
      "metadata": {
        "id": "i8qOlD3Wir-r",
        "colab": {
          "base_uri": "https://localhost:8080/"
        },
        "outputId": "aabb8ad7-11f7-4bf7-c1f8-53fbf79b2075"
      },
      "outputs": [
        {
          "output_type": "stream",
          "name": "stdout",
          "text": [
            "[[16. 16. 16. 16.]\n",
            " [16. 16. 16. 16.]\n",
            " [16. 16. 16. 16.]\n",
            " [16. 16. 16. 16.]]\n",
            "[[16. 16. 16. 16.]\n",
            " [16. 16. 16. 16.]\n",
            " [16. 16. 16. 16.]\n",
            " [16. 16. 16. 16.]]\n"
          ]
        }
      ],
      "source": [
        "from numpy.lib.stride_tricks import sliding_window_view \n",
        "Z = np.ones((16,16))\n",
        "k = 4\n",
        "S = np.add.reduceat(np.add.reduceat(Z, np.arange(0, Z.shape[0], k), axis=0),\n",
        "                                       np.arange(0, Z.shape[1], k), axis=1)\n",
        "print(S)\n",
        "\n",
        "Z = np.ones((16,16))\n",
        "k = 4\n",
        "\n",
        "windows = np.lib.stride_tricks.sliding_window_view(Z, (k, k))\n",
        "S = windows[::k, ::k, ...].sum(axis=(-2, -1))\n",
        "\n",
        "\n",
        "Z = np.ones((16, 16))\n",
        "k = 4\n",
        "print(sliding_window_view(Z, window_shape=(k, k))[::k, ::k].sum(axis=(-2, -1)))"
      ]
    },
    {
      "cell_type": "markdown",
      "metadata": {
        "id": "nidc5f5Lir-s"
      },
      "source": [
        "#### 88. How to implement the Game of Life using numpy arrays? (★★★)"
      ]
    },
    {
      "cell_type": "code",
      "execution_count": null,
      "metadata": {
        "id": "_o-MZiFiir-s",
        "colab": {
          "base_uri": "https://localhost:8080/"
        },
        "outputId": "0a955b91-923e-4586-ffee-ee77ff3b89d2"
      },
      "outputs": [
        {
          "output_type": "stream",
          "name": "stdout",
          "text": [
            "[[0 0 0 0 0 0 0 0 0 0 0 0 0 0 0 0 0 0 0 0 0 0 0 0 0 0 0 0 0 0 0 0 0 0 0 0\n",
            "  0 0 0 0 0 0 0 0 0 0 0 0 0 0]\n",
            " [0 0 0 0 0 0 0 1 1 1 1 1 1 0 0 0 0 0 0 0 0 0 0 0 0 0 1 1 1 0 0 0 0 0 0 0\n",
            "  0 0 0 1 1 0 0 0 0 0 0 0 0 0]\n",
            " [0 0 0 0 0 0 0 1 0 0 0 0 0 0 0 1 0 1 0 0 0 0 0 0 0 1 0 0 1 0 0 0 0 0 0 0\n",
            "  0 0 1 0 1 0 0 0 0 0 0 0 0 0]\n",
            " [0 0 0 0 0 0 0 0 1 0 0 1 1 0 0 1 0 0 1 0 0 0 0 0 0 1 1 0 0 0 0 0 0 0 0 0\n",
            "  0 0 1 1 0 0 0 0 0 0 0 0 0 0]\n",
            " [0 0 0 0 0 0 0 0 1 0 1 1 1 0 0 1 0 1 0 0 0 0 0 0 0 0 0 0 0 0 0 0 0 0 0 0\n",
            "  0 0 0 0 0 0 0 0 0 0 0 0 0 0]\n",
            " [0 0 0 0 0 1 1 0 0 0 1 0 0 0 0 0 1 1 0 0 1 1 1 0 0 0 0 0 0 0 0 0 0 0 0 0\n",
            "  0 0 0 0 0 0 0 0 0 0 0 0 0 0]\n",
            " [0 0 0 0 0 0 0 0 1 1 0 0 0 0 1 1 0 0 0 0 1 0 0 0 0 0 0 0 0 0 0 0 0 0 0 0\n",
            "  0 0 0 0 0 0 0 0 0 0 0 0 0 0]\n",
            " [0 0 0 0 0 0 0 0 0 0 1 1 0 0 0 1 1 0 0 0 0 0 0 0 0 0 0 0 0 0 0 0 0 0 0 0\n",
            "  0 0 0 0 0 0 0 0 0 0 0 0 0 0]\n",
            " [0 0 0 0 0 0 0 0 0 0 0 1 1 1 0 1 1 0 0 1 0 0 0 1 0 0 0 0 0 0 0 0 0 0 0 0\n",
            "  0 0 0 0 0 0 0 0 0 0 0 0 0 0]\n",
            " [0 0 0 0 0 0 0 0 0 0 0 1 1 0 1 0 0 1 0 0 0 0 0 0 0 0 0 0 0 0 0 0 0 0 0 0\n",
            "  0 0 0 0 0 0 0 0 0 0 0 0 0 0]\n",
            " [0 0 0 0 0 0 0 0 0 0 0 1 0 1 1 0 1 1 0 0 0 0 1 1 0 0 0 0 0 0 0 0 0 0 0 0\n",
            "  0 0 0 0 0 0 0 0 0 0 0 0 0 0]\n",
            " [0 0 0 0 0 0 0 0 0 0 0 1 0 1 1 0 0 0 1 1 1 1 0 0 0 0 0 0 0 0 0 0 0 0 0 0\n",
            "  0 0 0 0 0 0 0 0 0 0 1 1 0 0]\n",
            " [0 0 0 0 0 0 0 0 0 0 0 0 0 1 0 0 0 0 0 0 0 0 0 0 0 0 0 0 0 0 0 0 0 0 0 0\n",
            "  0 0 0 0 0 0 0 0 0 0 1 0 1 0]\n",
            " [0 0 0 0 0 0 0 0 0 0 0 0 0 0 0 0 0 0 0 0 0 0 0 0 0 0 0 0 0 0 0 0 0 0 0 0\n",
            "  0 0 0 0 0 0 0 0 0 0 0 0 1 0]\n",
            " [0 0 0 0 0 0 0 0 0 0 0 0 0 0 0 0 0 0 0 0 0 0 0 0 0 0 0 0 0 0 0 0 0 0 0 0\n",
            "  0 0 0 0 0 0 0 0 0 0 0 1 1 0]\n",
            " [0 0 0 0 0 0 0 0 0 1 1 0 0 0 0 0 0 0 0 0 0 0 0 0 0 0 0 0 0 0 0 0 0 0 0 0\n",
            "  0 0 0 0 0 0 0 0 0 0 0 0 0 0]\n",
            " [0 0 0 0 0 0 0 0 0 1 1 0 0 0 0 0 0 0 0 0 0 0 0 0 0 0 0 0 0 0 0 0 0 0 0 0\n",
            "  0 0 0 0 0 0 0 0 0 0 0 0 0 0]\n",
            " [0 0 0 0 0 0 0 0 0 0 0 0 0 0 0 0 0 0 0 0 0 0 0 0 0 0 0 0 0 0 0 0 1 0 0 0\n",
            "  0 0 0 0 0 0 0 0 0 0 0 0 0 0]\n",
            " [0 0 0 0 0 0 0 0 0 0 0 0 0 0 0 0 0 0 0 0 0 0 0 0 0 0 0 0 0 0 0 1 0 1 0 0\n",
            "  0 0 0 0 0 0 0 0 0 0 0 0 0 0]\n",
            " [0 0 0 0 0 0 0 0 0 0 0 0 0 0 1 1 1 0 0 0 0 0 0 0 0 0 0 0 0 0 0 1 0 0 1 0\n",
            "  0 0 0 0 0 0 0 0 0 0 0 0 0 0]\n",
            " [0 0 0 0 0 0 0 0 0 0 0 0 0 1 0 0 0 0 1 0 0 0 0 0 0 0 0 0 0 0 0 0 1 1 0 0\n",
            "  0 0 0 0 0 0 0 0 1 1 0 0 0 0]\n",
            " [0 0 0 0 0 0 0 0 0 0 0 0 1 0 0 0 1 1 1 0 0 0 0 0 0 0 0 0 0 0 0 0 0 0 0 0\n",
            "  0 0 0 0 0 0 0 0 0 0 0 0 0 0]\n",
            " [0 0 0 0 0 0 0 0 0 0 0 0 0 0 0 0 0 1 0 0 0 0 0 0 0 0 0 0 0 0 0 0 0 0 0 0\n",
            "  0 0 0 0 0 0 0 0 0 0 1 0 0 0]\n",
            " [0 0 0 0 0 0 0 0 0 0 0 0 0 0 0 0 0 0 0 0 1 1 0 0 1 1 0 0 0 0 0 0 0 0 0 0\n",
            "  0 0 0 0 0 0 0 0 0 0 0 0 0 0]\n",
            " [0 0 0 0 0 0 0 0 0 0 0 0 0 1 0 1 0 0 0 0 1 1 1 1 0 1 0 0 0 0 0 0 0 0 0 0\n",
            "  0 1 0 0 0 0 0 0 0 0 0 0 0 0]\n",
            " [0 0 0 0 0 0 0 0 0 0 0 0 0 0 0 1 0 0 0 1 0 1 1 1 0 1 0 0 0 0 0 0 0 0 0 0\n",
            "  0 1 0 0 0 0 0 0 0 0 0 1 1 0]\n",
            " [0 0 0 0 0 0 0 0 0 0 0 1 0 0 0 0 0 0 0 0 1 1 0 0 1 0 0 0 0 0 0 0 0 0 0 0\n",
            "  1 0 1 0 0 1 0 0 1 1 0 0 0 0]\n",
            " [0 0 0 0 0 0 0 0 0 0 0 1 0 0 0 1 0 0 0 1 0 0 1 1 0 0 0 1 0 0 0 0 0 0 0 0\n",
            "  0 0 0 1 1 1 0 0 1 1 0 0 1 0]\n",
            " [0 0 0 0 0 0 0 0 0 0 0 1 0 1 0 0 0 0 0 1 1 1 1 0 0 0 0 1 1 0 0 0 0 0 0 0\n",
            "  0 0 0 1 1 0 0 0 0 0 1 1 0 0]\n",
            " [0 0 0 0 0 0 0 0 0 0 0 0 0 1 0 0 0 0 0 1 1 0 0 0 0 0 0 0 0 0 0 0 0 0 0 1\n",
            "  1 1 0 1 0 0 0 0 0 0 0 0 0 0]\n",
            " [0 0 0 0 0 0 0 0 0 0 0 0 0 1 0 1 1 1 1 1 0 0 0 0 0 0 0 0 0 0 0 0 0 0 0 1\n",
            "  1 0 1 1 0 0 0 0 0 0 0 0 0 0]\n",
            " [0 0 0 0 0 0 0 0 0 0 0 0 0 0 1 1 1 1 1 0 0 0 0 0 0 0 0 0 0 0 0 0 0 0 0 0\n",
            "  0 0 0 1 0 0 0 0 0 0 0 0 0 0]\n",
            " [0 0 0 0 0 0 0 0 0 0 0 0 0 0 1 1 0 1 0 0 0 0 0 0 1 0 0 0 0 0 0 0 0 0 0 1\n",
            "  1 1 1 0 0 0 0 0 0 0 0 0 0 0]\n",
            " [0 0 0 0 0 0 0 0 0 0 0 0 0 0 0 0 1 1 0 0 0 0 0 0 0 0 0 0 0 0 0 0 0 0 0 0\n",
            "  0 0 0 0 0 0 0 0 0 0 0 0 0 0]\n",
            " [0 0 0 0 0 0 0 0 0 0 0 0 0 0 0 0 1 1 1 0 0 0 0 0 0 0 0 1 1 0 0 0 0 0 0 0\n",
            "  0 0 0 0 0 0 1 1 1 0 0 0 0 0]\n",
            " [0 0 0 0 0 0 0 1 1 0 0 0 0 0 0 0 1 1 1 1 1 0 0 0 0 0 1 1 0 0 0 0 0 0 0 0\n",
            "  0 0 0 0 0 0 0 0 0 0 0 0 0 0]\n",
            " [0 0 0 0 0 0 0 1 1 0 0 0 0 0 0 1 1 0 0 1 1 0 0 0 1 0 0 1 0 0 0 0 0 0 0 0\n",
            "  0 0 0 0 0 0 0 0 0 0 0 0 0 0]\n",
            " [0 0 0 0 1 0 0 0 0 0 0 0 0 0 0 0 1 1 1 0 0 0 0 0 1 0 1 0 0 0 0 0 0 0 0 0\n",
            "  0 0 0 0 0 0 0 0 0 0 0 0 0 0]\n",
            " [0 0 0 0 1 0 0 0 0 0 0 0 0 0 0 0 0 1 0 0 0 0 0 0 0 0 0 0 0 0 0 0 0 0 0 0\n",
            "  0 0 0 0 0 0 0 0 0 0 0 0 0 0]\n",
            " [0 0 0 0 1 0 0 0 0 0 0 0 0 0 0 0 0 0 0 0 0 0 0 0 0 0 0 0 0 0 0 0 0 0 0 0\n",
            "  0 0 0 0 0 0 0 0 0 0 0 0 0 0]\n",
            " [0 0 0 0 0 0 0 0 0 0 0 0 0 0 0 0 0 0 0 0 0 0 0 0 0 0 0 0 0 0 0 0 0 0 0 0\n",
            "  0 0 0 0 0 0 0 0 0 0 0 0 0 0]\n",
            " [0 0 0 0 0 0 0 0 0 0 0 0 0 0 0 0 0 0 0 0 0 0 0 0 0 0 0 0 0 0 0 0 0 0 0 0\n",
            "  0 0 0 0 0 0 0 0 0 0 0 0 0 0]\n",
            " [0 0 0 0 0 0 0 0 0 0 0 0 0 0 0 0 0 0 0 0 0 0 0 0 0 0 0 0 0 0 0 0 0 0 0 0\n",
            "  0 0 0 0 1 1 1 0 0 0 0 0 0 0]\n",
            " [0 0 0 0 0 0 0 0 0 0 0 0 0 0 0 0 0 0 0 0 0 0 0 0 0 0 0 0 0 0 0 0 0 0 0 0\n",
            "  0 0 0 0 0 0 0 0 0 0 0 0 0 0]\n",
            " [0 0 0 0 0 0 0 0 0 0 0 0 0 0 0 0 0 0 0 0 0 0 0 0 0 0 0 0 0 0 0 0 0 0 0 0\n",
            "  0 0 1 0 0 0 0 0 1 0 0 0 0 0]\n",
            " [0 0 0 0 0 0 0 0 0 0 0 0 0 0 0 0 0 0 0 0 0 0 0 0 0 0 0 0 0 0 0 0 0 0 0 0\n",
            "  0 0 1 0 0 0 0 0 1 0 0 0 0 0]\n",
            " [0 0 0 0 0 0 0 0 0 0 0 0 0 0 0 0 0 0 0 0 0 0 0 0 0 0 0 0 0 0 0 0 0 0 0 0\n",
            "  0 0 1 0 0 0 0 0 1 0 0 0 0 0]\n",
            " [0 0 0 0 0 0 0 0 0 0 0 0 0 0 0 0 0 0 0 0 0 0 0 0 0 0 0 0 0 0 0 0 0 0 0 0\n",
            "  0 0 0 0 0 0 0 0 0 0 0 0 0 0]\n",
            " [0 0 0 0 0 0 0 0 0 0 0 0 0 0 0 0 0 0 0 0 0 0 0 0 0 0 0 0 0 0 0 0 0 0 0 0\n",
            "  0 0 0 0 0 0 0 0 0 0 0 0 0 0]\n",
            " [0 0 0 0 0 0 0 0 0 0 0 0 0 0 0 0 0 0 0 0 0 0 0 0 0 0 0 0 0 0 0 0 0 0 0 0\n",
            "  0 0 0 0 0 0 0 0 0 0 0 0 0 0]]\n"
          ]
        }
      ],
      "source": [
        "def iterate(Z):\n",
        "    # Count neighbours\n",
        "    N = (Z[0:-2,0:-2] + Z[0:-2,1:-1] + Z[0:-2,2:] +\n",
        "         Z[1:-1,0:-2]                + Z[1:-1,2:] +\n",
        "         Z[2:  ,0:-2] + Z[2:  ,1:-1] + Z[2:  ,2:])\n",
        "\n",
        "    # Apply rules\n",
        "    birth = (N==3) & (Z[1:-1,1:-1]==0)\n",
        "    survive = ((N==2) | (N==3)) & (Z[1:-1,1:-1]==1)\n",
        "    Z[...] = 0\n",
        "    Z[1:-1,1:-1][birth | survive] = 1\n",
        "    return Z\n",
        "\n",
        "Z = np.random.randint(0,2,(50,50))\n",
        "for i in range(100): Z = iterate(Z)\n",
        "print(Z)"
      ]
    },
    {
      "cell_type": "markdown",
      "metadata": {
        "id": "ikTeNZ2kir-t"
      },
      "source": [
        "#### 89. How to get the n largest values of an array (★★★) \n",
        "(**hint**: np.argsort | np.argpartition)"
      ]
    },
    {
      "cell_type": "code",
      "execution_count": null,
      "metadata": {
        "id": "Qk4XzUiLir-t",
        "colab": {
          "base_uri": "https://localhost:8080/"
        },
        "outputId": "00eff194-1be8-4e78-8679-05e0bd110d16"
      },
      "outputs": [
        {
          "output_type": "stream",
          "name": "stdout",
          "text": [
            "[9995 9996 9997 9998 9999]\n",
            "[9998 9999 9997 9996 9995]\n"
          ]
        }
      ],
      "source": [
        "Z = np.arange(10000)\n",
        "np.random.shuffle(Z)\n",
        "n = 5\n",
        "\n",
        "# Slow\n",
        "print (Z[np.argsort(Z)[-n:]])\n",
        "\n",
        "# Fast\n",
        "print (Z[np.argpartition(-Z,n)[:n]])"
      ]
    },
    {
      "cell_type": "markdown",
      "metadata": {
        "id": "EUMKftvjir-u"
      },
      "source": [
        "#### 90. Given an arbitrary number of vectors, build the cartesian product (every combinations of every item) (★★★) \n",
        "(**hint**: np.indices)"
      ]
    },
    {
      "cell_type": "code",
      "execution_count": null,
      "metadata": {
        "scrolled": true,
        "id": "qP_pZobyir-v",
        "colab": {
          "base_uri": "https://localhost:8080/"
        },
        "outputId": "29e06e29-b199-4acd-9799-19f84377167e"
      },
      "outputs": [
        {
          "output_type": "stream",
          "name": "stdout",
          "text": [
            "[[1 4 6]\n",
            " [1 4 7]\n",
            " [1 5 6]\n",
            " [1 5 7]\n",
            " [2 4 6]\n",
            " [2 4 7]\n",
            " [2 5 6]\n",
            " [2 5 7]\n",
            " [3 4 6]\n",
            " [3 4 7]\n",
            " [3 5 6]\n",
            " [3 5 7]]\n"
          ]
        }
      ],
      "source": [
        "def cartesian(arrays):\n",
        "    arrays = [np.asarray(a) for a in arrays]\n",
        "    shape = (len(x) for x in arrays)\n",
        "\n",
        "    ix = np.indices(shape, dtype=int)\n",
        "    ix = ix.reshape(len(arrays), -1).T\n",
        "\n",
        "    for n, arr in enumerate(arrays):\n",
        "        ix[:, n] = arrays[n][ix[:, n]]\n",
        "\n",
        "    return ix\n",
        "\n",
        "print (cartesian(([1, 2, 3], [4, 5], [6, 7])))"
      ]
    },
    {
      "cell_type": "markdown",
      "metadata": {
        "id": "_Z00ihjxir-v"
      },
      "source": [
        "#### 91. How to create a record array from a regular array? (★★★) \n",
        "(**hint**: np.core.records.fromarrays)"
      ]
    },
    {
      "cell_type": "code",
      "execution_count": null,
      "metadata": {
        "id": "SfSj6m2vir-w",
        "colab": {
          "base_uri": "https://localhost:8080/"
        },
        "outputId": "0fc27d8e-6b8f-48e0-9f0b-1c167f899a01"
      },
      "outputs": [
        {
          "output_type": "stream",
          "name": "stdout",
          "text": [
            "[(b'Hello', 2.5, 3) (b'World', 3.6, 2)]\n"
          ]
        }
      ],
      "source": [
        "Z = np.array([(\"Hello\", 2.5, 3),\n",
        "              (\"World\", 3.6, 2)])\n",
        "R = np.core.records.fromarrays(Z.T,\n",
        "                               names='col1, col2, col3',\n",
        "                               formats = 'S8, f8, i8')\n",
        "print(R)"
      ]
    },
    {
      "cell_type": "markdown",
      "metadata": {
        "id": "L3K9Jnvqir-w"
      },
      "source": [
        "#### 92. Consider a large vector Z, compute Z to the power of 3 using 3 different methods (★★★) \n",
        "(**hint**: np.power, \\*, np.einsum)"
      ]
    },
    {
      "cell_type": "code",
      "execution_count": null,
      "metadata": {
        "id": "HxO3drpDir-x",
        "colab": {
          "base_uri": "https://localhost:8080/"
        },
        "outputId": "b9601482-345e-45f8-eb2b-41c29803b623"
      },
      "outputs": [
        {
          "output_type": "stream",
          "name": "stdout",
          "text": [
            "1 loop, best of 5: 3.74 s per loop\n",
            "10 loops, best of 5: 193 ms per loop\n",
            "10 loops, best of 5: 163 ms per loop\n"
          ]
        }
      ],
      "source": [
        "x = np.random.rand(int(5e7))\n",
        "\n",
        "%timeit np.power(x,3)\n",
        "%timeit(x*x*x)\n",
        "%timeit np.einsum('i,i,i->i',x,x,x)"
      ]
    },
    {
      "cell_type": "markdown",
      "metadata": {
        "id": "uLA57y1tir-x"
      },
      "source": [
        "#### 93. Consider two arrays A and B of shape (8,3) and (2,2). How to find rows of A that contain elements of each row of B regardless of the order of the elements in B? (★★★) \n",
        "(**hint**: np.where)"
      ]
    },
    {
      "cell_type": "code",
      "execution_count": null,
      "metadata": {
        "id": "jnicmLO_ir-y",
        "colab": {
          "base_uri": "https://localhost:8080/"
        },
        "outputId": "2e23925c-ebf2-4968-f468-2f1f9c7ee45d"
      },
      "outputs": [
        {
          "output_type": "stream",
          "name": "stdout",
          "text": [
            "[0 1 2 3 4 5 6 7]\n"
          ]
        }
      ],
      "source": [
        "A = np.random.randint(0,5,(8,3))\n",
        "B = np.random.randint(0,5,(2,2))\n",
        "\n",
        "C = (A[..., np.newaxis, np.newaxis] == B)\n",
        "rows = np.where(C.any((3,1)).all(1))[0]\n",
        "print(rows)"
      ]
    },
    {
      "cell_type": "markdown",
      "metadata": {
        "id": "jeF3UK37ir-z"
      },
      "source": [
        "#### 94. Considering a 10x3 matrix, extract rows with unequal values (e.g. \\[2,2,3\\]) (★★★)"
      ]
    },
    {
      "cell_type": "code",
      "execution_count": null,
      "metadata": {
        "id": "Jzp2XxeQir-z",
        "colab": {
          "base_uri": "https://localhost:8080/"
        },
        "outputId": "3c8198e6-dc7e-4b7f-c212-aafacda464fd"
      },
      "outputs": [
        {
          "output_type": "stream",
          "name": "stdout",
          "text": [
            "[[3 2 1]\n",
            " [1 3 1]\n",
            " [3 4 3]\n",
            " [0 3 4]\n",
            " [3 1 0]\n",
            " [4 1 2]\n",
            " [2 4 1]\n",
            " [2 0 2]\n",
            " [3 4 2]\n",
            " [3 0 2]]\n",
            "[[3 2 1]\n",
            " [1 3 1]\n",
            " [3 4 3]\n",
            " [0 3 4]\n",
            " [3 1 0]\n",
            " [4 1 2]\n",
            " [2 4 1]\n",
            " [2 0 2]\n",
            " [3 4 2]\n",
            " [3 0 2]]\n",
            "[[3 2 1]\n",
            " [1 3 1]\n",
            " [3 4 3]\n",
            " [0 3 4]\n",
            " [3 1 0]\n",
            " [4 1 2]\n",
            " [2 4 1]\n",
            " [2 0 2]\n",
            " [3 4 2]\n",
            " [3 0 2]]\n"
          ]
        }
      ],
      "source": [
        "Z = np.random.randint(0,5,(10,3))\n",
        "print(Z)\n",
        "# solution for arrays of all dtypes (including string arrays and record arrays)\n",
        "E = np.all(Z[:,1:] == Z[:,:-1], axis=1)\n",
        "U = Z[~E]\n",
        "print(U)\n",
        "# soluiton for numerical arrays only, will work for any number of columns in Z\n",
        "U = Z[Z.max(axis=1) != Z.min(axis=1),:]\n",
        "print(U)"
      ]
    },
    {
      "cell_type": "markdown",
      "metadata": {
        "id": "uS0_nYpuir-0"
      },
      "source": [
        "#### 95. Convert a vector of ints into a matrix binary representation (★★★) \n",
        "(**hint**: np.unpackbits)"
      ]
    },
    {
      "cell_type": "code",
      "execution_count": null,
      "metadata": {
        "id": "uxjOCEaRir-0",
        "colab": {
          "base_uri": "https://localhost:8080/"
        },
        "outputId": "3121a8f8-81ee-43a2-82b3-5ba2e8611cd1"
      },
      "outputs": [
        {
          "output_type": "stream",
          "name": "stdout",
          "text": [
            "[[0 0 0 0 0 0 0 0]\n",
            " [0 0 0 0 0 0 0 1]\n",
            " [0 0 0 0 0 0 1 0]\n",
            " [0 0 0 0 0 0 1 1]\n",
            " [0 0 0 0 1 1 1 1]\n",
            " [0 0 0 1 0 0 0 0]\n",
            " [0 0 1 0 0 0 0 0]\n",
            " [0 1 0 0 0 0 0 0]\n",
            " [1 0 0 0 0 0 0 0]]\n",
            "[[0 0 0 0 0 0 0 0]\n",
            " [0 0 0 0 0 0 0 1]\n",
            " [0 0 0 0 0 0 1 0]\n",
            " [0 0 0 0 0 0 1 1]\n",
            " [0 0 0 0 1 1 1 1]\n",
            " [0 0 0 1 0 0 0 0]\n",
            " [0 0 1 0 0 0 0 0]\n",
            " [0 1 0 0 0 0 0 0]\n",
            " [1 0 0 0 0 0 0 0]]\n"
          ]
        }
      ],
      "source": [
        "I = np.array([0, 1, 2, 3, 15, 16, 32, 64, 128])\n",
        "B = ((I.reshape(-1,1) & (2**np.arange(8))) != 0).astype(int)\n",
        "print(B[:,::-1])\n",
        "\n",
        "I = np.array([0, 1, 2, 3, 15, 16, 32, 64, 128], dtype=np.uint8)\n",
        "print(np.unpackbits(I[:, np.newaxis], axis=1))"
      ]
    },
    {
      "cell_type": "markdown",
      "metadata": {
        "id": "ZU6qmRvjir-1"
      },
      "source": [
        "#### 96. Given a two dimensional array, how to extract unique rows? (★★★) \n",
        "(**hint**: np.ascontiguousarray)"
      ]
    },
    {
      "cell_type": "code",
      "execution_count": null,
      "metadata": {
        "id": "PfwvobIFir-2",
        "colab": {
          "base_uri": "https://localhost:8080/"
        },
        "outputId": "278af11f-8cb0-4d80-dd09-98593bb117e2"
      },
      "outputs": [
        {
          "output_type": "stream",
          "name": "stdout",
          "text": [
            "[[0 0 0]\n",
            " [1 0 0]\n",
            " [1 0 1]\n",
            " [1 1 0]\n",
            " [1 1 1]]\n",
            "[[0 0 0]\n",
            " [1 0 0]\n",
            " [1 0 1]\n",
            " [1 1 0]\n",
            " [1 1 1]]\n"
          ]
        }
      ],
      "source": [
        "Z = np.random.randint(0,2,(6,3))\n",
        "T = np.ascontiguousarray(Z).view(np.dtype((np.void, Z.dtype.itemsize * Z.shape[1])))\n",
        "_, idx = np.unique(T, return_index=True)\n",
        "uZ = Z[idx]\n",
        "print(uZ)\n",
        "uZ = np.unique(Z, axis=0)\n",
        "print(uZ)"
      ]
    },
    {
      "cell_type": "markdown",
      "metadata": {
        "id": "zMg1JTtjir-2"
      },
      "source": [
        "#### 97. Considering 2 vectors A & B, write the einsum equivalent of inner, outer, sum, and mul function (★★★) \n",
        "(**hint**: np.einsum)"
      ]
    },
    {
      "cell_type": "code",
      "execution_count": null,
      "metadata": {
        "id": "IdVw4gtsir-3",
        "colab": {
          "base_uri": "https://localhost:8080/"
        },
        "outputId": "e4c64b50-7c80-42ef-dbd5-fcfd25d41f26"
      },
      "outputs": [
        {
          "output_type": "execute_result",
          "data": {
            "text/plain": [
              "array([[0.16413757, 0.01658637, 0.26238246, 0.14394727, 0.28925836,\n",
              "        0.04881622, 0.26086895, 0.06082745, 0.29756041, 0.30509158],\n",
              "       [0.42711476, 0.04316064, 0.68276521, 0.37457606, 0.752701  ,\n",
              "        0.12702837, 0.67882679, 0.15828369, 0.7743044 , 0.79390183],\n",
              "       [0.10426831, 0.01053648, 0.16667834, 0.09144244, 0.18375123,\n",
              "        0.03101048, 0.16571688, 0.03864061, 0.18902511, 0.19380928],\n",
              "       [0.41760166, 0.04219932, 0.66755803, 0.36623316, 0.73593614,\n",
              "        0.12419908, 0.66370733, 0.15475825, 0.75705837, 0.77621931],\n",
              "       [0.12983071, 0.0131196 , 0.20754116, 0.11386044, 0.22879965,\n",
              "        0.038613  , 0.20634399, 0.04811373, 0.23536646, 0.24132353],\n",
              "       [0.22298139, 0.02253263, 0.35644738, 0.19555281, 0.39295836,\n",
              "        0.06631699, 0.35439127, 0.08263427, 0.40423673, 0.41446785],\n",
              "       [0.47342154, 0.04784001, 0.75678902, 0.41518673, 0.83430709,\n",
              "        0.14080049, 0.75242361, 0.17544444, 0.85825268, 0.87997482],\n",
              "       [0.41125254, 0.04155774, 0.65740863, 0.36066503, 0.72474714,\n",
              "        0.12231078, 0.65361647, 0.15240534, 0.74554823, 0.76441785],\n",
              "       [0.09491346, 0.00959116, 0.15172411, 0.08323831, 0.16726525,\n",
              "        0.02822825, 0.15084892, 0.03517381, 0.17206595, 0.1764209 ],\n",
              "       [0.16486762, 0.01666014, 0.26354949, 0.14458752, 0.29054492,\n",
              "        0.04903335, 0.26202924, 0.06109799, 0.29888389, 0.30644857]])"
            ]
          },
          "metadata": {},
          "execution_count": 119
        }
      ],
      "source": [
        "A = np.random.uniform(0,1,10)\n",
        "B = np.random.uniform(0,1,10)\n",
        "\n",
        "np.einsum('i->', A)       # np.sum(A)\n",
        "np.einsum('i,i->i', A, B) # A * B\n",
        "np.einsum('i,i', A, B)    # np.inner(A, B)\n",
        "np.einsum('i,j->ij', A, B)    # np.outer(A, B)"
      ]
    },
    {
      "cell_type": "markdown",
      "metadata": {
        "id": "3C6sZ6Rnir-3"
      },
      "source": [
        "#### 98. Considering a path described by two vectors (X,Y), how to sample it using equidistant samples (★★★)? \n",
        "(**hint**: np.cumsum, np.interp)"
      ]
    },
    {
      "cell_type": "code",
      "execution_count": null,
      "metadata": {
        "collapsed": true,
        "id": "M_gOq06Gir-4"
      },
      "outputs": [],
      "source": [
        "phi = np.arange(0, 10*np.pi, 0.1)\n",
        "a = 1\n",
        "x = a*phi*np.cos(phi)\n",
        "y = a*phi*np.sin(phi)\n",
        "\n",
        "dr = (np.diff(x)**2 + np.diff(y)**2)**.5 # segment lengths\n",
        "r = np.zeros_like(x)\n",
        "r[1:] = np.cumsum(dr)                # integrate path\n",
        "r_int = np.linspace(0, r.max(), 200) # regular spaced path\n",
        "x_int = np.interp(r_int, r, x)       # integrate path\n",
        "y_int = np.interp(r_int, r, y)"
      ]
    },
    {
      "cell_type": "markdown",
      "metadata": {
        "id": "twOjbz0wir-5"
      },
      "source": [
        "#### 99. Given an integer n and a 2D array X, select from X the rows which can be interpreted as draws from a multinomial distribution with n degrees, i.e., the rows which only contain integers and which sum to n. (★★★) \n",
        "(**hint**: np.logical\\_and.reduce, np.mod)"
      ]
    },
    {
      "cell_type": "code",
      "execution_count": null,
      "metadata": {
        "id": "9PrRgiCcir-5",
        "colab": {
          "base_uri": "https://localhost:8080/"
        },
        "outputId": "d7d6792f-2e76-4963-f717-8b1119352b14"
      },
      "outputs": [
        {
          "output_type": "stream",
          "name": "stdout",
          "text": [
            "[[2. 0. 1. 1.]]\n"
          ]
        }
      ],
      "source": [
        "X = np.asarray([[1.0, 0.0, 3.0, 8.0],\n",
        "                [2.0, 0.0, 1.0, 1.0],\n",
        "                [1.5, 2.5, 1.0, 0.0]])\n",
        "n = 4\n",
        "M = np.logical_and.reduce(np.mod(X, 1) == 0, axis=-1)\n",
        "M &= (X.sum(axis=-1) == n)\n",
        "print(X[M])"
      ]
    },
    {
      "cell_type": "markdown",
      "metadata": {
        "id": "EDlfzJf6ir-6"
      },
      "source": [
        "#### 100. Compute bootstrapped 95% confidence intervals for the mean of a 1D array X (i.e., resample the elements of an array with replacement N times, compute the mean of each sample, and then compute percentiles over the means). (★★★) \n",
        "(**hint**: np.percentile)"
      ]
    },
    {
      "cell_type": "code",
      "execution_count": null,
      "metadata": {
        "id": "KjfM_c7Bir-6",
        "colab": {
          "base_uri": "https://localhost:8080/"
        },
        "outputId": "e24ea5cf-cf02-46aa-c3aa-7445bfd24ed9"
      },
      "outputs": [
        {
          "output_type": "stream",
          "name": "stdout",
          "text": [
            "[-0.38962179  0.02035818]\n"
          ]
        }
      ],
      "source": [
        "X = np.random.randn(100) # random 1D array\n",
        "N = 1000 # number of bootstrap samples\n",
        "idx = np.random.randint(0, X.size, (N, X.size))\n",
        "means = X[idx].mean(axis=1)\n",
        "confint = np.percentile(means, [2.5, 97.5])\n",
        "print(confint)"
      ]
    }
  ],
  "metadata": {
    "kernelspec": {
      "display_name": "Python 3",
      "language": "python",
      "name": "python3"
    },
    "language_info": {
      "codemirror_mode": {
        "name": "ipython",
        "version": 3
      },
      "file_extension": ".py",
      "mimetype": "text/x-python",
      "name": "python",
      "nbconvert_exporter": "python",
      "pygments_lexer": "ipython3",
      "version": "3.8.3"
    },
    "colab": {
      "name": "Numpy_tasks.ipynb",
      "provenance": [],
      "collapsed_sections": [],
      "include_colab_link": true
    }
  },
  "nbformat": 4,
  "nbformat_minor": 0
}