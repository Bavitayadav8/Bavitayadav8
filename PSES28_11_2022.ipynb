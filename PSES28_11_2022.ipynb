{
  "nbformat": 4,
  "nbformat_minor": 0,
  "metadata": {
    "colab": {
      "provenance": [],
      "include_colab_link": true
    },
    "kernelspec": {
      "name": "python3",
      "display_name": "Python 3"
    },
    "language_info": {
      "name": "python"
    }
  },
  "cells": [
    {
      "cell_type": "markdown",
      "metadata": {
        "id": "view-in-github",
        "colab_type": "text"
      },
      "source": [
        "<a href=\"https://colab.research.google.com/github/Bavitayadav8/Bavitayadav8/blob/main/PSES28_11_2022.ipynb\" target=\"_parent\"><img src=\"https://colab.research.google.com/assets/colab-badge.svg\" alt=\"Open In Colab\"/></a>"
      ]
    },
    {
      "cell_type": "markdown",
      "source": [
        "# Hello World Program"
      ],
      "metadata": {
        "id": "LkoIxr7X1p_v"
      }
    },
    {
      "cell_type": "code",
      "execution_count": null,
      "metadata": {
        "colab": {
          "base_uri": "https://localhost:8080/"
        },
        "id": "zjMlcgse0mQ0",
        "outputId": "8c057da7-4641-4704-d6fd-e46baa962748"
      },
      "outputs": [
        {
          "output_type": "stream",
          "name": "stdout",
          "text": [
            "Hello World\n"
          ]
        }
      ],
      "source": [
        "print('Hello World') # This is a Hello world Program"
      ]
    },
    {
      "cell_type": "markdown",
      "source": [
        "# **Basic python**"
      ],
      "metadata": {
        "id": "RMIGOZn810_4"
      }
    },
    {
      "cell_type": "markdown",
      "source": [
        "Variable"
      ],
      "metadata": {
        "id": "vCYzXL702a9d"
      }
    },
    {
      "cell_type": "code",
      "source": [
        "A=25\n",
        "A=3.45\n",
        "A='Guvi'\n",
        "A=[1,2,3,45,6]\n",
        "\n",
        "\n",
        "user_input=30\n",
        "UserInput=30\n",
        "user2=98\n",
        "list_=45\n",
        "\n",
        "A=25\n",
        "a=40\n",
        "print(A+a)"
      ],
      "metadata": {
        "colab": {
          "base_uri": "https://localhost:8080/"
        },
        "id": "mGi4XrQT163M",
        "outputId": "4d91ec00-318d-4eb9-9ea4-b9c6a02d6da8"
      },
      "execution_count": null,
      "outputs": [
        {
          "output_type": "stream",
          "name": "stdout",
          "text": [
            "65\n"
          ]
        }
      ]
    },
    {
      "cell_type": "markdown",
      "source": [
        "Data Type"
      ],
      "metadata": {
        "id": "oJ6-3RfQ4VEl"
      }
    },
    {
      "cell_type": "code",
      "source": [
        "I = 500    #int  Age, Accno, NUMOTP, PinCode, Mobile, AADar\n",
        "I = -50   #int \n",
        "\n",
        "F=3.14    #Float    Height, Weight, Temp, Speed, Duration, Price, Liter, Distance....\n",
        "F=-3.14   #Float\n",
        "\n",
        "S='G500' \n",
        "S=\"50\"\n",
        "\n",
        "S='Guvi'  #String   Name, Place, Address, Mailid, Password, Rymes, Month Name, PAN, '128.983.245.98'\n",
        "S=''\n",
        "\n",
        "S=\"\"\"This is the front page of the Simple English Wikipedia. \n",
        "Wikipedias are places where people work together to write encyclopedias in different languages.\n",
        " We use Simple English words and grammar here.\n",
        "  The Simple English Wikipedia is for everyone! That includes children and adults who are learning English. \n",
        "  There are 222,733 articles on the Simple English Wikipedia. All of the pages are free to use. \n",
        "  They have all been published under both the Creative Commons Attribution/Share-Alike License 3.0 and the GNU Free Documentation License.\n",
        "   You can help here! You may change these pages and make new pages. \n",
        "   Read the help pages and other good pages to learn how to write pages here.\n",
        "    If you need help, you may ask questions at Simple talk.\"\"\"\n",
        "\n",
        "\n",
        "\n",
        "B=True  #Bool   1, Yes, Pass, On, Present,Push, In\n",
        "B=False #Bool   0, No,Fail,Off, Absent,Pull, Out\n",
        "\n",
        "\n"
      ],
      "metadata": {
        "colab": {
          "base_uri": "https://localhost:8080/",
          "height": 122
        },
        "id": "OywXpMCy3u9d",
        "outputId": "7c0c18f0-bdb7-49a5-ee9c-a899a0d295ff"
      },
      "execution_count": null,
      "outputs": [
        {
          "output_type": "execute_result",
          "data": {
            "text/plain": [
              "'This is the front page of the Simple English Wikipedia. \\nWikipedias are places where people work together to write encyclopedias in different languages.\\n We use Simple English words and grammar here.\\n  The Simple English Wikipedia is for everyone! That includes children and adults who are learning English. \\n  There are 222,733 articles on the Simple English Wikipedia. All of the pages are free to use. \\n  They have all been published under both the Creative Commons Attribution/Share-Alike License 3.0 and the GNU Free Documentation License.\\n   You can help here! You may change these pages and make new pages. \\n   Read the help pages and other good pages to learn how to write pages here.\\n    If you need help, you may ask questions at Simple talk.'"
            ],
            "application/vnd.google.colaboratory.intrinsic+json": {
              "type": "string"
            }
          },
          "metadata": {},
          "execution_count": 14
        }
      ]
    },
    {
      "cell_type": "code",
      "source": [
        "5==5"
      ],
      "metadata": {
        "colab": {
          "base_uri": "https://localhost:8080/"
        },
        "id": "Zdb2cL8n-AxO",
        "outputId": "cf3da2a5-1be7-4689-9a37-6795ccdeea9e"
      },
      "execution_count": null,
      "outputs": [
        {
          "output_type": "execute_result",
          "data": {
            "text/plain": [
              "True"
            ]
          },
          "metadata": {},
          "execution_count": 17
        }
      ]
    },
    {
      "cell_type": "code",
      "source": [
        "5=='5'"
      ],
      "metadata": {
        "colab": {
          "base_uri": "https://localhost:8080/"
        },
        "id": "B7N761cZ-Q9s",
        "outputId": "55264369-1ece-4971-cf5e-0ef3d7b6b8da"
      },
      "execution_count": null,
      "outputs": [
        {
          "output_type": "execute_result",
          "data": {
            "text/plain": [
              "False"
            ]
          },
          "metadata": {},
          "execution_count": 18
        }
      ]
    },
    {
      "cell_type": "code",
      "source": [
        "5>=5"
      ],
      "metadata": {
        "colab": {
          "base_uri": "https://localhost:8080/"
        },
        "id": "9CpM0MFv-m_d",
        "outputId": "f0a2d4a8-fabc-4258-e1cd-c467c0ae73da"
      },
      "execution_count": null,
      "outputs": [
        {
          "output_type": "execute_result",
          "data": {
            "text/plain": [
              "True"
            ]
          },
          "metadata": {},
          "execution_count": 20
        }
      ]
    },
    {
      "cell_type": "code",
      "source": [
        "A=50\n",
        "B=60\n",
        "print(A+B)"
      ],
      "metadata": {
        "colab": {
          "base_uri": "https://localhost:8080/"
        },
        "id": "j1n7xjpY62Ou",
        "outputId": "642282e7-ef9c-4fd0-ffb8-3eb2771b410e"
      },
      "execution_count": null,
      "outputs": [
        {
          "output_type": "stream",
          "name": "stdout",
          "text": [
            "110\n"
          ]
        }
      ]
    },
    {
      "cell_type": "markdown",
      "source": [
        "Data Structure\n",
        "\n",
        "List, tuple, set and dictionary "
      ],
      "metadata": {
        "id": "NaH_DdvY-0E4"
      }
    },
    {
      "cell_type": "code",
      "source": [
        "#List\n",
        "\n",
        "\n",
        "L=[50,3.24,True,'Guvi',50,[10,20,30,40,60]]  #List can contain any data types or Data Structure and it allow duplicates\n",
        "\n",
        "#   0  1    2    3      4       5      #index Add,Remove and Change (List is Mutable) \n",
        "\n",
        "print(L[3])"
      ],
      "metadata": {
        "colab": {
          "base_uri": "https://localhost:8080/"
        },
        "id": "8dvIjxfT81j5",
        "outputId": "b35ec83a-1c71-483e-db07-5dc96672ca73"
      },
      "execution_count": null,
      "outputs": [
        {
          "output_type": "stream",
          "name": "stdout",
          "text": [
            "Guvi\n"
          ]
        }
      ]
    },
    {
      "cell_type": "code",
      "source": [
        "print(L[5][1])"
      ],
      "metadata": {
        "colab": {
          "base_uri": "https://localhost:8080/"
        },
        "id": "V2mAQvKQCLd1",
        "outputId": "179f4213-78ea-49d7-d577-d87d1f7060b9"
      },
      "execution_count": null,
      "outputs": [
        {
          "output_type": "stream",
          "name": "stdout",
          "text": [
            "20\n"
          ]
        }
      ]
    },
    {
      "cell_type": "code",
      "source": [
        "#Tuple\n",
        "\n",
        "T=(50,3.24,True,'Guvi',50,[10,20,30,40,60])  #Tuple can contain any data types or Data Structure and it allow duplicates\n",
        "                                             # Tuple is immutable\n",
        "print(T[3])"
      ],
      "metadata": {
        "colab": {
          "base_uri": "https://localhost:8080/"
        },
        "id": "zIY6lfkmCSeL",
        "outputId": "54582569-8161-4dd3-de61-f2073a066b22"
      },
      "execution_count": null,
      "outputs": [
        {
          "output_type": "stream",
          "name": "stdout",
          "text": [
            "Guvi\n"
          ]
        }
      ]
    },
    {
      "cell_type": "code",
      "source": [
        "dir(list)"
      ],
      "metadata": {
        "colab": {
          "base_uri": "https://localhost:8080/"
        },
        "id": "PBAcbWBMDdNj",
        "outputId": "90cc3d6d-91c6-42eb-94b3-964fab40ef1d"
      },
      "execution_count": null,
      "outputs": [
        {
          "output_type": "execute_result",
          "data": {
            "text/plain": [
              "['__add__',\n",
              " '__class__',\n",
              " '__contains__',\n",
              " '__delattr__',\n",
              " '__delitem__',\n",
              " '__dir__',\n",
              " '__doc__',\n",
              " '__eq__',\n",
              " '__format__',\n",
              " '__ge__',\n",
              " '__getattribute__',\n",
              " '__getitem__',\n",
              " '__gt__',\n",
              " '__hash__',\n",
              " '__iadd__',\n",
              " '__imul__',\n",
              " '__init__',\n",
              " '__init_subclass__',\n",
              " '__iter__',\n",
              " '__le__',\n",
              " '__len__',\n",
              " '__lt__',\n",
              " '__mul__',\n",
              " '__ne__',\n",
              " '__new__',\n",
              " '__reduce__',\n",
              " '__reduce_ex__',\n",
              " '__repr__',\n",
              " '__reversed__',\n",
              " '__rmul__',\n",
              " '__setattr__',\n",
              " '__setitem__',\n",
              " '__sizeof__',\n",
              " '__str__',\n",
              " '__subclasshook__',\n",
              " 'append',\n",
              " 'clear',\n",
              " 'copy',\n",
              " 'count',\n",
              " 'extend',\n",
              " 'index',\n",
              " 'insert',\n",
              " 'pop',\n",
              " 'remove',\n",
              " 'reverse',\n",
              " 'sort']"
            ]
          },
          "metadata": {},
          "execution_count": 28
        }
      ]
    },
    {
      "cell_type": "code",
      "source": [
        "dir(tuple)"
      ],
      "metadata": {
        "colab": {
          "base_uri": "https://localhost:8080/"
        },
        "id": "wHhr5-tBEJ9p",
        "outputId": "5ff2bd41-759b-46e9-b4e5-7994b2204bea"
      },
      "execution_count": null,
      "outputs": [
        {
          "output_type": "execute_result",
          "data": {
            "text/plain": [
              "['__add__',\n",
              " '__class__',\n",
              " '__contains__',\n",
              " '__delattr__',\n",
              " '__dir__',\n",
              " '__doc__',\n",
              " '__eq__',\n",
              " '__format__',\n",
              " '__ge__',\n",
              " '__getattribute__',\n",
              " '__getitem__',\n",
              " '__getnewargs__',\n",
              " '__gt__',\n",
              " '__hash__',\n",
              " '__init__',\n",
              " '__init_subclass__',\n",
              " '__iter__',\n",
              " '__le__',\n",
              " '__len__',\n",
              " '__lt__',\n",
              " '__mul__',\n",
              " '__ne__',\n",
              " '__new__',\n",
              " '__reduce__',\n",
              " '__reduce_ex__',\n",
              " '__repr__',\n",
              " '__rmul__',\n",
              " '__setattr__',\n",
              " '__sizeof__',\n",
              " '__str__',\n",
              " '__subclasshook__',\n",
              " 'count',\n",
              " 'index']"
            ]
          },
          "metadata": {},
          "execution_count": 29
        }
      ]
    },
    {
      "cell_type": "code",
      "source": [
        "passedout=('Sachin','EEE',2010,'A')  #Tuple\n",
        "\n",
        "presentStd=[('Dhoni','ECE'),'II_B','B'] #List"
      ],
      "metadata": {
        "id": "xQGyX6cxEVOO"
      },
      "execution_count": null,
      "outputs": []
    },
    {
      "cell_type": "markdown",
      "source": [
        "Set"
      ],
      "metadata": {
        "id": "nahQ5fdrGc5I"
      }
    },
    {
      "cell_type": "code",
      "source": [
        "S={1,3,5,'5','50','100',100,2,4,2,5,6,'100','50',50,67,'78',39,'45'} #Set will not allow any duplicate , it is an unorder\n",
        "\n",
        "\n",
        "print(S)"
      ],
      "metadata": {
        "colab": {
          "base_uri": "https://localhost:8080/"
        },
        "id": "3OvEVOj1GdmW",
        "outputId": "6b6f6b35-ccbb-49f2-f6c3-5b5dc4433c19"
      },
      "execution_count": null,
      "outputs": [
        {
          "output_type": "stream",
          "name": "stdout",
          "text": [
            "{1, 2, 3, 100, 5, 4, 6, '100', '5', 67, 39, 50, '45', '78', '50'}\n"
          ]
        }
      ]
    },
    {
      "cell_type": "code",
      "source": [
        "list(S)[5]"
      ],
      "metadata": {
        "colab": {
          "base_uri": "https://localhost:8080/"
        },
        "id": "i64SKFnrHV2m",
        "outputId": "07bf389d-e3de-4987-b8f6-8472a53da6c3"
      },
      "execution_count": null,
      "outputs": [
        {
          "output_type": "execute_result",
          "data": {
            "text/plain": [
              "4"
            ]
          },
          "metadata": {},
          "execution_count": 36
        }
      ]
    },
    {
      "cell_type": "code",
      "source": [
        "L=[1,3,5,'5','50','100',100,2,4,2,5,6,'100','50',50,67,'78',39,'45']\n",
        "print(L[5])"
      ],
      "metadata": {
        "colab": {
          "base_uri": "https://localhost:8080/"
        },
        "id": "CRJ_nBHsG3rh",
        "outputId": "c99b7c61-d794-4296-be10-0206d3c12300"
      },
      "execution_count": null,
      "outputs": [
        {
          "output_type": "stream",
          "name": "stdout",
          "text": [
            "100\n"
          ]
        }
      ]
    },
    {
      "cell_type": "code",
      "source": [
        "dir(set)"
      ],
      "metadata": {
        "colab": {
          "base_uri": "https://localhost:8080/"
        },
        "id": "X_ogylooHKTg",
        "outputId": "95b2046b-e726-49fe-fc03-3af9be156c7b"
      },
      "execution_count": null,
      "outputs": [
        {
          "output_type": "execute_result",
          "data": {
            "text/plain": [
              "['__and__',\n",
              " '__class__',\n",
              " '__contains__',\n",
              " '__delattr__',\n",
              " '__dir__',\n",
              " '__doc__',\n",
              " '__eq__',\n",
              " '__format__',\n",
              " '__ge__',\n",
              " '__getattribute__',\n",
              " '__gt__',\n",
              " '__hash__',\n",
              " '__iand__',\n",
              " '__init__',\n",
              " '__init_subclass__',\n",
              " '__ior__',\n",
              " '__isub__',\n",
              " '__iter__',\n",
              " '__ixor__',\n",
              " '__le__',\n",
              " '__len__',\n",
              " '__lt__',\n",
              " '__ne__',\n",
              " '__new__',\n",
              " '__or__',\n",
              " '__rand__',\n",
              " '__reduce__',\n",
              " '__reduce_ex__',\n",
              " '__repr__',\n",
              " '__ror__',\n",
              " '__rsub__',\n",
              " '__rxor__',\n",
              " '__setattr__',\n",
              " '__sizeof__',\n",
              " '__str__',\n",
              " '__sub__',\n",
              " '__subclasshook__',\n",
              " '__xor__',\n",
              " 'add',\n",
              " 'clear',\n",
              " 'copy',\n",
              " 'difference',\n",
              " 'difference_update',\n",
              " 'discard',\n",
              " 'intersection',\n",
              " 'intersection_update',\n",
              " 'isdisjoint',\n",
              " 'issubset',\n",
              " 'issuperset',\n",
              " 'pop',\n",
              " 'remove',\n",
              " 'symmetric_difference',\n",
              " 'symmetric_difference_update',\n",
              " 'union',\n",
              " 'update']"
            ]
          },
          "metadata": {},
          "execution_count": 37
        }
      ]
    },
    {
      "cell_type": "code",
      "source": [
        "Cargo=['USA','UAE','UK','UK','USA','UAE','UK','UK','USA','UAE','UK','UK','USA','UK','USA','UAE']\n",
        "\n",
        "set(Cargo)"
      ],
      "metadata": {
        "colab": {
          "base_uri": "https://localhost:8080/"
        },
        "id": "r1fjjH9_Hz5u",
        "outputId": "6ebeccac-1ae7-4a59-95c8-65ae75938071"
      },
      "execution_count": null,
      "outputs": [
        {
          "output_type": "execute_result",
          "data": {
            "text/plain": [
              "{'UAE', 'UK', 'USA'}"
            ]
          },
          "metadata": {},
          "execution_count": 38
        }
      ]
    },
    {
      "cell_type": "markdown",
      "source": [
        "Dictionary "
      ],
      "metadata": {
        "id": "Ia4x32woJHXu"
      }
    },
    {
      "cell_type": "code",
      "source": [
        "D={'Name':'Kumar',\n",
        "   \"Age\":25,\n",
        "   \"Salary\":50000,\n",
        "   3:'Feb'\n",
        "   }\n",
        "\n",
        "print(D)"
      ],
      "metadata": {
        "colab": {
          "base_uri": "https://localhost:8080/"
        },
        "id": "IXb1fpgwI4c5",
        "outputId": "54de7cda-13b6-463e-e5a4-7e86d60669a3"
      },
      "execution_count": null,
      "outputs": [
        {
          "output_type": "stream",
          "name": "stdout",
          "text": [
            "{'Name': 'Kumar', 'Age': 25, 'Salary': 50000, 3: 'Feb'}\n"
          ]
        }
      ]
    },
    {
      "cell_type": "code",
      "source": [
        "print(D['Name'])"
      ],
      "metadata": {
        "colab": {
          "base_uri": "https://localhost:8080/"
        },
        "id": "XFpuLBBqKVGx",
        "outputId": "1cc0e276-1121-447d-8b18-ea31ff60573d"
      },
      "execution_count": null,
      "outputs": [
        {
          "output_type": "stream",
          "name": "stdout",
          "text": [
            "Kumar\n"
          ]
        }
      ]
    },
    {
      "cell_type": "code",
      "source": [
        "print(D[3])"
      ],
      "metadata": {
        "colab": {
          "base_uri": "https://localhost:8080/"
        },
        "id": "7xIHXsnXLD-r",
        "outputId": "48625deb-324b-4a0a-b5f8-da96ad873071"
      },
      "execution_count": null,
      "outputs": [
        {
          "output_type": "stream",
          "name": "stdout",
          "text": [
            "Feb\n"
          ]
        }
      ]
    },
    {
      "cell_type": "code",
      "source": [
        "Emp={'Emp-Id':[29,38,56,89,45,67],\n",
        "     'Name':['Karthick','Farooq','Madhan','Senthil','Raja','Praveen'],\n",
        "     'Age':[25,30,28,42,22,35],\n",
        "     'Salary':[30000,42000,30000,45000,38000,50000]}\n",
        "Emp"
      ],
      "metadata": {
        "colab": {
          "base_uri": "https://localhost:8080/"
        },
        "id": "Ko91ueshLLVK",
        "outputId": "f0286892-acda-4996-8591-f4b13dc6b072"
      },
      "execution_count": null,
      "outputs": [
        {
          "output_type": "execute_result",
          "data": {
            "text/plain": [
              "{'Emp-Id': [29, 38, 56, 89, 45, 67],\n",
              " 'Name': ['Karthick', 'Farooq', 'Madhan', 'Senthil', 'Raja', 'Praveen'],\n",
              " 'Age': [25, 30, 28, 42, 22, 35],\n",
              " 'Salary': [30000, 42000, 30000, 45000, 38000, 50000]}"
            ]
          },
          "metadata": {},
          "execution_count": 49
        }
      ]
    },
    {
      "cell_type": "code",
      "source": [
        "Emp['Name'][2]"
      ],
      "metadata": {
        "colab": {
          "base_uri": "https://localhost:8080/",
          "height": 35
        },
        "id": "_oznQUwOMPDV",
        "outputId": "1e28fd95-a0ee-4924-efa5-b3fe9f44be30"
      },
      "execution_count": null,
      "outputs": [
        {
          "output_type": "execute_result",
          "data": {
            "text/plain": [
              "'Madhan'"
            ],
            "application/vnd.google.colaboratory.intrinsic+json": {
              "type": "string"
            }
          },
          "metadata": {},
          "execution_count": 51
        }
      ]
    },
    {
      "cell_type": "code",
      "source": [
        "print('Empid : ',Emp['Emp-Id'][2])\n",
        "print('Name : ',Emp['Name'][2])\n",
        "print('Age : ',Emp['Age'][2])\n",
        "print('Salary : ',Emp['Salary'][2])"
      ],
      "metadata": {
        "colab": {
          "base_uri": "https://localhost:8080/"
        },
        "id": "jl-3TpCmMVes",
        "outputId": "55a45917-1fa3-4f8c-fb08-597a714dfc4a"
      },
      "execution_count": null,
      "outputs": [
        {
          "output_type": "stream",
          "name": "stdout",
          "text": [
            "Empid :  56\n",
            "Name :  Madhan\n",
            "Age :  28\n",
            "Salary :  30000\n"
          ]
        }
      ]
    },
    {
      "cell_type": "code",
      "source": [
        "Emp['Emp-Id'].index(56)"
      ],
      "metadata": {
        "colab": {
          "base_uri": "https://localhost:8080/"
        },
        "id": "QeyLnCUzM6AJ",
        "outputId": "8e95bd8c-6193-484c-ded2-d03308dd04cc"
      },
      "execution_count": null,
      "outputs": [
        {
          "output_type": "execute_result",
          "data": {
            "text/plain": [
              "2"
            ]
          },
          "metadata": {},
          "execution_count": 55
        }
      ]
    },
    {
      "cell_type": "code",
      "source": [
        "id=int(input('Enter Emp-Id : '))\n",
        "\n",
        "pos=Emp['Emp-Id'].index(id)\n",
        "print(pos)\n",
        "\n",
        "print('Empid : ',Emp['Emp-Id'][pos])\n",
        "print('Name : ',Emp['Name'][pos])\n",
        "print('Age : ',Emp['Age'][pos])\n",
        "print('Salary : ',Emp['Salary'][pos])"
      ],
      "metadata": {
        "colab": {
          "base_uri": "https://localhost:8080/"
        },
        "id": "T3pGtBU9NUql",
        "outputId": "946754b4-0d03-4e98-8156-7abd1b4757fc"
      },
      "execution_count": null,
      "outputs": [
        {
          "output_type": "stream",
          "name": "stdout",
          "text": [
            "Enter Emp-Id : 45\n",
            "4\n",
            "Empid :  45\n",
            "Name :  Raja\n",
            "Age :  22\n",
            "Salary :  38000\n"
          ]
        }
      ]
    },
    {
      "cell_type": "code",
      "source": [
        "#Task-1\n",
        "\n",
        "#RollNo, Std NAme, Class Sec, Maths,sci,social,English, Computer Sci , Calculate Total, %\n",
        "\n",
        "\n",
        "Student_details={\"RollNo\":[21,30,11,42,50],\n",
        "                 \"Name\":[\"Ravi\",\"Raja\",\"Karthick\",\"Madhan\",\"Dhevi\"],\n",
        "                 \"Maths\":[78,99,54,68,88],\n",
        "                 \"Science\":[20,42,72,50,96],\n",
        "                 \"Social\":[34,76,84,41,56],\n",
        "                 \"English\":[99,85,65,10,56],\n",
        "                 \"ComputerScience\":[53,26,95,66,70]}\n",
        "Student_details"
      ],
      "metadata": {
        "id": "ezwiF29FN3zf",
        "colab": {
          "base_uri": "https://localhost:8080/"
        },
        "outputId": "a338277b-84ec-4836-f95f-f5167dc08270"
      },
      "execution_count": null,
      "outputs": [
        {
          "output_type": "execute_result",
          "data": {
            "text/plain": [
              "{'RollNo': [21, 30, 11, 42, 50],\n",
              " 'Name': ['Ravi', 'Raja', 'Karthick', 'Madhan', 'Dhevi'],\n",
              " 'Maths': [78, 99, 54, 68, 88],\n",
              " 'Science': [20, 42, 72, 50, 96],\n",
              " 'Social': [34, 76, 84, 41, 56],\n",
              " 'English': [99, 85, 65, 10, 56],\n",
              " 'ComputerScience': [53, 26, 95, 66, 70]}"
            ]
          },
          "metadata": {},
          "execution_count": 2
        }
      ]
    },
    {
      "cell_type": "code",
      "source": [
        "\n",
        "RollNO=int(input('Enter Student RollNo : '))\n",
        "pos=Student_details['RollNo'].index(RollNO)\n",
        "M=Student_details['Maths'][pos]\n",
        "Sc=Student_details['Science'][pos]\n",
        "So=Student_details['Social'][pos]\n",
        "E=Student_details['English'][pos]\n",
        "CS=Student_details['ComputerScience'][pos]\n",
        "Total=M+Sc+So+E+CS\n",
        "Percentage=Total/5\n",
        "print(\"Roll No :\",RollNO)\n",
        "print(\"Name :\",Student_details['Name'][pos])\n",
        "print(\"Maths :\",M)\n",
        "print(\"Science :\",Sc)\n",
        "print(\"Social :\",So)\n",
        "print(\"English :\",E)\n",
        "print(\"CS :\",CS)\n",
        "print(\"Total :\",Total)\n",
        "print(\"Percentage :\",Percentage)"
      ],
      "metadata": {
        "colab": {
          "base_uri": "https://localhost:8080/"
        },
        "id": "KJWQnO4Q-dy9",
        "outputId": "c9a9d581-6967-43cb-d400-ac280d767535"
      },
      "execution_count": null,
      "outputs": [
        {
          "output_type": "stream",
          "name": "stdout",
          "text": [
            "Enter Student RollNo : 42\n",
            "Roll No : 42\n",
            "Name : Madhan\n",
            "Maths : 68\n",
            "Science : 50\n",
            "Social : 41\n",
            "English : 10\n",
            "CS : 66\n",
            "Total : 235\n",
            "Percentage : 47.0\n"
          ]
        }
      ]
    },
    {
      "cell_type": "markdown",
      "source": [
        "Input and output"
      ],
      "metadata": {
        "id": "6rXy1uvbCPqC"
      }
    },
    {
      "cell_type": "code",
      "source": [
        "# 5 / o/p 5\n",
        "\n",
        "\n",
        "A=int(input())\n",
        "\n",
        "print(A)\n"
      ],
      "metadata": {
        "colab": {
          "base_uri": "https://localhost:8080/"
        },
        "id": "O2RZb1aG-eTu",
        "outputId": "f5e7cb87-1e4f-4796-8e0c-8ff65a5dac5a"
      },
      "execution_count": null,
      "outputs": [
        {
          "output_type": "stream",
          "name": "stdout",
          "text": [
            "5\n",
            "5\n"
          ]
        }
      ]
    },
    {
      "cell_type": "code",
      "source": [
        "A=int(input())\n",
        "B=int(input())\n",
        "print(A+B)"
      ],
      "metadata": {
        "colab": {
          "base_uri": "https://localhost:8080/"
        },
        "id": "m6ap9u0KCs5t",
        "outputId": "18a6f269-ce94-47d6-b586-a8d24d534440"
      },
      "execution_count": null,
      "outputs": [
        {
          "output_type": "stream",
          "name": "stdout",
          "text": [
            "10\n",
            "50\n",
            "60\n"
          ]
        }
      ]
    },
    {
      "cell_type": "code",
      "source": [
        "A=int(input())\n",
        "B=input()\n",
        "print(A+B)"
      ],
      "metadata": {
        "colab": {
          "base_uri": "https://localhost:8080/",
          "height": 236
        },
        "id": "DIXmfgALEXBS",
        "outputId": "5258b3d2-c073-49f4-e551-c65d7a8da220"
      },
      "execution_count": null,
      "outputs": [
        {
          "name": "stdout",
          "output_type": "stream",
          "text": [
            "10\n",
            "50\n"
          ]
        },
        {
          "output_type": "error",
          "ename": "TypeError",
          "evalue": "ignored",
          "traceback": [
            "\u001b[0;31m---------------------------------------------------------------------------\u001b[0m",
            "\u001b[0;31mTypeError\u001b[0m                                 Traceback (most recent call last)",
            "\u001b[0;32m<ipython-input-10-041cd5177f8b>\u001b[0m in \u001b[0;36m<module>\u001b[0;34m\u001b[0m\n\u001b[1;32m      1\u001b[0m \u001b[0mA\u001b[0m\u001b[0;34m=\u001b[0m\u001b[0mint\u001b[0m\u001b[0;34m(\u001b[0m\u001b[0minput\u001b[0m\u001b[0;34m(\u001b[0m\u001b[0;34m)\u001b[0m\u001b[0;34m)\u001b[0m\u001b[0;34m\u001b[0m\u001b[0;34m\u001b[0m\u001b[0m\n\u001b[1;32m      2\u001b[0m \u001b[0mB\u001b[0m\u001b[0;34m=\u001b[0m\u001b[0minput\u001b[0m\u001b[0;34m(\u001b[0m\u001b[0;34m)\u001b[0m\u001b[0;34m\u001b[0m\u001b[0;34m\u001b[0m\u001b[0m\n\u001b[0;32m----> 3\u001b[0;31m \u001b[0mprint\u001b[0m\u001b[0;34m(\u001b[0m\u001b[0mA\u001b[0m\u001b[0;34m+\u001b[0m\u001b[0mB\u001b[0m\u001b[0;34m)\u001b[0m\u001b[0;34m\u001b[0m\u001b[0;34m\u001b[0m\u001b[0m\n\u001b[0m",
            "\u001b[0;31mTypeError\u001b[0m: unsupported operand type(s) for +: 'int' and 'str'"
          ]
        }
      ]
    },
    {
      "cell_type": "code",
      "source": [
        "B=int(input())\n",
        "A=input()\n",
        "print(A*B)"
      ],
      "metadata": {
        "colab": {
          "base_uri": "https://localhost:8080/"
        },
        "id": "BwH1lLtIEtAB",
        "outputId": "a31b4470-42c3-41d9-dceb-25ca96b13113"
      },
      "execution_count": null,
      "outputs": [
        {
          "output_type": "stream",
          "name": "stdout",
          "text": [
            "4\n",
            "Guvi \n",
            "Guvi Guvi Guvi Guvi \n"
          ]
        }
      ]
    },
    {
      "cell_type": "code",
      "source": [
        "#3.14  / 3.14\n",
        "\n",
        "A=float(input())\n",
        "print(A)\n"
      ],
      "metadata": {
        "colab": {
          "base_uri": "https://localhost:8080/"
        },
        "id": "ItuWig4sE4pV",
        "outputId": "678145ab-5450-44ab-8e44-f1b76cfb710d"
      },
      "execution_count": null,
      "outputs": [
        {
          "output_type": "stream",
          "name": "stdout",
          "text": [
            "3.15\n",
            "3.15\n"
          ]
        }
      ]
    },
    {
      "cell_type": "code",
      "source": [
        "# 1 2 3 4 5  / o/p 1 2 3 4 5\n",
        "\n",
        "A=input()\n",
        "print(A)"
      ],
      "metadata": {
        "colab": {
          "base_uri": "https://localhost:8080/"
        },
        "id": "B6dLYfb2FdK-",
        "outputId": "357b1987-6309-4698-999b-e8ad3c6c2581"
      },
      "execution_count": null,
      "outputs": [
        {
          "output_type": "stream",
          "name": "stdout",
          "text": [
            "1 2 3 4 5\n",
            "1 2 3 4 5\n"
          ]
        }
      ]
    },
    {
      "cell_type": "code",
      "source": [
        "A=int(input())\n",
        "print(A)"
      ],
      "metadata": {
        "colab": {
          "base_uri": "https://localhost:8080/",
          "height": 201
        },
        "id": "SX-ZpNRCFv3l",
        "outputId": "42dea23c-3ea8-434c-c52f-a734600c880d"
      },
      "execution_count": null,
      "outputs": [
        {
          "name": "stdout",
          "output_type": "stream",
          "text": [
            "1 2 3 4 5\n"
          ]
        },
        {
          "output_type": "error",
          "ename": "ValueError",
          "evalue": "ignored",
          "traceback": [
            "\u001b[0;31m---------------------------------------------------------------------------\u001b[0m",
            "\u001b[0;31mValueError\u001b[0m                                Traceback (most recent call last)",
            "\u001b[0;32m<ipython-input-20-5e34df36b00f>\u001b[0m in \u001b[0;36m<module>\u001b[0;34m\u001b[0m\n\u001b[0;32m----> 1\u001b[0;31m \u001b[0mA\u001b[0m\u001b[0;34m=\u001b[0m\u001b[0mint\u001b[0m\u001b[0;34m(\u001b[0m\u001b[0minput\u001b[0m\u001b[0;34m(\u001b[0m\u001b[0;34m)\u001b[0m\u001b[0;34m)\u001b[0m\u001b[0;34m\u001b[0m\u001b[0;34m\u001b[0m\u001b[0m\n\u001b[0m\u001b[1;32m      2\u001b[0m \u001b[0mprint\u001b[0m\u001b[0;34m(\u001b[0m\u001b[0mA\u001b[0m\u001b[0;34m)\u001b[0m\u001b[0;34m\u001b[0m\u001b[0;34m\u001b[0m\u001b[0m\n",
            "\u001b[0;31mValueError\u001b[0m: invalid literal for int() with base 10: '1 2 3 4 5'"
          ]
        }
      ]
    },
    {
      "cell_type": "code",
      "source": [
        "A=list(input())\n",
        "print(A)"
      ],
      "metadata": {
        "colab": {
          "base_uri": "https://localhost:8080/"
        },
        "id": "VUur1nqwF6Cq",
        "outputId": "07aa6a10-8a99-4859-ce0f-8efd2a8ac973"
      },
      "execution_count": null,
      "outputs": [
        {
          "output_type": "stream",
          "name": "stdout",
          "text": [
            "12345\n",
            "['1', '2', '3', '4', '5']\n"
          ]
        }
      ]
    },
    {
      "cell_type": "code",
      "source": [
        "B=list(map(int,A)) # 1 2 3 4 5\n",
        "B"
      ],
      "metadata": {
        "colab": {
          "base_uri": "https://localhost:8080/"
        },
        "id": "usjvZthKG2DE",
        "outputId": "409f57e1-fba1-4979-af08-1bb121adc610"
      },
      "execution_count": null,
      "outputs": [
        {
          "output_type": "execute_result",
          "data": {
            "text/plain": [
              "[1, 2, 3, 4, 5]"
            ]
          },
          "metadata": {},
          "execution_count": 29
        }
      ]
    },
    {
      "cell_type": "code",
      "source": [
        "A"
      ],
      "metadata": {
        "colab": {
          "base_uri": "https://localhost:8080/"
        },
        "id": "HXvSBXtAICUj",
        "outputId": "232de24b-6168-4f46-8923-2a3020d32e42"
      },
      "execution_count": null,
      "outputs": [
        {
          "output_type": "execute_result",
          "data": {
            "text/plain": [
              "['1', '2', '3', '4', '5']"
            ]
          },
          "metadata": {},
          "execution_count": 30
        }
      ]
    },
    {
      "cell_type": "code",
      "source": [
        "B"
      ],
      "metadata": {
        "colab": {
          "base_uri": "https://localhost:8080/"
        },
        "id": "PndPo57DIKfb",
        "outputId": "65f381eb-b01f-492c-fb70-457bd3a335f6"
      },
      "execution_count": null,
      "outputs": [
        {
          "output_type": "execute_result",
          "data": {
            "text/plain": [
              "[1, 2, 3, 4, 5]"
            ]
          },
          "metadata": {},
          "execution_count": 31
        }
      ]
    },
    {
      "cell_type": "code",
      "source": [
        "print(' '.join(A)) #1-2-3-4-5"
      ],
      "metadata": {
        "colab": {
          "base_uri": "https://localhost:8080/"
        },
        "id": "LO9deekXIKdL",
        "outputId": "a7c7cadc-eb4f-436b-dc74-8566d16c2f9f"
      },
      "execution_count": null,
      "outputs": [
        {
          "output_type": "stream",
          "name": "stdout",
          "text": [
            "1 2 3 4 5\n"
          ]
        }
      ]
    },
    {
      "cell_type": "code",
      "source": [
        "print(' '.join(B))"
      ],
      "metadata": {
        "colab": {
          "base_uri": "https://localhost:8080/",
          "height": 167
        },
        "id": "rOH04OBHIJwS",
        "outputId": "3084e883-ec70-4b8d-d812-2921e57006cf"
      },
      "execution_count": null,
      "outputs": [
        {
          "output_type": "error",
          "ename": "TypeError",
          "evalue": "ignored",
          "traceback": [
            "\u001b[0;31m---------------------------------------------------------------------------\u001b[0m",
            "\u001b[0;31mTypeError\u001b[0m                                 Traceback (most recent call last)",
            "\u001b[0;32m<ipython-input-36-18502ba7a45e>\u001b[0m in \u001b[0;36m<module>\u001b[0;34m\u001b[0m\n\u001b[0;32m----> 1\u001b[0;31m \u001b[0mprint\u001b[0m\u001b[0;34m(\u001b[0m\u001b[0;34m' '\u001b[0m\u001b[0;34m.\u001b[0m\u001b[0mjoin\u001b[0m\u001b[0;34m(\u001b[0m\u001b[0mB\u001b[0m\u001b[0;34m)\u001b[0m\u001b[0;34m)\u001b[0m\u001b[0;34m\u001b[0m\u001b[0;34m\u001b[0m\u001b[0m\n\u001b[0m",
            "\u001b[0;31mTypeError\u001b[0m: sequence item 0: expected str instance, int found"
          ]
        }
      ]
    },
    {
      "cell_type": "code",
      "source": [
        "print(*B)"
      ],
      "metadata": {
        "colab": {
          "base_uri": "https://localhost:8080/"
        },
        "id": "vZBEXXhQGvAn",
        "outputId": "fc40f902-5ffe-4095-b15f-ef83e9d2dbcc"
      },
      "execution_count": null,
      "outputs": [
        {
          "output_type": "stream",
          "name": "stdout",
          "text": [
            "1 2 3 4 5\n"
          ]
        }
      ]
    },
    {
      "cell_type": "code",
      "source": [
        "print(*A)"
      ],
      "metadata": {
        "colab": {
          "base_uri": "https://localhost:8080/"
        },
        "id": "jJr7jwlQIynJ",
        "outputId": "99ca33c2-fd2e-4979-8efb-a03f103bd13e"
      },
      "execution_count": null,
      "outputs": [
        {
          "output_type": "stream",
          "name": "stdout",
          "text": [
            "1 2 3 4 5\n"
          ]
        }
      ]
    },
    {
      "cell_type": "code",
      "source": [
        "A=input().split()\n",
        "B=list(map(int,A))\n",
        "print(*B)"
      ],
      "metadata": {
        "colab": {
          "base_uri": "https://localhost:8080/"
        },
        "id": "SzQr9BDBI2pO",
        "outputId": "8b22a68d-3a68-4272-9694-57143ae6f72e"
      },
      "execution_count": null,
      "outputs": [
        {
          "output_type": "stream",
          "name": "stdout",
          "text": [
            "1 2 3 4 5\n",
            "1 2 3 4 5\n"
          ]
        }
      ]
    },
    {
      "cell_type": "code",
      "source": [
        "C=list(map(int,A))\n",
        "C"
      ],
      "metadata": {
        "colab": {
          "base_uri": "https://localhost:8080/"
        },
        "id": "H9wPkyVdJLL0",
        "outputId": "4ade9c0c-d90b-4891-c0fc-180f9eeafc0b"
      },
      "execution_count": null,
      "outputs": [
        {
          "output_type": "execute_result",
          "data": {
            "text/plain": [
              "[1, 2, 3, 4, 5]"
            ]
          },
          "metadata": {},
          "execution_count": 43
        }
      ]
    },
    {
      "cell_type": "code",
      "source": [
        "# Raja 26 30000 suresh 30 40000"
      ],
      "metadata": {
        "id": "vP34Hx8pKRUg"
      },
      "execution_count": null,
      "outputs": []
    },
    {
      "cell_type": "markdown",
      "source": [
        "Conditional Statment\n",
        "\n",
        "if else elif\n"
      ],
      "metadata": {
        "id": "g4UO_GuEL8Dl"
      }
    },
    {
      "cell_type": "code",
      "source": [
        "A=10                  # 0 Zero , 5 Odd  10 Even\n",
        "\n",
        "if A%2==0:\n",
        "  print('Even')\n",
        "else:\n",
        "  print('Odd')"
      ],
      "metadata": {
        "colab": {
          "base_uri": "https://localhost:8080/"
        },
        "id": "tcED5_iaL3fE",
        "outputId": "3f38728e-3c12-470f-f375-c1ea60d2ed30"
      },
      "execution_count": null,
      "outputs": [
        {
          "output_type": "stream",
          "name": "stdout",
          "text": [
            "Even\n"
          ]
        }
      ]
    },
    {
      "cell_type": "code",
      "source": [
        "A=int(input())\n",
        "\n",
        "if A==0:\n",
        "  print('Zero')\n",
        "elif A%2==0:\n",
        "  print('Even')\n",
        "else:\n",
        "  print('Odd')"
      ],
      "metadata": {
        "colab": {
          "base_uri": "https://localhost:8080/"
        },
        "id": "eG3zEnQqNL7u",
        "outputId": "434b2df6-1c79-4294-d0d1-b9439b72a76a"
      },
      "execution_count": null,
      "outputs": [
        {
          "output_type": "stream",
          "name": "stdout",
          "text": [
            "24\n",
            "Even\n"
          ]
        }
      ]
    },
    {
      "cell_type": "code",
      "source": [
        "#Name , Cutoff >190 Doc, >175 Eng, >150 Ats >100 Diploma <100 Not eligible  \n",
        "#NEET 85%>  elig / not elig\n",
        "\n",
        "\n",
        "Name=input('Enter Name : ')\n",
        "Cutoff=float(input('Enter your Cutoff :'))\n",
        "if Cutoff>190 and Cutoff <=200:\n",
        "  NEET=float(input('Enter Your Neet % : '))\n",
        "  \n",
        "  if NEET>85 and NEET<=100:\n",
        "    print('You Are eligible for Doctor')\n",
        "  elif NEET<=85 and NEET>=0:\n",
        "    print('You are not Eligible for Doctor ')\n",
        "  else:\n",
        "    print('Invalid NEET %')\n",
        "\n",
        "elif  Cutoff>175 and Cutoff <=190:\n",
        "  print('You Are eligible for Engineering')\n",
        "\n",
        "elif  Cutoff>150 and Cutoff <=175:\n",
        "  print('You Are eligible for Ats')\n",
        "\n",
        "elif  Cutoff>100 and Cutoff <=150:\n",
        "  print('You Are eligible for Diploma')\n",
        "\n",
        "elif  Cutoff>0 and Cutoff <=100:\n",
        "  print('You Not eligible')\n",
        "\n",
        "else:\n",
        "  print(\"Invalid CUTOFF\")"
      ],
      "metadata": {
        "colab": {
          "base_uri": "https://localhost:8080/"
        },
        "id": "ycobTz41NL5T",
        "outputId": "c65b9f68-44db-4950-df28-1590aed11e96"
      },
      "execution_count": null,
      "outputs": [
        {
          "output_type": "stream",
          "name": "stdout",
          "text": [
            "Enter Name : Sanjay\n",
            "Enter your Cutoff :155\n",
            "Enter Your Neet % : 0\n",
            "You Are eligible for Ats\n"
          ]
        }
      ]
    },
    {
      "cell_type": "code",
      "source": [],
      "metadata": {
        "id": "BiLwGXTGNL3P"
      },
      "execution_count": null,
      "outputs": []
    },
    {
      "cell_type": "code",
      "source": [
        "5/2"
      ],
      "metadata": {
        "colab": {
          "base_uri": "https://localhost:8080/"
        },
        "id": "TeDu2l4jMjqb",
        "outputId": "fee84800-6575-4759-840f-5e085aebe673"
      },
      "execution_count": null,
      "outputs": [
        {
          "output_type": "execute_result",
          "data": {
            "text/plain": [
              "2.5"
            ]
          },
          "metadata": {},
          "execution_count": 44
        }
      ]
    },
    {
      "cell_type": "code",
      "source": [
        "11//2"
      ],
      "metadata": {
        "colab": {
          "base_uri": "https://localhost:8080/"
        },
        "id": "1Bao8vJjMpFI",
        "outputId": "5b99a1bf-d697-4ed2-c4ae-a696ae91641b"
      },
      "execution_count": null,
      "outputs": [
        {
          "output_type": "execute_result",
          "data": {
            "text/plain": [
              "5"
            ]
          },
          "metadata": {},
          "execution_count": 47
        }
      ]
    },
    {
      "cell_type": "code",
      "source": [
        "11%2"
      ],
      "metadata": {
        "colab": {
          "base_uri": "https://localhost:8080/"
        },
        "id": "f0_DvpQzMrBL",
        "outputId": "b92b024e-cabc-4324-91f5-d4b53260ff20"
      },
      "execution_count": null,
      "outputs": [
        {
          "output_type": "execute_result",
          "data": {
            "text/plain": [
              "1"
            ]
          },
          "metadata": {},
          "execution_count": 48
        }
      ]
    },
    {
      "cell_type": "code",
      "source": [
        "n=int(input())\n",
        "A=list(map(int,input().split()))[0:n]\n",
        "\n",
        "A"
      ],
      "metadata": {
        "colab": {
          "base_uri": "https://localhost:8080/"
        },
        "id": "HKH-m9-4MtKf",
        "outputId": "f3ae5c98-447e-43d6-dec2-386045234746"
      },
      "execution_count": null,
      "outputs": [
        {
          "name": "stdout",
          "output_type": "stream",
          "text": [
            "3\n",
            "1 2 3 4 5 6\n"
          ]
        },
        {
          "output_type": "execute_result",
          "data": {
            "text/plain": [
              "[1, 2, 3]"
            ]
          },
          "metadata": {},
          "execution_count": 60
        }
      ]
    },
    {
      "cell_type": "code",
      "source": [
        "len('1234567890')"
      ],
      "metadata": {
        "colab": {
          "base_uri": "https://localhost:8080/"
        },
        "id": "ljE2FrvJSoZp",
        "outputId": "fcb3027b-4635-4598-9ab6-9e0a46e47ae9"
      },
      "execution_count": null,
      "outputs": [
        {
          "output_type": "execute_result",
          "data": {
            "text/plain": [
              "10"
            ]
          },
          "metadata": {},
          "execution_count": 63
        }
      ]
    },
    {
      "cell_type": "markdown",
      "source": [
        "Loops\n",
        "\n",
        "for loop and While loop"
      ],
      "metadata": {
        "id": "p3IgO7cFUCt2"
      }
    },
    {
      "cell_type": "code",
      "source": [
        "S=[1,2,3,4,5]\n",
        "\n",
        "for i in S:\n",
        "  print(i)\n"
      ],
      "metadata": {
        "colab": {
          "base_uri": "https://localhost:8080/"
        },
        "id": "GOPy9EwlTmpt",
        "outputId": "89af9deb-3332-4bf2-a13f-f26671fec552"
      },
      "execution_count": null,
      "outputs": [
        {
          "output_type": "stream",
          "name": "stdout",
          "text": [
            "1\n",
            "2\n",
            "3\n",
            "4\n",
            "5\n"
          ]
        }
      ]
    },
    {
      "cell_type": "code",
      "source": [
        "# Raja 28 30000 Divya 20 40000 Jay 25 50000 Ravi 23 50000\n",
        "\n",
        "Data=input().split(' ')\n",
        "Data"
      ],
      "metadata": {
        "colab": {
          "base_uri": "https://localhost:8080/"
        },
        "id": "jHrK58jRVgub",
        "outputId": "f78cc765-514e-4f6a-f67e-a3a0828c0ad8"
      },
      "execution_count": null,
      "outputs": [
        {
          "name": "stdout",
          "output_type": "stream",
          "text": [
            "Raja 28 30000 Divya 20 40000 Jay 25 50000 Ravi 23 50000\n"
          ]
        },
        {
          "output_type": "execute_result",
          "data": {
            "text/plain": [
              "['Raja',\n",
              " '28',\n",
              " '30000',\n",
              " 'Divya',\n",
              " '20',\n",
              " '40000',\n",
              " 'Jay',\n",
              " '25',\n",
              " '50000',\n",
              " 'Ravi',\n",
              " '23',\n",
              " '50000']"
            ]
          },
          "metadata": {},
          "execution_count": 75
        }
      ]
    },
    {
      "cell_type": "code",
      "source": [
        "print(Data)"
      ],
      "metadata": {
        "colab": {
          "base_uri": "https://localhost:8080/"
        },
        "id": "LESm_F8BWLl3",
        "outputId": "65dee7dd-4028-45d7-ddfd-af6ffc796758"
      },
      "execution_count": null,
      "outputs": [
        {
          "output_type": "stream",
          "name": "stdout",
          "text": [
            "['Raja', '28', '30000', 'Divya', '20', '40000', 'Jay', '25', '50000', 'Ravi', '23', '45000']\n"
          ]
        }
      ]
    },
    {
      "cell_type": "code",
      "source": [
        "D={'Name':[],\n",
        "   \"Age\":[],\n",
        "   \"Salary\":[]}\n",
        "D"
      ],
      "metadata": {
        "colab": {
          "base_uri": "https://localhost:8080/"
        },
        "id": "hEP5QfeKWRWI",
        "outputId": "d7869594-24e7-4210-ecb1-cf11b4ea7c34"
      },
      "execution_count": null,
      "outputs": [
        {
          "output_type": "execute_result",
          "data": {
            "text/plain": [
              "{'Name': [], 'Age': [], 'Salary': []}"
            ]
          },
          "metadata": {},
          "execution_count": 76
        }
      ]
    },
    {
      "cell_type": "code",
      "source": [
        "for i in Data:\n",
        "  if i.isalpha():\n",
        "    D['Name'].append(i)\n",
        "  elif len(i)==2 and i.isnumeric():\n",
        "    D['Age'].append(int(i))\n",
        "  else:\n",
        "    D['Salary'].append(int(i))\n",
        "D"
      ],
      "metadata": {
        "colab": {
          "base_uri": "https://localhost:8080/"
        },
        "id": "XS1ePLEoWkN1",
        "outputId": "2bf7558f-df6c-4df5-e839-696f96264fb2"
      },
      "execution_count": null,
      "outputs": [
        {
          "output_type": "execute_result",
          "data": {
            "text/plain": [
              "{'Name': ['Raja', 'Divya', 'Jay', 'Ravi'],\n",
              " 'Age': [28, 20, 25, 23],\n",
              " 'Salary': [30000, 40000, 50000, 50000]}"
            ]
          },
          "metadata": {},
          "execution_count": 77
        }
      ]
    },
    {
      "cell_type": "code",
      "source": [
        "# Jay Ravi Divya Raja\n",
        "\n",
        "Sorted_Salary=sorted(D['Salary'],reverse=True)\n",
        "Sorted_Salary"
      ],
      "metadata": {
        "colab": {
          "base_uri": "https://localhost:8080/"
        },
        "id": "7rFheNXvWvxg",
        "outputId": "91cca62d-3f9d-489a-8217-3acb472e6f45"
      },
      "execution_count": null,
      "outputs": [
        {
          "output_type": "execute_result",
          "data": {
            "text/plain": [
              "[50000, 50000, 40000, 30000]"
            ]
          },
          "metadata": {},
          "execution_count": 78
        }
      ]
    },
    {
      "cell_type": "code",
      "source": [
        "for i in Sorted_Salary:\n",
        "  x=D['Salary'].index(i)\n",
        "  Name=D['Name'][x]\n",
        "  Age=D['Age'][x]\n",
        "  Salary=D['Salary'][x]\n",
        "\n",
        "  print(f'Hi My Name is {Name} My age is {Age} and my salary {Salary} ')"
      ],
      "metadata": {
        "colab": {
          "base_uri": "https://localhost:8080/"
        },
        "id": "nDzboQ0kX3o0",
        "outputId": "5cef271d-99c3-48ed-9883-3ba8b06a2180"
      },
      "execution_count": null,
      "outputs": [
        {
          "output_type": "stream",
          "name": "stdout",
          "text": [
            "Hi My Name is Jay My age is 25 and my salary 50000 \n",
            "Hi My Name is Jay My age is 25 and my salary 50000 \n",
            "Hi My Name is Divya My age is 20 and my salary 40000 \n",
            "Hi My Name is Raja My age is 28 and my salary 30000 \n"
          ]
        }
      ]
    },
    {
      "cell_type": "code",
      "source": [
        "S=[1,2,3,4,5,3,2,6]\n",
        "\n",
        "S.index(3)"
      ],
      "metadata": {
        "colab": {
          "base_uri": "https://localhost:8080/"
        },
        "id": "saqApCcBY-Gb",
        "outputId": "c345ddd8-751c-47e7-a689-0a28f5e31c0e"
      },
      "execution_count": null,
      "outputs": [
        {
          "output_type": "execute_result",
          "data": {
            "text/plain": [
              "2"
            ]
          },
          "metadata": {},
          "execution_count": 74
        }
      ]
    },
    {
      "cell_type": "code",
      "source": [
        "len('QWERTY')"
      ],
      "metadata": {
        "colab": {
          "base_uri": "https://localhost:8080/"
        },
        "id": "g78utVytZQur",
        "outputId": "58ed2ac1-346d-406e-88ba-033cf6a4bd11"
      },
      "execution_count": null,
      "outputs": [
        {
          "output_type": "execute_result",
          "data": {
            "text/plain": [
              "6"
            ]
          },
          "metadata": {},
          "execution_count": 81
        }
      ]
    },
    {
      "cell_type": "code",
      "source": [
        "A=[1,2,3,4,5]\n",
        "\n",
        "A.append(1000)\n",
        "A"
      ],
      "metadata": {
        "colab": {
          "base_uri": "https://localhost:8080/"
        },
        "id": "XY_8tNrcaAZI",
        "outputId": "6ce6ff2a-d693-436c-c011-35cdc15b1e92"
      },
      "execution_count": null,
      "outputs": [
        {
          "output_type": "execute_result",
          "data": {
            "text/plain": [
              "[1, 2, 3, 4, 5, 1000]"
            ]
          },
          "metadata": {},
          "execution_count": 82
        }
      ]
    },
    {
      "cell_type": "code",
      "source": [
        "A.append(500)\n",
        "A"
      ],
      "metadata": {
        "colab": {
          "base_uri": "https://localhost:8080/"
        },
        "id": "Sms6rOITaM8w",
        "outputId": "c5251392-f254-47ac-fc09-e5026693a672"
      },
      "execution_count": null,
      "outputs": [
        {
          "output_type": "execute_result",
          "data": {
            "text/plain": [
              "[1, 2, 3, 4, 5, 1000, 1000, 1000, 500]"
            ]
          },
          "metadata": {},
          "execution_count": 85
        }
      ]
    },
    {
      "cell_type": "code",
      "source": [
        "A=[1,100,1000,20,25,78,19,45]\n",
        "\n",
        "sorted(A)"
      ],
      "metadata": {
        "colab": {
          "base_uri": "https://localhost:8080/"
        },
        "id": "WIDjn2C8aUqm",
        "outputId": "132a9612-dbb2-4b3f-d1f0-7a6221da6522"
      },
      "execution_count": null,
      "outputs": [
        {
          "output_type": "execute_result",
          "data": {
            "text/plain": [
              "[1, 19, 20, 25, 45, 78, 100, 1000]"
            ]
          },
          "metadata": {},
          "execution_count": 86
        }
      ]
    },
    {
      "cell_type": "code",
      "source": [
        "A=['1','100','1000','20','25','78','19','45']\n",
        "\n",
        "sorted(A)"
      ],
      "metadata": {
        "colab": {
          "base_uri": "https://localhost:8080/"
        },
        "id": "okb-jG-4axXw",
        "outputId": "2ce94895-1408-4e12-dc70-cc84dfbab0d0"
      },
      "execution_count": null,
      "outputs": [
        {
          "output_type": "execute_result",
          "data": {
            "text/plain": [
              "['1', '100', '1000', '19', '20', '25', '45', '78']"
            ]
          },
          "metadata": {},
          "execution_count": 87
        }
      ]
    },
    {
      "cell_type": "code",
      "source": [],
      "metadata": {
        "id": "q9rjhKQ6a4lT"
      },
      "execution_count": null,
      "outputs": []
    }
  ]
}